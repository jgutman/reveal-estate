{
 "cells": [
  {
   "cell_type": "code",
   "execution_count": 2,
   "metadata": {
    "collapsed": true
   },
   "outputs": [],
   "source": [
    "import pandas as pd\n",
    "import numpy as np\n",
    "import matplotlib.mlab as mlab\n",
    "import matplotlib.pyplot as plt"
   ]
  },
  {
   "cell_type": "code",
   "execution_count": 3,
   "metadata": {
    "collapsed": false
   },
   "outputs": [
    {
     "data": {
      "text/html": [
       "<div>\n",
       "<table border=\"1\" class=\"dataframe\">\n",
       "  <thead>\n",
       "    <tr style=\"text-align: right;\">\n",
       "      <th></th>\n",
       "      <th>y_pred_postlightrail</th>\n",
       "      <th>y_pred_prelightrail</th>\n",
       "      <th>y_true</th>\n",
       "    </tr>\n",
       "    <tr>\n",
       "      <th>bbl</th>\n",
       "      <th></th>\n",
       "      <th></th>\n",
       "      <th></th>\n",
       "    </tr>\n",
       "  </thead>\n",
       "  <tbody>\n",
       "    <tr>\n",
       "      <th>4000130105</th>\n",
       "      <td>769.373978</td>\n",
       "      <td>540.011495</td>\n",
       "      <td>74.327513</td>\n",
       "    </tr>\n",
       "    <tr>\n",
       "      <th>4000130160</th>\n",
       "      <td>831.585555</td>\n",
       "      <td>653.158243</td>\n",
       "      <td>101.657009</td>\n",
       "    </tr>\n",
       "    <tr>\n",
       "      <th>4000130175</th>\n",
       "      <td>884.962665</td>\n",
       "      <td>654.429779</td>\n",
       "      <td>485.185185</td>\n",
       "    </tr>\n",
       "    <tr>\n",
       "      <th>4000150004</th>\n",
       "      <td>882.935356</td>\n",
       "      <td>878.732648</td>\n",
       "      <td>190.651907</td>\n",
       "    </tr>\n",
       "    <tr>\n",
       "      <th>4000150006</th>\n",
       "      <td>890.516664</td>\n",
       "      <td>713.798117</td>\n",
       "      <td>258.270588</td>\n",
       "    </tr>\n",
       "  </tbody>\n",
       "</table>\n",
       "</div>"
      ],
      "text/plain": [
       "            y_pred_postlightrail  y_pred_prelightrail      y_true\n",
       "bbl                                                              \n",
       "4000130105            769.373978           540.011495   74.327513\n",
       "4000130160            831.585555           653.158243  101.657009\n",
       "4000130175            884.962665           654.429779  485.185185\n",
       "4000150004            882.935356           878.732648  190.651907\n",
       "4000150006            890.516664           713.798117  258.270588"
      ]
     },
     "execution_count": 3,
     "metadata": {},
     "output_type": "execute_result"
    }
   ],
   "source": [
    "prediction = pd.read_csv('data/results/price_increase_rf.csv',index_col=0)\n",
    "prediction.head()"
   ]
  },
  {
   "cell_type": "code",
   "execution_count": 3,
   "metadata": {
    "collapsed": false
   },
   "outputs": [
    {
     "data": {
      "text/html": [
       "<div>\n",
       "<table border=\"1\" class=\"dataframe\">\n",
       "  <thead>\n",
       "    <tr style=\"text-align: right;\">\n",
       "      <th></th>\n",
       "      <th>y_pred_postlightrail</th>\n",
       "      <th>y_pred_prelightrail</th>\n",
       "      <th>y_true</th>\n",
       "      <th>true_percent_increase</th>\n",
       "    </tr>\n",
       "  </thead>\n",
       "  <tbody>\n",
       "    <tr>\n",
       "      <th>0</th>\n",
       "      <td>777.720966</td>\n",
       "      <td>448.782036</td>\n",
       "      <td>254.141566</td>\n",
       "      <td>206.018798</td>\n",
       "    </tr>\n",
       "    <tr>\n",
       "      <th>1</th>\n",
       "      <td>777.720966</td>\n",
       "      <td>448.782036</td>\n",
       "      <td>957.266566</td>\n",
       "      <td>-18.756071</td>\n",
       "    </tr>\n",
       "    <tr>\n",
       "      <th>2</th>\n",
       "      <td>684.654752</td>\n",
       "      <td>274.792471</td>\n",
       "      <td>85.889571</td>\n",
       "      <td>697.133747</td>\n",
       "    </tr>\n",
       "    <tr>\n",
       "      <th>3</th>\n",
       "      <td>646.387317</td>\n",
       "      <td>278.416076</td>\n",
       "      <td>158.057360</td>\n",
       "      <td>308.957429</td>\n",
       "    </tr>\n",
       "    <tr>\n",
       "      <th>4</th>\n",
       "      <td>1007.519303</td>\n",
       "      <td>298.320461</td>\n",
       "      <td>259.090909</td>\n",
       "      <td>288.867100</td>\n",
       "    </tr>\n",
       "  </tbody>\n",
       "</table>\n",
       "</div>"
      ],
      "text/plain": [
       "   y_pred_postlightrail  y_pred_prelightrail      y_true  \\\n",
       "0            777.720966           448.782036  254.141566   \n",
       "1            777.720966           448.782036  957.266566   \n",
       "2            684.654752           274.792471   85.889571   \n",
       "3            646.387317           278.416076  158.057360   \n",
       "4           1007.519303           298.320461  259.090909   \n",
       "\n",
       "   true_percent_increase  \n",
       "0             206.018798  \n",
       "1             -18.756071  \n",
       "2             697.133747  \n",
       "3             308.957429  \n",
       "4             288.867100  "
      ]
     },
     "execution_count": 3,
     "metadata": {},
     "output_type": "execute_result"
    }
   ],
   "source": [
    "prediction['true_percent_increase'] = (prediction['y_pred_postlightrail'] - prediction['y_true'])/prediction['y_true']*100\n",
    "prediction.head()"
   ]
  },
  {
   "cell_type": "code",
   "execution_count": 4,
   "metadata": {
    "collapsed": false
   },
   "outputs": [
    {
     "data": {
      "text/plain": [
       "265.7531264357365"
      ]
     },
     "execution_count": 4,
     "metadata": {},
     "output_type": "execute_result"
    }
   ],
   "source": [
    "np.mean(prediction['true_percent_increase'])"
   ]
  },
  {
   "cell_type": "code",
   "execution_count": 5,
   "metadata": {
    "collapsed": false
   },
   "outputs": [
    {
     "data": {
      "text/html": [
       "<div>\n",
       "<table border=\"1\" class=\"dataframe\">\n",
       "  <thead>\n",
       "    <tr style=\"text-align: right;\">\n",
       "      <th></th>\n",
       "      <th>y_pred_postlightrail</th>\n",
       "      <th>y_pred_prelightrail</th>\n",
       "      <th>y_true</th>\n",
       "      <th>true_percent_increase</th>\n",
       "      <th>pred_percent_increase</th>\n",
       "    </tr>\n",
       "  </thead>\n",
       "  <tbody>\n",
       "    <tr>\n",
       "      <th>0</th>\n",
       "      <td>777.720966</td>\n",
       "      <td>448.782036</td>\n",
       "      <td>254.141566</td>\n",
       "      <td>206.018798</td>\n",
       "      <td>73.295922</td>\n",
       "    </tr>\n",
       "    <tr>\n",
       "      <th>1</th>\n",
       "      <td>777.720966</td>\n",
       "      <td>448.782036</td>\n",
       "      <td>957.266566</td>\n",
       "      <td>-18.756071</td>\n",
       "      <td>73.295922</td>\n",
       "    </tr>\n",
       "    <tr>\n",
       "      <th>2</th>\n",
       "      <td>684.654752</td>\n",
       "      <td>274.792471</td>\n",
       "      <td>85.889571</td>\n",
       "      <td>697.133747</td>\n",
       "      <td>149.153388</td>\n",
       "    </tr>\n",
       "    <tr>\n",
       "      <th>3</th>\n",
       "      <td>646.387317</td>\n",
       "      <td>278.416076</td>\n",
       "      <td>158.057360</td>\n",
       "      <td>308.957429</td>\n",
       "      <td>132.165946</td>\n",
       "    </tr>\n",
       "    <tr>\n",
       "      <th>4</th>\n",
       "      <td>1007.519303</td>\n",
       "      <td>298.320461</td>\n",
       "      <td>259.090909</td>\n",
       "      <td>288.867100</td>\n",
       "      <td>237.730540</td>\n",
       "    </tr>\n",
       "  </tbody>\n",
       "</table>\n",
       "</div>"
      ],
      "text/plain": [
       "   y_pred_postlightrail  y_pred_prelightrail      y_true  \\\n",
       "0            777.720966           448.782036  254.141566   \n",
       "1            777.720966           448.782036  957.266566   \n",
       "2            684.654752           274.792471   85.889571   \n",
       "3            646.387317           278.416076  158.057360   \n",
       "4           1007.519303           298.320461  259.090909   \n",
       "\n",
       "   true_percent_increase  pred_percent_increase  \n",
       "0             206.018798              73.295922  \n",
       "1             -18.756071              73.295922  \n",
       "2             697.133747             149.153388  \n",
       "3             308.957429             132.165946  \n",
       "4             288.867100             237.730540  "
      ]
     },
     "execution_count": 5,
     "metadata": {},
     "output_type": "execute_result"
    }
   ],
   "source": [
    "prediction['pred_percent_increase'] = (prediction['y_pred_postlightrail'] - prediction['y_pred_prelightrail'])/prediction['y_pred_prelightrail']*100\n",
    "prediction.head()"
   ]
  },
  {
   "cell_type": "code",
   "execution_count": 6,
   "metadata": {
    "collapsed": false
   },
   "outputs": [
    {
     "data": {
      "text/plain": [
       "209.08705190288956"
      ]
     },
     "execution_count": 6,
     "metadata": {},
     "output_type": "execute_result"
    }
   ],
   "source": [
    "np.mean(prediction['pred_percent_increase'])"
   ]
  },
  {
   "cell_type": "code",
   "execution_count": 7,
   "metadata": {
    "collapsed": false
   },
   "outputs": [
    {
     "data": {
      "text/plain": [
       "92.8677276425474"
      ]
     },
     "execution_count": 7,
     "metadata": {},
     "output_type": "execute_result"
    }
   ],
   "source": [
    "np.std(prediction['pred_percent_increase'])"
   ]
  },
  {
   "cell_type": "code",
   "execution_count": 8,
   "metadata": {
    "collapsed": false
   },
   "outputs": [
    {
     "data": {
      "text/html": [
       "<div>\n",
       "<table border=\"1\" class=\"dataframe\">\n",
       "  <thead>\n",
       "    <tr style=\"text-align: right;\">\n",
       "      <th></th>\n",
       "      <th>y_pred_postlightrail</th>\n",
       "      <th>y_pred_prelightrail</th>\n",
       "      <th>y_true</th>\n",
       "      <th>true_percent_increase</th>\n",
       "      <th>pred_percent_increase</th>\n",
       "      <th>true_diff</th>\n",
       "      <th>pred_diff</th>\n",
       "    </tr>\n",
       "  </thead>\n",
       "  <tbody>\n",
       "    <tr>\n",
       "      <th>0</th>\n",
       "      <td>777.720966</td>\n",
       "      <td>448.782036</td>\n",
       "      <td>254.141566</td>\n",
       "      <td>206.018798</td>\n",
       "      <td>73.295922</td>\n",
       "      <td>523.579399</td>\n",
       "      <td>328.938930</td>\n",
       "    </tr>\n",
       "    <tr>\n",
       "      <th>1</th>\n",
       "      <td>777.720966</td>\n",
       "      <td>448.782036</td>\n",
       "      <td>957.266566</td>\n",
       "      <td>-18.756071</td>\n",
       "      <td>73.295922</td>\n",
       "      <td>-179.545601</td>\n",
       "      <td>328.938930</td>\n",
       "    </tr>\n",
       "    <tr>\n",
       "      <th>2</th>\n",
       "      <td>684.654752</td>\n",
       "      <td>274.792471</td>\n",
       "      <td>85.889571</td>\n",
       "      <td>697.133747</td>\n",
       "      <td>149.153388</td>\n",
       "      <td>598.765181</td>\n",
       "      <td>409.862281</td>\n",
       "    </tr>\n",
       "    <tr>\n",
       "      <th>3</th>\n",
       "      <td>646.387317</td>\n",
       "      <td>278.416076</td>\n",
       "      <td>158.057360</td>\n",
       "      <td>308.957429</td>\n",
       "      <td>132.165946</td>\n",
       "      <td>488.329957</td>\n",
       "      <td>367.971241</td>\n",
       "    </tr>\n",
       "    <tr>\n",
       "      <th>4</th>\n",
       "      <td>1007.519303</td>\n",
       "      <td>298.320461</td>\n",
       "      <td>259.090909</td>\n",
       "      <td>288.867100</td>\n",
       "      <td>237.730540</td>\n",
       "      <td>748.428394</td>\n",
       "      <td>709.198843</td>\n",
       "    </tr>\n",
       "  </tbody>\n",
       "</table>\n",
       "</div>"
      ],
      "text/plain": [
       "   y_pred_postlightrail  y_pred_prelightrail      y_true  \\\n",
       "0            777.720966           448.782036  254.141566   \n",
       "1            777.720966           448.782036  957.266566   \n",
       "2            684.654752           274.792471   85.889571   \n",
       "3            646.387317           278.416076  158.057360   \n",
       "4           1007.519303           298.320461  259.090909   \n",
       "\n",
       "   true_percent_increase  pred_percent_increase   true_diff   pred_diff  \n",
       "0             206.018798              73.295922  523.579399  328.938930  \n",
       "1             -18.756071              73.295922 -179.545601  328.938930  \n",
       "2             697.133747             149.153388  598.765181  409.862281  \n",
       "3             308.957429             132.165946  488.329957  367.971241  \n",
       "4             288.867100             237.730540  748.428394  709.198843  "
      ]
     },
     "execution_count": 8,
     "metadata": {},
     "output_type": "execute_result"
    }
   ],
   "source": [
    "prediction['true_diff'] = prediction['y_pred_postlightrail'] - prediction['y_true']\n",
    "prediction['pred_diff'] = prediction['y_pred_postlightrail'] - prediction['y_pred_prelightrail']\n",
    "prediction.head()"
   ]
  },
  {
   "cell_type": "code",
   "execution_count": 9,
   "metadata": {
    "collapsed": false
   },
   "outputs": [
    {
     "data": {
      "text/plain": [
       "(11739, 7)"
      ]
     },
     "execution_count": 9,
     "metadata": {},
     "output_type": "execute_result"
    }
   ],
   "source": [
    "prediction.shape"
   ]
  },
  {
   "cell_type": "code",
   "execution_count": 10,
   "metadata": {
    "collapsed": false
   },
   "outputs": [
    {
     "data": {
      "text/plain": [
       "(316049, 3)"
      ]
     },
     "execution_count": 10,
     "metadata": {},
     "output_type": "execute_result"
    }
   ],
   "source": [
    "subway1 = pd.read_csv('/Users/Laura/GoogleDrive/NYU/Capstone/OLD/Subway/subwaydist.csv',index_col=0)\n",
    "subway1.shape"
   ]
  },
  {
   "cell_type": "code",
   "execution_count": 11,
   "metadata": {
    "collapsed": false
   },
   "outputs": [
    {
     "data": {
      "text/plain": [
       "(316049, 3)"
      ]
     },
     "execution_count": 11,
     "metadata": {},
     "output_type": "execute_result"
    }
   ],
   "source": [
    "subway2 = pd.read_csv('/Users/Laura/GoogleDrive/NYU/Capstone/OLD/Subway/updatedsubwaydist.csv',index_col=0)\n",
    "subway2.shape"
   ]
  },
  {
   "cell_type": "code",
   "execution_count": 3,
   "metadata": {
    "collapsed": false
   },
   "outputs": [],
   "source": [
    "increases = pd.read_csv('data/results/affected_properties_tax_calculation_rf.csv')"
   ]
  },
  {
   "cell_type": "code",
   "execution_count": 4,
   "metadata": {
    "collapsed": false
   },
   "outputs": [
    {
     "name": "stdout",
     "output_type": "stream",
     "text": [
      "1.43500655847\n",
      "0.780329181336\n"
     ]
    }
   ],
   "source": [
    "print(np.mean(increases.percent_increase))\n",
    "print(np.std(increases.percent_increase))"
   ]
  },
  {
   "cell_type": "code",
   "execution_count": 25,
   "metadata": {
    "collapsed": true
   },
   "outputs": [],
   "source": [
    "num_bins = 25\n",
    "# the histogram of the data\n",
    "n, bins, patches = plt.hist(100*increases['percent_increase'], num_bins, normed=1, range = [0, 500],\n",
    "                            facecolor='purple', alpha=0.4)"
   ]
  },
  {
   "cell_type": "code",
   "execution_count": 26,
   "metadata": {
    "collapsed": false
   },
   "outputs": [
    {
     "data": {
      "text/plain": [
       "<matplotlib.text.Text at 0x10904d6d8>"
      ]
     },
     "execution_count": 26,
     "metadata": {},
     "output_type": "execute_result"
    }
   ],
   "source": [
    "# add a 'best fit' line\n",
    "#y = mlab.normpdf(bins, np.mean(100*increases['percent_increase']), np.std(100*increases['percent_increase']))\n",
    "#plt.plot(bins, y, 'k--')\n",
    "plt.xlabel('Price Per Square Foot Percent Increase')\n",
    "plt.ylabel('Probability')\n",
    "plt.title(r'Histogram of Price Increase: $\\mu=143.5%$, $\\sigma=78.0%$')"
   ]
  },
  {
   "cell_type": "code",
   "execution_count": 27,
   "metadata": {
    "collapsed": false
   },
   "outputs": [
    {
     "data": {
      "image/png": "[encoded data removed]",
      "text/plain": [
       "<matplotlib.figure.Figure at 0x108fdf978>"
      ]
     },
     "metadata": {},
     "output_type": "display_data"
    }
   ],
   "source": [
    "# Tweak spacing to prevent clipping of ylabel\n",
    "plt.subplots_adjust(left=0.15)\n",
    "\n",
    "plt.savefig('hist.pdf', bbox_inches='tight')\n",
    "plt.show()\n"
   ]
  },
  {
   "cell_type": "code",
   "execution_count": 28,
   "metadata": {
    "collapsed": true
   },
   "outputs": [],
   "source": [
    "plt.cla()"
   ]
  },
  {
   "cell_type": "code",
   "execution_count": 36,
   "metadata": {
    "collapsed": false
   },
   "outputs": [
    {
     "data": {
      "image/png": "[encoded data removed]",
      "text/plain": [
       "<matplotlib.figure.Figure at 0x109a57438>"
      ]
     },
     "metadata": {},
     "output_type": "display_data"
    }
   ],
   "source": [
    "plt.scatter(np.log10(increases['price_per_sqft']), 100*increases['percent_increase'],facecolor='purple', alpha=0.5)\n",
    "plt.axis([-100, 3000, 0, 1000])\n",
    "plt.xlabel('Current Price Per Square Foot')\n",
    "plt.ylabel('Price Per Square Foot Percent Increase')\n",
    "plt.title(r'Current Price vs. Price Percent Increase')\n",
    "plt.savefig('scatter.pdf', bbox_inches='tight')\n",
    "plt.show()"
   ]
  },
  {
   "cell_type": "code",
   "execution_count": 39,
   "metadata": {
    "collapsed": false
   },
   "outputs": [
    {
     "data": {
      "text/plain": [
       "array([ 0.        ,  2.69897   ,  3.        ,  3.17609126,  3.30103   ,\n",
       "        3.39794001,  3.47712125])"
      ]
     },
     "execution_count": 39,
     "metadata": {},
     "output_type": "execute_result"
    }
   ],
   "source": [
    "np.log10([1, 500, 1000, 1500, 2000, 2500, 3000])"
   ]
  },
  {
   "cell_type": "code",
   "execution_count": null,
   "metadata": {
    "collapsed": true
   },
   "outputs": [],
   "source": []
  }
 ],
 "metadata": {
  "anaconda-cloud": {},
  "kernelspec": {
   "display_name": "Python 3",
   "language": "python",
   "name": "python3"
  },
  "language_info": {
   "codemirror_mode": {
    "name": "ipython",
    "version": 3
   },
   "file_extension": ".py",
   "mimetype": "text/x-python",
   "name": "python",
   "nbconvert_exporter": "python",
   "pygments_lexer": "ipython3",
   "version": "3.5.2"
  }
 },
 "nbformat": 4,
 "nbformat_minor": 1
}
