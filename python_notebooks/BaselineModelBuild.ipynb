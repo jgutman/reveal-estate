{
 "cells": [
  {
   "cell_type": "code",
   "execution_count": 22,
   "metadata": {
    "collapsed": false
   },
   "outputs": [],
   "source": [
    "import pandas as pd\n",
    "from pyproj import Proj\n",
    "import pandas as pd\n",
    "import numpy as np\n",
    "import math\n",
    "import matplotlib.pyplot as plt\n",
    "from sklearn import datasets, linear_model\n",
    "from sklearn.cross_validation import train_test_split\n",
    "%matplotlib inline"
   ]
  },
  {
   "cell_type": "code",
   "execution_count": 4,
   "metadata": {
    "collapsed": false
   },
   "outputs": [
    {
     "data": {
      "text/html": [
       "<div>\n",
       "<table border=\"1\" class=\"dataframe\">\n",
       "  <thead>\n",
       "    <tr style=\"text-align: right;\">\n",
       "      <th></th>\n",
       "      <th>xcoord</th>\n",
       "      <th>ycoord</th>\n",
       "      <th>latitude</th>\n",
       "      <th>longitude</th>\n",
       "      <th>sale price</th>\n",
       "      <th>price per sqft</th>\n",
       "      <th>zip code</th>\n",
       "      <th>tree_count_quarter_mile</th>\n",
       "    </tr>\n",
       "  </thead>\n",
       "  <tbody>\n",
       "    <tr>\n",
       "      <th>0</th>\n",
       "      <td>1008534.0</td>\n",
       "      <td>237641.0</td>\n",
       "      <td>40.818912</td>\n",
       "      <td>-73.912264</td>\n",
       "      <td>0</td>\n",
       "      <td>NaN</td>\n",
       "      <td>10455</td>\n",
       "      <td>396.0</td>\n",
       "    </tr>\n",
       "    <tr>\n",
       "      <th>1</th>\n",
       "      <td>1008900.0</td>\n",
       "      <td>238176.0</td>\n",
       "      <td>40.820379</td>\n",
       "      <td>-73.910940</td>\n",
       "      <td>190000</td>\n",
       "      <td>NaN</td>\n",
       "      <td>10456</td>\n",
       "      <td>277.0</td>\n",
       "    </tr>\n",
       "    <tr>\n",
       "      <th>2</th>\n",
       "      <td>1008458.0</td>\n",
       "      <td>238121.0</td>\n",
       "      <td>40.820230</td>\n",
       "      <td>-73.912537</td>\n",
       "      <td>217000</td>\n",
       "      <td>NaN</td>\n",
       "      <td>10451</td>\n",
       "      <td>307.0</td>\n",
       "    </tr>\n",
       "    <tr>\n",
       "      <th>3</th>\n",
       "      <td>1008458.0</td>\n",
       "      <td>238121.0</td>\n",
       "      <td>40.820230</td>\n",
       "      <td>-73.912537</td>\n",
       "      <td>290000</td>\n",
       "      <td>NaN</td>\n",
       "      <td>10451</td>\n",
       "      <td>307.0</td>\n",
       "    </tr>\n",
       "    <tr>\n",
       "      <th>4</th>\n",
       "      <td>1008458.0</td>\n",
       "      <td>238121.0</td>\n",
       "      <td>40.820230</td>\n",
       "      <td>-73.912537</td>\n",
       "      <td>184000</td>\n",
       "      <td>NaN</td>\n",
       "      <td>10451</td>\n",
       "      <td>307.0</td>\n",
       "    </tr>\n",
       "  </tbody>\n",
       "</table>\n",
       "</div>"
      ],
      "text/plain": [
       "      xcoord    ycoord   latitude  longitude  sale price  price per sqft  \\\n",
       "0  1008534.0  237641.0  40.818912 -73.912264           0             NaN   \n",
       "1  1008900.0  238176.0  40.820379 -73.910940      190000             NaN   \n",
       "2  1008458.0  238121.0  40.820230 -73.912537      217000             NaN   \n",
       "3  1008458.0  238121.0  40.820230 -73.912537      290000             NaN   \n",
       "4  1008458.0  238121.0  40.820230 -73.912537      184000             NaN   \n",
       "\n",
       "   zip code  tree_count_quarter_mile  \n",
       "0     10455                    396.0  \n",
       "1     10456                    277.0  \n",
       "2     10451                    307.0  \n",
       "3     10451                    307.0  \n",
       "4     10451                    307.0  "
      ]
     },
     "execution_count": 4,
     "metadata": {},
     "output_type": "execute_result"
    }
   ],
   "source": [
    "df = pd.read_csv(\"bronx_baseline_with_tree_count.csv\", low_memory = False)\n",
    "df.head()"
   ]
  },
  {
   "cell_type": "code",
   "execution_count": 13,
   "metadata": {
    "collapsed": false
   },
   "outputs": [
    {
     "data": {
      "text/plain": [
       "xcoord                     4178\n",
       "ycoord                     4178\n",
       "latitude                   4178\n",
       "longitude                  4178\n",
       "sale price                    0\n",
       "price per sqft             2487\n",
       "zip code                      0\n",
       "tree_count_quarter_mile    4178\n",
       "dtype: int64"
      ]
     },
     "execution_count": 13,
     "metadata": {},
     "output_type": "execute_result"
    }
   ],
   "source": [
    "df.isnull().sum()"
   ]
  },
  {
   "cell_type": "code",
   "execution_count": 12,
   "metadata": {
    "collapsed": false
   },
   "outputs": [
    {
     "data": {
      "text/plain": [
       "(605, 8)"
      ]
     },
     "execution_count": 12,
     "metadata": {},
     "output_type": "execute_result"
    }
   ],
   "source": [
    "df_clean = df.dropna(how = 'any', axis = 0, subset = ['tree_count_quarter_mile'])\n",
    "df_clean.shape"
   ]
  },
  {
   "cell_type": "code",
   "execution_count": 23,
   "metadata": {
    "collapsed": false
   },
   "outputs": [
    {
     "name": "stdout",
     "output_type": "stream",
     "text": [
      "Coefficients: \n",
      " [-254.24752651]\n",
      "Mean squared error: 68081322512.92\n",
      "Variance score: 0.03\n"
     ]
    },
    {
     "data": {
      "image/png": "[encoded data removed]",
      "text/plain": [
       "<matplotlib.figure.Figure at 0x1174f1be0>"
      ]
     },
     "metadata": {},
     "output_type": "display_data"
    }
   ],
   "source": [
    "# Use only one feature\n",
    "X = df_clean['tree_count_quarter_mile']\n",
    "y = df_clean['sale price']\n",
    "\n",
    "\n",
    "# Split the data into training/testing sets\n",
    "X_train, X_test, y_train, y_test = train_test_split(X, y, test_size=0.2, random_state=0)\n",
    "X_train = X_train.reshape((X_train.shape[0],1))\n",
    "X_test = X_test.reshape((X_test.shape[0],1))\n",
    "# Create linear regression object\n",
    "regr = linear_model.LinearRegression()\n",
    "\n",
    "# Train the model using the training sets\n",
    "regr.fit(X_train, y_train)\n",
    "\n",
    "# The coefficients\n",
    "print('Coefficients: \\n', regr.coef_)\n",
    "# The mean squared error\n",
    "print(\"Mean squared error: %.2f\"\n",
    "      % np.mean((regr.predict(X_test) - y_test) ** 2))\n",
    "# Explained variance score: 1 is perfect prediction\n",
    "print('Variance score: %.2f' % regr.score(X_test, y_test))\n",
    "\n",
    "# Plot outputs\n",
    "plt.scatter(X_test, y_test,  color='black')\n",
    "plt.plot(X_test, regr.predict(X_test), color='blue',\n",
    "         linewidth=3)\n",
    "\n",
    "plt.xticks(())\n",
    "plt.yticks(())\n",
    "\n",
    "plt.show()"
   ]
  },
  {
   "cell_type": "code",
   "execution_count": null,
   "metadata": {
    "collapsed": true
   },
   "outputs": [],
   "source": []
  }
 ],
 "metadata": {
  "kernelspec": {
   "display_name": "Python [Root]",
   "language": "python",
   "name": "Python [Root]"
  },
  "language_info": {
   "codemirror_mode": {
    "name": "ipython",
    "version": 3
   },
   "file_extension": ".py",
   "mimetype": "text/x-python",
   "name": "python",
   "nbconvert_exporter": "python",
   "pygments_lexer": "ipython3",
   "version": "3.5.2"
  }
 },
 "nbformat": 4,
 "nbformat_minor": 0
}
