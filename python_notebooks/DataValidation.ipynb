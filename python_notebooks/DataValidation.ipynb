{
 "cells": [
  {
   "cell_type": "code",
   "execution_count": 2,
   "metadata": {
    "collapsed": true
   },
   "outputs": [],
   "source": [
    "import pandas as pd\n",
    "from pyproj import Proj\n",
    "import numpy as np\n",
    "import math\n",
    "import matplotlib.pyplot as plt\n",
    "from sklearn import datasets, linear_model\n",
    "from sklearn import cross_validation\n",
    "from sklearn.metrics import mean_squared_error\n",
    "import seaborn as sns\n",
    "sns.set(color_codes=True)\n",
    "import collections\n",
    "\n",
    "%matplotlib inline"
   ]
  },
  {
   "cell_type": "code",
   "execution_count": 10,
   "metadata": {
    "collapsed": false
   },
   "outputs": [
    {
     "data": {
      "text/html": [
       "<div>\n",
       "<table border=\"1\" class=\"dataframe\">\n",
       "  <thead>\n",
       "    <tr style=\"text-align: right;\">\n",
       "      <th></th>\n",
       "      <th>borough</th>\n",
       "      <th>block</th>\n",
       "      <th>schooldist</th>\n",
       "      <th>council</th>\n",
       "      <th>zipcode</th>\n",
       "      <th>ltdheight</th>\n",
       "      <th>splitzone</th>\n",
       "      <th>bldgclass</th>\n",
       "      <th>landuse</th>\n",
       "      <th>easements</th>\n",
       "      <th>...</th>\n",
       "      <th>sale_price</th>\n",
       "      <th>sale_date</th>\n",
       "      <th>tax_class_at_time_of_sale</th>\n",
       "      <th>year_built</th>\n",
       "      <th>residential_units</th>\n",
       "      <th>commercial_units</th>\n",
       "      <th>total_units</th>\n",
       "      <th>bbl_pluto</th>\n",
       "      <th>unit_bbl</th>\n",
       "      <th>price_per_sqft</th>\n",
       "    </tr>\n",
       "  </thead>\n",
       "  <tbody>\n",
       "    <tr>\n",
       "      <th>0</th>\n",
       "      <td>BK</td>\n",
       "      <td>20.0</td>\n",
       "      <td>13.0</td>\n",
       "      <td>33.0</td>\n",
       "      <td>11201.0</td>\n",
       "      <td>0.0</td>\n",
       "      <td>0.0</td>\n",
       "      <td>RM</td>\n",
       "      <td>4.0</td>\n",
       "      <td>1.0</td>\n",
       "      <td>...</td>\n",
       "      <td>1598000</td>\n",
       "      <td>2014-04-30</td>\n",
       "      <td>2</td>\n",
       "      <td>1920</td>\n",
       "      <td>1</td>\n",
       "      <td>0</td>\n",
       "      <td>1</td>\n",
       "      <td>3.000208e+09</td>\n",
       "      <td>3.000201e+09</td>\n",
       "      <td>57.515117</td>\n",
       "    </tr>\n",
       "    <tr>\n",
       "      <th>1</th>\n",
       "      <td>BK</td>\n",
       "      <td>20.0</td>\n",
       "      <td>13.0</td>\n",
       "      <td>33.0</td>\n",
       "      <td>11201.0</td>\n",
       "      <td>0.0</td>\n",
       "      <td>0.0</td>\n",
       "      <td>RM</td>\n",
       "      <td>4.0</td>\n",
       "      <td>1.0</td>\n",
       "      <td>...</td>\n",
       "      <td>1598000</td>\n",
       "      <td>2014-04-30</td>\n",
       "      <td>2</td>\n",
       "      <td>1920</td>\n",
       "      <td>1</td>\n",
       "      <td>0</td>\n",
       "      <td>1</td>\n",
       "      <td>3.000208e+09</td>\n",
       "      <td>3.000201e+09</td>\n",
       "      <td>57.515117</td>\n",
       "    </tr>\n",
       "    <tr>\n",
       "      <th>2</th>\n",
       "      <td>BK</td>\n",
       "      <td>20.0</td>\n",
       "      <td>13.0</td>\n",
       "      <td>33.0</td>\n",
       "      <td>11201.0</td>\n",
       "      <td>0.0</td>\n",
       "      <td>0.0</td>\n",
       "      <td>RM</td>\n",
       "      <td>4.0</td>\n",
       "      <td>1.0</td>\n",
       "      <td>...</td>\n",
       "      <td>3309312</td>\n",
       "      <td>2014-05-23</td>\n",
       "      <td>2</td>\n",
       "      <td>1920</td>\n",
       "      <td>1</td>\n",
       "      <td>0</td>\n",
       "      <td>1</td>\n",
       "      <td>3.000208e+09</td>\n",
       "      <td>3.000201e+09</td>\n",
       "      <td>119.108552</td>\n",
       "    </tr>\n",
       "    <tr>\n",
       "      <th>3</th>\n",
       "      <td>BK</td>\n",
       "      <td>20.0</td>\n",
       "      <td>13.0</td>\n",
       "      <td>33.0</td>\n",
       "      <td>11201.0</td>\n",
       "      <td>0.0</td>\n",
       "      <td>0.0</td>\n",
       "      <td>RM</td>\n",
       "      <td>4.0</td>\n",
       "      <td>1.0</td>\n",
       "      <td>...</td>\n",
       "      <td>3309312</td>\n",
       "      <td>2014-05-23</td>\n",
       "      <td>2</td>\n",
       "      <td>1920</td>\n",
       "      <td>1</td>\n",
       "      <td>0</td>\n",
       "      <td>1</td>\n",
       "      <td>3.000208e+09</td>\n",
       "      <td>3.000201e+09</td>\n",
       "      <td>119.108552</td>\n",
       "    </tr>\n",
       "    <tr>\n",
       "      <th>4</th>\n",
       "      <td>BK</td>\n",
       "      <td>20.0</td>\n",
       "      <td>13.0</td>\n",
       "      <td>33.0</td>\n",
       "      <td>11201.0</td>\n",
       "      <td>0.0</td>\n",
       "      <td>0.0</td>\n",
       "      <td>RM</td>\n",
       "      <td>4.0</td>\n",
       "      <td>1.0</td>\n",
       "      <td>...</td>\n",
       "      <td>1210000</td>\n",
       "      <td>2014-06-09</td>\n",
       "      <td>2</td>\n",
       "      <td>1920</td>\n",
       "      <td>1</td>\n",
       "      <td>0</td>\n",
       "      <td>1</td>\n",
       "      <td>3.000208e+09</td>\n",
       "      <td>3.000201e+09</td>\n",
       "      <td>43.550245</td>\n",
       "    </tr>\n",
       "  </tbody>\n",
       "</table>\n",
       "<p>5 rows × 51 columns</p>\n",
       "</div>"
      ],
      "text/plain": [
       "  borough  block  schooldist  council  zipcode  ltdheight  splitzone  \\\n",
       "0      BK   20.0        13.0     33.0  11201.0        0.0        0.0   \n",
       "1      BK   20.0        13.0     33.0  11201.0        0.0        0.0   \n",
       "2      BK   20.0        13.0     33.0  11201.0        0.0        0.0   \n",
       "3      BK   20.0        13.0     33.0  11201.0        0.0        0.0   \n",
       "4      BK   20.0        13.0     33.0  11201.0        0.0        0.0   \n",
       "\n",
       "  bldgclass  landuse  easements       ...       sale_price   sale_date  \\\n",
       "0        RM      4.0        1.0       ...          1598000  2014-04-30   \n",
       "1        RM      4.0        1.0       ...          1598000  2014-04-30   \n",
       "2        RM      4.0        1.0       ...          3309312  2014-05-23   \n",
       "3        RM      4.0        1.0       ...          3309312  2014-05-23   \n",
       "4        RM      4.0        1.0       ...          1210000  2014-06-09   \n",
       "\n",
       "   tax_class_at_time_of_sale  year_built  residential_units  commercial_units  \\\n",
       "0                          2        1920                  1                 0   \n",
       "1                          2        1920                  1                 0   \n",
       "2                          2        1920                  1                 0   \n",
       "3                          2        1920                  1                 0   \n",
       "4                          2        1920                  1                 0   \n",
       "\n",
       "   total_units     bbl_pluto      unit_bbl  price_per_sqft  \n",
       "0            1  3.000208e+09  3.000201e+09       57.515117  \n",
       "1            1  3.000208e+09  3.000201e+09       57.515117  \n",
       "2            1  3.000208e+09  3.000201e+09      119.108552  \n",
       "3            1  3.000208e+09  3.000201e+09      119.108552  \n",
       "4            1  3.000208e+09  3.000201e+09       43.550245  \n",
       "\n",
       "[5 rows x 51 columns]"
      ]
     },
     "execution_count": 10,
     "metadata": {},
     "output_type": "execute_result"
    }
   ],
   "source": [
    "data_path = \"data/merged/manhattan_brooklyn_2014_2015.csv\"\n",
    "df = pd.DataFrame.from_csv(data_path, index_col = False)\n",
    "df.head()"
   ]
  },
  {
   "cell_type": "code",
   "execution_count": 12,
   "metadata": {
    "collapsed": false
   },
   "outputs": [
    {
     "data": {
      "text/plain": [
       "(84948, 51)"
      ]
     },
     "execution_count": 12,
     "metadata": {},
     "output_type": "execute_result"
    }
   ],
   "source": [
    "df.shape"
   ]
  },
  {
   "cell_type": "code",
   "execution_count": 11,
   "metadata": {
    "collapsed": false
   },
   "outputs": [
    {
     "data": {
      "text/plain": [
       "(20089, 51)"
      ]
     },
     "execution_count": 11,
     "metadata": {},
     "output_type": "execute_result"
    }
   ],
   "source": [
    "no_dups = df.drop_duplicates()\n",
    "no_dups.shape"
   ]
  },
  {
   "cell_type": "code",
   "execution_count": 13,
   "metadata": {
    "collapsed": false
   },
   "outputs": [
    {
     "data": {
      "text/html": [
       "<div>\n",
       "<table border=\"1\" class=\"dataframe\">\n",
       "  <thead>\n",
       "    <tr style=\"text-align: right;\">\n",
       "      <th></th>\n",
       "      <th>sale_price</th>\n",
       "      <th>sale_date</th>\n",
       "      <th>tax_class_at_time_of_sale</th>\n",
       "      <th>year_built</th>\n",
       "      <th>residential_units</th>\n",
       "      <th>commercial_units</th>\n",
       "      <th>total_units</th>\n",
       "      <th>block</th>\n",
       "      <th>bbl</th>\n",
       "    </tr>\n",
       "  </thead>\n",
       "  <tbody>\n",
       "    <tr>\n",
       "      <th>0</th>\n",
       "      <td>0</td>\n",
       "      <td>2014-03-21</td>\n",
       "      <td>4</td>\n",
       "      <td>1920</td>\n",
       "      <td>0</td>\n",
       "      <td>90</td>\n",
       "      <td>90</td>\n",
       "      <td>1</td>\n",
       "      <td>3000010050</td>\n",
       "    </tr>\n",
       "    <tr>\n",
       "      <th>1</th>\n",
       "      <td>1598000</td>\n",
       "      <td>2014-04-30</td>\n",
       "      <td>2</td>\n",
       "      <td>1920</td>\n",
       "      <td>1</td>\n",
       "      <td>0</td>\n",
       "      <td>1</td>\n",
       "      <td>20</td>\n",
       "      <td>3000201001</td>\n",
       "    </tr>\n",
       "    <tr>\n",
       "      <th>2</th>\n",
       "      <td>3309312</td>\n",
       "      <td>2014-05-23</td>\n",
       "      <td>2</td>\n",
       "      <td>1920</td>\n",
       "      <td>1</td>\n",
       "      <td>0</td>\n",
       "      <td>1</td>\n",
       "      <td>20</td>\n",
       "      <td>3000201002</td>\n",
       "    </tr>\n",
       "    <tr>\n",
       "      <th>3</th>\n",
       "      <td>1210000</td>\n",
       "      <td>2014-06-09</td>\n",
       "      <td>2</td>\n",
       "      <td>1920</td>\n",
       "      <td>1</td>\n",
       "      <td>0</td>\n",
       "      <td>1</td>\n",
       "      <td>20</td>\n",
       "      <td>3000201003</td>\n",
       "    </tr>\n",
       "    <tr>\n",
       "      <th>4</th>\n",
       "      <td>1333907</td>\n",
       "      <td>2014-05-21</td>\n",
       "      <td>2</td>\n",
       "      <td>1920</td>\n",
       "      <td>1</td>\n",
       "      <td>0</td>\n",
       "      <td>1</td>\n",
       "      <td>20</td>\n",
       "      <td>3000201004</td>\n",
       "    </tr>\n",
       "  </tbody>\n",
       "</table>\n",
       "</div>"
      ],
      "text/plain": [
       "   sale_price   sale_date  tax_class_at_time_of_sale  year_built  \\\n",
       "0           0  2014-03-21                          4        1920   \n",
       "1     1598000  2014-04-30                          2        1920   \n",
       "2     3309312  2014-05-23                          2        1920   \n",
       "3     1210000  2014-06-09                          2        1920   \n",
       "4     1333907  2014-05-21                          2        1920   \n",
       "\n",
       "   residential_units  commercial_units  total_units  block         bbl  \n",
       "0                  0                90           90      1  3000010050  \n",
       "1                  1                 0            1     20  3000201001  \n",
       "2                  1                 0            1     20  3000201002  \n",
       "3                  1                 0            1     20  3000201003  \n",
       "4                  1                 0            1     20  3000201004  "
      ]
     },
     "execution_count": 13,
     "metadata": {},
     "output_type": "execute_result"
    }
   ],
   "source": [
    "data_path = \"data/merged/finance_manhattan_brooklyn_2014_2015.csv\"\n",
    "finance = pd.DataFrame.from_csv(data_path, index_col = False)\n",
    "finance.head()"
   ]
  },
  {
   "cell_type": "code",
   "execution_count": 14,
   "metadata": {
    "collapsed": false
   },
   "outputs": [
    {
     "data": {
      "text/plain": [
       "(138672, 9)"
      ]
     },
     "execution_count": 14,
     "metadata": {},
     "output_type": "execute_result"
    }
   ],
   "source": [
    "finance.shape"
   ]
  },
  {
   "cell_type": "code",
   "execution_count": 15,
   "metadata": {
    "collapsed": false
   },
   "outputs": [
    {
     "data": {
      "text/plain": [
       "(69336, 9)"
      ]
     },
     "execution_count": 15,
     "metadata": {},
     "output_type": "execute_result"
    }
   ],
   "source": [
    "finance_no_dups = finance.drop_duplicates()\n",
    "finance_no_dups.shape"
   ]
  },
  {
   "cell_type": "code",
   "execution_count": 17,
   "metadata": {
    "collapsed": false
   },
   "outputs": [
    {
     "data": {
      "text/html": [
       "<div>\n",
       "<table border=\"1\" class=\"dataframe\">\n",
       "  <thead>\n",
       "    <tr style=\"text-align: right;\">\n",
       "      <th></th>\n",
       "      <th>borough</th>\n",
       "      <th>block</th>\n",
       "      <th>schooldist</th>\n",
       "      <th>council</th>\n",
       "      <th>zipcode</th>\n",
       "      <th>ltdheight</th>\n",
       "      <th>splitzone</th>\n",
       "      <th>bldgclass</th>\n",
       "      <th>landuse</th>\n",
       "      <th>easements</th>\n",
       "      <th>...</th>\n",
       "      <th>condono</th>\n",
       "      <th>xcoord</th>\n",
       "      <th>ycoord</th>\n",
       "      <th>zonemap</th>\n",
       "      <th>latitude</th>\n",
       "      <th>longitude</th>\n",
       "      <th>gross_sqft_pluto</th>\n",
       "      <th>garage</th>\n",
       "      <th>extension</th>\n",
       "      <th>countalter</th>\n",
       "    </tr>\n",
       "  </thead>\n",
       "  <tbody>\n",
       "    <tr>\n",
       "      <th>0</th>\n",
       "      <td>BK</td>\n",
       "      <td>1</td>\n",
       "      <td>13.0</td>\n",
       "      <td>33.0</td>\n",
       "      <td>11201.0</td>\n",
       "      <td>0</td>\n",
       "      <td>0.0</td>\n",
       "      <td>D7</td>\n",
       "      <td>4.0</td>\n",
       "      <td>0</td>\n",
       "      <td>...</td>\n",
       "      <td>0.0</td>\n",
       "      <td>987624.0</td>\n",
       "      <td>195992.0</td>\n",
       "      <td>12d</td>\n",
       "      <td>40.704629</td>\n",
       "      <td>-73.987831</td>\n",
       "      <td>123199.0</td>\n",
       "      <td>0</td>\n",
       "      <td>0</td>\n",
       "      <td>1</td>\n",
       "    </tr>\n",
       "    <tr>\n",
       "      <th>1</th>\n",
       "      <td>BK</td>\n",
       "      <td>1</td>\n",
       "      <td>13.0</td>\n",
       "      <td>33.0</td>\n",
       "      <td>11201.0</td>\n",
       "      <td>0</td>\n",
       "      <td>1.0</td>\n",
       "      <td>E9</td>\n",
       "      <td>6.0</td>\n",
       "      <td>0</td>\n",
       "      <td>...</td>\n",
       "      <td>0.0</td>\n",
       "      <td>987838.0</td>\n",
       "      <td>195989.0</td>\n",
       "      <td>12d</td>\n",
       "      <td>40.704621</td>\n",
       "      <td>-73.987059</td>\n",
       "      <td>154400.0</td>\n",
       "      <td>0</td>\n",
       "      <td>0</td>\n",
       "      <td>2</td>\n",
       "    </tr>\n",
       "    <tr>\n",
       "      <th>2</th>\n",
       "      <td>BK</td>\n",
       "      <td>7</td>\n",
       "      <td>13.0</td>\n",
       "      <td>33.0</td>\n",
       "      <td>11201.0</td>\n",
       "      <td>0</td>\n",
       "      <td>0.0</td>\n",
       "      <td>G1</td>\n",
       "      <td>10.0</td>\n",
       "      <td>0</td>\n",
       "      <td>...</td>\n",
       "      <td>0.0</td>\n",
       "      <td>987216.0</td>\n",
       "      <td>195803.0</td>\n",
       "      <td>12d</td>\n",
       "      <td>40.704110</td>\n",
       "      <td>-73.989303</td>\n",
       "      <td>9585.0</td>\n",
       "      <td>0</td>\n",
       "      <td>0</td>\n",
       "      <td>1</td>\n",
       "    </tr>\n",
       "    <tr>\n",
       "      <th>3</th>\n",
       "      <td>BK</td>\n",
       "      <td>16</td>\n",
       "      <td>13.0</td>\n",
       "      <td>33.0</td>\n",
       "      <td>11201.0</td>\n",
       "      <td>0</td>\n",
       "      <td>0.0</td>\n",
       "      <td>Q0</td>\n",
       "      <td>9.0</td>\n",
       "      <td>0</td>\n",
       "      <td>...</td>\n",
       "      <td>0.0</td>\n",
       "      <td>986856.0</td>\n",
       "      <td>195975.0</td>\n",
       "      <td>12d</td>\n",
       "      <td>40.704582</td>\n",
       "      <td>-73.990601</td>\n",
       "      <td>5000.0</td>\n",
       "      <td>0</td>\n",
       "      <td>0</td>\n",
       "      <td>0</td>\n",
       "    </tr>\n",
       "    <tr>\n",
       "      <th>4</th>\n",
       "      <td>BK</td>\n",
       "      <td>18</td>\n",
       "      <td>13.0</td>\n",
       "      <td>33.0</td>\n",
       "      <td>11201.0</td>\n",
       "      <td>0</td>\n",
       "      <td>0.0</td>\n",
       "      <td>D5</td>\n",
       "      <td>3.0</td>\n",
       "      <td>0</td>\n",
       "      <td>...</td>\n",
       "      <td>0.0</td>\n",
       "      <td>987577.0</td>\n",
       "      <td>195811.0</td>\n",
       "      <td>12d</td>\n",
       "      <td>40.704132</td>\n",
       "      <td>-73.988001</td>\n",
       "      <td>211386.0</td>\n",
       "      <td>0</td>\n",
       "      <td>0</td>\n",
       "      <td>1</td>\n",
       "    </tr>\n",
       "  </tbody>\n",
       "</table>\n",
       "<p>5 rows × 41 columns</p>\n",
       "</div>"
      ],
      "text/plain": [
       "  borough  block  schooldist  council  zipcode  ltdheight  splitzone  \\\n",
       "0      BK      1        13.0     33.0  11201.0          0        0.0   \n",
       "1      BK      1        13.0     33.0  11201.0          0        1.0   \n",
       "2      BK      7        13.0     33.0  11201.0          0        0.0   \n",
       "3      BK     16        13.0     33.0  11201.0          0        0.0   \n",
       "4      BK     18        13.0     33.0  11201.0          0        0.0   \n",
       "\n",
       "  bldgclass  landuse  easements     ...     condono    xcoord    ycoord  \\\n",
       "0        D7      4.0          0     ...         0.0  987624.0  195992.0   \n",
       "1        E9      6.0          0     ...         0.0  987838.0  195989.0   \n",
       "2        G1     10.0          0     ...         0.0  987216.0  195803.0   \n",
       "3        Q0      9.0          0     ...         0.0  986856.0  195975.0   \n",
       "4        D5      3.0          0     ...         0.0  987577.0  195811.0   \n",
       "\n",
       "   zonemap   latitude  longitude  gross_sqft_pluto  garage  extension  \\\n",
       "0      12d  40.704629 -73.987831          123199.0       0          0   \n",
       "1      12d  40.704621 -73.987059          154400.0       0          0   \n",
       "2      12d  40.704110 -73.989303            9585.0       0          0   \n",
       "3      12d  40.704582 -73.990601            5000.0       0          0   \n",
       "4      12d  40.704132 -73.988001          211386.0       0          0   \n",
       "\n",
       "   countalter  \n",
       "0           1  \n",
       "1           2  \n",
       "2           1  \n",
       "3           0  \n",
       "4           1  \n",
       "\n",
       "[5 rows x 41 columns]"
      ]
     },
     "execution_count": 17,
     "metadata": {},
     "output_type": "execute_result"
    }
   ],
   "source": [
    "data_path = \"data/merged/pluto_manhattan_brooklyn_2014_2015.csv\"\n",
    "pluto = pd.DataFrame.from_csv(data_path, index_col = False)\n",
    "pluto.head()"
   ]
  },
  {
   "cell_type": "code",
   "execution_count": 18,
   "metadata": {
    "collapsed": false
   },
   "outputs": [
    {
     "data": {
      "text/plain": [
       "(305187, 41)"
      ]
     },
     "execution_count": 18,
     "metadata": {},
     "output_type": "execute_result"
    }
   ],
   "source": [
    "pluto_no_dups = pluto.drop_duplicates()\n",
    "pluto_no_dups.shape"
   ]
  },
  {
   "cell_type": "code",
   "execution_count": 19,
   "metadata": {
    "collapsed": false
   },
   "outputs": [
    {
     "data": {
      "text/plain": [
       "(305187, 41)"
      ]
     },
     "execution_count": 19,
     "metadata": {},
     "output_type": "execute_result"
    }
   ],
   "source": [
    "pluto.shape"
   ]
  },
  {
   "cell_type": "code",
   "execution_count": 35,
   "metadata": {
    "collapsed": false
   },
   "outputs": [],
   "source": [
    "finance.groupby(['sale_date'])"
   ]
  },
  {
   "cell_type": "code",
   "execution_count": 43,
   "metadata": {
    "collapsed": false
   },
   "outputs": [
    {
     "data": {
      "text/html": [
       "<div>\n",
       "<table border=\"1\" class=\"dataframe\">\n",
       "  <thead>\n",
       "    <tr style=\"text-align: right;\">\n",
       "      <th></th>\n",
       "      <th>zipcode_x</th>\n",
       "      <th>ltdheight</th>\n",
       "      <th>splitzone</th>\n",
       "      <th>easements</th>\n",
       "      <th>comarea</th>\n",
       "      <th>resarea</th>\n",
       "      <th>numbldgs</th>\n",
       "      <th>numfloors</th>\n",
       "      <th>unitsres</th>\n",
       "      <th>unitstotal</th>\n",
       "      <th>...</th>\n",
       "      <th>lottype_1.0</th>\n",
       "      <th>lottype_2.0</th>\n",
       "      <th>lottype_3.0</th>\n",
       "      <th>lottype_4.0</th>\n",
       "      <th>lottype_5.0</th>\n",
       "      <th>lottype_6.0</th>\n",
       "      <th>lottype_7.0</th>\n",
       "      <th>tax_class_at_time_of_sale_1</th>\n",
       "      <th>tax_class_at_time_of_sale_2</th>\n",
       "      <th>tax_class_at_time_of_sale_3</th>\n",
       "    </tr>\n",
       "  </thead>\n",
       "  <tbody>\n",
       "    <tr>\n",
       "      <th>0</th>\n",
       "      <td>10004.0</td>\n",
       "      <td>0.0</td>\n",
       "      <td>0.0</td>\n",
       "      <td>0.0</td>\n",
       "      <td>2725731.0</td>\n",
       "      <td>0.0</td>\n",
       "      <td>NaN</td>\n",
       "      <td>0.0</td>\n",
       "      <td>0.0</td>\n",
       "      <td>0.0</td>\n",
       "      <td>...</td>\n",
       "      <td>0.0</td>\n",
       "      <td>0.0</td>\n",
       "      <td>0.0</td>\n",
       "      <td>0.0</td>\n",
       "      <td>1.0</td>\n",
       "      <td>0.0</td>\n",
       "      <td>0.0</td>\n",
       "      <td>1.0</td>\n",
       "      <td>0.0</td>\n",
       "      <td>0.0</td>\n",
       "    </tr>\n",
       "    <tr>\n",
       "      <th>1</th>\n",
       "      <td>10004.0</td>\n",
       "      <td>0.0</td>\n",
       "      <td>0.0</td>\n",
       "      <td>0.0</td>\n",
       "      <td>2725731.0</td>\n",
       "      <td>0.0</td>\n",
       "      <td>NaN</td>\n",
       "      <td>0.0</td>\n",
       "      <td>0.0</td>\n",
       "      <td>0.0</td>\n",
       "      <td>...</td>\n",
       "      <td>0.0</td>\n",
       "      <td>0.0</td>\n",
       "      <td>0.0</td>\n",
       "      <td>0.0</td>\n",
       "      <td>1.0</td>\n",
       "      <td>0.0</td>\n",
       "      <td>0.0</td>\n",
       "      <td>1.0</td>\n",
       "      <td>0.0</td>\n",
       "      <td>0.0</td>\n",
       "    </tr>\n",
       "    <tr>\n",
       "      <th>2</th>\n",
       "      <td>10004.0</td>\n",
       "      <td>0.0</td>\n",
       "      <td>0.0</td>\n",
       "      <td>0.0</td>\n",
       "      <td>2725731.0</td>\n",
       "      <td>0.0</td>\n",
       "      <td>NaN</td>\n",
       "      <td>0.0</td>\n",
       "      <td>0.0</td>\n",
       "      <td>0.0</td>\n",
       "      <td>...</td>\n",
       "      <td>0.0</td>\n",
       "      <td>0.0</td>\n",
       "      <td>0.0</td>\n",
       "      <td>0.0</td>\n",
       "      <td>1.0</td>\n",
       "      <td>0.0</td>\n",
       "      <td>0.0</td>\n",
       "      <td>0.0</td>\n",
       "      <td>1.0</td>\n",
       "      <td>0.0</td>\n",
       "    </tr>\n",
       "    <tr>\n",
       "      <th>3</th>\n",
       "      <td>10004.0</td>\n",
       "      <td>0.0</td>\n",
       "      <td>0.0</td>\n",
       "      <td>0.0</td>\n",
       "      <td>2725731.0</td>\n",
       "      <td>0.0</td>\n",
       "      <td>NaN</td>\n",
       "      <td>0.0</td>\n",
       "      <td>0.0</td>\n",
       "      <td>0.0</td>\n",
       "      <td>...</td>\n",
       "      <td>0.0</td>\n",
       "      <td>0.0</td>\n",
       "      <td>0.0</td>\n",
       "      <td>0.0</td>\n",
       "      <td>1.0</td>\n",
       "      <td>0.0</td>\n",
       "      <td>0.0</td>\n",
       "      <td>0.0</td>\n",
       "      <td>1.0</td>\n",
       "      <td>0.0</td>\n",
       "    </tr>\n",
       "    <tr>\n",
       "      <th>4</th>\n",
       "      <td>10004.0</td>\n",
       "      <td>0.0</td>\n",
       "      <td>0.0</td>\n",
       "      <td>0.0</td>\n",
       "      <td>2725731.0</td>\n",
       "      <td>0.0</td>\n",
       "      <td>NaN</td>\n",
       "      <td>0.0</td>\n",
       "      <td>0.0</td>\n",
       "      <td>0.0</td>\n",
       "      <td>...</td>\n",
       "      <td>0.0</td>\n",
       "      <td>0.0</td>\n",
       "      <td>0.0</td>\n",
       "      <td>0.0</td>\n",
       "      <td>1.0</td>\n",
       "      <td>0.0</td>\n",
       "      <td>0.0</td>\n",
       "      <td>0.0</td>\n",
       "      <td>1.0</td>\n",
       "      <td>0.0</td>\n",
       "    </tr>\n",
       "  </tbody>\n",
       "</table>\n",
       "<p>5 rows × 205 columns</p>\n",
       "</div>"
      ],
      "text/plain": [
       "   zipcode_x  ltdheight  splitzone  easements    comarea  resarea  numbldgs  \\\n",
       "0    10004.0        0.0        0.0        0.0  2725731.0      0.0       NaN   \n",
       "1    10004.0        0.0        0.0        0.0  2725731.0      0.0       NaN   \n",
       "2    10004.0        0.0        0.0        0.0  2725731.0      0.0       NaN   \n",
       "3    10004.0        0.0        0.0        0.0  2725731.0      0.0       NaN   \n",
       "4    10004.0        0.0        0.0        0.0  2725731.0      0.0       NaN   \n",
       "\n",
       "   numfloors  unitsres  unitstotal             ...               lottype_1.0  \\\n",
       "0        0.0       0.0         0.0             ...                       0.0   \n",
       "1        0.0       0.0         0.0             ...                       0.0   \n",
       "2        0.0       0.0         0.0             ...                       0.0   \n",
       "3        0.0       0.0         0.0             ...                       0.0   \n",
       "4        0.0       0.0         0.0             ...                       0.0   \n",
       "\n",
       "   lottype_2.0  lottype_3.0  lottype_4.0  lottype_5.0  lottype_6.0  \\\n",
       "0          0.0          0.0          0.0          1.0          0.0   \n",
       "1          0.0          0.0          0.0          1.0          0.0   \n",
       "2          0.0          0.0          0.0          1.0          0.0   \n",
       "3          0.0          0.0          0.0          1.0          0.0   \n",
       "4          0.0          0.0          0.0          1.0          0.0   \n",
       "\n",
       "   lottype_7.0  tax_class_at_time_of_sale_1  tax_class_at_time_of_sale_2  \\\n",
       "0          0.0                          1.0                          0.0   \n",
       "1          0.0                          1.0                          0.0   \n",
       "2          0.0                          0.0                          1.0   \n",
       "3          0.0                          0.0                          1.0   \n",
       "4          0.0                          0.0                          1.0   \n",
       "\n",
       "   tax_class_at_time_of_sale_3  \n",
       "0                          0.0  \n",
       "1                          0.0  \n",
       "2                          0.0  \n",
       "3                          0.0  \n",
       "4                          0.0  \n",
       "\n",
       "[5 rows x 205 columns]"
      ]
     },
     "execution_count": 43,
     "metadata": {},
     "output_type": "execute_result"
    }
   ],
   "source": [
    "data_path = \"data/merged/bronx_brooklyn_manhattan_queens_statenisland_2003_2016.csv\"\n",
    "df = pd.DataFrame.from_csv(data_path, index_col = False)\n",
    "df.head()"
   ]
  },
  {
   "cell_type": "code",
   "execution_count": 44,
   "metadata": {
    "collapsed": false
   },
   "outputs": [
    {
     "data": {
      "text/plain": [
       "(187896, 205)"
      ]
     },
     "execution_count": 44,
     "metadata": {},
     "output_type": "execute_result"
    }
   ],
   "source": [
    "df.shape"
   ]
  },
  {
   "cell_type": "code",
   "execution_count": 49,
   "metadata": {
    "collapsed": false
   },
   "outputs": [
    {
     "data": {
      "text/plain": [
       "sidewalk_cafes_dist    4105\n",
       "subwaydist             4105\n",
       "dtype: int64"
      ]
     },
     "execution_count": 49,
     "metadata": {},
     "output_type": "execute_result"
    }
   ],
   "source": [
    "df[['sidewalk_cafes_dist','subwaydist']].isnull().sum()"
   ]
  },
  {
   "cell_type": "code",
   "execution_count": 50,
   "metadata": {
    "collapsed": true
   },
   "outputs": [],
   "source": [
    "def fill_na(data_train, data_test):\n",
    "    '''\n",
    "    Fills NaN values with the mean of the column. Note we have already created dummy variables\n",
    "    for columns with missing values.\n",
    "    \n",
    "    Args:\n",
    "        data_train: Pandas dataframe used for training.\n",
    "        data_test: Pandas dataframe used for testing.\n",
    "    Returns:\n",
    "        data_train: Pandas dataframe with no NaN values, ready for modeling.\n",
    "        data_test: Pandas dataframe with no NaN values, ready for testing.\n",
    "    \n",
    "    '''\n",
    "    data_train = data_train.apply(lambda x: x.fillna(x.mean()),axis=0)\n",
    "    data_test = data_test.apply(lambda x: x.fillna(x.mean()),axis=0)\n",
    "    return data_train, data_test"
   ]
  },
  {
   "cell_type": "code",
   "execution_count": 51,
   "metadata": {
    "collapsed": true
   },
   "outputs": [],
   "source": [
    "def split_data(data):\n",
    "    '''\n",
    "    Splits data into training and test sets (0.8/0.2)\n",
    "        Args: \n",
    "            data: Pandas dataframe\n",
    "        Returns:\n",
    "            data_train: Pandas dataframe used for training\n",
    "            data_test: Pandas dataframe used for testing\n",
    "    \n",
    "    '''\n",
    "    #Convert 'int64' into float; otherwise, sklearn throws a warning message\n",
    "    columns = data.columns.values\n",
    "    non_float = []\n",
    "    for col in columns:\n",
    "        if data[col].dtype != np.float64:\n",
    "            non_float.append(col)\n",
    "    for col in non_float:\n",
    "        data[col] = data[col].astype(float)\n",
    "    #drop NaN for crucial columns\n",
    "    data= data.dropna(how = 'any', subset = ['price_per_sqft'])   \n",
    "    #Split the data\n",
    "    split = cross_validation.ShuffleSplit(data.shape[0], n_iter=1, train_size = 0.8, test_size=.2, random_state = 1)\n",
    "\n",
    "    for train, test in split:\n",
    "        train_index = train\n",
    "        test_index = test\n",
    "    data_train = data.ix[train_index,:]\n",
    "    data_test = data.ix[test_index,:]\n",
    "    data_train.reset_index(drop=True, inplace=True)\n",
    "    data_test.reset_index(drop=True, inplace=True)\n",
    "    return data_train, data_test"
   ]
  },
  {
   "cell_type": "code",
   "execution_count": 55,
   "metadata": {
    "collapsed": false
   },
   "outputs": [],
   "source": [
    "df = df.drop(['zonemap','sale_date','sale_price','year_built','latitude','longitude','bbl','bbl_x','bbl_y'], axis=1)\n",
    "data_train, data_test = split_data(df)"
   ]
  },
  {
   "cell_type": "code",
   "execution_count": 59,
   "metadata": {
    "collapsed": false
   },
   "outputs": [],
   "source": [
    "data_train, data_test = fill_na(data_train, data_test)\n",
    "for col in data_train.columns.values:\n",
    "    try:\n",
    "        df[col] = df[col].astype('float32')\n",
    "    except:\n",
    "        print(col)"
   ]
  },
  {
   "cell_type": "code",
   "execution_count": 62,
   "metadata": {
    "collapsed": false
   },
   "outputs": [
    {
     "name": "stdout",
     "output_type": "stream",
     "text": [
      "public_recycling_bins_dist\n"
     ]
    }
   ],
   "source": [
    "for col in data_train.columns.values:\n",
    "    if np.any(np.isnan(data_train[col])):\n",
    "        print(col)"
   ]
  },
  {
   "cell_type": "code",
   "execution_count": 65,
   "metadata": {
    "collapsed": false
   },
   "outputs": [
    {
     "data": {
      "text/plain": [
       "array([ nan])"
      ]
     },
     "execution_count": 65,
     "metadata": {},
     "output_type": "execute_result"
    }
   ],
   "source": [
    "df['public_recycling_bins_dist'].unique()"
   ]
  },
  {
   "cell_type": "code",
   "execution_count": 19,
   "metadata": {
    "collapsed": false
   },
   "outputs": [
    {
     "data": {
      "text/html": [
       "<div>\n",
       "<table border=\"1\" class=\"dataframe\">\n",
       "  <thead>\n",
       "    <tr style=\"text-align: right;\">\n",
       "      <th></th>\n",
       "      <th>zipcode</th>\n",
       "      <th>ltdheight</th>\n",
       "      <th>splitzone</th>\n",
       "      <th>easements</th>\n",
       "      <th>comarea</th>\n",
       "      <th>resarea</th>\n",
       "      <th>numbldgs</th>\n",
       "      <th>numfloors</th>\n",
       "      <th>unitsres</th>\n",
       "      <th>unitstotal</th>\n",
       "      <th>...</th>\n",
       "      <th>lottype_1.0</th>\n",
       "      <th>lottype_2.0</th>\n",
       "      <th>lottype_3.0</th>\n",
       "      <th>lottype_4.0</th>\n",
       "      <th>lottype_5.0</th>\n",
       "      <th>lottype_6.0</th>\n",
       "      <th>lottype_7.0</th>\n",
       "      <th>tax_class_at_time_of_sale_1</th>\n",
       "      <th>tax_class_at_time_of_sale_2</th>\n",
       "      <th>tax_class_at_time_of_sale_3</th>\n",
       "    </tr>\n",
       "  </thead>\n",
       "  <tbody>\n",
       "    <tr>\n",
       "      <th>0</th>\n",
       "      <td>10004.0</td>\n",
       "      <td>0.0</td>\n",
       "      <td>0.0</td>\n",
       "      <td>0.0</td>\n",
       "      <td>2725731.0</td>\n",
       "      <td>0.0</td>\n",
       "      <td>NaN</td>\n",
       "      <td>0.0</td>\n",
       "      <td>0.0</td>\n",
       "      <td>0.0</td>\n",
       "      <td>...</td>\n",
       "      <td>0.0</td>\n",
       "      <td>0.0</td>\n",
       "      <td>0.0</td>\n",
       "      <td>0.0</td>\n",
       "      <td>1.0</td>\n",
       "      <td>0.0</td>\n",
       "      <td>0.0</td>\n",
       "      <td>1.0</td>\n",
       "      <td>0.0</td>\n",
       "      <td>0.0</td>\n",
       "    </tr>\n",
       "    <tr>\n",
       "      <th>1</th>\n",
       "      <td>10004.0</td>\n",
       "      <td>0.0</td>\n",
       "      <td>0.0</td>\n",
       "      <td>0.0</td>\n",
       "      <td>2725731.0</td>\n",
       "      <td>0.0</td>\n",
       "      <td>NaN</td>\n",
       "      <td>0.0</td>\n",
       "      <td>0.0</td>\n",
       "      <td>0.0</td>\n",
       "      <td>...</td>\n",
       "      <td>0.0</td>\n",
       "      <td>0.0</td>\n",
       "      <td>0.0</td>\n",
       "      <td>0.0</td>\n",
       "      <td>1.0</td>\n",
       "      <td>0.0</td>\n",
       "      <td>0.0</td>\n",
       "      <td>1.0</td>\n",
       "      <td>0.0</td>\n",
       "      <td>0.0</td>\n",
       "    </tr>\n",
       "    <tr>\n",
       "      <th>2</th>\n",
       "      <td>10004.0</td>\n",
       "      <td>0.0</td>\n",
       "      <td>0.0</td>\n",
       "      <td>0.0</td>\n",
       "      <td>2725731.0</td>\n",
       "      <td>0.0</td>\n",
       "      <td>NaN</td>\n",
       "      <td>0.0</td>\n",
       "      <td>0.0</td>\n",
       "      <td>0.0</td>\n",
       "      <td>...</td>\n",
       "      <td>0.0</td>\n",
       "      <td>0.0</td>\n",
       "      <td>0.0</td>\n",
       "      <td>0.0</td>\n",
       "      <td>1.0</td>\n",
       "      <td>0.0</td>\n",
       "      <td>0.0</td>\n",
       "      <td>0.0</td>\n",
       "      <td>1.0</td>\n",
       "      <td>0.0</td>\n",
       "    </tr>\n",
       "    <tr>\n",
       "      <th>3</th>\n",
       "      <td>10004.0</td>\n",
       "      <td>0.0</td>\n",
       "      <td>0.0</td>\n",
       "      <td>0.0</td>\n",
       "      <td>2725731.0</td>\n",
       "      <td>0.0</td>\n",
       "      <td>NaN</td>\n",
       "      <td>0.0</td>\n",
       "      <td>0.0</td>\n",
       "      <td>0.0</td>\n",
       "      <td>...</td>\n",
       "      <td>0.0</td>\n",
       "      <td>0.0</td>\n",
       "      <td>0.0</td>\n",
       "      <td>0.0</td>\n",
       "      <td>1.0</td>\n",
       "      <td>0.0</td>\n",
       "      <td>0.0</td>\n",
       "      <td>0.0</td>\n",
       "      <td>1.0</td>\n",
       "      <td>0.0</td>\n",
       "    </tr>\n",
       "    <tr>\n",
       "      <th>4</th>\n",
       "      <td>10004.0</td>\n",
       "      <td>0.0</td>\n",
       "      <td>0.0</td>\n",
       "      <td>0.0</td>\n",
       "      <td>2725731.0</td>\n",
       "      <td>0.0</td>\n",
       "      <td>NaN</td>\n",
       "      <td>0.0</td>\n",
       "      <td>0.0</td>\n",
       "      <td>0.0</td>\n",
       "      <td>...</td>\n",
       "      <td>0.0</td>\n",
       "      <td>0.0</td>\n",
       "      <td>0.0</td>\n",
       "      <td>0.0</td>\n",
       "      <td>1.0</td>\n",
       "      <td>0.0</td>\n",
       "      <td>0.0</td>\n",
       "      <td>0.0</td>\n",
       "      <td>1.0</td>\n",
       "      <td>0.0</td>\n",
       "    </tr>\n",
       "  </tbody>\n",
       "</table>\n",
       "<p>5 rows × 195 columns</p>\n",
       "</div>"
      ],
      "text/plain": [
       "   zipcode  ltdheight  splitzone  easements    comarea  resarea  numbldgs  \\\n",
       "0  10004.0        0.0        0.0        0.0  2725731.0      0.0       NaN   \n",
       "1  10004.0        0.0        0.0        0.0  2725731.0      0.0       NaN   \n",
       "2  10004.0        0.0        0.0        0.0  2725731.0      0.0       NaN   \n",
       "3  10004.0        0.0        0.0        0.0  2725731.0      0.0       NaN   \n",
       "4  10004.0        0.0        0.0        0.0  2725731.0      0.0       NaN   \n",
       "\n",
       "   numfloors  unitsres  unitstotal             ...               lottype_1.0  \\\n",
       "0        0.0       0.0         0.0             ...                       0.0   \n",
       "1        0.0       0.0         0.0             ...                       0.0   \n",
       "2        0.0       0.0         0.0             ...                       0.0   \n",
       "3        0.0       0.0         0.0             ...                       0.0   \n",
       "4        0.0       0.0         0.0             ...                       0.0   \n",
       "\n",
       "   lottype_2.0  lottype_3.0  lottype_4.0  lottype_5.0  lottype_6.0  \\\n",
       "0          0.0          0.0          0.0          1.0          0.0   \n",
       "1          0.0          0.0          0.0          1.0          0.0   \n",
       "2          0.0          0.0          0.0          1.0          0.0   \n",
       "3          0.0          0.0          0.0          1.0          0.0   \n",
       "4          0.0          0.0          0.0          1.0          0.0   \n",
       "\n",
       "   lottype_7.0  tax_class_at_time_of_sale_1  tax_class_at_time_of_sale_2  \\\n",
       "0          0.0                          1.0                          0.0   \n",
       "1          0.0                          1.0                          0.0   \n",
       "2          0.0                          0.0                          1.0   \n",
       "3          0.0                          0.0                          1.0   \n",
       "4          0.0                          0.0                          1.0   \n",
       "\n",
       "   tax_class_at_time_of_sale_3  \n",
       "0                          0.0  \n",
       "1                          0.0  \n",
       "2                          0.0  \n",
       "3                          0.0  \n",
       "4                          0.0  \n",
       "\n",
       "[5 rows x 195 columns]"
      ]
     },
     "execution_count": 19,
     "metadata": {},
     "output_type": "execute_result"
    }
   ],
   "source": [
    "data_path = \"data/merged/bronx_brooklyn_manhattan_queens_statenisland_2003_2016.csv\"\n",
    "new_df = pd.DataFrame.from_csv(data_path, index_col = False)\n",
    "new_df.head()"
   ]
  },
  {
   "cell_type": "code",
   "execution_count": 30,
   "metadata": {
    "collapsed": false
   },
   "outputs": [
    {
     "data": {
      "text/plain": [
       "array(['zipcode', 'ltdheight', 'splitzone', 'easements', 'comarea',\n",
       "       'resarea', 'numbldgs', 'numfloors', 'unitsres', 'unitstotal',\n",
       "       'lotfront', 'lotdepth', 'bldgfront', 'bldgdepth', 'irrlotcode',\n",
       "       'bsmtcode', 'yearbuilt', 'builtcode', 'histdist', 'landmark', 'bbl',\n",
       "       'xcoord', 'ycoord', 'zonemap', 'latitude', 'longitude',\n",
       "       'gross_sqft_pluto', 'garage', 'extension', 'countalter',\n",
       "       'sale_price', 'sale_date', 'year_built', 'residential_units',\n",
       "       'commercial_units', 'total_units', 'price_per_sqft', 'subwaydist',\n",
       "       'botanical_gardens_dist', 'path_stations_dist', 'libraries_dist',\n",
       "       'colleges_dist', 'sidewalk_cafes_dist', 'day_care_centers_dist',\n",
       "       'dsny_special_waste_dist', 'link_nyc_centers_dist',\n",
       "       'beacon_centers_dist', 'out_of_school_youth_centers_dist',\n",
       "       'runaway_homeless_youth_centers_dist',\n",
       "       'agency_service_centers_dist',\n",
       "       'summer_youth_employment_centers_dist',\n",
       "       'adult_continuing_ed_centers_dist',\n",
       "       'young_adult_internship_centers_dist', 'after_school_programs_dist',\n",
       "       'wifi_hotpots_dist', 'public_pay_phone_dist', 'museums_dist',\n",
       "       'theaters_dist', 'art_galleries_dist',\n",
       "       'hurricane_evacuation_centers_dist', 'airports_dist',\n",
       "       'spray_showers_dist', 'post_offices_dist', 'landuse_mv',\n",
       "       'ownertype_mv', 'numbldgs_mv', 'unitsres_mv', 'unitstotal_mv',\n",
       "       'lotfront_mv', 'lotdepth_mv', 'bldgfront_mv', 'bldgdepth_mv',\n",
       "       'proxcode_mv', 'xcoord_mv', 'ycoord_mv', 'zonemap_mv',\n",
       "       'latitude_mv', 'longitude_mv', 'subwaydist_mv',\n",
       "       'botanical_gardens_dist_mv', 'path_stations_dist_mv',\n",
       "       'libraries_dist_mv', 'colleges_dist_mv', 'sidewalk_cafes_dist_mv',\n",
       "       'day_care_centers_dist_mv', 'dsny_special_waste_dist_mv',\n",
       "       'link_nyc_centers_dist_mv', 'beacon_centers_dist_mv',\n",
       "       'out_of_school_youth_centers_dist_mv',\n",
       "       'runaway_homeless_youth_centers_dist_mv',\n",
       "       'agency_service_centers_dist_mv',\n",
       "       'summer_youth_employment_centers_dist_mv',\n",
       "       'adult_continuing_ed_centers_dist_mv',\n",
       "       'young_adult_internship_centers_dist_mv',\n",
       "       'after_school_programs_dist_mv', 'wifi_hotpots_dist_mv',\n",
       "       'public_pay_phone_dist_mv', 'museums_dist_mv', 'theaters_dist_mv',\n",
       "       'art_galleries_dist_mv', 'hurricane_evacuation_centers_dist_mv',\n",
       "       'airports_dist_mv', 'spray_showers_dist_mv', 'post_offices_dist_mv',\n",
       "       'borough_BK', 'schooldist_1.0', 'schooldist_2.0', 'schooldist_3.0',\n",
       "       'schooldist_4.0', 'schooldist_5.0', 'schooldist_6.0',\n",
       "       'schooldist_10.0', 'schooldist_13.0', 'schooldist_14.0',\n",
       "       'schooldist_15.0', 'schooldist_16.0', 'schooldist_17.0',\n",
       "       'schooldist_18.0', 'schooldist_19.0', 'schooldist_20.0',\n",
       "       'schooldist_21.0', 'schooldist_22.0', 'schooldist_23.0',\n",
       "       'council_1.0', 'council_2.0', 'council_3.0', 'council_4.0',\n",
       "       'council_5.0', 'council_6.0', 'council_7.0', 'council_8.0',\n",
       "       'council_9.0', 'council_10.0', 'council_33.0', 'council_34.0',\n",
       "       'council_35.0', 'council_36.0', 'council_37.0', 'council_38.0',\n",
       "       'council_39.0', 'council_40.0', 'council_41.0', 'council_42.0',\n",
       "       'council_43.0', 'council_44.0', 'council_45.0', 'council_46.0',\n",
       "       'council_47.0', 'bldgclass_A', 'bldgclass_B', 'bldgclass_C',\n",
       "       'bldgclass_D', 'bldgclass_E', 'bldgclass_F', 'bldgclass_G',\n",
       "       'bldgclass_H', 'bldgclass_I', 'bldgclass_J', 'bldgclass_K',\n",
       "       'bldgclass_L', 'bldgclass_M', 'bldgclass_N', 'bldgclass_O',\n",
       "       'bldgclass_P', 'bldgclass_R', 'bldgclass_S', 'bldgclass_V',\n",
       "       'bldgclass_W', 'bldgclass_Y', 'landuse_1.0', 'landuse_2.0',\n",
       "       'landuse_3.0', 'landuse_4.0', 'landuse_5.0', 'landuse_6.0',\n",
       "       'landuse_7.0', 'landuse_8.0', 'landuse_10.0', 'ownertype_C',\n",
       "       'ownertype_M', 'ownertype_O', 'ownertype_P', 'proxcode_1.0',\n",
       "       'proxcode_2.0', 'lottype_0.0', 'lottype_1.0', 'lottype_2.0',\n",
       "       'lottype_3.0', 'lottype_4.0', 'lottype_5.0', 'lottype_6.0',\n",
       "       'lottype_7.0', 'tax_class_at_time_of_sale_1',\n",
       "       'tax_class_at_time_of_sale_2', 'tax_class_at_time_of_sale_3'], dtype=object)"
      ]
     },
     "execution_count": 30,
     "metadata": {},
     "output_type": "execute_result"
    }
   ],
   "source": [
    "new_df.columns.values"
   ]
  },
  {
   "cell_type": "code",
   "execution_count": 38,
   "metadata": {
    "collapsed": false
   },
   "outputs": [
    {
     "data": {
      "text/plain": [
       "(187896, 195)"
      ]
     },
     "execution_count": 38,
     "metadata": {},
     "output_type": "execute_result"
    }
   ],
   "source": [
    "new_df.shape"
   ]
  },
  {
   "cell_type": "code",
   "execution_count": null,
   "metadata": {
    "collapsed": true
   },
   "outputs": [],
   "source": [
    "new_df.i"
   ]
  },
  {
   "cell_type": "code",
   "execution_count": 39,
   "metadata": {
    "collapsed": false
   },
   "outputs": [
    {
     "data": {
      "text/plain": [
       "(17648, 195)"
      ]
     },
     "execution_count": 39,
     "metadata": {},
     "output_type": "execute_result"
    }
   ],
   "source": [
    "df_no_dups = new_df.drop_duplicates(subset = ['bbl','latitude','longitude'])\n",
    "df_no_dups.shape"
   ]
  },
  {
   "cell_type": "code",
   "execution_count": 40,
   "metadata": {
    "collapsed": true
   },
   "outputs": [],
   "source": [
    "df_no_dups[['bbl','latitude','longitude','zipcode']].to_csv(\"bbl_lat_long_zip.csv\", index = False)"
   ]
  },
  {
   "cell_type": "code",
   "execution_count": 14,
   "metadata": {
    "collapsed": false,
    "scrolled": true
   },
   "outputs": [
    {
     "data": {
      "text/plain": [
       "array(['Y', 'R', 'S', 'K', 'D', 'O', 'C', 'H', 'B', 'A', 'G', 'L', 'I',\n",
       "       'E', 'W', 'J', 'P', 'Z', 'M', 'N', 'Z9', 'V', 'F', 'Q'], dtype=object)"
      ]
     },
     "execution_count": 14,
     "metadata": {},
     "output_type": "execute_result"
    }
   ],
   "source": [
    "new_df['bldgclass'].unique()"
   ]
  },
  {
   "cell_type": "code",
   "execution_count": 49,
   "metadata": {
    "collapsed": false
   },
   "outputs": [
    {
     "data": {
      "text/html": [
       "<div>\n",
       "<table border=\"1\" class=\"dataframe\">\n",
       "  <thead>\n",
       "    <tr style=\"text-align: right;\">\n",
       "      <th></th>\n",
       "      <th>zipcode</th>\n",
       "      <th>ltdheight</th>\n",
       "      <th>splitzone</th>\n",
       "      <th>easements</th>\n",
       "      <th>comarea</th>\n",
       "      <th>resarea</th>\n",
       "      <th>numbldgs</th>\n",
       "      <th>numfloors</th>\n",
       "      <th>unitsres</th>\n",
       "      <th>unitstotal</th>\n",
       "      <th>...</th>\n",
       "      <th>proxcode_2.0</th>\n",
       "      <th>lottype_0.0</th>\n",
       "      <th>lottype_1.0</th>\n",
       "      <th>lottype_2.0</th>\n",
       "      <th>lottype_3.0</th>\n",
       "      <th>lottype_4.0</th>\n",
       "      <th>lottype_5.0</th>\n",
       "      <th>lottype_6.0</th>\n",
       "      <th>tax_class_at_time_of_sale_1</th>\n",
       "      <th>tax_class_at_time_of_sale_2</th>\n",
       "    </tr>\n",
       "  </thead>\n",
       "  <tbody>\n",
       "    <tr>\n",
       "      <th>0</th>\n",
       "      <td>10004.0</td>\n",
       "      <td>0.0</td>\n",
       "      <td>0.0</td>\n",
       "      <td>0.0</td>\n",
       "      <td>2725731.0</td>\n",
       "      <td>0.0</td>\n",
       "      <td>NaN</td>\n",
       "      <td>0.0</td>\n",
       "      <td>0.0</td>\n",
       "      <td>0.0</td>\n",
       "      <td>...</td>\n",
       "      <td>0.0</td>\n",
       "      <td>0.0</td>\n",
       "      <td>0.0</td>\n",
       "      <td>0.0</td>\n",
       "      <td>0.0</td>\n",
       "      <td>0.0</td>\n",
       "      <td>1.0</td>\n",
       "      <td>0.0</td>\n",
       "      <td>0.0</td>\n",
       "      <td>0.0</td>\n",
       "    </tr>\n",
       "    <tr>\n",
       "      <th>1</th>\n",
       "      <td>10004.0</td>\n",
       "      <td>0.0</td>\n",
       "      <td>0.0</td>\n",
       "      <td>0.0</td>\n",
       "      <td>1016406.0</td>\n",
       "      <td>0.0</td>\n",
       "      <td>1.0</td>\n",
       "      <td>22.0</td>\n",
       "      <td>0.0</td>\n",
       "      <td>1.0</td>\n",
       "      <td>...</td>\n",
       "      <td>0.0</td>\n",
       "      <td>0.0</td>\n",
       "      <td>0.0</td>\n",
       "      <td>0.0</td>\n",
       "      <td>0.0</td>\n",
       "      <td>0.0</td>\n",
       "      <td>1.0</td>\n",
       "      <td>0.0</td>\n",
       "      <td>0.0</td>\n",
       "      <td>0.0</td>\n",
       "    </tr>\n",
       "    <tr>\n",
       "      <th>2</th>\n",
       "      <td>10004.0</td>\n",
       "      <td>0.0</td>\n",
       "      <td>0.0</td>\n",
       "      <td>0.0</td>\n",
       "      <td>15218.0</td>\n",
       "      <td>4260.0</td>\n",
       "      <td>1.0</td>\n",
       "      <td>6.0</td>\n",
       "      <td>3.0</td>\n",
       "      <td>4.0</td>\n",
       "      <td>...</td>\n",
       "      <td>1.0</td>\n",
       "      <td>0.0</td>\n",
       "      <td>0.0</td>\n",
       "      <td>0.0</td>\n",
       "      <td>1.0</td>\n",
       "      <td>0.0</td>\n",
       "      <td>0.0</td>\n",
       "      <td>0.0</td>\n",
       "      <td>0.0</td>\n",
       "      <td>0.0</td>\n",
       "    </tr>\n",
       "    <tr>\n",
       "      <th>3</th>\n",
       "      <td>10004.0</td>\n",
       "      <td>0.0</td>\n",
       "      <td>0.0</td>\n",
       "      <td>0.0</td>\n",
       "      <td>10000.0</td>\n",
       "      <td>168748.0</td>\n",
       "      <td>1.0</td>\n",
       "      <td>45.0</td>\n",
       "      <td>NaN</td>\n",
       "      <td>NaN</td>\n",
       "      <td>...</td>\n",
       "      <td>0.0</td>\n",
       "      <td>1.0</td>\n",
       "      <td>0.0</td>\n",
       "      <td>0.0</td>\n",
       "      <td>0.0</td>\n",
       "      <td>0.0</td>\n",
       "      <td>0.0</td>\n",
       "      <td>0.0</td>\n",
       "      <td>0.0</td>\n",
       "      <td>1.0</td>\n",
       "    </tr>\n",
       "    <tr>\n",
       "      <th>4</th>\n",
       "      <td>10004.0</td>\n",
       "      <td>0.0</td>\n",
       "      <td>0.0</td>\n",
       "      <td>0.0</td>\n",
       "      <td>10000.0</td>\n",
       "      <td>168748.0</td>\n",
       "      <td>1.0</td>\n",
       "      <td>45.0</td>\n",
       "      <td>NaN</td>\n",
       "      <td>NaN</td>\n",
       "      <td>...</td>\n",
       "      <td>0.0</td>\n",
       "      <td>1.0</td>\n",
       "      <td>0.0</td>\n",
       "      <td>0.0</td>\n",
       "      <td>0.0</td>\n",
       "      <td>0.0</td>\n",
       "      <td>0.0</td>\n",
       "      <td>0.0</td>\n",
       "      <td>0.0</td>\n",
       "      <td>1.0</td>\n",
       "    </tr>\n",
       "  </tbody>\n",
       "</table>\n",
       "<p>5 rows × 161 columns</p>\n",
       "</div>"
      ],
      "text/plain": [
       "   zipcode  ltdheight  splitzone  easements    comarea   resarea  numbldgs  \\\n",
       "0  10004.0        0.0        0.0        0.0  2725731.0       0.0       NaN   \n",
       "1  10004.0        0.0        0.0        0.0  1016406.0       0.0       1.0   \n",
       "2  10004.0        0.0        0.0        0.0    15218.0    4260.0       1.0   \n",
       "3  10004.0        0.0        0.0        0.0    10000.0  168748.0       1.0   \n",
       "4  10004.0        0.0        0.0        0.0    10000.0  168748.0       1.0   \n",
       "\n",
       "   numfloors  unitsres  unitstotal             ...               proxcode_2.0  \\\n",
       "0        0.0       0.0         0.0             ...                        0.0   \n",
       "1       22.0       0.0         1.0             ...                        0.0   \n",
       "2        6.0       3.0         4.0             ...                        1.0   \n",
       "3       45.0       NaN         NaN             ...                        0.0   \n",
       "4       45.0       NaN         NaN             ...                        0.0   \n",
       "\n",
       "   lottype_0.0  lottype_1.0  lottype_2.0  lottype_3.0  lottype_4.0  \\\n",
       "0          0.0          0.0          0.0          0.0          0.0   \n",
       "1          0.0          0.0          0.0          0.0          0.0   \n",
       "2          0.0          0.0          0.0          1.0          0.0   \n",
       "3          1.0          0.0          0.0          0.0          0.0   \n",
       "4          1.0          0.0          0.0          0.0          0.0   \n",
       "\n",
       "   lottype_5.0  lottype_6.0  tax_class_at_time_of_sale_1  \\\n",
       "0          1.0          0.0                          0.0   \n",
       "1          1.0          0.0                          0.0   \n",
       "2          0.0          0.0                          0.0   \n",
       "3          0.0          0.0                          0.0   \n",
       "4          0.0          0.0                          0.0   \n",
       "\n",
       "   tax_class_at_time_of_sale_2  \n",
       "0                          0.0  \n",
       "1                          0.0  \n",
       "2                          0.0  \n",
       "3                          1.0  \n",
       "4                          1.0  \n",
       "\n",
       "[5 rows x 161 columns]"
      ]
     },
     "execution_count": 49,
     "metadata": {},
     "output_type": "execute_result"
    }
   ],
   "source": [
    "data_path = \"data/merged/manhattan_2010_2010.csv\"\n",
    "pluto = pd.DataFrame.from_csv(data_path, index_col = False)\n",
    "pluto.head()"
   ]
  },
  {
   "cell_type": "code",
   "execution_count": 50,
   "metadata": {
    "collapsed": false
   },
   "outputs": [
    {
     "data": {
      "text/plain": [
       "(8730, 161)"
      ]
     },
     "execution_count": 50,
     "metadata": {},
     "output_type": "execute_result"
    }
   ],
   "source": [
    "pluto.shape"
   ]
  },
  {
   "cell_type": "code",
   "execution_count": 52,
   "metadata": {
    "collapsed": false
   },
   "outputs": [
    {
     "data": {
      "text/plain": [
       "array(['zipcode', 'ltdheight', 'splitzone', 'easements', 'comarea',\n",
       "       'resarea', 'numbldgs', 'numfloors', 'unitsres', 'unitstotal',\n",
       "       'lotfront', 'lotdepth', 'bldgfront', 'bldgdepth', 'irrlotcode',\n",
       "       'bsmtcode', 'yearbuilt', 'builtcode', 'histdist', 'landmark', 'bbl',\n",
       "       'xcoord', 'ycoord', 'zonemap', 'latitude', 'longitude',\n",
       "       'gross_sqft_pluto', 'garage', 'extension', 'countalter',\n",
       "       'sale_price', 'sale_date', 'year_built', 'residential_units',\n",
       "       'commercial_units', 'total_units', 'price_per_sqft', 'subwaydist',\n",
       "       'botanical_gardens_dist', 'path_stations_dist', 'libraries_dist',\n",
       "       'colleges_dist', 'sidewalk_cafes_dist', 'day_care_centers_dist',\n",
       "       'dsny_special_waste_dist', 'link_nyc_centers_dist',\n",
       "       'beacon_centers_dist', 'out_of_school_youth_centers_dist',\n",
       "       'runaway_homeless_youth_centers_dist',\n",
       "       'agency_service_centers_dist',\n",
       "       'summer_youth_employment_centers_dist',\n",
       "       'adult_continuing_ed_centers_dist',\n",
       "       'young_adult_internship_centers_dist', 'after_school_programs_dist',\n",
       "       'wifi_hotpots_dist', 'public_pay_phone_dist', 'museums_dist',\n",
       "       'theaters_dist', 'art_galleries_dist',\n",
       "       'hurricane_evacuation_centers_dist', 'airports_dist',\n",
       "       'spray_showers_dist', 'post_offices_dist', 'ownertype_mv',\n",
       "       'numbldgs_mv', 'unitsres_mv', 'unitstotal_mv', 'lotfront_mv',\n",
       "       'lotdepth_mv', 'bldgfront_mv', 'bldgdepth_mv', 'proxcode_mv',\n",
       "       'xcoord_mv', 'ycoord_mv', 'latitude_mv', 'longitude_mv',\n",
       "       'subwaydist_mv', 'botanical_gardens_dist_mv',\n",
       "       'path_stations_dist_mv', 'libraries_dist_mv', 'colleges_dist_mv',\n",
       "       'sidewalk_cafes_dist_mv', 'day_care_centers_dist_mv',\n",
       "       'dsny_special_waste_dist_mv', 'link_nyc_centers_dist_mv',\n",
       "       'beacon_centers_dist_mv', 'out_of_school_youth_centers_dist_mv',\n",
       "       'runaway_homeless_youth_centers_dist_mv',\n",
       "       'agency_service_centers_dist_mv',\n",
       "       'summer_youth_employment_centers_dist_mv',\n",
       "       'adult_continuing_ed_centers_dist_mv',\n",
       "       'young_adult_internship_centers_dist_mv',\n",
       "       'after_school_programs_dist_mv', 'wifi_hotpots_dist_mv',\n",
       "       'public_pay_phone_dist_mv', 'museums_dist_mv', 'theaters_dist_mv',\n",
       "       'art_galleries_dist_mv', 'hurricane_evacuation_centers_dist_mv',\n",
       "       'airports_dist_mv', 'spray_showers_dist_mv', 'post_offices_dist_mv',\n",
       "       'schooldist_1.0', 'schooldist_2.0', 'schooldist_3.0',\n",
       "       'schooldist_4.0', 'schooldist_5.0', 'schooldist_6.0', 'council_1.0',\n",
       "       'council_2.0', 'council_3.0', 'council_4.0', 'council_5.0',\n",
       "       'council_6.0', 'council_7.0', 'council_8.0', 'council_9.0',\n",
       "       'bldgclass_A', 'bldgclass_B', 'bldgclass_C', 'bldgclass_D',\n",
       "       'bldgclass_G', 'bldgclass_H', 'bldgclass_H8', 'bldgclass_I',\n",
       "       'bldgclass_J', 'bldgclass_K', 'bldgclass_L', 'bldgclass_M',\n",
       "       'bldgclass_M3', 'bldgclass_N', 'bldgclass_O', 'bldgclass_R',\n",
       "       'bldgclass_RA', 'bldgclass_RG', 'bldgclass_S', 'bldgclass_W',\n",
       "       'bldgclass_Y', 'landuse_1.0', 'landuse_2.0', 'landuse_3.0',\n",
       "       'landuse_4.0', 'landuse_5.0', 'landuse_6.0', 'landuse_7.0',\n",
       "       'landuse_8.0', 'ownertype_C', 'ownertype_M', 'ownertype_O',\n",
       "       'ownertype_P', 'proxcode_1.0', 'proxcode_2.0', 'lottype_0.0',\n",
       "       'lottype_1.0', 'lottype_2.0', 'lottype_3.0', 'lottype_4.0',\n",
       "       'lottype_5.0', 'lottype_6.0', 'tax_class_at_time_of_sale_1',\n",
       "       'tax_class_at_time_of_sale_2'], dtype=object)"
      ]
     },
     "execution_count": 52,
     "metadata": {},
     "output_type": "execute_result"
    }
   ],
   "source": [
    "pluto.columns.values"
   ]
  },
  {
   "cell_type": "code",
   "execution_count": null,
   "metadata": {
    "collapsed": true
   },
   "outputs": [],
   "source": []
  }
 ],
 "metadata": {
  "anaconda-cloud": {},
  "kernelspec": {
   "display_name": "Python [Root]",
   "language": "python",
   "name": "Python [Root]"
  },
  "language_info": {
   "codemirror_mode": {
    "name": "ipython",
    "version": 3
   },
   "file_extension": ".py",
   "mimetype": "text/x-python",
   "name": "python",
   "nbconvert_exporter": "python",
   "pygments_lexer": "ipython3",
   "version": "3.5.2"
  }
 },
 "nbformat": 4,
 "nbformat_minor": 0
}
