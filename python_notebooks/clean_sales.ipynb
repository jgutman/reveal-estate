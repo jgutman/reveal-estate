{
 "cells": [
  {
   "cell_type": "code",
   "execution_count": 1,
   "metadata": {
    "collapsed": false
   },
   "outputs": [
    {
     "name": "stdout",
     "output_type": "stream",
     "text": [
      "2003_bronx.xls        2007_statenisland.xls 2012_queens.xls\r\n",
      "2003_brooklyn.xls     2008_bronx.xls        2012_statenisland.xls\r\n",
      "2003_manhattan.xls    2008_brooklyn.xls     2013_bronx.xls\r\n",
      "2003_queens.xls       2008_manhattan.xls    2013_brooklyn.xls\r\n",
      "2003_statenisland.xls 2008_queens.xls       2013_manhattan.xls\r\n",
      "2004_bronx.xls        2008_statenisland.xls 2013_queens.xls\r\n",
      "2004_brooklyn.xls     2009_bronx.xls        2013_statenisland.xls\r\n",
      "2004_manhattan.xls    2009_brooklyn.xls     2014_bronx.xls\r\n",
      "2004_queens.xls       2009_manhattan.xls    2014_brooklyn.xls\r\n",
      "2004_statenisland.xls 2009_queens.xls       2014_manhattan.xls\r\n",
      "2005_bronx.xls        2009_statenisland.xls 2014_queens.xls\r\n",
      "2005_brooklyn.xls     2010_bronx.xls        2014_statenisland.xls\r\n",
      "2005_manhattan.xls    2010_brooklyn.xls     2015_bronx.xls\r\n",
      "2005_queens.xls       2010_manhattan.xls    2015_brooklyn.xls\r\n",
      "2005_statenisland.xls 2010_queens.xls       2015_manhattan.xls\r\n",
      "2006_bronx.xls        2010_statenisland.xls 2015_queens.xls\r\n",
      "2006_brooklyn.xls     2011_bronx.xls        2015_statenisland.xls\r\n",
      "2006_manhattan.xls    2011_brooklyn.xls     2016_bronx.xls\r\n",
      "2006_queens.xls       2011_manhattan.xls    2016_brooklyn.xls\r\n",
      "2006_statenisland.xls 2011_queens.xls       2016_manhattan.xls\r\n",
      "2007_bronx.xls        2011_statenisland.xls 2016_queens.xls\r\n",
      "2007_brooklyn.xls     2012_bronx.xls        2016_statenisland.xls\r\n",
      "2007_manhattan.xls    2012_brooklyn.xls     data_dictionary.pdf\r\n",
      "2007_queens.xls       2012_manhattan.xls\r\n"
     ]
    }
   ],
   "source": [
    "!ls data/finance_sales"
   ]
  },
  {
   "cell_type": "code",
   "execution_count": 2,
   "metadata": {
    "collapsed": true
   },
   "outputs": [],
   "source": [
    "import pandas as pd\n",
    "import numpy as np\n",
    "from merge_pluto_finance import *"
   ]
  },
  {
   "cell_type": "code",
   "execution_count": 3,
   "metadata": {
    "collapsed": false
   },
   "outputs": [],
   "source": [
    "boros = ['brooklyn', 'manhattan']\n",
    "pluto = read_in_pluto(boros)"
   ]
  },
  {
   "cell_type": "code",
   "execution_count": 4,
   "metadata": {
    "collapsed": false
   },
   "outputs": [
    {
     "name": "stdout",
     "output_type": "stream",
     "text": [
      "Pulling Finance data for 2014_brooklyn\n",
      "Pulling Finance data for 2014_manhattan\n",
      "Pulling Finance data for 2015_brooklyn\n",
      "Pulling Finance data for 2015_manhattan\n"
     ]
    }
   ],
   "source": [
    "years = [2014, 2015]\n",
    "finance = read_in_finance(boros, years)"
   ]
  },
  {
   "cell_type": "code",
   "execution_count": 5,
   "metadata": {
    "collapsed": false
   },
   "outputs": [
    {
     "data": {
      "text/plain": [
       "Index(['sale_price', 'sale_date', 'tax_class_at_time_of_sale', 'year_built',\n",
       "       'residential_units', 'commercial_units', 'total_units'],\n",
       "      dtype='object')"
      ]
     },
     "execution_count": 5,
     "metadata": {},
     "output_type": "execute_result"
    }
   ],
   "source": [
    "finance.columns"
   ]
  },
  {
   "cell_type": "code",
   "execution_count": 6,
   "metadata": {
    "collapsed": false
   },
   "outputs": [
    {
     "data": {
      "text/plain": [
       "sale_price                   0\n",
       "sale_date                    0\n",
       "tax_class_at_time_of_sale    0\n",
       "year_built                   0\n",
       "residential_units            0\n",
       "commercial_units             0\n",
       "total_units                  0\n",
       "dtype: int64"
      ]
     },
     "execution_count": 6,
     "metadata": {},
     "output_type": "execute_result"
    }
   ],
   "source": [
    "finance.isnull().sum()"
   ]
  },
  {
   "cell_type": "code",
   "execution_count": 7,
   "metadata": {
    "collapsed": false
   },
   "outputs": [
    {
     "data": {
      "text/html": [
       "<div>\n",
       "<table border=\"1\" class=\"dataframe\">\n",
       "  <thead>\n",
       "    <tr style=\"text-align: right;\">\n",
       "      <th></th>\n",
       "      <th>sale_price</th>\n",
       "      <th>sale_date</th>\n",
       "      <th>tax_class_at_time_of_sale</th>\n",
       "      <th>year_built</th>\n",
       "      <th>residential_units</th>\n",
       "      <th>commercial_units</th>\n",
       "      <th>total_units</th>\n",
       "    </tr>\n",
       "  </thead>\n",
       "  <tbody>\n",
       "    <tr>\n",
       "      <th>10874</th>\n",
       "      <td>0</td>\n",
       "      <td>2014-03-21</td>\n",
       "      <td>4</td>\n",
       "      <td>1920</td>\n",
       "      <td>0</td>\n",
       "      <td>90</td>\n",
       "      <td>90</td>\n",
       "    </tr>\n",
       "    <tr>\n",
       "      <th>10763</th>\n",
       "      <td>1598000</td>\n",
       "      <td>2014-04-30</td>\n",
       "      <td>2</td>\n",
       "      <td>1920</td>\n",
       "      <td>1</td>\n",
       "      <td>0</td>\n",
       "      <td>1</td>\n",
       "    </tr>\n",
       "    <tr>\n",
       "      <th>10764</th>\n",
       "      <td>3309312</td>\n",
       "      <td>2014-05-23</td>\n",
       "      <td>2</td>\n",
       "      <td>1920</td>\n",
       "      <td>1</td>\n",
       "      <td>0</td>\n",
       "      <td>1</td>\n",
       "    </tr>\n",
       "    <tr>\n",
       "      <th>10765</th>\n",
       "      <td>1210000</td>\n",
       "      <td>2014-06-09</td>\n",
       "      <td>2</td>\n",
       "      <td>1920</td>\n",
       "      <td>1</td>\n",
       "      <td>0</td>\n",
       "      <td>1</td>\n",
       "    </tr>\n",
       "    <tr>\n",
       "      <th>10766</th>\n",
       "      <td>1333907</td>\n",
       "      <td>2014-05-21</td>\n",
       "      <td>2</td>\n",
       "      <td>1920</td>\n",
       "      <td>1</td>\n",
       "      <td>0</td>\n",
       "      <td>1</td>\n",
       "    </tr>\n",
       "  </tbody>\n",
       "</table>\n",
       "</div>"
      ],
      "text/plain": [
       "       sale_price  sale_date  tax_class_at_time_of_sale  year_built  \\\n",
       "10874           0 2014-03-21                          4        1920   \n",
       "10763     1598000 2014-04-30                          2        1920   \n",
       "10764     3309312 2014-05-23                          2        1920   \n",
       "10765     1210000 2014-06-09                          2        1920   \n",
       "10766     1333907 2014-05-21                          2        1920   \n",
       "\n",
       "       residential_units  commercial_units  total_units  \n",
       "10874                  0                90           90  \n",
       "10763                  1                 0            1  \n",
       "10764                  1                 0            1  \n",
       "10765                  1                 0            1  \n",
       "10766                  1                 0            1  "
      ]
     },
     "execution_count": 7,
     "metadata": {},
     "output_type": "execute_result"
    }
   ],
   "source": [
    "finance.head()"
   ]
  },
  {
   "cell_type": "code",
   "execution_count": null,
   "metadata": {
    "collapsed": true
   },
   "outputs": [],
   "source": [
    "#Categorical Variables:\n",
    "    #tax_class_at_time_of_sale [1,2,3,4]"
   ]
  },
  {
   "cell_type": "code",
   "execution_count": 19,
   "metadata": {
    "collapsed": false
   },
   "outputs": [
    {
     "data": {
      "text/html": [
       "<div>\n",
       "<table border=\"1\" class=\"dataframe\">\n",
       "  <thead>\n",
       "    <tr style=\"text-align: right;\">\n",
       "      <th></th>\n",
       "      <th>zipcode</th>\n",
       "      <th>ltdheight</th>\n",
       "      <th>splitzone</th>\n",
       "      <th>easements</th>\n",
       "      <th>comarea</th>\n",
       "      <th>resarea</th>\n",
       "      <th>numbldgs</th>\n",
       "      <th>numfloors</th>\n",
       "      <th>unitsres</th>\n",
       "      <th>unitstotal</th>\n",
       "      <th>...</th>\n",
       "      <th>landuse_6.0</th>\n",
       "      <th>proxcode_1.0</th>\n",
       "      <th>proxcode_2.0</th>\n",
       "      <th>lottype_0.0</th>\n",
       "      <th>lottype_1.0</th>\n",
       "      <th>lottype_2.0</th>\n",
       "      <th>lottype_3.0</th>\n",
       "      <th>lottype_4.0</th>\n",
       "      <th>tax_class_at_time_of_sale_1</th>\n",
       "      <th>tax_class_at_time_of_sale_2</th>\n",
       "    </tr>\n",
       "  </thead>\n",
       "  <tbody>\n",
       "    <tr>\n",
       "      <th>0</th>\n",
       "      <td>11201.0</td>\n",
       "      <td>0.0</td>\n",
       "      <td>0.0</td>\n",
       "      <td>1.0</td>\n",
       "      <td>13518.0</td>\n",
       "      <td>227916.0</td>\n",
       "      <td>1.0</td>\n",
       "      <td>15.0</td>\n",
       "      <td>NaN</td>\n",
       "      <td>NaN</td>\n",
       "      <td>...</td>\n",
       "      <td>0.0</td>\n",
       "      <td>0.0</td>\n",
       "      <td>0.0</td>\n",
       "      <td>0.0</td>\n",
       "      <td>0.0</td>\n",
       "      <td>0.0</td>\n",
       "      <td>1.0</td>\n",
       "      <td>0.0</td>\n",
       "      <td>0.0</td>\n",
       "      <td>1.0</td>\n",
       "    </tr>\n",
       "    <tr>\n",
       "      <th>1</th>\n",
       "      <td>11201.0</td>\n",
       "      <td>0.0</td>\n",
       "      <td>0.0</td>\n",
       "      <td>1.0</td>\n",
       "      <td>13518.0</td>\n",
       "      <td>227916.0</td>\n",
       "      <td>1.0</td>\n",
       "      <td>15.0</td>\n",
       "      <td>NaN</td>\n",
       "      <td>NaN</td>\n",
       "      <td>...</td>\n",
       "      <td>0.0</td>\n",
       "      <td>0.0</td>\n",
       "      <td>0.0</td>\n",
       "      <td>0.0</td>\n",
       "      <td>0.0</td>\n",
       "      <td>0.0</td>\n",
       "      <td>1.0</td>\n",
       "      <td>0.0</td>\n",
       "      <td>0.0</td>\n",
       "      <td>1.0</td>\n",
       "    </tr>\n",
       "    <tr>\n",
       "      <th>2</th>\n",
       "      <td>11201.0</td>\n",
       "      <td>0.0</td>\n",
       "      <td>0.0</td>\n",
       "      <td>1.0</td>\n",
       "      <td>13518.0</td>\n",
       "      <td>227916.0</td>\n",
       "      <td>1.0</td>\n",
       "      <td>15.0</td>\n",
       "      <td>NaN</td>\n",
       "      <td>NaN</td>\n",
       "      <td>...</td>\n",
       "      <td>0.0</td>\n",
       "      <td>0.0</td>\n",
       "      <td>0.0</td>\n",
       "      <td>0.0</td>\n",
       "      <td>0.0</td>\n",
       "      <td>0.0</td>\n",
       "      <td>1.0</td>\n",
       "      <td>0.0</td>\n",
       "      <td>0.0</td>\n",
       "      <td>1.0</td>\n",
       "    </tr>\n",
       "    <tr>\n",
       "      <th>3</th>\n",
       "      <td>11201.0</td>\n",
       "      <td>0.0</td>\n",
       "      <td>0.0</td>\n",
       "      <td>1.0</td>\n",
       "      <td>13518.0</td>\n",
       "      <td>227916.0</td>\n",
       "      <td>1.0</td>\n",
       "      <td>15.0</td>\n",
       "      <td>NaN</td>\n",
       "      <td>NaN</td>\n",
       "      <td>...</td>\n",
       "      <td>0.0</td>\n",
       "      <td>0.0</td>\n",
       "      <td>0.0</td>\n",
       "      <td>0.0</td>\n",
       "      <td>0.0</td>\n",
       "      <td>0.0</td>\n",
       "      <td>1.0</td>\n",
       "      <td>0.0</td>\n",
       "      <td>0.0</td>\n",
       "      <td>1.0</td>\n",
       "    </tr>\n",
       "    <tr>\n",
       "      <th>4</th>\n",
       "      <td>11201.0</td>\n",
       "      <td>0.0</td>\n",
       "      <td>0.0</td>\n",
       "      <td>1.0</td>\n",
       "      <td>13518.0</td>\n",
       "      <td>227916.0</td>\n",
       "      <td>1.0</td>\n",
       "      <td>15.0</td>\n",
       "      <td>NaN</td>\n",
       "      <td>NaN</td>\n",
       "      <td>...</td>\n",
       "      <td>0.0</td>\n",
       "      <td>0.0</td>\n",
       "      <td>0.0</td>\n",
       "      <td>0.0</td>\n",
       "      <td>0.0</td>\n",
       "      <td>0.0</td>\n",
       "      <td>1.0</td>\n",
       "      <td>0.0</td>\n",
       "      <td>0.0</td>\n",
       "      <td>1.0</td>\n",
       "    </tr>\n",
       "  </tbody>\n",
       "</table>\n",
       "<p>5 rows × 108 columns</p>\n",
       "</div>"
      ],
      "text/plain": [
       "   zipcode  ltdheight  splitzone  easements  comarea   resarea  numbldgs  \\\n",
       "0  11201.0        0.0        0.0        1.0  13518.0  227916.0       1.0   \n",
       "1  11201.0        0.0        0.0        1.0  13518.0  227916.0       1.0   \n",
       "2  11201.0        0.0        0.0        1.0  13518.0  227916.0       1.0   \n",
       "3  11201.0        0.0        0.0        1.0  13518.0  227916.0       1.0   \n",
       "4  11201.0        0.0        0.0        1.0  13518.0  227916.0       1.0   \n",
       "\n",
       "   numfloors  unitsres  unitstotal             ...               landuse_6.0  \\\n",
       "0       15.0       NaN         NaN             ...                       0.0   \n",
       "1       15.0       NaN         NaN             ...                       0.0   \n",
       "2       15.0       NaN         NaN             ...                       0.0   \n",
       "3       15.0       NaN         NaN             ...                       0.0   \n",
       "4       15.0       NaN         NaN             ...                       0.0   \n",
       "\n",
       "   proxcode_1.0  proxcode_2.0  lottype_0.0  lottype_1.0  lottype_2.0  \\\n",
       "0           0.0           0.0          0.0          0.0          0.0   \n",
       "1           0.0           0.0          0.0          0.0          0.0   \n",
       "2           0.0           0.0          0.0          0.0          0.0   \n",
       "3           0.0           0.0          0.0          0.0          0.0   \n",
       "4           0.0           0.0          0.0          0.0          0.0   \n",
       "\n",
       "   lottype_3.0  lottype_4.0  tax_class_at_time_of_sale_1  \\\n",
       "0          1.0          0.0                          0.0   \n",
       "1          1.0          0.0                          0.0   \n",
       "2          1.0          0.0                          0.0   \n",
       "3          1.0          0.0                          0.0   \n",
       "4          1.0          0.0                          0.0   \n",
       "\n",
       "   tax_class_at_time_of_sale_2  \n",
       "0                          1.0  \n",
       "1                          1.0  \n",
       "2                          1.0  \n",
       "3                          1.0  \n",
       "4                          1.0  \n",
       "\n",
       "[5 rows x 108 columns]"
      ]
     },
     "execution_count": 19,
     "metadata": {},
     "output_type": "execute_result"
    }
   ],
   "source": [
    "df_with_cats = pd.read_csv('data/merged/brooklyn_2010_2010.csv')\n",
    "df_with_cats.head()"
   ]
  },
  {
   "cell_type": "code",
   "execution_count": 20,
   "metadata": {
    "collapsed": false
   },
   "outputs": [
    {
     "data": {
      "text/plain": [
       "['zipcode',\n",
       " 'ltdheight',\n",
       " 'splitzone',\n",
       " 'easements',\n",
       " 'comarea',\n",
       " 'resarea',\n",
       " 'numbldgs',\n",
       " 'numfloors',\n",
       " 'unitsres',\n",
       " 'unitstotal',\n",
       " 'lotfront',\n",
       " 'lotdepth',\n",
       " 'bldgfront',\n",
       " 'bldgdepth',\n",
       " 'irrlotcode',\n",
       " 'bsmtcode',\n",
       " 'yearbuilt',\n",
       " 'builtcode',\n",
       " 'histdist',\n",
       " 'landmark',\n",
       " 'condono',\n",
       " 'xcoord',\n",
       " 'ycoord',\n",
       " 'zonemap',\n",
       " 'latitude',\n",
       " 'longitude',\n",
       " 'gross_sqft_pluto',\n",
       " 'garage',\n",
       " 'extension',\n",
       " 'countalter',\n",
       " 'sale_price',\n",
       " 'sale_date',\n",
       " 'year_built',\n",
       " 'residential_units',\n",
       " 'commercial_units',\n",
       " 'total_units',\n",
       " 'price_per_sqft',\n",
       " 'schooldist_mv',\n",
       " 'council_mv',\n",
       " 'zipcode_mv',\n",
       " 'ownertype_mv',\n",
       " 'numbldgs_mv',\n",
       " 'unitsres_mv',\n",
       " 'unitstotal_mv',\n",
       " 'lotfront_mv',\n",
       " 'lotdepth_mv',\n",
       " 'bldgfront_mv',\n",
       " 'bldgdepth_mv',\n",
       " 'proxcode_mv',\n",
       " 'xcoord_mv',\n",
       " 'ycoord_mv',\n",
       " 'zonemap_mv',\n",
       " 'latitude_mv',\n",
       " 'longitude_mv',\n",
       " 'schooldist_13.0',\n",
       " 'schooldist_14.0',\n",
       " 'schooldist_15.0',\n",
       " 'schooldist_16.0',\n",
       " 'schooldist_17.0',\n",
       " 'schooldist_18.0',\n",
       " 'schooldist_19.0',\n",
       " 'schooldist_20.0',\n",
       " 'schooldist_21.0',\n",
       " 'schooldist_22.0',\n",
       " 'schooldist_23.0',\n",
       " 'council_33.0',\n",
       " 'council_34.0',\n",
       " 'council_35.0',\n",
       " 'council_36.0',\n",
       " 'council_37.0',\n",
       " 'council_38.0',\n",
       " 'council_39.0',\n",
       " 'council_40.0',\n",
       " 'council_41.0',\n",
       " 'council_42.0',\n",
       " 'council_43.0',\n",
       " 'council_44.0',\n",
       " 'council_45.0',\n",
       " 'council_46.0',\n",
       " 'council_47.0',\n",
       " 'bldgclass_R1',\n",
       " 'bldgclass_R2',\n",
       " 'bldgclass_R3',\n",
       " 'bldgclass_R4',\n",
       " 'bldgclass_R6',\n",
       " 'bldgclass_R9',\n",
       " 'bldgclass_RB',\n",
       " 'bldgclass_RC',\n",
       " 'bldgclass_RG',\n",
       " 'bldgclass_RK',\n",
       " 'bldgclass_RM',\n",
       " 'bldgclass_RR',\n",
       " 'bldgclass_RW',\n",
       " 'bldgclass_RX',\n",
       " 'landuse_2.0',\n",
       " 'landuse_3.0',\n",
       " 'landuse_4.0',\n",
       " 'landuse_5.0',\n",
       " 'landuse_6.0',\n",
       " 'proxcode_1.0',\n",
       " 'proxcode_2.0',\n",
       " 'lottype_0.0',\n",
       " 'lottype_1.0',\n",
       " 'lottype_2.0',\n",
       " 'lottype_3.0',\n",
       " 'lottype_4.0',\n",
       " 'tax_class_at_time_of_sale_1',\n",
       " 'tax_class_at_time_of_sale_2']"
      ]
     },
     "execution_count": 20,
     "metadata": {},
     "output_type": "execute_result"
    }
   ],
   "source": [
    "list(df_with_cats.columns)"
   ]
  },
  {
   "cell_type": "code",
   "execution_count": null,
   "metadata": {
    "collapsed": true
   },
   "outputs": [],
   "source": []
  }
 ],
 "metadata": {
  "anaconda-cloud": {},
  "kernelspec": {
   "display_name": "Python [Root]",
   "language": "python",
   "name": "Python [Root]"
  },
  "language_info": {
   "codemirror_mode": {
    "name": "ipython",
    "version": 3
   },
   "file_extension": ".py",
   "mimetype": "text/x-python",
   "name": "python",
   "nbconvert_exporter": "python",
   "pygments_lexer": "ipython3",
   "version": "3.5.2"
  }
 },
 "nbformat": 4,
 "nbformat_minor": 0
}
