{
 "cells": [
  {
   "cell_type": "code",
   "execution_count": 51,
   "metadata": {
    "collapsed": true
   },
   "outputs": [],
   "source": [
    "import pandas as pd\n",
    "from pyproj import Proj\n",
    "import numpy as np\n",
    "import math\n",
    "import matplotlib.pyplot as plt\n",
    "from sklearn import datasets, linear_model\n",
    "from sklearn import cross_validation\n",
    "from sklearn.metrics import mean_squared_error\n",
    "import seaborn as sns\n",
    "sns.set(color_codes=True)\n",
    "import collections\n",
    "\n",
    "%matplotlib inline"
   ]
  },
  {
   "cell_type": "code",
   "execution_count": 66,
   "metadata": {
    "collapsed": false
   },
   "outputs": [
    {
     "data": {
      "text/html": [
       "<div>\n",
       "<table border=\"1\" class=\"dataframe\">\n",
       "  <thead>\n",
       "    <tr style=\"text-align: right;\">\n",
       "      <th></th>\n",
       "      <th>zipcode</th>\n",
       "      <th>ltdheight</th>\n",
       "      <th>splitzone</th>\n",
       "      <th>easements</th>\n",
       "      <th>comarea</th>\n",
       "      <th>resarea</th>\n",
       "      <th>numbldgs</th>\n",
       "      <th>numfloors</th>\n",
       "      <th>unitsres</th>\n",
       "      <th>unitstotal</th>\n",
       "      <th>...</th>\n",
       "      <th>proxcode_1.0</th>\n",
       "      <th>proxcode_2.0</th>\n",
       "      <th>lottype_0.0</th>\n",
       "      <th>lottype_1.0</th>\n",
       "      <th>lottype_2.0</th>\n",
       "      <th>lottype_3.0</th>\n",
       "      <th>lottype_4.0</th>\n",
       "      <th>lottype_5.0</th>\n",
       "      <th>tax_class_at_time_of_sale_1</th>\n",
       "      <th>tax_class_at_time_of_sale_2</th>\n",
       "    </tr>\n",
       "  </thead>\n",
       "  <tbody>\n",
       "    <tr>\n",
       "      <th>0</th>\n",
       "      <td>10004.0</td>\n",
       "      <td>0.0</td>\n",
       "      <td>0.0</td>\n",
       "      <td>0.0</td>\n",
       "      <td>1888126.0</td>\n",
       "      <td>0.0</td>\n",
       "      <td>1.0</td>\n",
       "      <td>50.0</td>\n",
       "      <td>0.0</td>\n",
       "      <td>52.0</td>\n",
       "      <td>...</td>\n",
       "      <td>0.0</td>\n",
       "      <td>0.0</td>\n",
       "      <td>1.0</td>\n",
       "      <td>0.0</td>\n",
       "      <td>0.0</td>\n",
       "      <td>0.0</td>\n",
       "      <td>0.0</td>\n",
       "      <td>0.0</td>\n",
       "      <td>0.0</td>\n",
       "      <td>0.0</td>\n",
       "    </tr>\n",
       "    <tr>\n",
       "      <th>1</th>\n",
       "      <td>10004.0</td>\n",
       "      <td>0.0</td>\n",
       "      <td>0.0</td>\n",
       "      <td>0.0</td>\n",
       "      <td>1888126.0</td>\n",
       "      <td>0.0</td>\n",
       "      <td>1.0</td>\n",
       "      <td>50.0</td>\n",
       "      <td>0.0</td>\n",
       "      <td>52.0</td>\n",
       "      <td>...</td>\n",
       "      <td>0.0</td>\n",
       "      <td>0.0</td>\n",
       "      <td>1.0</td>\n",
       "      <td>0.0</td>\n",
       "      <td>0.0</td>\n",
       "      <td>0.0</td>\n",
       "      <td>0.0</td>\n",
       "      <td>0.0</td>\n",
       "      <td>0.0</td>\n",
       "      <td>0.0</td>\n",
       "    </tr>\n",
       "    <tr>\n",
       "      <th>2</th>\n",
       "      <td>10004.0</td>\n",
       "      <td>0.0</td>\n",
       "      <td>0.0</td>\n",
       "      <td>0.0</td>\n",
       "      <td>1888126.0</td>\n",
       "      <td>0.0</td>\n",
       "      <td>1.0</td>\n",
       "      <td>50.0</td>\n",
       "      <td>0.0</td>\n",
       "      <td>52.0</td>\n",
       "      <td>...</td>\n",
       "      <td>0.0</td>\n",
       "      <td>0.0</td>\n",
       "      <td>1.0</td>\n",
       "      <td>0.0</td>\n",
       "      <td>0.0</td>\n",
       "      <td>0.0</td>\n",
       "      <td>0.0</td>\n",
       "      <td>0.0</td>\n",
       "      <td>0.0</td>\n",
       "      <td>0.0</td>\n",
       "    </tr>\n",
       "    <tr>\n",
       "      <th>3</th>\n",
       "      <td>10004.0</td>\n",
       "      <td>0.0</td>\n",
       "      <td>0.0</td>\n",
       "      <td>0.0</td>\n",
       "      <td>1888126.0</td>\n",
       "      <td>0.0</td>\n",
       "      <td>1.0</td>\n",
       "      <td>50.0</td>\n",
       "      <td>0.0</td>\n",
       "      <td>52.0</td>\n",
       "      <td>...</td>\n",
       "      <td>0.0</td>\n",
       "      <td>0.0</td>\n",
       "      <td>1.0</td>\n",
       "      <td>0.0</td>\n",
       "      <td>0.0</td>\n",
       "      <td>0.0</td>\n",
       "      <td>0.0</td>\n",
       "      <td>0.0</td>\n",
       "      <td>0.0</td>\n",
       "      <td>0.0</td>\n",
       "    </tr>\n",
       "    <tr>\n",
       "      <th>4</th>\n",
       "      <td>10004.0</td>\n",
       "      <td>0.0</td>\n",
       "      <td>0.0</td>\n",
       "      <td>0.0</td>\n",
       "      <td>1888126.0</td>\n",
       "      <td>0.0</td>\n",
       "      <td>1.0</td>\n",
       "      <td>50.0</td>\n",
       "      <td>0.0</td>\n",
       "      <td>52.0</td>\n",
       "      <td>...</td>\n",
       "      <td>0.0</td>\n",
       "      <td>0.0</td>\n",
       "      <td>1.0</td>\n",
       "      <td>0.0</td>\n",
       "      <td>0.0</td>\n",
       "      <td>0.0</td>\n",
       "      <td>0.0</td>\n",
       "      <td>0.0</td>\n",
       "      <td>0.0</td>\n",
       "      <td>0.0</td>\n",
       "    </tr>\n",
       "  </tbody>\n",
       "</table>\n",
       "<p>5 rows × 137 columns</p>\n",
       "</div>"
      ],
      "text/plain": [
       "   zipcode  ltdheight  splitzone  easements    comarea  resarea  numbldgs  \\\n",
       "0  10004.0        0.0        0.0        0.0  1888126.0      0.0       1.0   \n",
       "1  10004.0        0.0        0.0        0.0  1888126.0      0.0       1.0   \n",
       "2  10004.0        0.0        0.0        0.0  1888126.0      0.0       1.0   \n",
       "3  10004.0        0.0        0.0        0.0  1888126.0      0.0       1.0   \n",
       "4  10004.0        0.0        0.0        0.0  1888126.0      0.0       1.0   \n",
       "\n",
       "   numfloors  unitsres  unitstotal             ...               proxcode_1.0  \\\n",
       "0       50.0       0.0        52.0             ...                        0.0   \n",
       "1       50.0       0.0        52.0             ...                        0.0   \n",
       "2       50.0       0.0        52.0             ...                        0.0   \n",
       "3       50.0       0.0        52.0             ...                        0.0   \n",
       "4       50.0       0.0        52.0             ...                        0.0   \n",
       "\n",
       "   proxcode_2.0  lottype_0.0  lottype_1.0  lottype_2.0  lottype_3.0  \\\n",
       "0           0.0          1.0          0.0          0.0          0.0   \n",
       "1           0.0          1.0          0.0          0.0          0.0   \n",
       "2           0.0          1.0          0.0          0.0          0.0   \n",
       "3           0.0          1.0          0.0          0.0          0.0   \n",
       "4           0.0          1.0          0.0          0.0          0.0   \n",
       "\n",
       "   lottype_4.0  lottype_5.0  tax_class_at_time_of_sale_1  \\\n",
       "0          0.0          0.0                          0.0   \n",
       "1          0.0          0.0                          0.0   \n",
       "2          0.0          0.0                          0.0   \n",
       "3          0.0          0.0                          0.0   \n",
       "4          0.0          0.0                          0.0   \n",
       "\n",
       "   tax_class_at_time_of_sale_2  \n",
       "0                          0.0  \n",
       "1                          0.0  \n",
       "2                          0.0  \n",
       "3                          0.0  \n",
       "4                          0.0  \n",
       "\n",
       "[5 rows x 137 columns]"
      ]
     },
     "execution_count": 66,
     "metadata": {},
     "output_type": "execute_result"
    }
   ],
   "source": [
    "data_path = \"data/merged/manhattan_brooklyn_2003_2016.csv\"\n",
    "df = pd.read_csv(data_path, low_memory = True, error_bad_lines=False)\n",
    "df.head()"
   ]
  },
  {
   "cell_type": "code",
   "execution_count": 3,
   "metadata": {
    "collapsed": false
   },
   "outputs": [
    {
     "data": {
      "text/plain": [
       "(1682560, 137)"
      ]
     },
     "execution_count": 3,
     "metadata": {},
     "output_type": "execute_result"
    }
   ],
   "source": [
    "df.shape"
   ]
  },
  {
   "cell_type": "code",
   "execution_count": 67,
   "metadata": {
    "collapsed": false
   },
   "outputs": [
    {
     "data": {
      "text/html": [
       "<div>\n",
       "<table border=\"1\" class=\"dataframe\">\n",
       "  <thead>\n",
       "    <tr style=\"text-align: right;\">\n",
       "      <th></th>\n",
       "      <th>gross_sqft_pluto</th>\n",
       "      <th>sale_price</th>\n",
       "      <th>price_per_sqft</th>\n",
       "    </tr>\n",
       "  </thead>\n",
       "  <tbody>\n",
       "    <tr>\n",
       "      <th>0</th>\n",
       "      <td>1888126.0</td>\n",
       "      <td>0</td>\n",
       "      <td>0.000000e+00</td>\n",
       "    </tr>\n",
       "    <tr>\n",
       "      <th>1</th>\n",
       "      <td>1888126.0</td>\n",
       "      <td>0</td>\n",
       "      <td>0.000000e+00</td>\n",
       "    </tr>\n",
       "    <tr>\n",
       "      <th>2</th>\n",
       "      <td>1888126.0</td>\n",
       "      <td>0</td>\n",
       "      <td>0.000000e+00</td>\n",
       "    </tr>\n",
       "    <tr>\n",
       "      <th>3</th>\n",
       "      <td>1888126.0</td>\n",
       "      <td>0</td>\n",
       "      <td>0.000000e+00</td>\n",
       "    </tr>\n",
       "    <tr>\n",
       "      <th>4</th>\n",
       "      <td>1888126.0</td>\n",
       "      <td>1</td>\n",
       "      <td>5.296257e-07</td>\n",
       "    </tr>\n",
       "  </tbody>\n",
       "</table>\n",
       "</div>"
      ],
      "text/plain": [
       "   gross_sqft_pluto  sale_price  price_per_sqft\n",
       "0         1888126.0           0    0.000000e+00\n",
       "1         1888126.0           0    0.000000e+00\n",
       "2         1888126.0           0    0.000000e+00\n",
       "3         1888126.0           0    0.000000e+00\n",
       "4         1888126.0           1    5.296257e-07"
      ]
     },
     "execution_count": 67,
     "metadata": {},
     "output_type": "execute_result"
    }
   ],
   "source": [
    "df[['gross_sqft_pluto','sale_price','price_per_sqft']].head()"
   ]
  },
  {
   "cell_type": "code",
   "execution_count": 4,
   "metadata": {
    "collapsed": false
   },
   "outputs": [
    {
     "data": {
      "text/plain": [
       "array(['zipcode', 'ltdheight', 'splitzone', 'easements', 'comarea',\n",
       "       'resarea', 'numbldgs', 'numfloors', 'unitsres', 'unitstotal',\n",
       "       'lotfront', 'lotdepth', 'bldgfront', 'bldgdepth', 'irrlotcode',\n",
       "       'bsmtcode', 'yearbuilt', 'builtcode', 'histdist', 'landmark',\n",
       "       'condono', 'xcoord', 'ycoord', 'zonemap', 'latitude', 'longitude',\n",
       "       'gross_sqft_pluto', 'garage', 'extension', 'countalter',\n",
       "       'sale_price', 'sale_date', 'year_built', 'residential_units',\n",
       "       'commercial_units', 'total_units', 'price_per_sqft',\n",
       "       'schooldist_mv', 'council_mv', 'zipcode_mv', 'ownertype_mv',\n",
       "       'numbldgs_mv', 'unitsres_mv', 'unitstotal_mv', 'lotfront_mv',\n",
       "       'lotdepth_mv', 'bldgfront_mv', 'bldgdepth_mv', 'proxcode_mv',\n",
       "       'yearbuilt_mv', 'xcoord_mv', 'ycoord_mv', 'zonemap_mv',\n",
       "       'latitude_mv', 'longitude_mv', 'borough_BK', 'schooldist_1.0',\n",
       "       'schooldist_2.0', 'schooldist_3.0', 'schooldist_4.0',\n",
       "       'schooldist_5.0', 'schooldist_6.0', 'schooldist_10.0',\n",
       "       'schooldist_13.0', 'schooldist_14.0', 'schooldist_15.0',\n",
       "       'schooldist_16.0', 'schooldist_17.0', 'schooldist_18.0',\n",
       "       'schooldist_19.0', 'schooldist_20.0', 'schooldist_21.0',\n",
       "       'schooldist_22.0', 'schooldist_23.0', 'council_1.0', 'council_2.0',\n",
       "       'council_3.0', 'council_4.0', 'council_5.0', 'council_6.0',\n",
       "       'council_7.0', 'council_8.0', 'council_9.0', 'council_10.0',\n",
       "       'council_33.0', 'council_34.0', 'council_35.0', 'council_36.0',\n",
       "       'council_37.0', 'council_38.0', 'council_39.0', 'council_40.0',\n",
       "       'council_41.0', 'council_42.0', 'council_43.0', 'council_44.0',\n",
       "       'council_45.0', 'council_46.0', 'council_47.0', 'bldgclass_R1',\n",
       "       'bldgclass_R2', 'bldgclass_R3', 'bldgclass_R4', 'bldgclass_R5',\n",
       "       'bldgclass_R6', 'bldgclass_R9', 'bldgclass_RA', 'bldgclass_RB',\n",
       "       'bldgclass_RC', 'bldgclass_RD', 'bldgclass_RG', 'bldgclass_RH',\n",
       "       'bldgclass_RI', 'bldgclass_RK', 'bldgclass_RM', 'bldgclass_RR',\n",
       "       'bldgclass_RW', 'bldgclass_RX', 'landuse_2.0', 'landuse_3.0',\n",
       "       'landuse_4.0', 'landuse_5.0', 'landuse_6.0', 'landuse_8.0',\n",
       "       'ownertype_C', 'ownertype_O', 'ownertype_P', 'proxcode_1.0',\n",
       "       'proxcode_2.0', 'lottype_0.0', 'lottype_1.0', 'lottype_2.0',\n",
       "       'lottype_3.0', 'lottype_4.0', 'lottype_5.0',\n",
       "       'tax_class_at_time_of_sale_1', 'tax_class_at_time_of_sale_2'], dtype=object)"
      ]
     },
     "execution_count": 4,
     "metadata": {},
     "output_type": "execute_result"
    }
   ],
   "source": [
    "df.columns.values"
   ]
  },
  {
   "cell_type": "code",
   "execution_count": 65,
   "metadata": {
    "collapsed": false
   },
   "outputs": [],
   "source": [
    "#output distribution of target variable to visualize in Tableau\n",
    "import csv\n",
    "x = df['price_per_sqft']\n",
    "count = collections.Counter(x.astype(int))\n",
    "with open(\"price_per_sqft_counts.csv\",'w') as csvfile:\n",
    "    writer=csv.writer(csvfile)\n",
    "    writer.writerow(['Price Per Sqft', 'Frequency'])\n",
    "    for key, count in count.items():\n",
    "        writer.writerow([key, count])"
   ]
  },
  {
   "cell_type": "code",
   "execution_count": 68,
   "metadata": {
    "collapsed": true
   },
   "outputs": [],
   "source": [
    "#output distribution of sale price to visualize in Tableau\n",
    "import csv\n",
    "x = df['sale_price']\n",
    "count = collections.Counter(x.astype(int))\n",
    "with open(\"sale_price_counts.csv\",'w') as csvfile:\n",
    "    writer=csv.writer(csvfile)\n",
    "    writer.writerow(['Sale Price', 'Frequency'])\n",
    "    for key, count in count.items():\n",
    "        writer.writerow([key, count])"
   ]
  },
  {
   "cell_type": "code",
   "execution_count": 13,
   "metadata": {
    "collapsed": false
   },
   "outputs": [],
   "source": [
    "def drop_cols(data, cols):\n",
    "    return data.drop(cols, axis = 1)"
   ]
  },
  {
   "cell_type": "code",
   "execution_count": 41,
   "metadata": {
    "collapsed": false
   },
   "outputs": [],
   "source": [
    "df = drop_cols(df, ['zonemap','sale_date','sale_price'])"
   ]
  },
  {
   "cell_type": "code",
   "execution_count": 22,
   "metadata": {
    "collapsed": true
   },
   "outputs": [],
   "source": [
    "def split_data(data):\n",
    "    '''\n",
    "    Splits data into training and test sets (0.8/0.2)\n",
    "        Args: \n",
    "            data: Pandas dataframe\n",
    "        Returns:\n",
    "            data_train: Pandas dataframe used for training\n",
    "            data_test: Pandas dataframe used for testing\n",
    "    \n",
    "    '''\n",
    "    #Convert 'int64' into float; otherwise, sklearn throws a warning message\n",
    "    columns = data.columns.values\n",
    "    non_float = []\n",
    "    for col in columns:\n",
    "        if data[col].dtype != np.float64:\n",
    "            non_float.append(col)\n",
    "        for col in non_float:\n",
    "            data[col] = data[col].astype(float)\n",
    "    #drop NaN for crucial columns\n",
    "    data= data.dropna(how = 'any', subset = ['latitude','longitude','price_per_sqft'])   \n",
    "    #Split the data\n",
    "    split = cross_validation.ShuffleSplit(data.shape[0], n_iter=1, train_size = 0.7, test_size=.3, random_state = 1)\n",
    "\n",
    "    for train, test in split:\n",
    "        train_index = train\n",
    "        test_index = test\n",
    "    data_train = data.ix[train_index,:]\n",
    "    data_test = data.ix[test_index,:]\n",
    "    data_train.reset_index(drop=True, inplace=True)\n",
    "    data_test.reset_index(drop=True, inplace=True)\n",
    "    return data_train, data_test"
   ]
  },
  {
   "cell_type": "code",
   "execution_count": 21,
   "metadata": {
    "collapsed": false
   },
   "outputs": [],
   "source": [
    "data_train, data_test = split_data(df)"
   ]
  },
  {
   "cell_type": "code",
   "execution_count": 23,
   "metadata": {
    "collapsed": false
   },
   "outputs": [],
   "source": [
    "def fill_na(data_train, data_test):\n",
    "    '''\n",
    "    Fills NaN values with the mean of the column. Note we have already created dummy variables\n",
    "    for columns with missing values.\n",
    "    \n",
    "    Args:\n",
    "        data_train: Pandas dataframe used for training.\n",
    "        data_test: Pandas dataframe used for testing.\n",
    "    Returns:\n",
    "        data_train: Pandas dataframe with no NaN values, ready for modeling.\n",
    "        data_test: Pandas dataframe with no NaN values, ready for testing.\n",
    "    \n",
    "    '''\n",
    "    data_train = data_train.apply(lambda x: x.fillna(x.mean()),axis=0)\n",
    "    data_test = data_test.apply(lambda x: x.fillna(x.mean()),axis=0)\n",
    "    return data_train, data_test"
   ]
  },
  {
   "cell_type": "code",
   "execution_count": 24,
   "metadata": {
    "collapsed": true
   },
   "outputs": [],
   "source": [
    "data_train, data_test = fill_na(data_train, data_test)"
   ]
  },
  {
   "cell_type": "code",
   "execution_count": 26,
   "metadata": {
    "collapsed": false
   },
   "outputs": [
    {
     "name": "stdout",
     "output_type": "stream",
     "text": [
      "(1170909, 135) (501819, 135)\n"
     ]
    }
   ],
   "source": [
    "print(data_train.shape, data_test.shape)\n"
   ]
  },
  {
   "cell_type": "code",
   "execution_count": 43,
   "metadata": {
    "collapsed": false
   },
   "outputs": [],
   "source": [
    "data_train = data_train.drop('sale_price', axis = 1)\n",
    "data_test = data_test.drop('sale_price', axis = 1)"
   ]
  },
  {
   "cell_type": "code",
   "execution_count": 44,
   "metadata": {
    "collapsed": false
   },
   "outputs": [
    {
     "data": {
      "text/plain": [
       "array(['zipcode', 'ltdheight', 'splitzone', 'easements', 'comarea',\n",
       "       'resarea', 'numbldgs', 'numfloors', 'unitsres', 'unitstotal',\n",
       "       'lotfront', 'lotdepth', 'bldgfront', 'bldgdepth', 'irrlotcode',\n",
       "       'bsmtcode', 'yearbuilt', 'builtcode', 'histdist', 'landmark',\n",
       "       'condono', 'xcoord', 'ycoord', 'latitude', 'longitude',\n",
       "       'gross_sqft_pluto', 'garage', 'extension', 'countalter',\n",
       "       'year_built', 'residential_units', 'commercial_units',\n",
       "       'total_units', 'schooldist_mv', 'council_mv', 'zipcode_mv',\n",
       "       'ownertype_mv', 'numbldgs_mv', 'unitsres_mv', 'unitstotal_mv',\n",
       "       'lotfront_mv', 'lotdepth_mv', 'bldgfront_mv', 'bldgdepth_mv',\n",
       "       'proxcode_mv', 'yearbuilt_mv', 'xcoord_mv', 'ycoord_mv',\n",
       "       'zonemap_mv', 'latitude_mv', 'longitude_mv', 'borough_BK',\n",
       "       'schooldist_1.0', 'schooldist_2.0', 'schooldist_3.0',\n",
       "       'schooldist_4.0', 'schooldist_5.0', 'schooldist_6.0',\n",
       "       'schooldist_10.0', 'schooldist_13.0', 'schooldist_14.0',\n",
       "       'schooldist_15.0', 'schooldist_16.0', 'schooldist_17.0',\n",
       "       'schooldist_18.0', 'schooldist_19.0', 'schooldist_20.0',\n",
       "       'schooldist_21.0', 'schooldist_22.0', 'schooldist_23.0',\n",
       "       'council_1.0', 'council_2.0', 'council_3.0', 'council_4.0',\n",
       "       'council_5.0', 'council_6.0', 'council_7.0', 'council_8.0',\n",
       "       'council_9.0', 'council_10.0', 'council_33.0', 'council_34.0',\n",
       "       'council_35.0', 'council_36.0', 'council_37.0', 'council_38.0',\n",
       "       'council_39.0', 'council_40.0', 'council_41.0', 'council_42.0',\n",
       "       'council_43.0', 'council_44.0', 'council_45.0', 'council_46.0',\n",
       "       'council_47.0', 'bldgclass_R1', 'bldgclass_R2', 'bldgclass_R3',\n",
       "       'bldgclass_R4', 'bldgclass_R5', 'bldgclass_R6', 'bldgclass_R9',\n",
       "       'bldgclass_RA', 'bldgclass_RB', 'bldgclass_RC', 'bldgclass_RD',\n",
       "       'bldgclass_RG', 'bldgclass_RH', 'bldgclass_RI', 'bldgclass_RK',\n",
       "       'bldgclass_RM', 'bldgclass_RR', 'bldgclass_RW', 'bldgclass_RX',\n",
       "       'landuse_2.0', 'landuse_3.0', 'landuse_4.0', 'landuse_5.0',\n",
       "       'landuse_6.0', 'landuse_8.0', 'ownertype_C', 'ownertype_O',\n",
       "       'ownertype_P', 'proxcode_1.0', 'proxcode_2.0', 'lottype_0.0',\n",
       "       'lottype_1.0', 'lottype_2.0', 'lottype_3.0', 'lottype_4.0',\n",
       "       'lottype_5.0', 'tax_class_at_time_of_sale_1',\n",
       "       'tax_class_at_time_of_sale_2', 'price_per_sqft'], dtype=object)"
      ]
     },
     "execution_count": 44,
     "metadata": {},
     "output_type": "execute_result"
    }
   ],
   "source": [
    "cols = list(data_train.columns.values) #Make a list of all of the columns in the df\n",
    "cols.pop(cols.index('price_per_sqft')) #Remove b from list\n",
    "data_train = data_train[cols+['price_per_sqft']]\n",
    "data_test = data_test[cols+['price_per_sqft']]\n",
    "data_train.columns.values"
   ]
  },
  {
   "cell_type": "code",
   "execution_count": 45,
   "metadata": {
    "collapsed": false
   },
   "outputs": [
    {
     "name": "stdout",
     "output_type": "stream",
     "text": [
      "Mean_squared_error 4716.83862762\n"
     ]
    }
   ],
   "source": [
    "X_train = data_train.ix[:,:-1]\n",
    "y_train = data_train.ix[:,-1]\n",
    "X_test = data_test.ix[:,:-1]\n",
    "y_test = data_test.ix[:,-1]\n",
    "regr = linear_model.LinearRegression()\n",
    "regr.fit(X_train, y_train)\n",
    "mse = mean_squared_error(y_test, regr.predict(X_test))\n",
    "print('Mean_squared_error', mse)"
   ]
  },
  {
   "cell_type": "code",
   "execution_count": 46,
   "metadata": {
    "collapsed": false
   },
   "outputs": [
    {
     "name": "stdout",
     "output_type": "stream",
     "text": [
      "2673.50270801\n"
     ]
    }
   ],
   "source": [
    "from sklearn.ensemble import RandomForestRegressor\n",
    "\n",
    "RF_reg_final = RandomForestRegressor(n_estimators=100, n_jobs = -1)\n",
    "RF_reg_final.fit(X_train, y_train)\n",
    "print(mean_squared_error(y_test, RF_reg_final.predict(X_test)))"
   ]
  },
  {
   "cell_type": "code",
   "execution_count": 48,
   "metadata": {
    "collapsed": false
   },
   "outputs": [
    {
     "name": "stdout",
     "output_type": "stream",
     "text": [
      "Feature ranking:\n"
     ]
    },
    {
     "data": {
      "text/plain": [
       "{'bldgfront': 0.061238330581188175,\n",
       " 'bldgfront_mv': 0.011983122235041999,\n",
       " 'comarea': 0.05610111044608377,\n",
       " 'commercial_units': 0.032096391392148767,\n",
       " 'condono': 0.025413212692996838,\n",
       " 'council_2.0': 0.018303308935461778,\n",
       " 'council_4.0': 0.011591498534338216,\n",
       " 'gross_sqft_pluto': 0.15144953070300904,\n",
       " 'landuse_5.0': 0.0086171975496009169,\n",
       " 'latitude': 0.021696832295874061,\n",
       " 'longitude': 0.030056055912977615,\n",
       " 'lotfront': 0.021939097752951373,\n",
       " 'lottype_0.0': 0.012767928347856282,\n",
       " 'lottype_3.0': 0.0086644810771093379,\n",
       " 'numfloors': 0.030588722736663469,\n",
       " 'resarea': 0.057642531418071859,\n",
       " 'residential_units': 0.012141966648173012,\n",
       " 'schooldist_2.0': 0.025565389004474616,\n",
       " 'tax_class_at_time_of_sale_2': 0.027117159125555415,\n",
       " 'unitsres': 0.0088046829339896264,\n",
       " 'unitstotal': 0.17928879867873204,\n",
       " 'unitstotal_mv': 0.0091588576097387346,\n",
       " 'xcoord': 0.019190364209809813,\n",
       " 'ycoord': 0.020615368256656358,\n",
       " 'year_built': 0.028327133646944391,\n",
       " 'yearbuilt': 0.024066312879649887,\n",
       " 'zipcode': 0.013288708257467802}"
      ]
     },
     "execution_count": 48,
     "metadata": {},
     "output_type": "execute_result"
    }
   ],
   "source": [
    "feature_importance =  RF_reg_final.feature_importances_\n",
    "indices = np.argsort(feature_importance)[::-1][:27]\n",
    "\n",
    "feature_dct = {}\n",
    "# Print the feature ranking\n",
    "print(\"Feature ranking:\")\n",
    "\n",
    "for f in range(27):\n",
    "    feature_dct[X_test.columns.values[indices][f]] = feature_importance[indices[f]]\n",
    "feature_dct"
   ]
  },
  {
   "cell_type": "code",
   "execution_count": null,
   "metadata": {
    "collapsed": true
   },
   "outputs": [],
   "source": []
  }
 ],
 "metadata": {
  "kernelspec": {
   "display_name": "Python [Root]",
   "language": "python",
   "name": "Python [Root]"
  },
  "language_info": {
   "codemirror_mode": {
    "name": "ipython",
    "version": 3
   },
   "file_extension": ".py",
   "mimetype": "text/x-python",
   "name": "python",
   "nbconvert_exporter": "python",
   "pygments_lexer": "ipython3",
   "version": "3.5.2"
  }
 },
 "nbformat": 4,
 "nbformat_minor": 0
}
