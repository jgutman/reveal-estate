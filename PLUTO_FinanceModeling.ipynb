{
 "cells": [
  {
   "cell_type": "code",
   "execution_count": 1,
   "metadata": {
    "collapsed": false
   },
   "outputs": [],
   "source": [
    "import pandas as pd\n",
    "from pyproj import Proj\n",
    "import numpy as np\n",
    "import math\n",
    "import matplotlib.pyplot as plt\n",
    "from sklearn import datasets, linear_model\n",
    "from sklearn import model_selection as cross_validation\n",
    "from sklearn.metrics import mean_squared_error\n",
    "import seaborn as sns\n",
    "sns.set(color_codes=True)\n",
    "import collections\n",
    "\n",
    "%matplotlib inline"
   ]
  },
  {
   "cell_type": "code",
   "execution_count": null,
   "metadata": {
    "collapsed": false
   },
   "outputs": [],
   "source": [
    "ls data/"
   ]
  },
  {
   "cell_type": "code",
   "execution_count": null,
   "metadata": {
    "collapsed": false
   },
   "outputs": [],
   "source": [
    "data_path = \"data/merged/bronx_brooklyn_manhattan_queens_statenisland_2003_2016.csv\"\n",
    "df = pd.read_csv(data_path, low_memory = False)\n",
    "df.head()"
   ]
  },
  {
   "cell_type": "code",
   "execution_count": null,
   "metadata": {
    "collapsed": false
   },
   "outputs": [],
   "source": [
    "no_dups = df.drop_duplicates()\n",
    "no_dups.shape"
   ]
  },
  {
   "cell_type": "code",
   "execution_count": null,
   "metadata": {
    "collapsed": false
   },
   "outputs": [],
   "source": [
    "df.shape"
   ]
  },
  {
   "cell_type": "code",
   "execution_count": null,
   "metadata": {
    "collapsed": true
   },
   "outputs": [],
   "source": [
    "df[['bbl','zipcode','latitude','longitude']].to_csv(\"bbls_and_zips.csv\", index = False)"
   ]
  },
  {
   "cell_type": "code",
   "execution_count": null,
   "metadata": {
    "collapsed": false
   },
   "outputs": [],
   "source": [
    "x = df[df['year_built'] != df['yearbuilt']]\n",
    "x[x['year_built'] == 0.0].shape"
   ]
  },
  {
   "cell_type": "code",
   "execution_count": null,
   "metadata": {
    "collapsed": false
   },
   "outputs": [],
   "source": [
    "df[['gross_sqft_pluto','sale_price','price_per_sqft']].head()"
   ]
  },
  {
   "cell_type": "code",
   "execution_count": null,
   "metadata": {
    "collapsed": false
   },
   "outputs": [],
   "source": [
    "df = df[df['price_per_sqft'] != 0.0]\n",
    "df.shape"
   ]
  },
  {
   "cell_type": "code",
   "execution_count": null,
   "metadata": {
    "collapsed": false
   },
   "outputs": [],
   "source": [
    "df = df[df['price_per_sqft'] >= 10]\n",
    "df = df[df['price_per_sqft'] <= 5000]\n",
    "df.shape"
   ]
  },
  {
   "cell_type": "code",
   "execution_count": null,
   "metadata": {
    "collapsed": false
   },
   "outputs": [],
   "source": [
    "count = collections.Counter(df['price_per_sqft'].astype(int))\n",
    "count"
   ]
  },
  {
   "cell_type": "code",
   "execution_count": null,
   "metadata": {
    "collapsed": false
   },
   "outputs": [],
   "source": [
    "outliers = df.loc[df['price_per_sqft'].astype(int).isin([1,2,3,4,5,6912,7655,7949,10315,12089,14568])]\n",
    "outliers[['latitude','longitude','price_per_sqft','sale_price','year_built','sale_date']].to_csv(\"outliers.csv\")"
   ]
  },
  {
   "cell_type": "code",
   "execution_count": null,
   "metadata": {
    "collapsed": false
   },
   "outputs": [],
   "source": [
    "#output distribution of target variable to visualize in Tableau\n",
    "import csv\n",
    "x = df['price_per_sqft']\n",
    "count = collections.Counter(x.astype(int))\n",
    "with open(\"price_per_sqft_counts.csv\",'w') as csvfile:\n",
    "    writer=csv.writer(csvfile)\n",
    "    writer.writerow(['Price Per Sqft', 'Frequency'])\n",
    "    for key, count in count.items():\n",
    "        writer.writerow([key, count])"
   ]
  },
  {
   "cell_type": "code",
   "execution_count": null,
   "metadata": {
    "collapsed": true
   },
   "outputs": [],
   "source": [
    "#output distribution of sale price to visualize in Tableau\n",
    "import csv\n",
    "x = df['sale_price']\n",
    "count = collections.Counter(x.astype(int))\n",
    "with open(\"sale_price_counts.csv\",'w') as csvfile:\n",
    "    writer=csv.writer(csvfile)\n",
    "    writer.writerow(['Sale Price', 'Frequency'])\n",
    "    for key, count in count.items():\n",
    "        writer.writerow([key, count])"
   ]
  },
  {
   "cell_type": "code",
   "execution_count": null,
   "metadata": {
    "collapsed": false
   },
   "outputs": [],
   "source": [
    "def drop_cols(data, cols):\n",
    "    return data.drop(cols, axis = 1)"
   ]
  },
  {
   "cell_type": "code",
   "execution_count": null,
   "metadata": {
    "collapsed": false
   },
   "outputs": [],
   "source": [
    "df = drop_cols(df, ['zonemap','sale_date','sale_price','year_built'])"
   ]
  },
  {
   "cell_type": "code",
   "execution_count": null,
   "metadata": {
    "collapsed": true
   },
   "outputs": [],
   "source": [
    "from sklearn import model_selection\n",
    "def split_data(data):\n",
    "    '''\n",
    "    Splits data into training and test sets (0.8/0.2)\n",
    "        Args: \n",
    "            data: Pandas dataframe\n",
    "        Returns:\n",
    "            data_train: Pandas dataframe used for training\n",
    "            data_test: Pandas dataframe used for testing\n",
    "    \n",
    "    '''\n",
    "    #Convert 'int64' into float; otherwise, sklearn throws a warning message\n",
    "    columns = data.columns.values\n",
    "    non_float = []\n",
    "    for col in columns:\n",
    "        if data[col].dtype != np.float64:\n",
    "            non_float.append(col)\n",
    "    for col in non_float:\n",
    "        data[col] = data[col].astype(float)\n",
    "    #drop NaN for crucial columns\n",
    "    data= data.dropna(how = 'any', subset = ['price_per_sqft'])   \n",
    "    #Split the data\n",
    "    rs = model_selection.ShuffleSplit(train_size = 0.8, test_size=.2, random_state = 1, n_splits = 1)\n",
    "\n",
    "    for train, test in rs.split(data):\n",
    "        train_index = train\n",
    "        test_index = test\n",
    "    data_train = data.ix[train_index,:]\n",
    "    data_test = data.ix[test_index,:]\n",
    "    data_train.reset_index(drop=True, inplace=True)\n",
    "    data_test.reset_index(drop=True, inplace=True)\n",
    "    return data_train, data_test\n"
   ]
  },
  {
   "cell_type": "code",
   "execution_count": null,
   "metadata": {
    "collapsed": false
   },
   "outputs": [],
   "source": [
    "data_train, data_test = split_data(df)"
   ]
  },
  {
   "cell_type": "code",
   "execution_count": null,
   "metadata": {
    "collapsed": false
   },
   "outputs": [],
   "source": [
    "def fill_na(data_train, data_test):\n",
    "    '''\n",
    "    Fills NaN values with the mean of the column. Note we have already created dummy variables\n",
    "    for columns with missing values.\n",
    "    \n",
    "    Args:\n",
    "        data_train: Pandas dataframe used for training.\n",
    "        data_test: Pandas dataframe used for testing.\n",
    "    Returns:\n",
    "        data_train: Pandas dataframe with no NaN values, ready for modeling.\n",
    "        data_test: Pandas dataframe with no NaN values, ready for testing.\n",
    "    \n",
    "    '''\n",
    "    data_train = data_train.apply(lambda x: x.fillna(x.mean()),axis=0)\n",
    "    data_test = data_test.apply(lambda x: x.fillna(x.mean()),axis=0)\n",
    "    return data_train, data_test"
   ]
  },
  {
   "cell_type": "code",
   "execution_count": null,
   "metadata": {
    "collapsed": true
   },
   "outputs": [],
   "source": [
    "data_train, data_test = fill_na(data_train, data_test)"
   ]
  },
  {
   "cell_type": "code",
   "execution_count": null,
   "metadata": {
    "collapsed": false
   },
   "outputs": [],
   "source": [
    "print(data_train.shape, data_test.shape)\n"
   ]
  },
  {
   "cell_type": "code",
   "execution_count": null,
   "metadata": {
    "collapsed": false
   },
   "outputs": [],
   "source": [
    "cols = list(data_train.columns.values) #Make a list of all of the columns in the df\n",
    "cols.pop(cols.index('price_per_sqft')) #Remove b from list\n",
    "data_train = data_train[cols+['price_per_sqft']]\n",
    "data_test = data_test[cols+['price_per_sqft']]\n",
    "data_train.columns.values"
   ]
  },
  {
   "cell_type": "code",
   "execution_count": null,
   "metadata": {
    "collapsed": true
   },
   "outputs": [],
   "source": [
    "data_train = data_train.drop(['public_recycling_bins_dist'], axis = 1)\n",
    "data_test = data_test.drop(['public_recycling_bins_dist'], axis = 1)"
   ]
  },
  {
   "cell_type": "code",
   "execution_count": null,
   "metadata": {
    "collapsed": false
   },
   "outputs": [],
   "source": [
    "X_train = data_train.ix[:,:-1]\n",
    "y_train = data_train.ix[:,-1]\n",
    "X_test = data_test.ix[:,:-1]\n",
    "y_test = data_test.ix[:,-1]\n",
    "regr = linear_model.LinearRegression()\n",
    "#regr.fit(X_train, y_train)\n",
    "#mse = mean_squared_error(y_test, regr.predict(X_test))\n",
    "#print('Mean_squared_error', mse)"
   ]
  },
  {
   "cell_type": "code",
   "execution_count": null,
   "metadata": {
    "collapsed": false
   },
   "outputs": [],
   "source": [
    "from sklearn.ensemble import RandomForestRegressor\n",
    "\n",
    "RF_reg_final = RandomForestRegressor(n_estimators=100, n_jobs = -1)\n",
    "RF_reg_final.fit(X_train, y_train)\n",
    "print(mean_squared_error(y_test, RF_reg_final.predict(X_test)))"
   ]
  },
  {
   "cell_type": "code",
   "execution_count": null,
   "metadata": {
    "collapsed": false
   },
   "outputs": [],
   "source": [
    "bbls = []\n",
    "file = open(\"data/Queens Light Rail BBL.csv\", 'rb')\n",
    "for line in file:\n",
    "    bbls.append(line)\n",
    "bbls = [float(i) for i in bbls]\n",
    "bbls"
   ]
  },
  {
   "cell_type": "code",
   "execution_count": null,
   "metadata": {
    "collapsed": false
   },
   "outputs": [],
   "source": [
    "finance = pd.read_csv(\"finance_queens.csv\")\n",
    "finance.shape"
   ]
  },
  {
   "cell_type": "code",
   "execution_count": null,
   "metadata": {
    "collapsed": false
   },
   "outputs": [],
   "source": [
    "queens = pd.read_csv(\"data/nyc_pluto_16v1/QN.csv\", low_memory = False)\n",
    "queens.head()"
   ]
  },
  {
   "cell_type": "code",
   "execution_count": null,
   "metadata": {
    "collapsed": false
   },
   "outputs": [],
   "source": [
    "buildings_2 = pd.read_csv(\"pluto_finance_test.csv\")\n",
    "buildings_2.shape"
   ]
  },
  {
   "cell_type": "code",
   "execution_count": null,
   "metadata": {
    "collapsed": false
   },
   "outputs": [],
   "source": [
    "buildings_3 = pd.read_csv(\"data/merged/queens_2003_2016.csv\")\n",
    "buildings_3['price_per_sqft'].isnull().sum()"
   ]
  },
  {
   "cell_type": "code",
   "execution_count": null,
   "metadata": {
    "collapsed": false
   },
   "outputs": [],
   "source": [
    "buildings_3 = buildings_3.drop_duplicates()\n",
    "buildings_3.shape"
   ]
  },
  {
   "cell_type": "code",
   "execution_count": null,
   "metadata": {
    "collapsed": false
   },
   "outputs": [],
   "source": [
    "df.bbl.isnull().sum()"
   ]
  },
  {
   "cell_type": "code",
   "execution_count": null,
   "metadata": {
    "collapsed": false
   },
   "outputs": [],
   "source": [
    "buildings_3.bbl.isnull().sum()"
   ]
  },
  {
   "cell_type": "code",
   "execution_count": null,
   "metadata": {
    "collapsed": false
   },
   "outputs": [],
   "source": [
    "buildings = pd.merge(queens, finance, how='right',\n",
    "        left_on='BBL', right_on = 'bbl')\n",
    "buildings.shape"
   ]
  },
  {
   "cell_type": "code",
   "execution_count": null,
   "metadata": {
    "collapsed": false
   },
   "outputs": [],
   "source": [
    "buildings_2 = buildings_2.drop_duplicates()\n",
    "buildings_2.shape"
   ]
  },
  {
   "cell_type": "code",
   "execution_count": null,
   "metadata": {
    "collapsed": false
   },
   "outputs": [],
   "source": [
    "affected_properties = finance.loc[finance['bbl'].isin(bbls)]\n",
    "affected_properties.shape"
   ]
  },
  {
   "cell_type": "code",
   "execution_count": null,
   "metadata": {
    "collapsed": false
   },
   "outputs": [],
   "source": [
    "list(X_test['bbl'])"
   ]
  },
  {
   "cell_type": "code",
   "execution_count": null,
   "metadata": {
    "collapsed": false
   },
   "outputs": [],
   "source": [
    "feature_importance =  RF_reg_final.feature_importances_\n",
    "indices = np.argsort(feature_importance)[::-1][:27]\n",
    "\n",
    "feature_dct = {}\n",
    "# Print the feature ranking\n",
    "print(\"Feature ranking:\")\n",
    "\n",
    "for f in range(20):\n",
    "    feature_dct[X_test.columns.values[indices][f]] = feature_importance[indices[f]]\n",
    "feature_dct"
   ]
  },
  {
   "cell_type": "code",
   "execution_count": null,
   "metadata": {
    "collapsed": true
   },
   "outputs": [],
   "source": [
    "from collections import OrderedDict\n",
    "from operator import itemgetter\n",
    "\n",
    "feature_dct = OrderedDict(sorted(feature_dct.items(), key=itemgetter(1), reverse = True))"
   ]
  },
  {
   "cell_type": "code",
   "execution_count": null,
   "metadata": {
    "collapsed": false
   },
   "outputs": [],
   "source": [
    "feature_dct.keys()"
   ]
  },
  {
   "cell_type": "code",
   "execution_count": null,
   "metadata": {
    "collapsed": false
   },
   "outputs": [],
   "source": [
    "data_train[['price_per_sqft'] + list(feature_dct.keys())].corr()"
   ]
  },
  {
   "cell_type": "code",
   "execution_count": null,
   "metadata": {
    "collapsed": true
   },
   "outputs": [],
   "source": [
    "neg_features = feature_dct.copy()\n",
    "pos_features = feature_dct.copy()\n",
    "\n",
    "#Use correlation matrix to determine which features are negatively correlated with our target variable\n",
    "negs = ['gross_sqft_pluto','unitstotal']\n",
    "for key in neg_features.keys():\n",
    "    if key in negs:\n",
    "        neg_features[key] = -neg_features[key]\n",
    "    else:\n",
    "        neg_features[key] = 0\n",
    "for key in pos_features.keys():\n",
    "    if key in negs:\n",
    "        pos_features[key] = 0"
   ]
  },
  {
   "cell_type": "code",
   "execution_count": null,
   "metadata": {
    "collapsed": false
   },
   "outputs": [],
   "source": [
    "data_test['predicted'] = RF_reg_final.predict(X_test)\n",
    "data_test['percent_difference'] = 100*(np.abs(data_test['predicted'] - data_test['price_per_sqft']).astype(float) / data_test['price_per_sqft'])\n",
    "data_test[['yearbuilt','price_per_sqft','predicted','percent_difference']]"
   ]
  },
  {
   "cell_type": "code",
   "execution_count": null,
   "metadata": {
    "collapsed": false
   },
   "outputs": [],
   "source": [
    "acc = 100 * (data_test[data_test['percent_difference'] < 10.0].shape[0]/ data_test.shape[0])\n",
    "acc"
   ]
  },
  {
   "cell_type": "code",
   "execution_count": null,
   "metadata": {
    "collapsed": false
   },
   "outputs": [],
   "source": [
    "results_df = pd.read_csv(\"preliminary_results.csv\")\n",
    "results_df"
   ]
  },
  {
   "cell_type": "code",
   "execution_count": null,
   "metadata": {
    "collapsed": true
   },
   "outputs": [],
   "source": [
    "import merge_pluto_finance_new as mpf"
   ]
  },
  {
   "cell_type": "code",
   "execution_count": null,
   "metadata": {
    "collapsed": true
   },
   "outputs": [],
   "source": [
    "queens_pluto = mpf.read_in_pluto([\"queens\"])"
   ]
  },
  {
   "cell_type": "code",
   "execution_count": null,
   "metadata": {
    "collapsed": false
   },
   "outputs": [],
   "source": [
    "queens_pluto.bbl.astype(int).isnull().sum()"
   ]
  },
  {
   "cell_type": "code",
   "execution_count": null,
   "metadata": {
    "collapsed": false
   },
   "outputs": [],
   "source": [
    "queens_finance = mpf.read_in_finance([\"queens\"], list(range(2003, 2017)))"
   ]
  },
  {
   "cell_type": "code",
   "execution_count": null,
   "metadata": {
    "collapsed": false
   },
   "outputs": [],
   "source": [
    "queens_finance.bbl.isnull().sum()"
   ]
  },
  {
   "cell_type": "code",
   "execution_count": null,
   "metadata": {
    "collapsed": false
   },
   "outputs": [],
   "source": [
    "print(queens_finance.shape)\n",
    "print(queens_pluto.shape)"
   ]
  },
  {
   "cell_type": "code",
   "execution_count": null,
   "metadata": {
    "collapsed": false
   },
   "outputs": [],
   "source": [
    "print(queens_pluto.bbl.dtype)\n",
    "print(queens_finance.bbl.dtype)"
   ]
  },
  {
   "cell_type": "code",
   "execution_count": null,
   "metadata": {
    "collapsed": false
   },
   "outputs": [],
   "source": [
    "queens_dtm = read_in_dtm([\"queens\"])"
   ]
  },
  {
   "cell_type": "code",
   "execution_count": null,
   "metadata": {
    "collapsed": true
   },
   "outputs": [],
   "source": [
    "import os\n",
    "def read_in_dtm(boros, data_dir = 'data/dtm',\n",
    "        filename = 'DTM_0316_Condo_Units.csv'):\n",
    "    \"\"\"\n",
    "    Reads in the Digital Tax Map dataset and returns a dataframe with mapping\n",
    "    from borough and condo number to unit BBL for the specified boroughs.\n",
    "\n",
    "    Args:\n",
    "        list(string) boros: list of all the boroughs to pull dtm data for\n",
    "        string data_dir: a relative path as a string to folder containing the\n",
    "            dtm data in csv format\n",
    "        string filename: the name of the file containing the dtm condo unit data\n",
    "    Returns:\n",
    "        Pandas DataFrame\n",
    "    \"\"\"\n",
    "    columns = ['CONDO_BORO', 'CONDO_NUMB', 'UNIT_BLOCK',\n",
    "               'UNIT_LOT', 'UNIT_BBL', 'UNIT_DESIG']\n",
    "    boro_names = ['manhattan', 'bronx', 'brooklyn', 'queens', 'statenisland']\n",
    "    boro_codes = dict(zip(boro_names, range(1,6)))\n",
    "    dtm = pd.read_csv(os.path.join(data_dir, filename), usecols=columns)\n",
    "    dtm.columns = [col.strip().lower() for col in dtm.columns]\n",
    "    dtm = dtm.dropna(subset = ['unit_bbl', 'condo_boro', 'condo_numb'])\n",
    "    dtm.unit_bbl = dtm.unit_bbl.astype('int64')\n",
    "    dtm = dtm.loc[dtm.condo_boro.isin(\n",
    "        [boro_codes.get(boro) for boro in boros])]\n",
    "    return dtm"
   ]
  },
  {
   "cell_type": "code",
   "execution_count": null,
   "metadata": {
    "collapsed": false
   },
   "outputs": [],
   "source": [
    "columns = ['CONDO_BORO', 'CONDO_NUMB', 'UNIT_BLOCK',\n",
    "               'UNIT_LOT', 'UNIT_BBL', 'UNIT_DESIG']\n",
    "data_dir = 'data/dtm'\n",
    "filename = 'DTM_0316_Condo_Units.csv'\n",
    "queens_dtm = pd.read_csv(os.path.join(data_dir, filename), usecols=columns)"
   ]
  },
  {
   "cell_type": "code",
   "execution_count": null,
   "metadata": {
    "collapsed": false
   },
   "outputs": [],
   "source": [
    "queens_dtm.isnull().sum()"
   ]
  },
  {
   "cell_type": "code",
   "execution_count": null,
   "metadata": {
    "collapsed": true
   },
   "outputs": [],
   "source": [
    "filepath = \"data/open_nyc/subwaydist.csv\"\n",
    "subwaydist = pd.read_csv(filepath)\n",
    "filepath = \"data/open_nyc/some_dist_metrics.csv\"\n",
    "other_distances = pd.read_csv(filepath)"
   ]
  },
  {
   "cell_type": "code",
   "execution_count": null,
   "metadata": {
    "collapsed": false
   },
   "outputs": [],
   "source": [
    "len(pd.unique(other_distances.bbl)) == other_distances.shape[0]"
   ]
  },
  {
   "cell_type": "code",
   "execution_count": null,
   "metadata": {
    "collapsed": false
   },
   "outputs": [],
   "source": [
    "len(pd.unique(subwaydist.bbl)) == subwaydist.shape[0]"
   ]
  },
  {
   "cell_type": "code",
   "execution_count": null,
   "metadata": {
    "collapsed": false
   },
   "outputs": [],
   "source": [
    "finance_condo_updated = mpf.get_finance_condo_lot(pluto = queens_pluto,\n",
    "        finance = queens_finance, dtm = queens_dtm)"
   ]
  },
  {
   "cell_type": "code",
   "execution_count": null,
   "metadata": {
    "collapsed": false
   },
   "outputs": [],
   "source": [
    "finance_condo_updated.bbl_pluto.isnull().sum()"
   ]
  },
  {
   "cell_type": "code",
   "execution_count": null,
   "metadata": {
    "collapsed": false
   },
   "outputs": [],
   "source": [
    "queens_pluto.bbl.isnull().sum()"
   ]
  },
  {
   "cell_type": "code",
   "execution_count": null,
   "metadata": {
    "collapsed": true
   },
   "outputs": [],
   "source": [
    "buildings = pd.merge(queens_pluto, finance_condo_updated, how='right',\n",
    "        left_on='bbl', right_on = 'bbl_pluto',\n",
    "        suffixes=['_pluto', '_finance'])"
   ]
  },
  {
   "cell_type": "code",
   "execution_count": null,
   "metadata": {
    "collapsed": false
   },
   "outputs": [],
   "source": [
    "buildings.shape"
   ]
  },
  {
   "cell_type": "code",
   "execution_count": null,
   "metadata": {
    "collapsed": false
   },
   "outputs": [],
   "source": [
    "buildings[\"price_per_sqft\"] = buildings[\"sale_price\"].astype('float64') / buildings[\"gross_sqft_pluto\"]\n",
    "buildings = buildings[ buildings[\"price_per_sqft\"].notnull()]\n",
    "buildings = buildings[ buildings[\"price_per_sqft\"] > 0.]"
   ]
  },
  {
   "cell_type": "code",
   "execution_count": null,
   "metadata": {
    "collapsed": false
   },
   "outputs": [],
   "source": [
    "buildings.bbl_pluto "
   ]
  },
  {
   "cell_type": "code",
   "execution_count": null,
   "metadata": {
    "collapsed": false
   },
   "outputs": [],
   "source": [
    "buildings.bbl"
   ]
  },
  {
   "cell_type": "code",
   "execution_count": null,
   "metadata": {
    "collapsed": false
   },
   "outputs": [],
   "source": [
    "queens_pluto.bbl"
   ]
  },
  {
   "cell_type": "code",
   "execution_count": null,
   "metadata": {
    "collapsed": false
   },
   "outputs": [],
   "source": [
    "finance_condos_only.bbl_finance"
   ]
  },
  {
   "cell_type": "code",
   "execution_count": null,
   "metadata": {
    "collapsed": false
   },
   "outputs": [],
   "source": [
    "queens_finance.columns"
   ]
  },
  {
   "cell_type": "code",
   "execution_count": null,
   "metadata": {
    "collapsed": false
   },
   "outputs": [],
   "source": [
    "queens_pluto.columns"
   ]
  },
  {
   "cell_type": "code",
   "execution_count": null,
   "metadata": {
    "collapsed": false
   },
   "outputs": [],
   "source": [
    "queens_dtm.columns"
   ]
  },
  {
   "cell_type": "code",
   "execution_count": null,
   "metadata": {
    "collapsed": false
   },
   "outputs": [],
   "source": [
    "finance_condo_updated.columns"
   ]
  },
  {
   "cell_type": "code",
   "execution_count": null,
   "metadata": {
    "collapsed": false
   },
   "outputs": [],
   "source": [
    "print(queens_finance.drop_duplicates().shape == queens_finance.shape)\n",
    "print(queens_pluto.drop_duplicates().shape == queens_pluto.shape)\n",
    "print(finance_condos_only.drop_duplicates().shape == finance_condos_only.shape)"
   ]
  },
  {
   "cell_type": "code",
   "execution_count": null,
   "metadata": {
    "collapsed": false
   },
   "outputs": [],
   "source": [
    "finance_condos_only.shape[0] + len(standard_bbls) "
   ]
  },
  {
   "cell_type": "code",
   "execution_count": null,
   "metadata": {
    "collapsed": false
   },
   "outputs": [],
   "source": [
    "bbl_mappings.drop_duplicates().shape"
   ]
  },
  {
   "cell_type": "code",
   "execution_count": null,
   "metadata": {
    "collapsed": false
   },
   "outputs": [],
   "source": [
    "queens_finance.drop_duplicates(['bbl', 'sale_year']).shape == queens_finance.shape"
   ]
  },
  {
   "cell_type": "code",
   "execution_count": null,
   "metadata": {
    "collapsed": false
   },
   "outputs": [],
   "source": [
    "queens_finance.shape"
   ]
  },
  {
   "cell_type": "code",
   "execution_count": null,
   "metadata": {
    "collapsed": false
   },
   "outputs": [],
   "source": [
    "queens_finance.columns"
   ]
  },
  {
   "cell_type": "code",
   "execution_count": null,
   "metadata": {
    "collapsed": true
   },
   "outputs": [],
   "source": [
    "queens_finance[\"sale_year\"] = [d.year for d in queens_finance.sale_date]"
   ]
  },
  {
   "cell_type": "code",
   "execution_count": null,
   "metadata": {
    "collapsed": false
   },
   "outputs": [],
   "source": [
    "print(finance_condo_updated.drop_duplicates().shape)\n",
    "print(finance_condo_updated.shape)"
   ]
  },
  {
   "cell_type": "code",
   "execution_count": null,
   "metadata": {
    "collapsed": false
   },
   "outputs": [],
   "source": [
    "finance_condo_updated.columns"
   ]
  },
  {
   "cell_type": "code",
   "execution_count": null,
   "metadata": {
    "collapsed": false
   },
   "outputs": [],
   "source": [
    "bbl_mappings.bbl_finance.drop_duplicates().shape"
   ]
  },
  {
   "cell_type": "code",
   "execution_count": null,
   "metadata": {
    "collapsed": true
   },
   "outputs": [],
   "source": [
    "dtm_cols_to_keep = ['unit_bbl', 'condo_boro', 'condo_numb']\n",
    "pluto_cols_to_keep = ['bbl', 'block', 'borocode', 'condono']\n",
    "\n",
    "finance_condos_only = pd.merge(queens_finance, queens_dtm[dtm_cols_to_keep],\n",
    "    how='inner', left_on=['bbl'], right_on=['unit_bbl'])\n",
    "\n",
    "# for condos: finance.bbl == finance_condos_only.unit_bbl\n",
    "#             finance_condos_only.bbl_pluto == pluto.bbl\n",
    "finance_condos_only = pd.merge(queens_pluto[pluto_cols_to_keep],\n",
    "    finance_condos_only, how='inner',\n",
    "    left_on=['borocode', 'block', 'condono'],\n",
    "    right_on=['condo_boro', 'block', 'condo_numb'],\n",
    "    suffixes=['_pluto', '_finance'])\n",
    "\n",
    "finance_condos_only = finance_condos_only[\n",
    "        ['bbl_pluto', 'bbl_finance']].drop_duplicates()\n",
    "         # duplicates only if a bbl is listed in multiple years\n",
    "finance_condos_only = finance_condos_only.loc[lambda df:\n",
    "        np.floor(df.bbl_pluto / 1e4) == np.floor(df.bbl_finance / 1e4)]\n",
    "\n",
    "# get a list of bbls that are not condos (same in pluto and finance)\n",
    "standard_bbls = list(set(queens_finance.bbl).difference(\n",
    "                    set(finance_condos_only.bbl_finance)))\n",
    "# combine condo bbls that differ with standard bbls that are the same\n",
    "bbl_mappings = finance_condos_only.append(pd.DataFrame.from_dict(\n",
    "    {'bbl_pluto': standard_bbls, 'bbl_finance': standard_bbls}\n",
    "))\n",
    "bbl_mappings = bbl_mappings.reset_index(drop = True)\n",
    "\n",
    "finance_condo_updated = pd.merge(queens_finance, bbl_mappings,\n",
    "    how='left', left_on='bbl', right_on='bbl_finance')\n"
   ]
  },
  {
   "cell_type": "code",
   "execution_count": null,
   "metadata": {
    "collapsed": true
   },
   "outputs": [],
   "source": [
    "# finance condo updated: remove bbl/block/bbl_finance\n",
    "# retain only bbl_pluto to match with pluto.bbl in merge\n",
    "finance_condo_updated = finance_condo_updated.drop(\n",
    "    ['block', 'bbl', 'bbl_finance'], axis=1)\n",
    "\n",
    "# Remove duplicate bbls by returning only the most recent sales data\n",
    "# for each BBL and year\n",
    "finance_condo_updated = finance_condo_updated.reset_index()\n",
    "finance_condo_updated[\"sale_year\"] = [d.year for d in\n",
    "    finance_condo_updated.sale_date]\n",
    "grouped = finance_condo_updated.groupby(['bbl_pluto', 'sale_year'])\n",
    "max_idx_by_bbl = grouped['sale_price'].idxmax().values\n",
    "finance_condo_updated = finance_condo_updated.loc[max_idx_by_bbl]"
   ]
  },
  {
   "cell_type": "code",
   "execution_count": null,
   "metadata": {
    "collapsed": false
   },
   "outputs": [],
   "source": [
    "queens_finance_raw = pd.DataFrame()\n",
    "data_dir = \"data/finance_sales\"\n",
    "years = list(range(2003, 2017))\n",
    "boros = ['queens']\n",
    "\n",
    "for year in years:\n",
    "        for borough in boros:\n",
    "            print(\"Pulling Finance data for {}_{}\".format(year, borough))\n",
    "            boro_year = mpf.read_in_boro_year_data(borough, year, data_dir)\n",
    "            queens_finance_raw = queens_finance_raw.append(boro_year)"
   ]
  },
  {
   "cell_type": "code",
   "execution_count": null,
   "metadata": {
    "collapsed": false
   },
   "outputs": [],
   "source": [
    "print(finance_condos_only.shape)\n",
    "print(finance_condos_only.drop_duplicates().shape)\n",
    "print(finance_condos_only.drop_duplicates('bbl_finance').shape)"
   ]
  },
  {
   "cell_type": "code",
   "execution_count": null,
   "metadata": {
    "collapsed": false
   },
   "outputs": [],
   "source": [
    "np.where(bbl_mappings.bbl_finance.duplicated(keep=False))"
   ]
  },
  {
   "cell_type": "code",
   "execution_count": null,
   "metadata": {
    "collapsed": false
   },
   "outputs": [],
   "source": [
    "print(finance_condo_updated.shape)\n",
    "print(finance_condo_updated.drop_duplicates().shape)\n",
    "print(finance_condo_updated.drop_duplicates(['bbl_pluto', 'sale_year']).shape)"
   ]
  },
  {
   "cell_type": "code",
   "execution_count": null,
   "metadata": {
    "collapsed": false
   },
   "outputs": [],
   "source": [
    "finance_condo_updated.columns"
   ]
  },
  {
   "cell_type": "code",
   "execution_count": null,
   "metadata": {
    "collapsed": false
   },
   "outputs": [],
   "source": [
    "queens_pluto.columns"
   ]
  },
  {
   "cell_type": "code",
   "execution_count": null,
   "metadata": {
    "collapsed": false
   },
   "outputs": [],
   "source": [
    "buildings = pd.merge(queens_pluto, finance_condo_updated, how='right',\n",
    "        left_on='bbl', right_on = 'bbl_pluto',\n",
    "        suffixes=['_pluto', '_finance'])"
   ]
  },
  {
   "cell_type": "code",
   "execution_count": null,
   "metadata": {
    "collapsed": false
   },
   "outputs": [],
   "source": [
    "buildings.shape"
   ]
  },
  {
   "cell_type": "code",
   "execution_count": null,
   "metadata": {
    "collapsed": false
   },
   "outputs": [],
   "source": [
    "buildings.shape"
   ]
  },
  {
   "cell_type": "code",
   "execution_count": null,
   "metadata": {
    "collapsed": true
   },
   "outputs": [],
   "source": [
    "buildings[\"price_per_sqft\"] = buildings.sale_price.astype('float64') / buildings.gross_sqft_pluto\n",
    "buildings = buildings.loc[ buildings.price_per_sqft.notnull()]\n",
    "buildings = buildings.loc[ buildings.price_per_sqft > 0.]"
   ]
  },
  {
   "cell_type": "code",
   "execution_count": null,
   "metadata": {
    "collapsed": false
   },
   "outputs": [],
   "source": [
    "all(buildings.bbl == buildings.bbl_pluto)"
   ]
  },
  {
   "cell_type": "code",
   "execution_count": null,
   "metadata": {
    "collapsed": false
   },
   "outputs": [],
   "source": [
    "buildings.columns"
   ]
  },
  {
   "cell_type": "code",
   "execution_count": 181,
   "metadata": {
    "collapsed": false
   },
   "outputs": [
    {
     "data": {
      "text/plain": [
       "<module 'merge_pluto_finance_new' from '/Users/jacqueline/Desktop/reveal-estate/merge_pluto_finance_new.py'>"
      ]
     },
     "execution_count": 181,
     "metadata": {},
     "output_type": "execute_result"
    }
   ],
   "source": [
    "import merge_pluto_finance_new as mpf\n",
    "from importlib import reload\n",
    "reload(mpf)"
   ]
  },
  {
   "cell_type": "code",
   "execution_count": 182,
   "metadata": {
    "collapsed": true
   },
   "outputs": [],
   "source": [
    "boros = ['all']\n",
    "years = ['all']\n",
    "if years == [\"all\"]:\n",
    "    years = list(range(2003, 2017))\n",
    "if boros == [\"all\"]:\n",
    "    boros = [\"manhattan\", \"brooklyn\", \"queens\", \"bronx\", \"statenisland\"]"
   ]
  },
  {
   "cell_type": "code",
   "execution_count": 183,
   "metadata": {
    "collapsed": true
   },
   "outputs": [],
   "source": [
    "# Convert to lowercase and remove spaces in borough names\n",
    "boros = [\"\".join(boro.lower().split()) for boro in boros]"
   ]
  },
  {
   "cell_type": "code",
   "execution_count": 184,
   "metadata": {
    "collapsed": false
   },
   "outputs": [
    {
     "name": "stdout",
     "output_type": "stream",
     "text": [
      "Getting PLUTO data for: ['manhattan', 'brooklyn', 'queens', 'bronx', 'statenisland']\n"
     ]
    }
   ],
   "source": [
    "print(\"Getting PLUTO data for: {}\".format(boros))\n",
    "pluto = mpf.read_in_pluto(boros)"
   ]
  },
  {
   "cell_type": "code",
   "execution_count": 185,
   "metadata": {
    "collapsed": false
   },
   "outputs": [
    {
     "name": "stdout",
     "output_type": "stream",
     "text": [
      "Getting Finance data for: ['manhattan', 'brooklyn', 'queens', 'bronx', 'statenisland'] and [2003, 2004, 2005, 2006, 2007, 2008, 2009, 2010, 2011, 2012, 2013, 2014, 2015, 2016]\n",
      "Pulling Finance data for 2003_manhattan\n",
      "Pulling Finance data for 2003_brooklyn\n",
      "Pulling Finance data for 2003_queens\n",
      "Pulling Finance data for 2003_bronx\n",
      "Pulling Finance data for 2003_statenisland\n",
      "Pulling Finance data for 2004_manhattan\n",
      "Pulling Finance data for 2004_brooklyn\n",
      "Pulling Finance data for 2004_queens\n",
      "Pulling Finance data for 2004_bronx\n",
      "Pulling Finance data for 2004_statenisland\n",
      "Pulling Finance data for 2005_manhattan\n",
      "Pulling Finance data for 2005_brooklyn\n",
      "Pulling Finance data for 2005_queens\n",
      "Pulling Finance data for 2005_bronx\n",
      "Pulling Finance data for 2005_statenisland\n",
      "Pulling Finance data for 2006_manhattan\n",
      "Pulling Finance data for 2006_brooklyn\n",
      "Pulling Finance data for 2006_queens\n",
      "Pulling Finance data for 2006_bronx\n",
      "Pulling Finance data for 2006_statenisland\n",
      "Pulling Finance data for 2007_manhattan\n",
      "Pulling Finance data for 2007_brooklyn\n",
      "Pulling Finance data for 2007_queens\n",
      "Pulling Finance data for 2007_bronx\n",
      "Pulling Finance data for 2007_statenisland\n",
      "Pulling Finance data for 2008_manhattan\n",
      "Pulling Finance data for 2008_brooklyn\n",
      "Pulling Finance data for 2008_queens\n",
      "Pulling Finance data for 2008_bronx\n",
      "Pulling Finance data for 2008_statenisland\n",
      "Pulling Finance data for 2009_manhattan\n",
      "Pulling Finance data for 2009_brooklyn\n",
      "Pulling Finance data for 2009_queens\n",
      "Pulling Finance data for 2009_bronx\n",
      "Pulling Finance data for 2009_statenisland\n",
      "Pulling Finance data for 2010_manhattan\n",
      "Pulling Finance data for 2010_brooklyn\n",
      "Pulling Finance data for 2010_queens\n",
      "Pulling Finance data for 2010_bronx\n",
      "Pulling Finance data for 2010_statenisland\n",
      "Pulling Finance data for 2011_manhattan\n",
      "Pulling Finance data for 2011_brooklyn\n",
      "Pulling Finance data for 2011_queens\n",
      "Pulling Finance data for 2011_bronx\n",
      "Pulling Finance data for 2011_statenisland\n",
      "Pulling Finance data for 2012_manhattan\n",
      "Pulling Finance data for 2012_brooklyn\n",
      "Pulling Finance data for 2012_queens\n",
      "Pulling Finance data for 2012_bronx\n",
      "Pulling Finance data for 2012_statenisland\n",
      "Pulling Finance data for 2013_manhattan\n",
      "Pulling Finance data for 2013_brooklyn\n",
      "Pulling Finance data for 2013_queens\n",
      "Pulling Finance data for 2013_bronx\n",
      "Pulling Finance data for 2013_statenisland\n",
      "Pulling Finance data for 2014_manhattan\n",
      "Pulling Finance data for 2014_brooklyn\n",
      "Pulling Finance data for 2014_queens\n",
      "Pulling Finance data for 2014_bronx\n",
      "Pulling Finance data for 2014_statenisland\n",
      "Pulling Finance data for 2015_manhattan\n",
      "Pulling Finance data for 2015_brooklyn\n",
      "Pulling Finance data for 2015_queens\n",
      "Pulling Finance data for 2015_bronx\n",
      "Pulling Finance data for 2015_statenisland\n",
      "Pulling Finance data for 2016_manhattan\n",
      "Pulling Finance data for 2016_brooklyn\n",
      "Pulling Finance data for 2016_queens\n",
      "Pulling Finance data for 2016_bronx\n",
      "Pulling Finance data for 2016_statenisland\n",
      "Getting DTM Condo Unit data for: ['manhattan', 'brooklyn', 'queens', 'bronx', 'statenisland']\n"
     ]
    }
   ],
   "source": [
    "print(\"Getting Finance data for: {} and {}\".format(boros, years))\n",
    "finance = mpf.read_in_finance(boros, years)\n",
    "print(\"Getting DTM Condo Unit data for: {}\".format(boros))\n",
    "dtm = mpf.read_in_dtm(boros)"
   ]
  },
  {
   "cell_type": "code",
   "execution_count": 186,
   "metadata": {
    "collapsed": false
   },
   "outputs": [],
   "source": [
    "pluto_mn = mpf.read_in_pluto([\"manhattan\"])\n",
    "pluto_bk = mpf.read_in_pluto([\"brooklyn\"])\n",
    "pluto_qn = mpf.read_in_pluto([\"queens\"])\n",
    "pluto_bx = mpf.read_in_pluto([\"bronx\"])\n",
    "pluto_si = mpf.read_in_pluto([\"statenisland\"])"
   ]
  },
  {
   "cell_type": "code",
   "execution_count": 187,
   "metadata": {
    "collapsed": true
   },
   "outputs": [],
   "source": [
    "dtm_mn = mpf.read_in_dtm([\"manhattan\"])\n",
    "dtm_bk = mpf.read_in_dtm([\"brooklyn\"])\n",
    "dtm_qn = mpf.read_in_dtm([\"queens\"])\n",
    "dtm_bx = mpf.read_in_dtm([\"bronx\"])\n",
    "dtm_si = mpf.read_in_dtm([\"statenisland\"])"
   ]
  },
  {
   "cell_type": "code",
   "execution_count": 188,
   "metadata": {
    "collapsed": false
   },
   "outputs": [
    {
     "name": "stdout",
     "output_type": "stream",
     "text": [
      "(40257, 39) (40257, 39)\n",
      "(264930, 39) (264930, 39)\n",
      "(82816, 39) (82816, 39)\n",
      "(310646, 39) (310646, 39)\n",
      "(113715, 39) (113715, 39)\n"
     ]
    }
   ],
   "source": [
    "print(pluto_mn.shape, pluto_mn.drop_duplicates().shape)\n",
    "print(pluto_bk.shape, pluto_bk.drop_duplicates().shape)\n",
    "print(pluto_bx.shape, pluto_bx.drop_duplicates().shape)\n",
    "print(pluto_qn.shape, pluto_qn.drop_duplicates().shape)\n",
    "print(pluto_si.shape, pluto_si.drop_duplicates().shape)\n"
   ]
  },
  {
   "cell_type": "code",
   "execution_count": 189,
   "metadata": {
    "collapsed": false
   },
   "outputs": [
    {
     "name": "stdout",
     "output_type": "stream",
     "text": [
      "Pulling Finance data for 2003_manhattan\n",
      "Pulling Finance data for 2004_manhattan\n",
      "Pulling Finance data for 2005_manhattan\n",
      "Pulling Finance data for 2006_manhattan\n",
      "Pulling Finance data for 2007_manhattan\n",
      "Pulling Finance data for 2008_manhattan\n",
      "Pulling Finance data for 2009_manhattan\n",
      "Pulling Finance data for 2010_manhattan\n",
      "Pulling Finance data for 2011_manhattan\n",
      "Pulling Finance data for 2012_manhattan\n",
      "Pulling Finance data for 2013_manhattan\n",
      "Pulling Finance data for 2014_manhattan\n",
      "Pulling Finance data for 2015_manhattan\n",
      "Pulling Finance data for 2016_manhattan\n",
      "Pulling Finance data for 2003_brooklyn\n",
      "Pulling Finance data for 2004_brooklyn\n",
      "Pulling Finance data for 2005_brooklyn\n",
      "Pulling Finance data for 2006_brooklyn\n",
      "Pulling Finance data for 2007_brooklyn\n",
      "Pulling Finance data for 2008_brooklyn\n",
      "Pulling Finance data for 2009_brooklyn\n",
      "Pulling Finance data for 2010_brooklyn\n",
      "Pulling Finance data for 2011_brooklyn\n",
      "Pulling Finance data for 2012_brooklyn\n",
      "Pulling Finance data for 2013_brooklyn\n",
      "Pulling Finance data for 2014_brooklyn\n",
      "Pulling Finance data for 2015_brooklyn\n",
      "Pulling Finance data for 2016_brooklyn\n",
      "Pulling Finance data for 2003_queens\n",
      "Pulling Finance data for 2004_queens\n",
      "Pulling Finance data for 2005_queens\n",
      "Pulling Finance data for 2006_queens\n",
      "Pulling Finance data for 2007_queens\n",
      "Pulling Finance data for 2008_queens\n",
      "Pulling Finance data for 2009_queens\n",
      "Pulling Finance data for 2010_queens\n",
      "Pulling Finance data for 2011_queens\n",
      "Pulling Finance data for 2012_queens\n",
      "Pulling Finance data for 2013_queens\n",
      "Pulling Finance data for 2014_queens\n",
      "Pulling Finance data for 2015_queens\n",
      "Pulling Finance data for 2016_queens\n",
      "Pulling Finance data for 2003_bronx\n",
      "Pulling Finance data for 2004_bronx\n",
      "Pulling Finance data for 2005_bronx\n",
      "Pulling Finance data for 2006_bronx\n",
      "Pulling Finance data for 2007_bronx\n",
      "Pulling Finance data for 2008_bronx\n",
      "Pulling Finance data for 2009_bronx\n",
      "Pulling Finance data for 2010_bronx\n",
      "Pulling Finance data for 2011_bronx\n",
      "Pulling Finance data for 2012_bronx\n",
      "Pulling Finance data for 2013_bronx\n",
      "Pulling Finance data for 2014_bronx\n",
      "Pulling Finance data for 2015_bronx\n",
      "Pulling Finance data for 2016_bronx\n",
      "Pulling Finance data for 2003_statenisland\n",
      "Pulling Finance data for 2004_statenisland\n",
      "Pulling Finance data for 2005_statenisland\n",
      "Pulling Finance data for 2006_statenisland\n",
      "Pulling Finance data for 2007_statenisland\n",
      "Pulling Finance data for 2008_statenisland\n",
      "Pulling Finance data for 2009_statenisland\n",
      "Pulling Finance data for 2010_statenisland\n",
      "Pulling Finance data for 2011_statenisland\n",
      "Pulling Finance data for 2012_statenisland\n",
      "Pulling Finance data for 2013_statenisland\n",
      "Pulling Finance data for 2014_statenisland\n",
      "Pulling Finance data for 2015_statenisland\n",
      "Pulling Finance data for 2016_statenisland\n"
     ]
    }
   ],
   "source": [
    "finance_mn = mpf.read_in_finance([\"manhattan\"], years)\n",
    "finance_bk = mpf.read_in_finance([\"brooklyn\"], years)\n",
    "finance_qn = mpf.read_in_finance([\"queens\"], years)\n",
    "finance_bx = mpf.read_in_finance([\"bronx\"], years)\n",
    "finance_si = mpf.read_in_finance([\"statenisland\"], years)"
   ]
  },
  {
   "cell_type": "code",
   "execution_count": 190,
   "metadata": {
    "collapsed": false
   },
   "outputs": [
    {
     "name": "stdout",
     "output_type": "stream",
     "text": [
      "0\n",
      "0\n",
      "0\n",
      "0\n",
      "0\n",
      "0\n",
      "0\n",
      "0\n",
      "0\n",
      "0\n",
      "0\n",
      "0\n"
     ]
    }
   ],
   "source": [
    "dfs = [pluto, pluto_mn, pluto_bk, pluto_qn, pluto_bx, pluto_si, \n",
    "      finance, finance_mn, finance_bk, finance_qn, finance_bx, finance_si]\n",
    "\n",
    "for d in dfs: \n",
    "    compare_block = pd.Series([x[1:6] for x in d.bbl], index=d.index).astype(int)\n",
    "    check_blocks = d.loc[lambda df: df.block != compare_block]\n",
    "    print(check_blocks.shape[0])"
   ]
  },
  {
   "cell_type": "code",
   "execution_count": 191,
   "metadata": {
    "collapsed": false
   },
   "outputs": [
    {
     "data": {
      "text/plain": [
       "True"
      ]
     },
     "execution_count": 191,
     "metadata": {},
     "output_type": "execute_result"
    }
   ],
   "source": [
    "finance.shape[0] == (finance_mn.shape[0] + finance_bk.shape[0] + \n",
    "                     finance_bx.shape[0] + finance_qn.shape[0] + finance_si.shape[0])"
   ]
  },
  {
   "cell_type": "code",
   "execution_count": 192,
   "metadata": {
    "collapsed": false
   },
   "outputs": [],
   "source": [
    "finance_condo_updated = mpf.get_finance_condo_lot(pluto = pluto,\n",
    "        finance = finance, dtm = dtm)"
   ]
  },
  {
   "cell_type": "code",
   "execution_count": 193,
   "metadata": {
    "collapsed": true
   },
   "outputs": [],
   "source": [
    "finance_condo_updated_mn = mpf.get_finance_condo_lot(pluto = pluto_mn,\n",
    "        finance = finance_mn, dtm = dtm_mn)\n",
    "finance_condo_updated_bk = mpf.get_finance_condo_lot(pluto = pluto_bk,\n",
    "        finance = finance_bk, dtm = dtm_bk)\n",
    "finance_condo_updated_qn = mpf.get_finance_condo_lot(pluto = pluto_qn,\n",
    "        finance = finance_qn, dtm = dtm_qn)\n",
    "finance_condo_updated_bx = mpf.get_finance_condo_lot(pluto = pluto_bx,\n",
    "        finance = finance_bx, dtm = dtm_bx)\n",
    "finance_condo_updated_si = mpf.get_finance_condo_lot(pluto = pluto_si,\n",
    "        finance = finance_si, dtm = dtm_si)"
   ]
  },
  {
   "cell_type": "code",
   "execution_count": 198,
   "metadata": {
    "collapsed": false
   },
   "outputs": [
    {
     "name": "stdout",
     "output_type": "stream",
     "text": [
      "0\n",
      "0\n",
      "0\n",
      "0\n",
      "0\n",
      "0\n"
     ]
    }
   ],
   "source": [
    "dfs = [finance_condo_updated, finance_condo_updated_mn, finance_condo_updated_bk,\n",
    "      finance_condo_updated_bx, finance_condo_updated_qn, finance_condo_updated_si]\n",
    "\n",
    "for d in dfs: \n",
    "    compare_block = pd.Series([x[1:6] for x in d.bbl_pluto], index=d.index).astype(int)\n",
    "    check_blocks = d.loc[lambda df: df.block != compare_block]\n",
    "    print(check_blocks.shape[0])"
   ]
  },
  {
   "cell_type": "code",
   "execution_count": 199,
   "metadata": {
    "collapsed": true
   },
   "outputs": [],
   "source": [
    "finance_condo_updated = finance_condo_updated.drop(\n",
    "        ['block', 'bbl_finance'], axis=1)\n",
    "finance_condo_updated_mn = finance_condo_updated_mn.drop(\n",
    "        ['block', 'bbl_finance'], axis=1)\n",
    "finance_condo_updated_bk = finance_condo_updated_bk.drop(\n",
    "        ['block', 'bbl_finance'], axis=1)\n",
    "finance_condo_updated_qn = finance_condo_updated_qn.drop(\n",
    "        ['block', 'bbl_finance'], axis=1)\n",
    "finance_condo_updated_bx = finance_condo_updated_bx.drop(\n",
    "        ['block', 'bbl_finance'], axis=1)\n",
    "finance_condo_updated_si = finance_condo_updated_si.drop(\n",
    "        ['block', 'bbl_finance'], axis=1)"
   ]
  },
  {
   "cell_type": "code",
   "execution_count": 200,
   "metadata": {
    "collapsed": false
   },
   "outputs": [
    {
     "name": "stdout",
     "output_type": "stream",
     "text": [
      "(1341451, 8)\n",
      "(789932, 8)\n"
     ]
    }
   ],
   "source": [
    "print(finance.shape)\n",
    "print(finance_condo_updated.shape)"
   ]
  },
  {
   "cell_type": "code",
   "execution_count": 201,
   "metadata": {
    "collapsed": false
   },
   "outputs": [
    {
     "name": "stdout",
     "output_type": "stream",
     "text": [
      "Finance:(1341451, 8) PLUTO:(812364, 39) DTM:(239263, 6)\n",
      "Finance updated:(789932, 10)\n"
     ]
    }
   ],
   "source": [
    "print(\"Finance:{} PLUTO:{} DTM:{}\".format(finance.shape,\n",
    "    pluto.shape, dtm.shape))\n",
    "finance_condo_updated = mpf.get_finance_condo_lot(pluto = pluto,\n",
    "    finance = finance, dtm = dtm)\n",
    "print(\"Finance updated:{}\".format(finance_condo_updated.shape))"
   ]
  },
  {
   "cell_type": "code",
   "execution_count": 205,
   "metadata": {
    "collapsed": false
   },
   "outputs": [
    {
     "name": "stdout",
     "output_type": "stream",
     "text": [
      "Merging PLUTO with updated Dept. of Finance data\n",
      "(508134, 50)\n"
     ]
    }
   ],
   "source": [
    "print(\"Merging PLUTO with updated Dept. of Finance data\")\n",
    "buildings = pd.merge(pluto, finance_condo_updated, how='right',\n",
    "    left_on='bbl', right_on = 'bbl_pluto',\n",
    "    suffixes=['_pluto', '_finance'])\n",
    "buildings[\"price_per_sqft\"] = (buildings.sale_price.astype('float64') /\n",
    "    buildings.gross_sqft_pluto)\n",
    "buildings = buildings[ buildings.price_per_sqft.notnull()]\n",
    "buildings = buildings[ buildings.price_per_sqft > 0.]\n",
    "print(buildings.shape)"
   ]
  },
  {
   "cell_type": "code",
   "execution_count": 206,
   "metadata": {
    "collapsed": false
   },
   "outputs": [
    {
     "data": {
      "text/plain": [
       "Index(['borough', 'block_pluto', 'schooldist', 'council', 'ltdheight',\n",
       "       'splitzone', 'bldgclass', 'landuse', 'easements', 'ownertype',\n",
       "       'comarea', 'resarea', 'numbldgs', 'numfloors', 'unitsres', 'unitstotal',\n",
       "       'lotfront', 'lotdepth', 'bldgfront', 'bldgdepth', 'proxcode',\n",
       "       'irrlotcode', 'lottype', 'bsmtcode', 'yearbuilt', 'builtcode',\n",
       "       'histdist', 'landmark', 'borocode', 'bbl', 'condono', 'xcoord',\n",
       "       'ycoord', 'latitude', 'longitude', 'gross_sqft_pluto', 'garage',\n",
       "       'extension', 'countalter', 'block_finance', 'sale_price', 'sale_date',\n",
       "       'tax_class_at_time_of_sale', 'residential_units', 'commercial_units',\n",
       "       'total_units', 'bbl_finance', 'bbl_pluto', 'sale_year',\n",
       "       'price_per_sqft'],\n",
       "      dtype='object')"
      ]
     },
     "execution_count": 206,
     "metadata": {},
     "output_type": "execute_result"
    }
   ],
   "source": [
    "buildings.columns"
   ]
  },
  {
   "cell_type": "code",
   "execution_count": 202,
   "metadata": {
    "collapsed": false
   },
   "outputs": [
    {
     "name": "stdout",
     "output_type": "stream",
     "text": [
      "Finance:(338528, 8) PLUTO:(40257, 39) DTM:(113655, 6)\n",
      "Finance updated:(77215, 10)\n"
     ]
    }
   ],
   "source": [
    "print(\"Finance:{} PLUTO:{} DTM:{}\".format(finance_mn.shape,\n",
    "    pluto_mn.shape, dtm_mn.shape))\n",
    "finance_condo_updated_mn = mpf.get_finance_condo_lot(pluto = pluto_mn,\n",
    "    finance = finance_mn, dtm = dtm_mn)\n",
    "print(\"Finance updated:{}\".format(finance_condo_updated_mn.shape))"
   ]
  },
  {
   "cell_type": "code",
   "execution_count": 203,
   "metadata": {
    "collapsed": false
   },
   "outputs": [
    {
     "name": "stdout",
     "output_type": "stream",
     "text": [
      "Finance:(408436, 8) PLUTO:(310646, 39) DTM:(40498, 6)\n",
      "Finance updated:(282142, 10)\n"
     ]
    }
   ],
   "source": [
    "print(\"Finance:{} PLUTO:{} DTM:{}\".format(finance_qn.shape,\n",
    "    pluto_qn.shape, dtm_qn.shape))\n",
    "finance_condo_updated_qn = mpf.get_finance_condo_lot(pluto = pluto_qn,\n",
    "    finance = finance_qn, dtm = dtm_qn)\n",
    "print(\"Finance updated:{}\".format(finance_condo_updated_qn.shape))"
   ]
  },
  {
   "cell_type": "code",
   "execution_count": 204,
   "metadata": {
    "collapsed": false
   },
   "outputs": [
    {
     "name": "stdout",
     "output_type": "stream",
     "text": [
      "Finance:(371517, 8) PLUTO:(264930, 39) DTM:(56905, 6)\n",
      "Finance updated:(255912, 10)\n"
     ]
    }
   ],
   "source": [
    "print(\"Finance:{} PLUTO:{} DTM:{}\".format(finance_bk.shape,\n",
    "    pluto_bk.shape, dtm_bk.shape))\n",
    "finance_condo_updated_bk = mpf.get_finance_condo_lot(pluto = pluto_bk,\n",
    "    finance = finance_bk, dtm = dtm_bk)\n",
    "print(\"Finance updated:{}\".format(finance_condo_updated_bk.shape))"
   ]
  },
  {
   "cell_type": "code",
   "execution_count": 207,
   "metadata": {
    "collapsed": false
   },
   "outputs": [],
   "source": [
    "data_full = pd.read_csv('data/merged/bronx_brooklyn_manhattan_queens_statenisland_2003_2016.csv', \n",
    "                        low_memory = False)"
   ]
  },
  {
   "cell_type": "code",
   "execution_count": 212,
   "metadata": {
    "collapsed": false
   },
   "outputs": [
    {
     "data": {
      "text/plain": [
       "False"
      ]
     },
     "execution_count": 212,
     "metadata": {},
     "output_type": "execute_result"
    }
   ],
   "source": [
    "'longitude' in data_full.columns"
   ]
  },
  {
   "cell_type": "code",
   "execution_count": 136,
   "metadata": {
    "collapsed": false
   },
   "outputs": [
    {
     "data": {
      "text/html": [
       "<div>\n",
       "<table border=\"1\" class=\"dataframe\">\n",
       "  <thead>\n",
       "    <tr style=\"text-align: right;\">\n",
       "      <th></th>\n",
       "      <th>block</th>\n",
       "      <th>bbl</th>\n",
       "      <th>sale_price</th>\n",
       "      <th>sale_date</th>\n",
       "      <th>tax_class_at_time_of_sale</th>\n",
       "      <th>residential_units</th>\n",
       "      <th>commercial_units</th>\n",
       "      <th>total_units</th>\n",
       "    </tr>\n",
       "  </thead>\n",
       "  <tbody>\n",
       "    <tr>\n",
       "      <th>46383</th>\n",
       "      <td>8731</td>\n",
       "      <td>3087310024</td>\n",
       "      <td>700000</td>\n",
       "      <td>2003-10-27</td>\n",
       "      <td>1</td>\n",
       "      <td>1</td>\n",
       "      <td>0</td>\n",
       "      <td>1</td>\n",
       "    </tr>\n",
       "    <tr>\n",
       "      <th>46384</th>\n",
       "      <td>8731</td>\n",
       "      <td>3087310036</td>\n",
       "      <td>0</td>\n",
       "      <td>2003-08-27</td>\n",
       "      <td>1</td>\n",
       "      <td>1</td>\n",
       "      <td>0</td>\n",
       "      <td>1</td>\n",
       "    </tr>\n",
       "    <tr>\n",
       "      <th>46385</th>\n",
       "      <td>8731</td>\n",
       "      <td>3087310043</td>\n",
       "      <td>1750000</td>\n",
       "      <td>2003-06-05</td>\n",
       "      <td>1</td>\n",
       "      <td>1</td>\n",
       "      <td>0</td>\n",
       "      <td>1</td>\n",
       "    </tr>\n",
       "    <tr>\n",
       "      <th>46386</th>\n",
       "      <td>8731</td>\n",
       "      <td>3087310046</td>\n",
       "      <td>700000</td>\n",
       "      <td>2003-09-16</td>\n",
       "      <td>1</td>\n",
       "      <td>1</td>\n",
       "      <td>0</td>\n",
       "      <td>1</td>\n",
       "    </tr>\n",
       "    <tr>\n",
       "      <th>46387</th>\n",
       "      <td>8731</td>\n",
       "      <td>3087310051</td>\n",
       "      <td>0</td>\n",
       "      <td>2003-05-01</td>\n",
       "      <td>1</td>\n",
       "      <td>1</td>\n",
       "      <td>1</td>\n",
       "      <td>2</td>\n",
       "    </tr>\n",
       "    <tr>\n",
       "      <th>46388</th>\n",
       "      <td>8731</td>\n",
       "      <td>3087310054</td>\n",
       "      <td>1775000</td>\n",
       "      <td>2003-04-15</td>\n",
       "      <td>1</td>\n",
       "      <td>1</td>\n",
       "      <td>0</td>\n",
       "      <td>1</td>\n",
       "    </tr>\n",
       "    <tr>\n",
       "      <th>169454</th>\n",
       "      <td>8731</td>\n",
       "      <td>3087310018</td>\n",
       "      <td>1750000</td>\n",
       "      <td>2004-05-13</td>\n",
       "      <td>1</td>\n",
       "      <td>1</td>\n",
       "      <td>0</td>\n",
       "      <td>1</td>\n",
       "    </tr>\n",
       "    <tr>\n",
       "      <th>169455</th>\n",
       "      <td>8731</td>\n",
       "      <td>3087310051</td>\n",
       "      <td>915000</td>\n",
       "      <td>2004-04-09</td>\n",
       "      <td>1</td>\n",
       "      <td>1</td>\n",
       "      <td>1</td>\n",
       "      <td>2</td>\n",
       "    </tr>\n",
       "    <tr>\n",
       "      <th>169522</th>\n",
       "      <td>8731</td>\n",
       "      <td>3087310026</td>\n",
       "      <td>900000</td>\n",
       "      <td>2004-07-06</td>\n",
       "      <td>1</td>\n",
       "      <td>2</td>\n",
       "      <td>0</td>\n",
       "      <td>2</td>\n",
       "    </tr>\n",
       "    <tr>\n",
       "      <th>296174</th>\n",
       "      <td>8731</td>\n",
       "      <td>3087310018</td>\n",
       "      <td>2200000</td>\n",
       "      <td>2005-07-19</td>\n",
       "      <td>1</td>\n",
       "      <td>1</td>\n",
       "      <td>0</td>\n",
       "      <td>1</td>\n",
       "    </tr>\n",
       "    <tr>\n",
       "      <th>296213</th>\n",
       "      <td>8731</td>\n",
       "      <td>3087310040</td>\n",
       "      <td>0</td>\n",
       "      <td>2005-12-29</td>\n",
       "      <td>1</td>\n",
       "      <td>1</td>\n",
       "      <td>0</td>\n",
       "      <td>1</td>\n",
       "    </tr>\n",
       "    <tr>\n",
       "      <th>418252</th>\n",
       "      <td>8731</td>\n",
       "      <td>3087310063</td>\n",
       "      <td>1300000</td>\n",
       "      <td>2006-04-24</td>\n",
       "      <td>1</td>\n",
       "      <td>1</td>\n",
       "      <td>0</td>\n",
       "      <td>1</td>\n",
       "    </tr>\n",
       "    <tr>\n",
       "      <th>418285</th>\n",
       "      <td>8731</td>\n",
       "      <td>3087310040</td>\n",
       "      <td>0</td>\n",
       "      <td>2006-12-29</td>\n",
       "      <td>1</td>\n",
       "      <td>1</td>\n",
       "      <td>0</td>\n",
       "      <td>1</td>\n",
       "    </tr>\n",
       "    <tr>\n",
       "      <th>532778</th>\n",
       "      <td>8731</td>\n",
       "      <td>3087310040</td>\n",
       "      <td>0</td>\n",
       "      <td>2007-01-13</td>\n",
       "      <td>1</td>\n",
       "      <td>1</td>\n",
       "      <td>0</td>\n",
       "      <td>1</td>\n",
       "    </tr>\n",
       "    <tr>\n",
       "      <th>633093</th>\n",
       "      <td>8731</td>\n",
       "      <td>3087310024</td>\n",
       "      <td>0</td>\n",
       "      <td>2008-11-06</td>\n",
       "      <td>1</td>\n",
       "      <td>1</td>\n",
       "      <td>0</td>\n",
       "      <td>1</td>\n",
       "    </tr>\n",
       "    <tr>\n",
       "      <th>633094</th>\n",
       "      <td>8731</td>\n",
       "      <td>3087310051</td>\n",
       "      <td>0</td>\n",
       "      <td>2008-12-18</td>\n",
       "      <td>1</td>\n",
       "      <td>1</td>\n",
       "      <td>1</td>\n",
       "      <td>2</td>\n",
       "    </tr>\n",
       "    <tr>\n",
       "      <th>633145</th>\n",
       "      <td>8731</td>\n",
       "      <td>3087310040</td>\n",
       "      <td>0</td>\n",
       "      <td>2008-03-22</td>\n",
       "      <td>1</td>\n",
       "      <td>1</td>\n",
       "      <td>0</td>\n",
       "      <td>1</td>\n",
       "    </tr>\n",
       "    <tr>\n",
       "      <th>715259</th>\n",
       "      <td>8731</td>\n",
       "      <td>3087310018</td>\n",
       "      <td>0</td>\n",
       "      <td>2009-01-08</td>\n",
       "      <td>1</td>\n",
       "      <td>1</td>\n",
       "      <td>0</td>\n",
       "      <td>1</td>\n",
       "    </tr>\n",
       "    <tr>\n",
       "      <th>715260</th>\n",
       "      <td>8731</td>\n",
       "      <td>3087310046</td>\n",
       "      <td>0</td>\n",
       "      <td>2009-01-27</td>\n",
       "      <td>1</td>\n",
       "      <td>1</td>\n",
       "      <td>0</td>\n",
       "      <td>1</td>\n",
       "    </tr>\n",
       "    <tr>\n",
       "      <th>715294</th>\n",
       "      <td>8731</td>\n",
       "      <td>3087310040</td>\n",
       "      <td>0</td>\n",
       "      <td>2009-01-24</td>\n",
       "      <td>1</td>\n",
       "      <td>1</td>\n",
       "      <td>0</td>\n",
       "      <td>1</td>\n",
       "    </tr>\n",
       "    <tr>\n",
       "      <th>787526</th>\n",
       "      <td>8731</td>\n",
       "      <td>3087310018</td>\n",
       "      <td>3175000</td>\n",
       "      <td>2010-12-22</td>\n",
       "      <td>1</td>\n",
       "      <td>1</td>\n",
       "      <td>0</td>\n",
       "      <td>1</td>\n",
       "    </tr>\n",
       "    <tr>\n",
       "      <th>787569</th>\n",
       "      <td>8731</td>\n",
       "      <td>3087310037</td>\n",
       "      <td>0</td>\n",
       "      <td>2010-06-27</td>\n",
       "      <td>1</td>\n",
       "      <td>2</td>\n",
       "      <td>0</td>\n",
       "      <td>2</td>\n",
       "    </tr>\n",
       "    <tr>\n",
       "      <th>787570</th>\n",
       "      <td>8731</td>\n",
       "      <td>3087310040</td>\n",
       "      <td>1250000</td>\n",
       "      <td>2010-12-07</td>\n",
       "      <td>1</td>\n",
       "      <td>1</td>\n",
       "      <td>0</td>\n",
       "      <td>1</td>\n",
       "    </tr>\n",
       "    <tr>\n",
       "      <th>787571</th>\n",
       "      <td>8731</td>\n",
       "      <td>3087310040</td>\n",
       "      <td>0</td>\n",
       "      <td>2010-01-23</td>\n",
       "      <td>1</td>\n",
       "      <td>1</td>\n",
       "      <td>0</td>\n",
       "      <td>1</td>\n",
       "    </tr>\n",
       "    <tr>\n",
       "      <th>941816</th>\n",
       "      <td>8731</td>\n",
       "      <td>3087310069</td>\n",
       "      <td>2900000</td>\n",
       "      <td>2012-03-15</td>\n",
       "      <td>1</td>\n",
       "      <td>1</td>\n",
       "      <td>0</td>\n",
       "      <td>1</td>\n",
       "    </tr>\n",
       "    <tr>\n",
       "      <th>1116032</th>\n",
       "      <td>8731</td>\n",
       "      <td>3087310018</td>\n",
       "      <td>2950000</td>\n",
       "      <td>2014-10-21</td>\n",
       "      <td>1</td>\n",
       "      <td>1</td>\n",
       "      <td>0</td>\n",
       "      <td>1</td>\n",
       "    </tr>\n",
       "    <tr>\n",
       "      <th>1116033</th>\n",
       "      <td>8731</td>\n",
       "      <td>3087310046</td>\n",
       "      <td>999000</td>\n",
       "      <td>2014-08-28</td>\n",
       "      <td>1</td>\n",
       "      <td>1</td>\n",
       "      <td>0</td>\n",
       "      <td>1</td>\n",
       "    </tr>\n",
       "    <tr>\n",
       "      <th>1116034</th>\n",
       "      <td>8731</td>\n",
       "      <td>3087310050</td>\n",
       "      <td>880000</td>\n",
       "      <td>2014-08-21</td>\n",
       "      <td>1</td>\n",
       "      <td>1</td>\n",
       "      <td>0</td>\n",
       "      <td>1</td>\n",
       "    </tr>\n",
       "    <tr>\n",
       "      <th>1205284</th>\n",
       "      <td>8731</td>\n",
       "      <td>3087310037</td>\n",
       "      <td>1550000</td>\n",
       "      <td>2015-03-03</td>\n",
       "      <td>1</td>\n",
       "      <td>2</td>\n",
       "      <td>0</td>\n",
       "      <td>2</td>\n",
       "    </tr>\n",
       "    <tr>\n",
       "      <th>1293273</th>\n",
       "      <td>8731</td>\n",
       "      <td>3087310058</td>\n",
       "      <td>0</td>\n",
       "      <td>2016-04-08</td>\n",
       "      <td>1</td>\n",
       "      <td>1</td>\n",
       "      <td>0</td>\n",
       "      <td>1</td>\n",
       "    </tr>\n",
       "  </tbody>\n",
       "</table>\n",
       "</div>"
      ],
      "text/plain": [
       "         block         bbl  sale_price  sale_date  tax_class_at_time_of_sale  \\\n",
       "46383     8731  3087310024      700000 2003-10-27                          1   \n",
       "46384     8731  3087310036           0 2003-08-27                          1   \n",
       "46385     8731  3087310043     1750000 2003-06-05                          1   \n",
       "46386     8731  3087310046      700000 2003-09-16                          1   \n",
       "46387     8731  3087310051           0 2003-05-01                          1   \n",
       "46388     8731  3087310054     1775000 2003-04-15                          1   \n",
       "169454    8731  3087310018     1750000 2004-05-13                          1   \n",
       "169455    8731  3087310051      915000 2004-04-09                          1   \n",
       "169522    8731  3087310026      900000 2004-07-06                          1   \n",
       "296174    8731  3087310018     2200000 2005-07-19                          1   \n",
       "296213    8731  3087310040           0 2005-12-29                          1   \n",
       "418252    8731  3087310063     1300000 2006-04-24                          1   \n",
       "418285    8731  3087310040           0 2006-12-29                          1   \n",
       "532778    8731  3087310040           0 2007-01-13                          1   \n",
       "633093    8731  3087310024           0 2008-11-06                          1   \n",
       "633094    8731  3087310051           0 2008-12-18                          1   \n",
       "633145    8731  3087310040           0 2008-03-22                          1   \n",
       "715259    8731  3087310018           0 2009-01-08                          1   \n",
       "715260    8731  3087310046           0 2009-01-27                          1   \n",
       "715294    8731  3087310040           0 2009-01-24                          1   \n",
       "787526    8731  3087310018     3175000 2010-12-22                          1   \n",
       "787569    8731  3087310037           0 2010-06-27                          1   \n",
       "787570    8731  3087310040     1250000 2010-12-07                          1   \n",
       "787571    8731  3087310040           0 2010-01-23                          1   \n",
       "941816    8731  3087310069     2900000 2012-03-15                          1   \n",
       "1116032   8731  3087310018     2950000 2014-10-21                          1   \n",
       "1116033   8731  3087310046      999000 2014-08-28                          1   \n",
       "1116034   8731  3087310050      880000 2014-08-21                          1   \n",
       "1205284   8731  3087310037     1550000 2015-03-03                          1   \n",
       "1293273   8731  3087310058           0 2016-04-08                          1   \n",
       "\n",
       "         residential_units  commercial_units  total_units  \n",
       "46383                    1                 0            1  \n",
       "46384                    1                 0            1  \n",
       "46385                    1                 0            1  \n",
       "46386                    1                 0            1  \n",
       "46387                    1                 1            2  \n",
       "46388                    1                 0            1  \n",
       "169454                   1                 0            1  \n",
       "169455                   1                 1            2  \n",
       "169522                   2                 0            2  \n",
       "296174                   1                 0            1  \n",
       "296213                   1                 0            1  \n",
       "418252                   1                 0            1  \n",
       "418285                   1                 0            1  \n",
       "532778                   1                 0            1  \n",
       "633093                   1                 0            1  \n",
       "633094                   1                 1            2  \n",
       "633145                   1                 0            1  \n",
       "715259                   1                 0            1  \n",
       "715260                   1                 0            1  \n",
       "715294                   1                 0            1  \n",
       "787526                   1                 0            1  \n",
       "787569                   2                 0            2  \n",
       "787570                   1                 0            1  \n",
       "787571                   1                 0            1  \n",
       "941816                   1                 0            1  \n",
       "1116032                  1                 0            1  \n",
       "1116033                  1                 0            1  \n",
       "1116034                  1                 0            1  \n",
       "1205284                  2                 0            2  \n",
       "1293273                  1                 0            1  "
      ]
     },
     "execution_count": 136,
     "metadata": {},
     "output_type": "execute_result"
    }
   ],
   "source": [
    "finance.loc[(finance.block == 8731)]"
   ]
  },
  {
   "cell_type": "code",
   "execution_count": 125,
   "metadata": {
    "collapsed": false
   },
   "outputs": [
    {
     "name": "stdout",
     "output_type": "stream",
     "text": [
      "Pulling Finance data for 2003_manhattan\n",
      "Pulling Finance data for 2003_brooklyn\n",
      "Pulling Finance data for 2003_queens\n",
      "Pulling Finance data for 2003_bronx\n",
      "Pulling Finance data for 2003_statenisland\n",
      "Pulling Finance data for 2004_manhattan\n",
      "Pulling Finance data for 2004_brooklyn\n",
      "Pulling Finance data for 2004_queens\n",
      "Pulling Finance data for 2004_bronx\n",
      "Pulling Finance data for 2004_statenisland\n",
      "Pulling Finance data for 2005_manhattan\n",
      "Pulling Finance data for 2005_brooklyn\n",
      "Pulling Finance data for 2005_queens\n",
      "Pulling Finance data for 2005_bronx\n",
      "Pulling Finance data for 2005_statenisland\n",
      "Pulling Finance data for 2006_manhattan\n",
      "Pulling Finance data for 2006_brooklyn\n",
      "Pulling Finance data for 2006_queens\n",
      "Pulling Finance data for 2006_bronx\n",
      "Pulling Finance data for 2006_statenisland\n",
      "Pulling Finance data for 2007_manhattan\n",
      "Pulling Finance data for 2007_brooklyn\n",
      "Pulling Finance data for 2007_queens\n",
      "Pulling Finance data for 2007_bronx\n",
      "Pulling Finance data for 2007_statenisland\n",
      "Pulling Finance data for 2008_manhattan\n",
      "Pulling Finance data for 2008_brooklyn\n",
      "Pulling Finance data for 2008_queens\n",
      "Pulling Finance data for 2008_bronx\n",
      "Pulling Finance data for 2008_statenisland\n",
      "Pulling Finance data for 2009_manhattan\n",
      "Pulling Finance data for 2009_brooklyn\n",
      "Pulling Finance data for 2009_queens\n",
      "Pulling Finance data for 2009_bronx\n",
      "Pulling Finance data for 2009_statenisland\n",
      "Pulling Finance data for 2010_manhattan\n",
      "Pulling Finance data for 2010_brooklyn\n",
      "Pulling Finance data for 2010_queens\n",
      "Pulling Finance data for 2010_bronx\n",
      "Pulling Finance data for 2010_statenisland\n",
      "Pulling Finance data for 2011_manhattan\n",
      "Pulling Finance data for 2011_brooklyn\n",
      "Pulling Finance data for 2011_queens\n",
      "Pulling Finance data for 2011_bronx\n",
      "Pulling Finance data for 2011_statenisland\n",
      "Pulling Finance data for 2012_manhattan\n",
      "Pulling Finance data for 2012_brooklyn\n",
      "Pulling Finance data for 2012_queens\n",
      "Pulling Finance data for 2012_bronx\n",
      "Pulling Finance data for 2012_statenisland\n",
      "Pulling Finance data for 2013_manhattan\n",
      "Pulling Finance data for 2013_brooklyn\n",
      "Pulling Finance data for 2013_queens\n",
      "Pulling Finance data for 2013_bronx\n",
      "Pulling Finance data for 2013_statenisland\n",
      "Pulling Finance data for 2014_manhattan\n",
      "Pulling Finance data for 2014_brooklyn\n",
      "Pulling Finance data for 2014_queens\n",
      "Pulling Finance data for 2014_bronx\n",
      "Pulling Finance data for 2014_statenisland\n",
      "Pulling Finance data for 2015_manhattan\n",
      "Pulling Finance data for 2015_brooklyn\n",
      "Pulling Finance data for 2015_queens\n",
      "Pulling Finance data for 2015_bronx\n",
      "Pulling Finance data for 2015_statenisland\n",
      "Pulling Finance data for 2016_manhattan\n",
      "Pulling Finance data for 2016_brooklyn\n",
      "Pulling Finance data for 2016_queens\n",
      "Pulling Finance data for 2016_bronx\n",
      "Pulling Finance data for 2016_statenisland\n"
     ]
    }
   ],
   "source": [
    "data_dir = \"data/finance_sales\"\n",
    "finance = pd.DataFrame()\n",
    "for year in years:\n",
    "    for borough in boros:\n",
    "        print(\"Pulling Finance data for {}_{}\".format(year, borough))\n",
    "        boro_year = mpf.read_in_boro_year_data(borough, year, data_dir)\n",
    "        boro_year.dropna(how = 'all', inplace = True)\n",
    "        finance = finance.append(boro_year)"
   ]
  },
  {
   "cell_type": "code",
   "execution_count": 127,
   "metadata": {
    "collapsed": false
   },
   "outputs": [
    {
     "data": {
      "text/plain": [
       "borough                                                                      1\n",
       "neighborhood                                         ALPHABET CITY            \n",
       "building_class_category           02  TWO FAMILY HOMES                        \n",
       "tax_class_at_present                                                         1\n",
       "block                                                                      375\n",
       "lot                                                                         32\n",
       "ease-ment                                                                     \n",
       "building_class_at_present                                                   B9\n",
       "address                              746 EAST 6 STREET                        \n",
       "apartment_number                                                              \n",
       "zip_code                                                                 10009\n",
       "residential_units                                                            2\n",
       "commercial_units                                                             0\n",
       "total_units                                                                  2\n",
       "land_square_feet                                                          2134\n",
       "gross_square_feet                                                         3542\n",
       "year_built                                                                1899\n",
       "tax_class_at_time_of_sale                                                    1\n",
       "building_class_at_time_of_sale                                              B9\n",
       "sale_price                                                             1800000\n",
       "sale_date                                                  2003-01-22 00:00:00\n",
       "Name: 0, dtype: object"
      ]
     },
     "execution_count": 127,
     "metadata": {},
     "output_type": "execute_result"
    }
   ],
   "source": [
    "finance.iloc[0]"
   ]
  },
  {
   "cell_type": "code",
   "execution_count": 128,
   "metadata": {
    "collapsed": true
   },
   "outputs": [],
   "source": [
    "processed_data = finance.copy()\n",
    "# processed_data = processed_data.reset_index(drop = True)\n",
    "bbl_columns = processed_data[[\"borough\", \"block\", \"lot\"]].itertuples()\n",
    "bbl_formatted = pd.Series([\"%01d%05d%04d\" % (row.borough, row.block,\n",
    "    row.lot) for row in bbl_columns], dtype='int64')\n",
    "processed_data[\"bbl\"] = bbl_formatted.astype(str)"
   ]
  },
  {
   "cell_type": "code",
   "execution_count": 130,
   "metadata": {
    "collapsed": false
   },
   "outputs": [
    {
     "data": {
      "text/plain": [
       "borough                                                                      1\n",
       "neighborhood                                         ALPHABET CITY            \n",
       "building_class_category           02  TWO FAMILY HOMES                        \n",
       "tax_class_at_present                                                         1\n",
       "block                                                                      375\n",
       "lot                                                                         32\n",
       "ease-ment                                                                     \n",
       "building_class_at_present                                                   B9\n",
       "address                              746 EAST 6 STREET                        \n",
       "apartment_number                                                              \n",
       "zip_code                                                                 10009\n",
       "residential_units                                                            2\n",
       "commercial_units                                                             0\n",
       "total_units                                                                  2\n",
       "land_square_feet                                                          2134\n",
       "gross_square_feet                                                         3542\n",
       "year_built                                                                1899\n",
       "tax_class_at_time_of_sale                                                    1\n",
       "building_class_at_time_of_sale                                              B9\n",
       "sale_price                                                             1800000\n",
       "sale_date                                                  2003-01-22 00:00:00\n",
       "bbl                                                                 1003750032\n",
       "Name: 0, dtype: object"
      ]
     },
     "execution_count": 130,
     "metadata": {},
     "output_type": "execute_result"
    }
   ],
   "source": [
    "processed_data.iloc[0]"
   ]
  },
  {
   "cell_type": "code",
   "execution_count": 119,
   "metadata": {
    "collapsed": false
   },
   "outputs": [
    {
     "data": {
      "text/html": [
       "<div>\n",
       "<table border=\"1\" class=\"dataframe\">\n",
       "  <thead>\n",
       "    <tr style=\"text-align: right;\">\n",
       "      <th></th>\n",
       "      <th>borough</th>\n",
       "      <th>block</th>\n",
       "      <th>schooldist</th>\n",
       "      <th>council</th>\n",
       "      <th>ltdheight</th>\n",
       "      <th>splitzone</th>\n",
       "      <th>bldgclass</th>\n",
       "      <th>landuse</th>\n",
       "      <th>easements</th>\n",
       "      <th>ownertype</th>\n",
       "      <th>...</th>\n",
       "      <th>bbl</th>\n",
       "      <th>condono</th>\n",
       "      <th>xcoord</th>\n",
       "      <th>ycoord</th>\n",
       "      <th>latitude</th>\n",
       "      <th>longitude</th>\n",
       "      <th>gross_sqft_pluto</th>\n",
       "      <th>garage</th>\n",
       "      <th>extension</th>\n",
       "      <th>countalter</th>\n",
       "    </tr>\n",
       "  </thead>\n",
       "  <tbody>\n",
       "    <tr>\n",
       "      <th>272772</th>\n",
       "      <td>BK</td>\n",
       "      <td>8731</td>\n",
       "      <td>22</td>\n",
       "      <td>48</td>\n",
       "      <td>0</td>\n",
       "      <td>0</td>\n",
       "      <td>A</td>\n",
       "      <td>1</td>\n",
       "      <td>0.0</td>\n",
       "      <td>NaN</td>\n",
       "      <td>...</td>\n",
       "      <td>3087310024</td>\n",
       "      <td>0</td>\n",
       "      <td>998581.0</td>\n",
       "      <td>151195.0</td>\n",
       "      <td>40.58166</td>\n",
       "      <td>-73.948408</td>\n",
       "      <td>1760.0</td>\n",
       "      <td>0</td>\n",
       "      <td>0</td>\n",
       "      <td>0.0</td>\n",
       "    </tr>\n",
       "  </tbody>\n",
       "</table>\n",
       "<p>1 rows × 39 columns</p>\n",
       "</div>"
      ],
      "text/plain": [
       "       borough  block schooldist council  ltdheight  splitzone bldgclass  \\\n",
       "272772      BK   8731         22      48          0          0         A   \n",
       "\n",
       "       landuse  easements ownertype     ...             bbl  condono  \\\n",
       "272772       1        0.0       NaN     ...      3087310024        0   \n",
       "\n",
       "          xcoord    ycoord  latitude  longitude  gross_sqft_pluto  garage  \\\n",
       "272772  998581.0  151195.0  40.58166 -73.948408            1760.0       0   \n",
       "\n",
       "        extension  countalter  \n",
       "272772          0         0.0  \n",
       "\n",
       "[1 rows x 39 columns]"
      ]
     },
     "execution_count": 119,
     "metadata": {},
     "output_type": "execute_result"
    }
   ],
   "source": [
    "pluto.loc[lambda df: df.bbl == '3087310024']"
   ]
  },
  {
   "cell_type": "code",
   "execution_count": null,
   "metadata": {
    "collapsed": true
   },
   "outputs": [],
   "source": [
    "finance.loc[finance.bbl == '3087310024']"
   ]
  },
  {
   "cell_type": "code",
   "execution_count": 117,
   "metadata": {
    "collapsed": false
   },
   "outputs": [
    {
     "data": {
      "text/html": [
       "<div>\n",
       "<table border=\"1\" class=\"dataframe\">\n",
       "  <thead>\n",
       "    <tr style=\"text-align: right;\">\n",
       "      <th></th>\n",
       "      <th>sale_price</th>\n",
       "      <th>sale_date</th>\n",
       "      <th>tax_class_at_time_of_sale</th>\n",
       "      <th>year_built</th>\n",
       "      <th>residential_units</th>\n",
       "      <th>commercial_units</th>\n",
       "      <th>total_units</th>\n",
       "      <th>bbl_pluto</th>\n",
       "      <th>sale_year</th>\n",
       "    </tr>\n",
       "  </thead>\n",
       "  <tbody>\n",
       "    <tr>\n",
       "      <th>24173</th>\n",
       "      <td>700000</td>\n",
       "      <td>2003-10-27</td>\n",
       "      <td>1</td>\n",
       "      <td>1925</td>\n",
       "      <td>1</td>\n",
       "      <td>0</td>\n",
       "      <td>1</td>\n",
       "      <td>3087310024</td>\n",
       "      <td>2003</td>\n",
       "    </tr>\n",
       "    <tr>\n",
       "      <th>57879</th>\n",
       "      <td>630000</td>\n",
       "      <td>2004-08-25</td>\n",
       "      <td>2</td>\n",
       "      <td>1931</td>\n",
       "      <td>6</td>\n",
       "      <td>0</td>\n",
       "      <td>6</td>\n",
       "      <td>3087310024</td>\n",
       "      <td>2004</td>\n",
       "    </tr>\n",
       "    <tr>\n",
       "      <th>92927</th>\n",
       "      <td>345000</td>\n",
       "      <td>2005-01-14</td>\n",
       "      <td>2</td>\n",
       "      <td>1963</td>\n",
       "      <td>0</td>\n",
       "      <td>0</td>\n",
       "      <td>0</td>\n",
       "      <td>3087310024</td>\n",
       "      <td>2005</td>\n",
       "    </tr>\n",
       "    <tr>\n",
       "      <th>127170</th>\n",
       "      <td>335000</td>\n",
       "      <td>2006-10-25</td>\n",
       "      <td>2</td>\n",
       "      <td>1933</td>\n",
       "      <td>0</td>\n",
       "      <td>0</td>\n",
       "      <td>0</td>\n",
       "      <td>3087310024</td>\n",
       "      <td>2006</td>\n",
       "    </tr>\n",
       "    <tr>\n",
       "      <th>159316</th>\n",
       "      <td>409000</td>\n",
       "      <td>2007-07-11</td>\n",
       "      <td>2</td>\n",
       "      <td>1920</td>\n",
       "      <td>0</td>\n",
       "      <td>0</td>\n",
       "      <td>0</td>\n",
       "      <td>3087310024</td>\n",
       "      <td>2007</td>\n",
       "    </tr>\n",
       "    <tr>\n",
       "      <th>295612</th>\n",
       "      <td>1225000</td>\n",
       "      <td>2013-04-08</td>\n",
       "      <td>2</td>\n",
       "      <td>1910</td>\n",
       "      <td>8</td>\n",
       "      <td>0</td>\n",
       "      <td>8</td>\n",
       "      <td>3087310024</td>\n",
       "      <td>2013</td>\n",
       "    </tr>\n",
       "    <tr>\n",
       "      <th>320454</th>\n",
       "      <td>2200000</td>\n",
       "      <td>2014-11-06</td>\n",
       "      <td>4</td>\n",
       "      <td>1950</td>\n",
       "      <td>0</td>\n",
       "      <td>1</td>\n",
       "      <td>1</td>\n",
       "      <td>3087310024</td>\n",
       "      <td>2014</td>\n",
       "    </tr>\n",
       "    <tr>\n",
       "      <th>371177</th>\n",
       "      <td>42000000</td>\n",
       "      <td>2015-09-22</td>\n",
       "      <td>4</td>\n",
       "      <td>1903</td>\n",
       "      <td>0</td>\n",
       "      <td>54</td>\n",
       "      <td>54</td>\n",
       "      <td>3087310024</td>\n",
       "      <td>2015</td>\n",
       "    </tr>\n",
       "  </tbody>\n",
       "</table>\n",
       "</div>"
      ],
      "text/plain": [
       "        sale_price  sale_date  tax_class_at_time_of_sale  year_built  \\\n",
       "24173       700000 2003-10-27                          1        1925   \n",
       "57879       630000 2004-08-25                          2        1931   \n",
       "92927       345000 2005-01-14                          2        1963   \n",
       "127170      335000 2006-10-25                          2        1933   \n",
       "159316      409000 2007-07-11                          2        1920   \n",
       "295612     1225000 2013-04-08                          2        1910   \n",
       "320454     2200000 2014-11-06                          4        1950   \n",
       "371177    42000000 2015-09-22                          4        1903   \n",
       "\n",
       "        residential_units  commercial_units  total_units   bbl_pluto  \\\n",
       "24173                   1                 0            1  3087310024   \n",
       "57879                   6                 0            6  3087310024   \n",
       "92927                   0                 0            0  3087310024   \n",
       "127170                  0                 0            0  3087310024   \n",
       "159316                  0                 0            0  3087310024   \n",
       "295612                  8                 0            8  3087310024   \n",
       "320454                  0                 1            1  3087310024   \n",
       "371177                  0                54           54  3087310024   \n",
       "\n",
       "        sale_year  \n",
       "24173        2003  \n",
       "57879        2004  \n",
       "92927        2005  \n",
       "127170       2006  \n",
       "159316       2007  \n",
       "295612       2013  \n",
       "320454       2014  \n",
       "371177       2015  "
      ]
     },
     "execution_count": 117,
     "metadata": {},
     "output_type": "execute_result"
    }
   ],
   "source": [
    "finance_condo_updated_bk.loc[lambda df: df.bbl_pluto == '3087310024']"
   ]
  },
  {
   "cell_type": "code",
   "execution_count": 89,
   "metadata": {
    "collapsed": true
   },
   "outputs": [],
   "source": [
    "brooklyn = pd.read_csv('data/merged/brooklyn_2003_2016.csv', low_memory = False)"
   ]
  },
  {
   "cell_type": "code",
   "execution_count": 90,
   "metadata": {
    "collapsed": false
   },
   "outputs": [
    {
     "data": {
      "text/plain": [
       "0    2004-06-12\n",
       "1    2006-04-20\n",
       "2    2007-09-26\n",
       "3    2008-08-01\n",
       "4    2009-12-08\n",
       "5    2010-10-12\n",
       "6    2011-12-09\n",
       "7    2012-12-19\n",
       "Name: sale_date, dtype: object"
      ]
     },
     "execution_count": 90,
     "metadata": {},
     "output_type": "execute_result"
    }
   ],
   "source": [
    "brooklyn.loc[brooklyn.bbl == 3000260033, 'sale_date']"
   ]
  },
  {
   "cell_type": "code",
   "execution_count": 91,
   "metadata": {
    "collapsed": false
   },
   "outputs": [],
   "source": [
    "bk = set((a,b) for a,b in zip(brooklyn.bbl, brooklyn.sale_date))"
   ]
  },
  {
   "cell_type": "code",
   "execution_count": 92,
   "metadata": {
    "collapsed": false
   },
   "outputs": [
    {
     "data": {
      "text/plain": [
       "True"
      ]
     },
     "execution_count": 92,
     "metadata": {},
     "output_type": "execute_result"
    }
   ],
   "source": [
    "len(bk) == brooklyn.shape[0]"
   ]
  },
  {
   "cell_type": "code",
   "execution_count": 93,
   "metadata": {
    "collapsed": false
   },
   "outputs": [],
   "source": [
    "whole = set((a,b) for a,b in zip(data_full.bbl, data_full.sale_date))"
   ]
  },
  {
   "cell_type": "code",
   "execution_count": 94,
   "metadata": {
    "collapsed": false
   },
   "outputs": [
    {
     "data": {
      "text/plain": [
       "True"
      ]
     },
     "execution_count": 94,
     "metadata": {},
     "output_type": "execute_result"
    }
   ],
   "source": [
    "len(whole) == data_full.shape[0]"
   ]
  },
  {
   "cell_type": "code",
   "execution_count": 95,
   "metadata": {
    "collapsed": false
   },
   "outputs": [
    {
     "data": {
      "text/plain": [
       "{(3087310024, '2013-04-08'),\n",
       " (3017700096, '2014-12-31'),\n",
       " (3055640064, '2012-06-07'),\n",
       " (3010510045, '2015-05-27'),\n",
       " (3080810058, '2016-05-18'),\n",
       " (3013680011, '2005-06-15'),\n",
       " (3047680070, '2014-09-03'),\n",
       " (3052370010, '2006-08-18'),\n",
       " (3018910046, '2011-03-04'),\n",
       " (3062650065, '2010-02-16'),\n",
       " (3049540061, '2012-03-02'),\n",
       " (3084650047, '2004-06-14'),\n",
       " (3057680061, '2013-05-02'),\n",
       " (3061070055, '2009-09-24'),\n",
       " (3014240049, '2007-07-30'),\n",
       " (3079660012, '2008-10-22'),\n",
       " (3050260034, '2003-11-12'),\n",
       " (3018190049, '2007-03-14'),\n",
       " (3016560067, '2003-06-19'),\n",
       " (3033800012, '2003-04-10'),\n",
       " (3033920054, '2004-06-16'),\n",
       " (3082580030, '2008-10-08'),\n",
       " (3051510018, '2014-03-18'),\n",
       " (3004400033, '2007-12-03'),\n",
       " (3071700065, '2015-04-01'),\n",
       " (3078820049, '2007-07-25'),\n",
       " (3046150020, '2015-09-30'),\n",
       " (3009000028, '2005-08-25'),\n",
       " (3039880013, '2015-11-24'),\n",
       " (3041290020, '2008-08-28'),\n",
       " (3061820042, '2009-09-10'),\n",
       " (3083000040, '2004-09-29'),\n",
       " (3031870013, '2003-07-29'),\n",
       " (3063730060, '2004-06-17'),\n",
       " (3001780028, '2004-07-19'),\n",
       " (3019677501, '2003-11-25'),\n",
       " (3015790030, '2012-09-12'),\n",
       " (3057400005, '2014-07-22'),\n",
       " (3049560017, '2012-03-29'),\n",
       " (3050550077, '2011-07-12'),\n",
       " (3070040058, '2014-03-21'),\n",
       " (3054880062, '2009-10-15'),\n",
       " (3018140066, '2005-04-20'),\n",
       " (3051220044, '2008-11-06'),\n",
       " (3041210025, '2008-12-12'),\n",
       " (3017670013, '2010-10-14'),\n",
       " (3059190044, '2004-01-07'),\n",
       " (3046980033, '2016-07-11'),\n",
       " (3010760040, '2005-06-08'),\n",
       " (3045030043, '2007-01-02'),\n",
       " (3063130016, '2011-11-22'),\n",
       " (3016610036, '2014-03-12'),\n",
       " (3007750050, '2004-08-03'),\n",
       " (3041780033, '2012-12-05'),\n",
       " (3060610013, '2012-12-26'),\n",
       " (3077880058, '2011-01-24'),\n",
       " (3081460025, '2003-11-21'),\n",
       " (3015310066, '2003-06-02'),\n",
       " (3032850080, '2012-11-26'),\n",
       " (3050540053, '2015-09-24'),\n",
       " (3035510047, '2013-06-20'),\n",
       " (3079630078, '2003-11-25'),\n",
       " (3055550026, '2006-06-28'),\n",
       " (3060557501, '2007-10-03'),\n",
       " (3086890055, '2006-04-26'),\n",
       " (3039950114, '2005-06-14'),\n",
       " (3037040026, '2012-05-17'),\n",
       " (3082570014, '2007-09-24'),\n",
       " (3016810049, '2008-01-30'),\n",
       " (3041490109, '2016-01-21'),\n",
       " (3049500012, '2015-04-21'),\n",
       " (3016320032, '2008-04-07'),\n",
       " (3008370049, '2005-01-26'),\n",
       " (3047340023, '2013-04-26'),\n",
       " (3082860053, '2009-07-29'),\n",
       " (3040100019, '2006-10-04'),\n",
       " (3055610073, '2016-06-03'),\n",
       " (3017540058, '2004-11-19'),\n",
       " (3057130040, '2013-03-26'),\n",
       " (3057540001, '2004-08-18'),\n",
       " (3084740073, '2007-12-18'),\n",
       " (3060300007, '2009-03-18'),\n",
       " (3040520145, '2007-04-24'),\n",
       " (3042260019, '2015-09-01'),\n",
       " (3013400014, '2012-08-21'),\n",
       " (3044810046, '2013-09-19'),\n",
       " (3046690012, '2006-11-21'),\n",
       " (3018270014, '2004-04-22'),\n",
       " (3042670008, '2007-08-24'),\n",
       " (3034010025, '2011-07-14'),\n",
       " (3080780013, '2005-12-02'),\n",
       " (3003700017, '2009-07-10'),\n",
       " (3057040040, '2003-02-05'),\n",
       " (3038080044, '2006-02-22'),\n",
       " (3050830103, '2011-08-17'),\n",
       " (3059850026, '2007-12-28'),\n",
       " (3027810010, '2004-04-13'),\n",
       " (3033850031, '2011-07-06'),\n",
       " (3014190056, '2013-11-05'),\n",
       " (3051350033, '2006-07-28'),\n",
       " (3062440112, '2013-05-02'),\n",
       " (3012640013, '2005-07-29'),\n",
       " (3015170135, '2003-09-08'),\n",
       " (3016270063, '2003-06-24'),\n",
       " (3033770051, '2011-08-08'),\n",
       " (3038420022, '2005-06-15'),\n",
       " (3013760067, '2006-08-22'),\n",
       " (3013000060, '2007-08-20'),\n",
       " (3017740008, '2012-06-18'),\n",
       " (3040620128, '2009-03-09'),\n",
       " (3051047501, '2004-11-15'),\n",
       " (3034290040, '2014-05-28'),\n",
       " (3053370076, '2004-12-30'),\n",
       " (3013630027, '2010-10-28'),\n",
       " (3043060024, '2005-03-14'),\n",
       " (3059540042, '2011-08-16'),\n",
       " (3076960036, '2003-06-26'),\n",
       " (3048750029, '2006-07-12'),\n",
       " (3039940023, '2014-08-28'),\n",
       " (3082430019, '2015-05-28'),\n",
       " (3034380034, '2005-11-18'),\n",
       " (3077230015, '2009-09-29'),\n",
       " (3048910028, '2008-11-06'),\n",
       " (3082330037, '2013-12-18'),\n",
       " (3012620056, '2006-07-05'),\n",
       " (3042490090, '2007-08-17'),\n",
       " (3042040007, '2010-01-28'),\n",
       " (3049030028, '2006-01-18'),\n",
       " (3062520015, '2004-01-14'),\n",
       " (3061080001, '2012-01-30'),\n",
       " (3046430042, '2016-01-28'),\n",
       " (3013660034, '2013-11-07'),\n",
       " (3016530054, '2006-12-07'),\n",
       " (3063740084, '2014-09-16'),\n",
       " (3075620041, '2003-12-16'),\n",
       " (3082130024, '2009-10-29'),\n",
       " (3012780068, '2008-10-21'),\n",
       " (3054670064, '2007-06-11'),\n",
       " (3013390067, '2011-03-18'),\n",
       " (3002620052, '2003-11-12'),\n",
       " (3020890060, '2003-01-17'),\n",
       " (3050320064, '2014-06-03'),\n",
       " (3017620054, '2015-04-22'),\n",
       " (3044530023, '2013-09-17'),\n",
       " (3078550040, '2007-08-20'),\n",
       " (3032290016, '2009-05-29'),\n",
       " (3060360030, '2013-01-18'),\n",
       " (3081420052, '2014-04-25'),\n",
       " (3066720049, '2014-07-24'),\n",
       " (3002540019, '2009-05-08'),\n",
       " (3047960039, '2011-05-05'),\n",
       " (3030820042, '2005-08-25'),\n",
       " (3042530015, '2007-08-17'),\n",
       " (3047960039, '2015-09-22'),\n",
       " (3054690017, '2008-11-06'),\n",
       " (3072250014, '2008-07-16'),\n",
       " (3062510007, '2003-10-07'),\n",
       " (3084740075, '2014-11-21'),\n",
       " (3001960022, '2013-05-28'),\n",
       " (3042490091, '2005-05-31'),\n",
       " (3068380123, '2007-09-19'),\n",
       " (3003070024, '2014-01-22'),\n",
       " (3017560023, '2007-05-14'),\n",
       " (3019840021, '2015-10-26'),\n",
       " (3066840046, '2006-02-13'),\n",
       " (3006950040, '2013-03-06'),\n",
       " (3021137501, '2008-12-11'),\n",
       " (3040210027, '2008-01-30'),\n",
       " (3038250045, '2014-01-24'),\n",
       " (3012330037, '2003-06-03'),\n",
       " (3018200007, '2009-02-18'),\n",
       " (3042960072, '2013-04-19'),\n",
       " (3035360048, '2010-03-29'),\n",
       " (3020860034, '2008-04-25'),\n",
       " (3026480031, '2008-09-29'),\n",
       " (3034680047, '2003-07-18'),\n",
       " (3020740048, '2013-02-26'),\n",
       " (3083070067, '2015-05-28'),\n",
       " (3054660077, '2014-07-24'),\n",
       " (3012020053, '2003-06-27'),\n",
       " (3042270023, '2009-04-01'),\n",
       " (3068780034, '2003-11-19'),\n",
       " (3019630067, '2007-06-13'),\n",
       " (3081640156, '2006-12-01'),\n",
       " (3066310032, '2006-12-06'),\n",
       " (3002360045, '2014-04-25'),\n",
       " (3022310049, '2004-06-25'),\n",
       " (3033850025, '2010-10-07'),\n",
       " (3034870008, '2007-01-12'),\n",
       " (3041680012, '2013-04-05'),\n",
       " (3068800043, '2015-12-07'),\n",
       " (3082980054, '2008-03-07'),\n",
       " (3036640039, '2006-01-05'),\n",
       " (3016830016, '2012-03-16'),\n",
       " (3080550056, '2011-03-29'),\n",
       " (3016100061, '2015-11-10'),\n",
       " (3053110008, '2003-07-29'),\n",
       " (3046740031, '2014-01-30'),\n",
       " (3065567502, '2014-04-04'),\n",
       " (3072630042, '2011-06-13'),\n",
       " (3058170020, '2006-10-30'),\n",
       " (3049640010, '2016-01-11'),\n",
       " (3081610011, '2013-04-17'),\n",
       " (3034280025, '2009-10-27'),\n",
       " (3049670027, '2009-06-02'),\n",
       " (3056820024, '2011-04-01'),\n",
       " (3044580062, '2003-11-25'),\n",
       " (3076180030, '2004-07-27'),\n",
       " (3018860084, '2012-05-18'),\n",
       " (3063120069, '2016-02-26'),\n",
       " (3013760016, '2006-09-26'),\n",
       " (3032750031, '2016-05-02'),\n",
       " (3079320009, '2004-10-26'),\n",
       " (3083600015, '2005-01-06'),\n",
       " (3058490058, '2007-06-28'),\n",
       " (3049680012, '2005-10-21'),\n",
       " (3070080055, '2011-03-15'),\n",
       " (3055440020, '2014-12-15'),\n",
       " (3058850034, '2008-01-07'),\n",
       " (3026510048, '2004-10-27'),\n",
       " (3018890025, '2003-07-09'),\n",
       " (3019700009, '2008-02-08'),\n",
       " (3067720078, '2014-01-21'),\n",
       " (3075950053, '2005-03-16'),\n",
       " (3040640047, '2016-04-29'),\n",
       " (3031360031, '2013-11-20'),\n",
       " (3054250084, '2006-07-20'),\n",
       " (3012260004, '2005-05-25'),\n",
       " (3012910052, '2016-01-20'),\n",
       " (3063440033, '2011-09-28'),\n",
       " (3086797501, '2005-02-03'),\n",
       " (3054940062, '2006-02-07'),\n",
       " (3037410008, '2007-07-20'),\n",
       " (3059380047, '2012-09-24'),\n",
       " (3059640043, '2012-02-29'),\n",
       " (3034720017, '2014-03-26'),\n",
       " (3039360002, '2011-01-28'),\n",
       " (3047130020, '2007-12-18'),\n",
       " (3057480003, '2007-02-20'),\n",
       " (3017620008, '2015-04-22'),\n",
       " (3012470042, '2004-02-05'),\n",
       " (3025320006, '2013-03-18'),\n",
       " (3033950038, '2007-01-29'),\n",
       " (3018370075, '2013-10-02'),\n",
       " (3066520060, '2007-03-19'),\n",
       " (3037550017, '2014-08-05'),\n",
       " (3010417501, '2004-05-11'),\n",
       " (3009630031, '2006-09-11'),\n",
       " (3061730042, '2015-06-18'),\n",
       " (3005520021, '2004-05-14'),\n",
       " (3046690012, '2005-07-06'),\n",
       " (3057930043, '2003-12-29'),\n",
       " (3082290071, '2005-09-30'),\n",
       " (3062440036, '2007-03-26'),\n",
       " (3013890005, '2004-08-27'),\n",
       " (3048230036, '2012-06-20'),\n",
       " (3048790159, '2005-09-08'),\n",
       " (3003640024, '2013-05-29'),\n",
       " (3041040006, '2005-02-04'),\n",
       " (3002520008, '2010-09-13'),\n",
       " (3016320006, '2011-06-27'),\n",
       " (3018070032, '2010-04-06'),\n",
       " (3071140030, '2004-01-26'),\n",
       " (3062690010, '2007-04-20'),\n",
       " (3015940080, '2015-03-16'),\n",
       " (3038840247, '2006-05-18'),\n",
       " (3047920020, '2005-06-20'),\n",
       " (3050880038, '2012-03-30'),\n",
       " (3077490063, '2012-12-27'),\n",
       " (3032580035, '2004-08-02'),\n",
       " (3046370019, '2004-08-23'),\n",
       " (3064630007, '2003-01-06'),\n",
       " (3077730029, '2014-11-17'),\n",
       " (3078950062, '2004-11-29'),\n",
       " (3041360024, '2014-10-10'),\n",
       " (3018530059, '2010-11-16'),\n",
       " (3035690026, '2007-07-17'),\n",
       " (3084430048, '2003-05-29'),\n",
       " (3019840073, '2004-02-27'),\n",
       " (3049530074, '2012-12-04'),\n",
       " (3056287508, '2008-12-17'),\n",
       " (3063820032, '2008-10-30'),\n",
       " (3047970067, '2013-11-27'),\n",
       " (3047130027, '2003-12-10'),\n",
       " (3054687502, '2011-06-14'),\n",
       " (3014910050, '2006-08-10'),\n",
       " (3031930024, '2008-07-02'),\n",
       " (3017700084, '2005-08-10'),\n",
       " (3041320016, '2012-12-20'),\n",
       " (3050100023, '2011-02-07'),\n",
       " (3056230036, '2011-06-08'),\n",
       " (3056620042, '2011-05-29'),\n",
       " (3018530060, '2011-10-18'),\n",
       " (3051260051, '2016-06-01'),\n",
       " (3065030030, '2004-09-14'),\n",
       " (3087130026, '2014-07-31'),\n",
       " (3017080050, '2004-10-30'),\n",
       " (3040170030, '2007-03-08'),\n",
       " (3068090035, '2007-03-16'),\n",
       " (3085460008, '2007-10-26'),\n",
       " (3035190014, '2005-09-27'),\n",
       " (3055930031, '2010-11-29'),\n",
       " (3031970053, '2005-09-30'),\n",
       " (3042530014, '2004-07-21'),\n",
       " (3049910071, '2015-11-19'),\n",
       " (3049720040, '2006-06-08'),\n",
       " (3021000021, '2006-06-27'),\n",
       " (3056820031, '2007-10-11'),\n",
       " (3007750075, '2003-07-30'),\n",
       " (3008370024, '2005-08-04'),\n",
       " (3056230036, '2009-06-08'),\n",
       " (3078230036, '2007-03-15'),\n",
       " (3080240007, '2008-09-08'),\n",
       " (3031860046, '2012-05-30'),\n",
       " (3056110009, '2013-12-19'),\n",
       " (3049340054, '2016-06-10'),\n",
       " (3087207503, '2007-08-06'),\n",
       " (3040360034, '2007-06-29'),\n",
       " (3002140025, '2008-08-20'),\n",
       " (3012370076, '2013-01-28'),\n",
       " (3033940036, '2016-04-07'),\n",
       " (3040230043, '2004-10-19'),\n",
       " (3055940049, '2013-07-29'),\n",
       " (3068950010, '2014-10-22'),\n",
       " (3062440062, '2014-11-10'),\n",
       " (3073320055, '2015-04-14'),\n",
       " (3034360019, '2005-04-22'),\n",
       " (3041650033, '2007-12-20'),\n",
       " (3072420137, '2010-04-22'),\n",
       " (3015960068, '2006-07-20'),\n",
       " (3082190004, '2003-11-07'),\n",
       " (3059010017, '2006-03-21'),\n",
       " (3041300046, '2009-04-27'),\n",
       " (3049800072, '2004-12-29'),\n",
       " (3061860040, '2013-08-27'),\n",
       " (3055000067, '2006-06-23'),\n",
       " (3040700042, '2007-09-25'),\n",
       " (3045490013, '2006-10-12'),\n",
       " (3056400064, '2015-07-16'),\n",
       " (3059190041, '2004-01-09'),\n",
       " (3009310034, '2006-07-06'),\n",
       " (3046520080, '2008-01-04'),\n",
       " (3002967501, '2008-11-04'),\n",
       " (3027710033, '2005-12-22'),\n",
       " (3081817501, '2007-04-27'),\n",
       " (3080760067, '2007-12-21'),\n",
       " (3010750035, '2006-07-17'),\n",
       " (3038970054, '2013-11-19'),\n",
       " (3043250049, '2012-06-19'),\n",
       " (3036050121, '2011-03-08'),\n",
       " (3060630004, '2007-09-26'),\n",
       " (3032840024, '2013-06-19'),\n",
       " (3001900029, '2008-06-19'),\n",
       " (3026210024, '2005-07-13'),\n",
       " (3069020061, '2007-08-06'),\n",
       " (3017660019, '2004-04-30'),\n",
       " (3004570017, '2003-11-26'),\n",
       " (3039950116, '2014-11-26'),\n",
       " (3054880069, '2016-07-11'),\n",
       " (3039120053, '2008-07-28'),\n",
       " (3016010013, '2005-05-26'),\n",
       " (3003710034, '2004-11-22'),\n",
       " (3017540073, '2009-12-21'),\n",
       " (3032750026, '2011-01-25'),\n",
       " (3004350024, '2009-01-08'),\n",
       " (3008130032, '2012-06-18'),\n",
       " (3040300006, '2015-06-05'),\n",
       " (3055530028, '2010-11-30'),\n",
       " (3017220014, '2016-06-28'),\n",
       " (3047650043, '2011-11-17'),\n",
       " (3082780030, '2011-07-29'),\n",
       " (3035340040, '2013-08-26'),\n",
       " (3056580065, '2011-09-20'),\n",
       " (3035310042, '2004-11-24'),\n",
       " (3044790025, '2011-07-08'),\n",
       " (3042170006, '2011-12-28'),\n",
       " (3068770043, '2004-07-22'),\n",
       " (3034400056, '2010-11-01'),\n",
       " (3010660044, '2006-06-08'),\n",
       " (3082950021, '2016-05-27'),\n",
       " (3036390031, '2003-05-01'),\n",
       " (3060090023, '2003-06-04'),\n",
       " (3062330011, '2005-08-25'),\n",
       " (3009820025, '2006-12-20'),\n",
       " (3009620014, '2003-07-18'),\n",
       " (3049760040, '2005-01-28'),\n",
       " (3054660086, '2016-07-21'),\n",
       " (3038510006, '2003-09-25'),\n",
       " (3077760046, '2015-11-30'),\n",
       " (3079820124, '2003-12-23'),\n",
       " (3042950021, '2005-05-17'),\n",
       " (3062050019, '2015-11-25'),\n",
       " (3019800032, '2015-08-13'),\n",
       " (3017040015, '2014-12-17'),\n",
       " (3053050016, '2016-04-22'),\n",
       " (3066700033, '2003-08-21'),\n",
       " (3069900020, '2010-06-29'),\n",
       " (3077990034, '2014-05-28'),\n",
       " (3002600038, '2012-01-19'),\n",
       " (3003360006, '2005-09-29'),\n",
       " (3016580083, '2006-11-14'),\n",
       " (3017260131, '2012-06-19'),\n",
       " (3017670046, '2009-03-31'),\n",
       " (3018090031, '2011-12-01'),\n",
       " (3048480007, '2004-07-23'),\n",
       " (3016470030, '2004-10-14'),\n",
       " (3049760076, '2011-04-27'),\n",
       " (3060880022, '2008-11-17'),\n",
       " (3055320011, '2003-03-26'),\n",
       " (3061750069, '2015-09-03'),\n",
       " (3046470023, '2006-11-15'),\n",
       " (3036820041, '2005-07-29'),\n",
       " (3062620019, '2006-05-04'),\n",
       " (3049790079, '2016-01-12'),\n",
       " (3066270038, '2006-12-14'),\n",
       " (3068820047, '2008-07-30'),\n",
       " (3010220066, '2004-01-16'),\n",
       " (3027500018, '2005-04-06'),\n",
       " (3004200054, '2003-05-30'),\n",
       " (3038250005, '2009-06-04'),\n",
       " (3053940059, '2016-02-22'),\n",
       " (3065800008, '2008-09-17'),\n",
       " (3070470114, '2004-05-19'),\n",
       " (3070920013, '2012-05-03'),\n",
       " (3074410351, '2004-06-11'),\n",
       " (3073330038, '2007-06-28'),\n",
       " (3039600008, '2015-11-11'),\n",
       " (3064610333, '2009-12-21'),\n",
       " (3034110014, '2007-04-10'),\n",
       " (3020997501, '2014-05-27'),\n",
       " (3047280045, '2014-08-06'),\n",
       " (3066720065, '2006-01-23'),\n",
       " (3080390038, '2008-04-28'),\n",
       " (3023210030, '2004-09-15'),\n",
       " (3041630012, '2013-06-13'),\n",
       " (3015350008, '2004-04-05'),\n",
       " (3058610019, '2015-09-25'),\n",
       " (3061250001, '2014-12-17'),\n",
       " (3068660020, '2005-10-05'),\n",
       " (3003660054, '2011-01-06'),\n",
       " (3071570086, '2003-02-12'),\n",
       " (3042270014, '2011-08-23'),\n",
       " (3078270048, '2003-12-10'),\n",
       " (3059160062, '2009-09-24'),\n",
       " (3051350017, '2007-09-27'),\n",
       " (3036790001, '2006-04-28'),\n",
       " (3060180062, '2007-02-28'),\n",
       " (3013600080, '2013-03-13'),\n",
       " (3066460043, '2013-07-12'),\n",
       " (3075890038, '2003-06-26'),\n",
       " (3082330005, '2013-05-20'),\n",
       " (3049640010, '2006-10-25'),\n",
       " (3010790051, '2004-11-10'),\n",
       " (3013660074, '2008-03-17'),\n",
       " (3019870057, '2005-04-15'),\n",
       " (3032870037, '2011-01-05'),\n",
       " (3059510023, '2012-12-20'),\n",
       " (3059670049, '2004-07-15'),\n",
       " (3042400010, '2005-01-19'),\n",
       " (3064290018, '2008-07-16'),\n",
       " (3032830007, '2005-06-09'),\n",
       " (3040790020, '2011-07-01'),\n",
       " (3055940037, '2011-11-21'),\n",
       " (3056850049, '2012-12-20'),\n",
       " (3042220003, '2012-08-08'),\n",
       " (3061040017, '2011-04-22'),\n",
       " (3019840073, '2011-07-13'),\n",
       " (3040070008, '2010-08-18'),\n",
       " (3004150008, '2010-06-01'),\n",
       " (3066330040, '2006-01-05'),\n",
       " (3017730012, '2010-01-08'),\n",
       " (3054890053, '2004-06-16'),\n",
       " (3060460042, '2011-04-07'),\n",
       " (3002640017, '2015-09-30'),\n",
       " (3062980029, '2012-04-23'),\n",
       " (3013900124, '2008-05-02'),\n",
       " (3003510009, '2004-04-30'),\n",
       " (3039730004, '2016-06-29'),\n",
       " (3065500064, '2006-08-22'),\n",
       " (3081450040, '2006-10-24'),\n",
       " (3003997501, '2003-09-04'),\n",
       " (3062340020, '2012-10-18'),\n",
       " (3057180015, '2004-11-03'),\n",
       " (3027000006, '2003-03-14'),\n",
       " (3052940042, '2008-07-18'),\n",
       " (3063680018, '2015-09-17'),\n",
       " (3020150065, '2010-05-25'),\n",
       " (3050620064, '2015-03-19'),\n",
       " (3036050129, '2010-04-29'),\n",
       " (3017930050, '2009-01-15'),\n",
       " (3012750069, '2005-12-22'),\n",
       " (3032080106, '2005-02-08'),\n",
       " (3033880042, '2015-05-28'),\n",
       " (3016780051, '2010-06-14'),\n",
       " (3016760039, '2014-03-05'),\n",
       " (3056497506, '2015-12-17'),\n",
       " (3041920034, '2010-08-11'),\n",
       " (3042080029, '2014-04-30'),\n",
       " (3039670010, '2003-02-25'),\n",
       " (3013430079, '2012-03-20'),\n",
       " (3013630027, '2012-10-11'),\n",
       " (3033420037, '2008-03-13'),\n",
       " (3003240037, '2006-06-22'),\n",
       " (3019930030, '2004-06-14'),\n",
       " (3034080016, '2011-09-26'),\n",
       " (3059430062, '2011-09-08'),\n",
       " (3062460050, '2004-03-05'),\n",
       " (3077680071, '2004-06-29'),\n",
       " (3079890009, '2003-09-30'),\n",
       " (3079850032, '2011-05-13'),\n",
       " (3034240041, '2011-06-10'),\n",
       " (3077350074, '2005-11-30'),\n",
       " (3089320572, '2007-06-11'),\n",
       " (3063260070, '2014-03-27'),\n",
       " (3055340017, '2006-10-05'),\n",
       " (3049020002, '2013-08-09'),\n",
       " (3022320030, '2004-06-03'),\n",
       " (3071930072, '2006-09-06'),\n",
       " (3019740044, '2009-05-12'),\n",
       " (3059650043, '2008-07-01'),\n",
       " (3048530063, '2005-09-28'),\n",
       " (3082640035, '2004-10-08'),\n",
       " (3013430121, '2014-06-09'),\n",
       " (3034390017, '2003-05-30'),\n",
       " (3047150168, '2010-05-12'),\n",
       " (3044790024, '2013-05-16'),\n",
       " (3083770057, '2004-03-29'),\n",
       " (3086720082, '2004-09-13'),\n",
       " (3068590063, '2013-10-08'),\n",
       " (3040510157, '2014-11-24'),\n",
       " (3078320040, '2006-01-04'),\n",
       " (3032090011, '2012-10-24'),\n",
       " (3086620183, '2015-03-03'),\n",
       " (3082620035, '2010-04-30'),\n",
       " (3031840053, '2016-01-26'),\n",
       " (3061160055, '2004-06-08'),\n",
       " (3019820060, '2010-06-04'),\n",
       " (3032850040, '2013-05-24'),\n",
       " (3050350012, '2014-01-24'),\n",
       " (3088762658, '2015-04-29'),\n",
       " (3076510039, '2013-05-06'),\n",
       " (3051950073, '2003-05-20'),\n",
       " (3006400053, '2004-01-13'),\n",
       " (3063750045, '2005-07-13'),\n",
       " (3004570012, '2003-01-07'),\n",
       " (3017800026, '2013-09-05'),\n",
       " (3016810056, '2004-12-06'),\n",
       " (3021020001, '2014-04-08'),\n",
       " (3041190029, '2016-06-17'),\n",
       " (3016680076, '2013-08-21'),\n",
       " (3038000125, '2013-10-16'),\n",
       " (3041690012, '2004-07-08'),\n",
       " (3042280040, '2007-09-05'),\n",
       " (3019610013, '2007-08-15'),\n",
       " (3033920059, '2015-09-17'),\n",
       " (3026210040, '2008-10-04'),\n",
       " (3042680001, '2012-10-05'),\n",
       " (3057700056, '2005-01-04'),\n",
       " (3082520031, '2004-08-20'),\n",
       " (3082190035, '2005-12-21'),\n",
       " (3082190004, '2011-04-08'),\n",
       " (3018470032, '2008-11-05'),\n",
       " (3055050039, '2012-09-28'),\n",
       " (3016480034, '2009-12-22'),\n",
       " (3032360018, '2013-10-17'),\n",
       " (3010050042, '2005-05-23'),\n",
       " (3050110041, '2008-09-02'),\n",
       " (3016090024, '2006-08-21'),\n",
       " (3001790003, '2008-02-26'),\n",
       " (3085980042, '2003-08-14'),\n",
       " (3032430004, '2013-07-29'),\n",
       " (3060410015, '2011-10-20'),\n",
       " (3072630106, '2013-05-30'),\n",
       " (3049930075, '2012-11-16'),\n",
       " (3014060067, '2016-07-18'),\n",
       " (3062580014, '2009-06-18'),\n",
       " (3077810063, '2014-06-03'),\n",
       " (3035500044, '2008-06-05'),\n",
       " (3079070134, '2007-08-15'),\n",
       " (3053870079, '2007-03-01'),\n",
       " (3065900070, '2005-10-21'),\n",
       " (3063050038, '2003-12-22'),\n",
       " (3061550049, '2005-07-29'),\n",
       " (3066860054, '2007-09-20'),\n",
       " (3070990003, '2006-11-06'),\n",
       " (3035850047, '2004-03-19'),\n",
       " (3017760011, '2008-07-25'),\n",
       " (3042030030, '2009-10-01'),\n",
       " (3047210013, '2012-05-17'),\n",
       " (3048690034, '2012-02-27'),\n",
       " (3048780037, '2005-12-08'),\n",
       " (3058550043, '2007-09-12'),\n",
       " (3079940057, '2013-07-15'),\n",
       " (3087090014, '2007-02-06'),\n",
       " (3042960069, '2007-04-23'),\n",
       " (3047380150, '2007-06-19'),\n",
       " (3037410039, '2009-07-15'),\n",
       " (3033660017, '2014-03-06'),\n",
       " (3011080032, '2005-09-29'),\n",
       " (3077190001, '2003-12-12'),\n",
       " (3032790014, '2006-04-26'),\n",
       " (3056590065, '2011-04-07'),\n",
       " (3080820027, '2010-01-12'),\n",
       " (3059410038, '2006-11-01'),\n",
       " (3050460061, '2013-09-03'),\n",
       " (3060440059, '2012-02-03'),\n",
       " (3066270005, '2006-10-19'),\n",
       " (3084510065, '2016-07-26'),\n",
       " (3015580109, '2003-04-08'),\n",
       " (3034730042, '2011-06-21'),\n",
       " (3016150022, '2006-01-06'),\n",
       " (3082790065, '2015-12-17'),\n",
       " (3061410006, '2012-06-20'),\n",
       " (3066720030, '2006-03-09'),\n",
       " (3019860044, '2006-08-25'),\n",
       " (3044550065, '2016-04-12'),\n",
       " (3084820073, '2015-08-26'),\n",
       " (3055040074, '2015-02-26'),\n",
       " (3034090011, '2011-10-20'),\n",
       " (3018940018, '2003-04-07'),\n",
       " (3041080111, '2013-08-05'),\n",
       " (3047270010, '2009-04-27'),\n",
       " (3052880034, '2010-08-10'),\n",
       " (3017660003, '2004-07-26'),\n",
       " (3053450073, '2010-05-03'),\n",
       " (3063720075, '2014-06-10'),\n",
       " (3047610058, '2014-11-19'),\n",
       " (3059680055, '2009-04-28'),\n",
       " (3068530027, '2010-05-28'),\n",
       " (3004720019, '2009-06-26'),\n",
       " (3061550015, '2005-12-12'),\n",
       " (3012950053, '2005-06-30'),\n",
       " (3017700052, '2014-12-29'),\n",
       " (3054940093, '2015-04-01'),\n",
       " (3005310006, '2006-04-18'),\n",
       " (3041150017, '2010-07-08'),\n",
       " (3086480001, '2004-03-05'),\n",
       " (3054760014, '2013-06-05'),\n",
       " (3031710060, '2005-09-12'),\n",
       " (3057640025, '2008-03-04'),\n",
       " (3044580053, '2013-11-07'),\n",
       " (3048510012, '2014-09-30'),\n",
       " (3062190026, '2015-02-05'),\n",
       " (3082200064, '2013-06-18'),\n",
       " (3088040097, '2005-12-15'),\n",
       " (3002650001, '2008-01-14'),\n",
       " (3071840103, '2004-03-24'),\n",
       " (3016280063, '2011-03-30'),\n",
       " (3070810072, '2005-12-31'),\n",
       " (3058800063, '2010-12-02'),\n",
       " (3013380047, '2008-03-31'),\n",
       " (3013610037, '2009-08-06'),\n",
       " (3017740043, '2003-02-26'),\n",
       " (3019160001, '2004-12-23'),\n",
       " (3036920011, '2014-05-23'),\n",
       " (3062410010, '2004-10-13'),\n",
       " (3066550021, '2015-04-20'),\n",
       " (3055010012, '2007-02-16'),\n",
       " (3080620017, '2010-02-03'),\n",
       " (3061840070, '2015-12-22'),\n",
       " (3014470015, '2007-07-27'),\n",
       " (3018160040, '2004-01-23'),\n",
       " (3004610034, '2005-12-07'),\n",
       " (3014520034, '2007-03-01'),\n",
       " (3053130024, '2014-01-07'),\n",
       " (3007270045, '2011-02-04'),\n",
       " (3039590039, '2014-11-18'),\n",
       " (3046900032, '2008-04-30'),\n",
       " (3034710009, '2008-03-26'),\n",
       " (3047370008, '2004-07-14'),\n",
       " (3060920110, '2015-11-06'),\n",
       " (3048680062, '2011-05-25'),\n",
       " (3078640008, '2007-11-08'),\n",
       " (3034180012, '2011-03-10'),\n",
       " (3069010041, '2008-10-07'),\n",
       " (3073600058, '2005-05-17'),\n",
       " (3083770053, '2007-07-16'),\n",
       " (3062510014, '2012-06-27'),\n",
       " (3045190006, '2004-07-29'),\n",
       " (3068670006, '2008-08-28'),\n",
       " (3041080062, '2010-02-19'),\n",
       " (3013430116, '2008-10-15'),\n",
       " (3018240024, '2009-12-14'),\n",
       " (3054940001, '2012-12-28'),\n",
       " (3005750028, '2003-06-06'),\n",
       " (3080840003, '2010-07-14'),\n",
       " (3057030016, '2012-12-31'),\n",
       " (3060410010, '2015-07-22'),\n",
       " (3018550058, '2004-03-23'),\n",
       " (3039050036, '2014-01-06'),\n",
       " (3044650045, '2008-04-02'),\n",
       " (3052400099, '2004-03-10'),\n",
       " (3063920053, '2013-09-27'),\n",
       " (3033310034, '2008-05-01'),\n",
       " (3077230019, '2015-11-05'),\n",
       " (3050710050, '2010-09-22'),\n",
       " (3052820038, '2004-12-07'),\n",
       " (3004217501, '2006-01-23'),\n",
       " (3062110067, '2004-11-18'),\n",
       " (3007120033, '2004-06-18'),\n",
       " (3049510025, '2016-06-15'),\n",
       " (3002150019, '2006-01-12'),\n",
       " (3062510007, '2011-09-28'),\n",
       " (3052130079, '2012-06-28'),\n",
       " (3059410038, '2009-11-30'),\n",
       " (3063680018, '2012-02-29'),\n",
       " (3078870070, '2007-07-25'),\n",
       " (3080040027, '2011-04-08'),\n",
       " (3044540022, '2015-12-09'),\n",
       " (3017920054, '2014-06-16'),\n",
       " (3051410036, '2014-06-10'),\n",
       " (3037590001, '2013-12-13'),\n",
       " (3042120009, '2014-10-20'),\n",
       " (3065660069, '2006-04-28'),\n",
       " (3088320004, '2012-05-17'),\n",
       " (3037520039, '2014-03-12'),\n",
       " (3039270037, '2003-10-24'),\n",
       " (3062060044, '2007-12-21'),\n",
       " (3013910029, '2013-06-14'),\n",
       " (3064640046, '2011-01-19'),\n",
       " (3082030049, '2007-08-31'),\n",
       " (3077390067, '2004-09-13'),\n",
       " (3003520003, '2013-11-13'),\n",
       " (3055250044, '2011-10-17'),\n",
       " (3038080048, '2007-03-23'),\n",
       " (3039540055, '2010-08-19'),\n",
       " (3080510055, '2014-02-26'),\n",
       " (3012450060, '2015-08-31'),\n",
       " (3061260027, '2005-08-22'),\n",
       " (3062650041, '2011-05-12'),\n",
       " (3043420020, '2013-10-23'),\n",
       " (3019420027, '2009-05-06'),\n",
       " (3037410044, '2015-09-08'),\n",
       " (3002470015, '2013-07-30'),\n",
       " (3002350028, '2005-03-07'),\n",
       " (3059470039, '2006-03-07'),\n",
       " (3055170082, '2015-11-06'),\n",
       " (3062920006, '2004-04-22'),\n",
       " (3032200038, '2004-07-22'),\n",
       " (3067790001, '2014-03-11'),\n",
       " (3079750063, '2013-06-04'),\n",
       " (3018150047, '2006-07-10'),\n",
       " (3015940002, '2012-12-11'),\n",
       " (3016050044, '2009-09-09'),\n",
       " (3051360059, '2005-11-22'),\n",
       " (3062580015, '2006-09-12'),\n",
       " (3082100046, '2007-07-05'),\n",
       " (3066450011, '2014-09-19'),\n",
       " (3082000031, '2016-01-27'),\n",
       " (3033870041, '2009-03-17'),\n",
       " (3044810023, '2009-01-13'),\n",
       " (3078790082, '2004-06-04'),\n",
       " (3081430071, '2014-05-23'),\n",
       " (3062240068, '2014-12-04'),\n",
       " (3009650028, '2003-09-09'),\n",
       " (3006570012, '2006-09-08'),\n",
       " (3059840063, '2003-09-16'),\n",
       " (3073580046, '2004-02-12'),\n",
       " (3054490028, '2014-07-21'),\n",
       " (3060800068, '2004-10-28'),\n",
       " (3081620044, '2004-05-11'),\n",
       " (3055500019, '2015-03-04'),\n",
       " (3057550015, '2003-12-05'),\n",
       " (3071200051, '2016-02-02'),\n",
       " (3078690024, '2014-01-21'),\n",
       " (3026620038, '2014-05-30'),\n",
       " (3055520071, '2012-10-12'),\n",
       " (3049980017, '2008-12-19'),\n",
       " (3064650096, '2006-03-03'),\n",
       " (3041730067, '2006-01-25'),\n",
       " (3076680051, '2005-04-28'),\n",
       " (3039190024, '2011-12-01'),\n",
       " (3040670050, '2005-12-30'),\n",
       " (3075880060, '2004-05-25'),\n",
       " (3040700042, '2016-07-05'),\n",
       " (3016760035, '2005-06-29'),\n",
       " (3013550014, '2012-09-11'),\n",
       " (3012650071, '2012-12-04'),\n",
       " (3055520069, '2003-07-15'),\n",
       " (3041260017, '2012-02-10'),\n",
       " (3072600020, '2009-11-02'),\n",
       " (3055150045, '2006-11-07'),\n",
       " (3007560024, '2005-01-13'),\n",
       " (3029190020, '2005-02-18'),\n",
       " (3039520004, '2005-06-14'),\n",
       " (3062720075, '2005-10-18'),\n",
       " (3073830015, '2004-06-28'),\n",
       " (3057000025, '2008-11-13'),\n",
       " (3061220031, '2015-09-01'),\n",
       " (3081140058, '2003-11-13'),\n",
       " (3007380047, '2005-03-08'),\n",
       " (3075620033, '2013-07-19'),\n",
       " (3082000020, '2011-10-27'),\n",
       " (3082580029, '2011-12-12'),\n",
       " (3018560026, '2015-05-19'),\n",
       " (3041640011, '2010-02-19'),\n",
       " (3055880021, '2006-01-30'),\n",
       " (3056800033, '2004-12-17'),\n",
       " (3058790011, '2004-08-18'),\n",
       " (3079480048, '2013-04-30'),\n",
       " (3080760070, '2010-03-02'),\n",
       " (3041220055, '2013-08-20'),\n",
       " (3082830052, '2004-07-16'),\n",
       " (3062820008, '2008-12-30'),\n",
       " (3017890030, '2013-07-02'),\n",
       " (3004210016, '2016-06-06'),\n",
       " (3066540018, '2005-07-27'),\n",
       " (3067170020, '2004-10-25'),\n",
       " (3032100040, '2005-02-22'),\n",
       " (3043060049, '2012-08-22'),\n",
       " (3064400039, '2012-03-19'),\n",
       " (3061650006, '2011-09-07'),\n",
       " (3036050130, '2004-09-27'),\n",
       " (3019800032, '2005-05-29'),\n",
       " (3070810072, '2004-12-07'),\n",
       " (3063980012, '2009-03-25'),\n",
       " (3017720027, '2003-05-30'),\n",
       " (3054760018, '2011-10-24'),\n",
       " (3056870078, '2012-10-24'),\n",
       " (3032890034, '2010-03-16'),\n",
       " (3081460008, '2014-07-22'),\n",
       " (3069320014, '2004-12-10'),\n",
       " (3053250023, '2016-02-04'),\n",
       " (3048900016, '2007-03-26'),\n",
       " (3051950016, '2006-09-14'),\n",
       " (3004590035, '2003-06-25'),\n",
       " (3063000059, '2009-09-16'),\n",
       " (3037540006, '2013-07-25'),\n",
       " (3045940039, '2003-08-04'),\n",
       " (3040560129, '2016-07-20'),\n",
       " (3034340012, '2003-02-11'),\n",
       " (3072910002, '2003-11-20'),\n",
       " (3034140067, '2013-05-06'),\n",
       " (3055000054, '2014-08-14'),\n",
       " (3076110014, '2003-01-02'),\n",
       " (3084820013, '2005-06-23'),\n",
       " (3060180035, '2015-03-10'),\n",
       " (3054910033, '2010-07-13'),\n",
       " (3032680009, '2016-08-02'),\n",
       " (3071090082, '2007-12-13'),\n",
       " (3082100010, '2007-11-29'),\n",
       " (3040780006, '2005-11-03'),\n",
       " (3068770051, '2007-05-15'),\n",
       " (3052910009, '2012-10-22'),\n",
       " (3056460053, '2005-04-20'),\n",
       " (3075960006, '2012-08-06'),\n",
       " (3056100045, '2015-03-19'),\n",
       " (3013870071, '2004-10-14'),\n",
       " (3014880156, '2005-05-26'),\n",
       " (3048770051, '2008-04-10'),\n",
       " (3056680008, '2016-07-29'),\n",
       " (3053500042, '2016-07-25'),\n",
       " (3074410245, '2006-07-25'),\n",
       " (3077480039, '2004-03-18'),\n",
       " (3080230057, '2016-04-14'),\n",
       " (3062140017, '2011-12-06'),\n",
       " (3050730019, '2010-10-01'),\n",
       " (3016010013, '2008-02-29'),\n",
       " (3000277501, '2012-01-18'),\n",
       " (3018390037, '2011-11-09'),\n",
       " (3059750086, '2003-08-13'),\n",
       " (3002140003, '2005-08-16'),\n",
       " (3019670029, '2014-07-02'),\n",
       " (3059110035, '2011-02-22'),\n",
       " (3013720029, '2006-02-28'),\n",
       " (3063807501, '2010-10-19'),\n",
       " (3078010045, '2005-05-18'),\n",
       " (3010060018, '2003-07-01'),\n",
       " (3035550037, '2008-06-17'),\n",
       " (3083690154, '2011-09-07'),\n",
       " (3041410024, '2003-01-29'),\n",
       " (3087020002, '2013-12-19'),\n",
       " (3013250066, '2013-04-23'),\n",
       " (3006840063, '2004-06-24'),\n",
       " (3063470025, '2005-03-14'),\n",
       " (3087570041, '2013-05-22'),\n",
       " (3041110023, '2004-08-19'),\n",
       " (3007490051, '2006-09-21'),\n",
       " (3032830018, '2003-10-24'),\n",
       " (3080230015, '2011-08-17'),\n",
       " (3056670032, '2009-08-03'),\n",
       " (3003207501, '2007-10-09'),\n",
       " (3053300067, '2003-02-11'),\n",
       " (3071190004, '2003-08-27'),\n",
       " (3082360053, '2011-08-22'),\n",
       " (3003510028, '2014-01-20'),\n",
       " (3052410056, '2014-10-29'),\n",
       " (3083730053, '2012-01-24'),\n",
       " (3041810023, '2015-06-15'),\n",
       " (3031590032, '2008-06-24'),\n",
       " (3007830052, '2005-03-02'),\n",
       " (3087440046, '2007-12-06'),\n",
       " (3018380074, '2008-08-27'),\n",
       " (3051920033, '2015-05-15'),\n",
       " (3078820022, '2006-04-04'),\n",
       " (3037920013, '2016-05-26'),\n",
       " (3052970037, '2008-04-18'),\n",
       " (3015420012, '2004-02-17'),\n",
       " (3017157502, '2015-05-21'),\n",
       " (3005520003, '2004-06-04'),\n",
       " (3081830027, '2012-08-28'),\n",
       " (3054900039, '2008-12-18'),\n",
       " (3026520056, '2004-07-30'),\n",
       " (3058410064, '2012-04-18'),\n",
       " (3027750018, '2005-01-19'),\n",
       " (3052300011, '2011-01-05'),\n",
       " (3002700046, '2006-09-28'),\n",
       " (3046820007, '2009-10-29'),\n",
       " (3067970072, '2004-05-20'),\n",
       " (3005980027, '2003-11-20'),\n",
       " (3038070010, '2011-11-02'),\n",
       " (3067970070, '2014-01-06'),\n",
       " (3033140059, '2003-12-11'),\n",
       " (3031830025, '2012-07-30'),\n",
       " (3002370049, '2012-06-08'),\n",
       " (3033620130, '2011-11-30'),\n",
       " (3016240070, '2005-01-11'),\n",
       " (3070990063, '2004-10-20'),\n",
       " (3073300066, '2007-08-30'),\n",
       " (3054360043, '2006-05-22'),\n",
       " (3083730068, '2009-12-24'),\n",
       " (3017090035, '2006-12-05'),\n",
       " (3038900402, '2010-06-17'),\n",
       " (3040110133, '2010-04-07'),\n",
       " (3046050063, '2014-06-06'),\n",
       " (3055790021, '2013-01-31'),\n",
       " (3056370019, '2011-02-09'),\n",
       " (3041050017, '2006-04-04'),\n",
       " (3025410056, '2005-07-20'),\n",
       " (3019490035, '2013-03-22'),\n",
       " (3039280029, '2005-08-16'),\n",
       " (3061880024, '2011-09-23'),\n",
       " (3068000016, '2015-10-15'),\n",
       " (3026530056, '2003-05-30'),\n",
       " (3053700089, '2006-06-30'),\n",
       " (3059140046, '2016-01-25'),\n",
       " (3016560071, '2011-07-13'),\n",
       " (3025030027, '2013-12-20'),\n",
       " (3061890009, '2014-08-05'),\n",
       " (3003490016, '2011-12-09'),\n",
       " (3014180069, '2013-10-16'),\n",
       " (3046460071, '2007-10-15'),\n",
       " (3022000046, '2006-07-13'),\n",
       " (3058800013, '2005-10-28'),\n",
       " (3063050064, '2009-01-15'),\n",
       " (3071190034, '2006-01-16'),\n",
       " (3082870012, '2009-10-19'),\n",
       " (3018360013, '2015-12-03'),\n",
       " (3060440067, '2012-05-24'),\n",
       " (3014520055, '2006-10-05'),\n",
       " (3039990001, '2015-10-27'),\n",
       " (3036380127, '2013-09-20'),\n",
       " (3081990052, '2013-09-24'),\n",
       " (3059100051, '2004-03-01'),\n",
       " (3062590028, '2015-12-02'),\n",
       " (3033920062, '2015-12-17'),\n",
       " (3060090067, '2009-02-10'),\n",
       " (3059680056, '2014-03-20'),\n",
       " (3010240068, '2004-10-29'),\n",
       " (3034250029, '2010-03-01'),\n",
       " (3081610065, '2015-04-23'),\n",
       " (3015220069, '2007-11-15'),\n",
       " (3041840018, '2004-12-17'),\n",
       " (3080370081, '2004-01-30'),\n",
       " (3053520076, '2007-12-17'),\n",
       " (3014520005, '2007-07-03'),\n",
       " (3014150015, '2015-11-17'),\n",
       " (3045290041, '2006-09-22'),\n",
       " (3065827502, '2005-08-04'),\n",
       " (3073360105, '2006-12-28'),\n",
       " (3015940066, '2012-10-17'),\n",
       " (3055580067, '2012-05-09'),\n",
       " (3071580063, '2005-05-03'),\n",
       " (3020750001, '2015-08-06'),\n",
       " (3073520004, '2006-04-10'),\n",
       " (3082980028, '2006-08-14'),\n",
       " (3080310063, '2012-11-20'),\n",
       " (3083697501, '2011-10-10'),\n",
       " (3018270058, '2014-05-13'),\n",
       " (3032850076, '2008-03-24'),\n",
       " (3033610037, '2016-02-29'),\n",
       " (3020610060, '2006-09-15'),\n",
       " (3076730026, '2013-11-21'),\n",
       " (3082400025, '2007-03-13'),\n",
       " (3019590006, '2003-12-04'),\n",
       " (3082750009, '2015-07-10'),\n",
       " (3032940022, '2015-04-30'),\n",
       " (3076630056, '2003-07-08'),\n",
       " (3077130022, '2015-09-30'),\n",
       " (3082830009, '2016-03-31'),\n",
       " (3085200048, '2013-06-24'),\n",
       " (3017540057, '2012-07-02'),\n",
       " (3045030049, '2011-10-28'),\n",
       " (3016380003, '2011-05-25'),\n",
       " (3079300111, '2012-01-11'),\n",
       " (3082770028, '2010-03-25'),\n",
       " (3057980017, '2008-02-05'),\n",
       " (3040540009, '2012-01-19'),\n",
       " (3055920070, '2015-07-27'),\n",
       " (3067160035, '2005-10-11'),\n",
       " ...}"
      ]
     },
     "execution_count": 95,
     "metadata": {},
     "output_type": "execute_result"
    }
   ],
   "source": [
    "bk.difference(whole)"
   ]
  },
  {
   "cell_type": "code",
   "execution_count": 139,
   "metadata": {
    "collapsed": false
   },
   "outputs": [
    {
     "data": {
      "text/html": [
       "<div>\n",
       "<table border=\"1\" class=\"dataframe\">\n",
       "  <thead>\n",
       "    <tr style=\"text-align: right;\">\n",
       "      <th></th>\n",
       "      <th>block</th>\n",
       "      <th>bbl</th>\n",
       "      <th>sale_price</th>\n",
       "      <th>sale_date</th>\n",
       "      <th>tax_class_at_time_of_sale</th>\n",
       "      <th>residential_units</th>\n",
       "      <th>commercial_units</th>\n",
       "      <th>total_units</th>\n",
       "    </tr>\n",
       "  </thead>\n",
       "  <tbody>\n",
       "    <tr>\n",
       "      <th>46383</th>\n",
       "      <td>8731</td>\n",
       "      <td>3087310024</td>\n",
       "      <td>700000</td>\n",
       "      <td>2003-10-27</td>\n",
       "      <td>1</td>\n",
       "      <td>1</td>\n",
       "      <td>0</td>\n",
       "      <td>1</td>\n",
       "    </tr>\n",
       "    <tr>\n",
       "      <th>46384</th>\n",
       "      <td>8731</td>\n",
       "      <td>3087310036</td>\n",
       "      <td>0</td>\n",
       "      <td>2003-08-27</td>\n",
       "      <td>1</td>\n",
       "      <td>1</td>\n",
       "      <td>0</td>\n",
       "      <td>1</td>\n",
       "    </tr>\n",
       "    <tr>\n",
       "      <th>46385</th>\n",
       "      <td>8731</td>\n",
       "      <td>3087310043</td>\n",
       "      <td>1750000</td>\n",
       "      <td>2003-06-05</td>\n",
       "      <td>1</td>\n",
       "      <td>1</td>\n",
       "      <td>0</td>\n",
       "      <td>1</td>\n",
       "    </tr>\n",
       "    <tr>\n",
       "      <th>46386</th>\n",
       "      <td>8731</td>\n",
       "      <td>3087310046</td>\n",
       "      <td>700000</td>\n",
       "      <td>2003-09-16</td>\n",
       "      <td>1</td>\n",
       "      <td>1</td>\n",
       "      <td>0</td>\n",
       "      <td>1</td>\n",
       "    </tr>\n",
       "    <tr>\n",
       "      <th>46387</th>\n",
       "      <td>8731</td>\n",
       "      <td>3087310051</td>\n",
       "      <td>0</td>\n",
       "      <td>2003-05-01</td>\n",
       "      <td>1</td>\n",
       "      <td>1</td>\n",
       "      <td>1</td>\n",
       "      <td>2</td>\n",
       "    </tr>\n",
       "    <tr>\n",
       "      <th>46388</th>\n",
       "      <td>8731</td>\n",
       "      <td>3087310054</td>\n",
       "      <td>1775000</td>\n",
       "      <td>2003-04-15</td>\n",
       "      <td>1</td>\n",
       "      <td>1</td>\n",
       "      <td>0</td>\n",
       "      <td>1</td>\n",
       "    </tr>\n",
       "    <tr>\n",
       "      <th>169454</th>\n",
       "      <td>8731</td>\n",
       "      <td>3087310018</td>\n",
       "      <td>1750000</td>\n",
       "      <td>2004-05-13</td>\n",
       "      <td>1</td>\n",
       "      <td>1</td>\n",
       "      <td>0</td>\n",
       "      <td>1</td>\n",
       "    </tr>\n",
       "    <tr>\n",
       "      <th>169455</th>\n",
       "      <td>8731</td>\n",
       "      <td>3087310051</td>\n",
       "      <td>915000</td>\n",
       "      <td>2004-04-09</td>\n",
       "      <td>1</td>\n",
       "      <td>1</td>\n",
       "      <td>1</td>\n",
       "      <td>2</td>\n",
       "    </tr>\n",
       "    <tr>\n",
       "      <th>169522</th>\n",
       "      <td>8731</td>\n",
       "      <td>3087310026</td>\n",
       "      <td>900000</td>\n",
       "      <td>2004-07-06</td>\n",
       "      <td>1</td>\n",
       "      <td>2</td>\n",
       "      <td>0</td>\n",
       "      <td>2</td>\n",
       "    </tr>\n",
       "    <tr>\n",
       "      <th>296174</th>\n",
       "      <td>8731</td>\n",
       "      <td>3087310018</td>\n",
       "      <td>2200000</td>\n",
       "      <td>2005-07-19</td>\n",
       "      <td>1</td>\n",
       "      <td>1</td>\n",
       "      <td>0</td>\n",
       "      <td>1</td>\n",
       "    </tr>\n",
       "    <tr>\n",
       "      <th>296213</th>\n",
       "      <td>8731</td>\n",
       "      <td>3087310040</td>\n",
       "      <td>0</td>\n",
       "      <td>2005-12-29</td>\n",
       "      <td>1</td>\n",
       "      <td>1</td>\n",
       "      <td>0</td>\n",
       "      <td>1</td>\n",
       "    </tr>\n",
       "    <tr>\n",
       "      <th>418252</th>\n",
       "      <td>8731</td>\n",
       "      <td>3087310063</td>\n",
       "      <td>1300000</td>\n",
       "      <td>2006-04-24</td>\n",
       "      <td>1</td>\n",
       "      <td>1</td>\n",
       "      <td>0</td>\n",
       "      <td>1</td>\n",
       "    </tr>\n",
       "    <tr>\n",
       "      <th>418285</th>\n",
       "      <td>8731</td>\n",
       "      <td>3087310040</td>\n",
       "      <td>0</td>\n",
       "      <td>2006-12-29</td>\n",
       "      <td>1</td>\n",
       "      <td>1</td>\n",
       "      <td>0</td>\n",
       "      <td>1</td>\n",
       "    </tr>\n",
       "    <tr>\n",
       "      <th>532778</th>\n",
       "      <td>8731</td>\n",
       "      <td>3087310040</td>\n",
       "      <td>0</td>\n",
       "      <td>2007-01-13</td>\n",
       "      <td>1</td>\n",
       "      <td>1</td>\n",
       "      <td>0</td>\n",
       "      <td>1</td>\n",
       "    </tr>\n",
       "    <tr>\n",
       "      <th>633093</th>\n",
       "      <td>8731</td>\n",
       "      <td>3087310024</td>\n",
       "      <td>0</td>\n",
       "      <td>2008-11-06</td>\n",
       "      <td>1</td>\n",
       "      <td>1</td>\n",
       "      <td>0</td>\n",
       "      <td>1</td>\n",
       "    </tr>\n",
       "    <tr>\n",
       "      <th>633094</th>\n",
       "      <td>8731</td>\n",
       "      <td>3087310051</td>\n",
       "      <td>0</td>\n",
       "      <td>2008-12-18</td>\n",
       "      <td>1</td>\n",
       "      <td>1</td>\n",
       "      <td>1</td>\n",
       "      <td>2</td>\n",
       "    </tr>\n",
       "    <tr>\n",
       "      <th>633145</th>\n",
       "      <td>8731</td>\n",
       "      <td>3087310040</td>\n",
       "      <td>0</td>\n",
       "      <td>2008-03-22</td>\n",
       "      <td>1</td>\n",
       "      <td>1</td>\n",
       "      <td>0</td>\n",
       "      <td>1</td>\n",
       "    </tr>\n",
       "    <tr>\n",
       "      <th>715259</th>\n",
       "      <td>8731</td>\n",
       "      <td>3087310018</td>\n",
       "      <td>0</td>\n",
       "      <td>2009-01-08</td>\n",
       "      <td>1</td>\n",
       "      <td>1</td>\n",
       "      <td>0</td>\n",
       "      <td>1</td>\n",
       "    </tr>\n",
       "    <tr>\n",
       "      <th>715260</th>\n",
       "      <td>8731</td>\n",
       "      <td>3087310046</td>\n",
       "      <td>0</td>\n",
       "      <td>2009-01-27</td>\n",
       "      <td>1</td>\n",
       "      <td>1</td>\n",
       "      <td>0</td>\n",
       "      <td>1</td>\n",
       "    </tr>\n",
       "    <tr>\n",
       "      <th>715294</th>\n",
       "      <td>8731</td>\n",
       "      <td>3087310040</td>\n",
       "      <td>0</td>\n",
       "      <td>2009-01-24</td>\n",
       "      <td>1</td>\n",
       "      <td>1</td>\n",
       "      <td>0</td>\n",
       "      <td>1</td>\n",
       "    </tr>\n",
       "    <tr>\n",
       "      <th>787526</th>\n",
       "      <td>8731</td>\n",
       "      <td>3087310018</td>\n",
       "      <td>3175000</td>\n",
       "      <td>2010-12-22</td>\n",
       "      <td>1</td>\n",
       "      <td>1</td>\n",
       "      <td>0</td>\n",
       "      <td>1</td>\n",
       "    </tr>\n",
       "    <tr>\n",
       "      <th>787569</th>\n",
       "      <td>8731</td>\n",
       "      <td>3087310037</td>\n",
       "      <td>0</td>\n",
       "      <td>2010-06-27</td>\n",
       "      <td>1</td>\n",
       "      <td>2</td>\n",
       "      <td>0</td>\n",
       "      <td>2</td>\n",
       "    </tr>\n",
       "    <tr>\n",
       "      <th>787570</th>\n",
       "      <td>8731</td>\n",
       "      <td>3087310040</td>\n",
       "      <td>1250000</td>\n",
       "      <td>2010-12-07</td>\n",
       "      <td>1</td>\n",
       "      <td>1</td>\n",
       "      <td>0</td>\n",
       "      <td>1</td>\n",
       "    </tr>\n",
       "    <tr>\n",
       "      <th>787571</th>\n",
       "      <td>8731</td>\n",
       "      <td>3087310040</td>\n",
       "      <td>0</td>\n",
       "      <td>2010-01-23</td>\n",
       "      <td>1</td>\n",
       "      <td>1</td>\n",
       "      <td>0</td>\n",
       "      <td>1</td>\n",
       "    </tr>\n",
       "    <tr>\n",
       "      <th>941816</th>\n",
       "      <td>8731</td>\n",
       "      <td>3087310069</td>\n",
       "      <td>2900000</td>\n",
       "      <td>2012-03-15</td>\n",
       "      <td>1</td>\n",
       "      <td>1</td>\n",
       "      <td>0</td>\n",
       "      <td>1</td>\n",
       "    </tr>\n",
       "    <tr>\n",
       "      <th>1116032</th>\n",
       "      <td>8731</td>\n",
       "      <td>3087310018</td>\n",
       "      <td>2950000</td>\n",
       "      <td>2014-10-21</td>\n",
       "      <td>1</td>\n",
       "      <td>1</td>\n",
       "      <td>0</td>\n",
       "      <td>1</td>\n",
       "    </tr>\n",
       "    <tr>\n",
       "      <th>1116033</th>\n",
       "      <td>8731</td>\n",
       "      <td>3087310046</td>\n",
       "      <td>999000</td>\n",
       "      <td>2014-08-28</td>\n",
       "      <td>1</td>\n",
       "      <td>1</td>\n",
       "      <td>0</td>\n",
       "      <td>1</td>\n",
       "    </tr>\n",
       "    <tr>\n",
       "      <th>1116034</th>\n",
       "      <td>8731</td>\n",
       "      <td>3087310050</td>\n",
       "      <td>880000</td>\n",
       "      <td>2014-08-21</td>\n",
       "      <td>1</td>\n",
       "      <td>1</td>\n",
       "      <td>0</td>\n",
       "      <td>1</td>\n",
       "    </tr>\n",
       "    <tr>\n",
       "      <th>1205284</th>\n",
       "      <td>8731</td>\n",
       "      <td>3087310037</td>\n",
       "      <td>1550000</td>\n",
       "      <td>2015-03-03</td>\n",
       "      <td>1</td>\n",
       "      <td>2</td>\n",
       "      <td>0</td>\n",
       "      <td>2</td>\n",
       "    </tr>\n",
       "    <tr>\n",
       "      <th>1293273</th>\n",
       "      <td>8731</td>\n",
       "      <td>3087310058</td>\n",
       "      <td>0</td>\n",
       "      <td>2016-04-08</td>\n",
       "      <td>1</td>\n",
       "      <td>1</td>\n",
       "      <td>0</td>\n",
       "      <td>1</td>\n",
       "    </tr>\n",
       "  </tbody>\n",
       "</table>\n",
       "</div>"
      ],
      "text/plain": [
       "         block         bbl  sale_price  sale_date  tax_class_at_time_of_sale  \\\n",
       "46383     8731  3087310024      700000 2003-10-27                          1   \n",
       "46384     8731  3087310036           0 2003-08-27                          1   \n",
       "46385     8731  3087310043     1750000 2003-06-05                          1   \n",
       "46386     8731  3087310046      700000 2003-09-16                          1   \n",
       "46387     8731  3087310051           0 2003-05-01                          1   \n",
       "46388     8731  3087310054     1775000 2003-04-15                          1   \n",
       "169454    8731  3087310018     1750000 2004-05-13                          1   \n",
       "169455    8731  3087310051      915000 2004-04-09                          1   \n",
       "169522    8731  3087310026      900000 2004-07-06                          1   \n",
       "296174    8731  3087310018     2200000 2005-07-19                          1   \n",
       "296213    8731  3087310040           0 2005-12-29                          1   \n",
       "418252    8731  3087310063     1300000 2006-04-24                          1   \n",
       "418285    8731  3087310040           0 2006-12-29                          1   \n",
       "532778    8731  3087310040           0 2007-01-13                          1   \n",
       "633093    8731  3087310024           0 2008-11-06                          1   \n",
       "633094    8731  3087310051           0 2008-12-18                          1   \n",
       "633145    8731  3087310040           0 2008-03-22                          1   \n",
       "715259    8731  3087310018           0 2009-01-08                          1   \n",
       "715260    8731  3087310046           0 2009-01-27                          1   \n",
       "715294    8731  3087310040           0 2009-01-24                          1   \n",
       "787526    8731  3087310018     3175000 2010-12-22                          1   \n",
       "787569    8731  3087310037           0 2010-06-27                          1   \n",
       "787570    8731  3087310040     1250000 2010-12-07                          1   \n",
       "787571    8731  3087310040           0 2010-01-23                          1   \n",
       "941816    8731  3087310069     2900000 2012-03-15                          1   \n",
       "1116032   8731  3087310018     2950000 2014-10-21                          1   \n",
       "1116033   8731  3087310046      999000 2014-08-28                          1   \n",
       "1116034   8731  3087310050      880000 2014-08-21                          1   \n",
       "1205284   8731  3087310037     1550000 2015-03-03                          1   \n",
       "1293273   8731  3087310058           0 2016-04-08                          1   \n",
       "\n",
       "         residential_units  commercial_units  total_units  \n",
       "46383                    1                 0            1  \n",
       "46384                    1                 0            1  \n",
       "46385                    1                 0            1  \n",
       "46386                    1                 0            1  \n",
       "46387                    1                 1            2  \n",
       "46388                    1                 0            1  \n",
       "169454                   1                 0            1  \n",
       "169455                   1                 1            2  \n",
       "169522                   2                 0            2  \n",
       "296174                   1                 0            1  \n",
       "296213                   1                 0            1  \n",
       "418252                   1                 0            1  \n",
       "418285                   1                 0            1  \n",
       "532778                   1                 0            1  \n",
       "633093                   1                 0            1  \n",
       "633094                   1                 1            2  \n",
       "633145                   1                 0            1  \n",
       "715259                   1                 0            1  \n",
       "715260                   1                 0            1  \n",
       "715294                   1                 0            1  \n",
       "787526                   1                 0            1  \n",
       "787569                   2                 0            2  \n",
       "787570                   1                 0            1  \n",
       "787571                   1                 0            1  \n",
       "941816                   1                 0            1  \n",
       "1116032                  1                 0            1  \n",
       "1116033                  1                 0            1  \n",
       "1116034                  1                 0            1  \n",
       "1205284                  2                 0            2  \n",
       "1293273                  1                 0            1  "
      ]
     },
     "execution_count": 139,
     "metadata": {},
     "output_type": "execute_result"
    }
   ],
   "source": [
    "finance.loc[lambda df: df.block == 8731]"
   ]
  },
  {
   "cell_type": "code",
   "execution_count": 140,
   "metadata": {
    "collapsed": false
   },
   "outputs": [
    {
     "data": {
      "text/html": [
       "<div>\n",
       "<table border=\"1\" class=\"dataframe\">\n",
       "  <thead>\n",
       "    <tr style=\"text-align: right;\">\n",
       "      <th></th>\n",
       "      <th>sale_price</th>\n",
       "      <th>sale_date</th>\n",
       "      <th>tax_class_at_time_of_sale</th>\n",
       "      <th>year_built</th>\n",
       "      <th>residential_units</th>\n",
       "      <th>commercial_units</th>\n",
       "      <th>total_units</th>\n",
       "      <th>block</th>\n",
       "      <th>bbl</th>\n",
       "    </tr>\n",
       "  </thead>\n",
       "  <tbody>\n",
       "    <tr>\n",
       "      <th>24173</th>\n",
       "      <td>700000</td>\n",
       "      <td>2003-10-27</td>\n",
       "      <td>1</td>\n",
       "      <td>1925</td>\n",
       "      <td>1</td>\n",
       "      <td>0</td>\n",
       "      <td>1</td>\n",
       "      <td>8731</td>\n",
       "      <td>3087310024</td>\n",
       "    </tr>\n",
       "    <tr>\n",
       "      <th>24174</th>\n",
       "      <td>0</td>\n",
       "      <td>2003-08-27</td>\n",
       "      <td>1</td>\n",
       "      <td>1955</td>\n",
       "      <td>1</td>\n",
       "      <td>0</td>\n",
       "      <td>1</td>\n",
       "      <td>8731</td>\n",
       "      <td>3087310036</td>\n",
       "    </tr>\n",
       "    <tr>\n",
       "      <th>24175</th>\n",
       "      <td>1750000</td>\n",
       "      <td>2003-06-05</td>\n",
       "      <td>1</td>\n",
       "      <td>1925</td>\n",
       "      <td>1</td>\n",
       "      <td>0</td>\n",
       "      <td>1</td>\n",
       "      <td>8731</td>\n",
       "      <td>3087310043</td>\n",
       "    </tr>\n",
       "    <tr>\n",
       "      <th>24176</th>\n",
       "      <td>700000</td>\n",
       "      <td>2003-09-16</td>\n",
       "      <td>1</td>\n",
       "      <td>1940</td>\n",
       "      <td>1</td>\n",
       "      <td>0</td>\n",
       "      <td>1</td>\n",
       "      <td>8731</td>\n",
       "      <td>3087310046</td>\n",
       "    </tr>\n",
       "    <tr>\n",
       "      <th>24177</th>\n",
       "      <td>0</td>\n",
       "      <td>2003-05-01</td>\n",
       "      <td>1</td>\n",
       "      <td>1935</td>\n",
       "      <td>1</td>\n",
       "      <td>1</td>\n",
       "      <td>2</td>\n",
       "      <td>8731</td>\n",
       "      <td>3087310051</td>\n",
       "    </tr>\n",
       "    <tr>\n",
       "      <th>24178</th>\n",
       "      <td>1775000</td>\n",
       "      <td>2003-04-15</td>\n",
       "      <td>1</td>\n",
       "      <td>2003</td>\n",
       "      <td>1</td>\n",
       "      <td>0</td>\n",
       "      <td>1</td>\n",
       "      <td>8731</td>\n",
       "      <td>3087310054</td>\n",
       "    </tr>\n",
       "    <tr>\n",
       "      <th>25132</th>\n",
       "      <td>1750000</td>\n",
       "      <td>2004-05-13</td>\n",
       "      <td>1</td>\n",
       "      <td>1930</td>\n",
       "      <td>1</td>\n",
       "      <td>0</td>\n",
       "      <td>1</td>\n",
       "      <td>8731</td>\n",
       "      <td>3075930038</td>\n",
       "    </tr>\n",
       "    <tr>\n",
       "      <th>25133</th>\n",
       "      <td>915000</td>\n",
       "      <td>2004-04-09</td>\n",
       "      <td>1</td>\n",
       "      <td>1935</td>\n",
       "      <td>1</td>\n",
       "      <td>1</td>\n",
       "      <td>2</td>\n",
       "      <td>8731</td>\n",
       "      <td>3075930048</td>\n",
       "    </tr>\n",
       "    <tr>\n",
       "      <th>25200</th>\n",
       "      <td>900000</td>\n",
       "      <td>2004-07-06</td>\n",
       "      <td>1</td>\n",
       "      <td>1935</td>\n",
       "      <td>2</td>\n",
       "      <td>0</td>\n",
       "      <td>2</td>\n",
       "      <td>8731</td>\n",
       "      <td>3067610075</td>\n",
       "    </tr>\n",
       "    <tr>\n",
       "      <th>24767</th>\n",
       "      <td>2200000</td>\n",
       "      <td>2005-07-19</td>\n",
       "      <td>1</td>\n",
       "      <td>1930</td>\n",
       "      <td>1</td>\n",
       "      <td>0</td>\n",
       "      <td>1</td>\n",
       "      <td>8731</td>\n",
       "      <td>3088190011</td>\n",
       "    </tr>\n",
       "    <tr>\n",
       "      <th>24806</th>\n",
       "      <td>0</td>\n",
       "      <td>2005-12-29</td>\n",
       "      <td>1</td>\n",
       "      <td>1955</td>\n",
       "      <td>1</td>\n",
       "      <td>0</td>\n",
       "      <td>1</td>\n",
       "      <td>8731</td>\n",
       "      <td>3085420006</td>\n",
       "    </tr>\n",
       "    <tr>\n",
       "      <th>23238</th>\n",
       "      <td>1300000</td>\n",
       "      <td>2006-04-24</td>\n",
       "      <td>1</td>\n",
       "      <td>1940</td>\n",
       "      <td>1</td>\n",
       "      <td>0</td>\n",
       "      <td>1</td>\n",
       "      <td>8731</td>\n",
       "      <td>3025410054</td>\n",
       "    </tr>\n",
       "    <tr>\n",
       "      <th>23271</th>\n",
       "      <td>0</td>\n",
       "      <td>2006-12-29</td>\n",
       "      <td>1</td>\n",
       "      <td>1955</td>\n",
       "      <td>1</td>\n",
       "      <td>0</td>\n",
       "      <td>1</td>\n",
       "      <td>8731</td>\n",
       "      <td>3026520044</td>\n",
       "    </tr>\n",
       "    <tr>\n",
       "      <th>20205</th>\n",
       "      <td>0</td>\n",
       "      <td>2007-01-13</td>\n",
       "      <td>1</td>\n",
       "      <td>1955</td>\n",
       "      <td>1</td>\n",
       "      <td>0</td>\n",
       "      <td>1</td>\n",
       "      <td>8731</td>\n",
       "      <td>3050290063</td>\n",
       "    </tr>\n",
       "    <tr>\n",
       "      <th>15956</th>\n",
       "      <td>0</td>\n",
       "      <td>2008-11-06</td>\n",
       "      <td>1</td>\n",
       "      <td>1925</td>\n",
       "      <td>1</td>\n",
       "      <td>0</td>\n",
       "      <td>1</td>\n",
       "      <td>8731</td>\n",
       "      <td>3057520071</td>\n",
       "    </tr>\n",
       "    <tr>\n",
       "      <th>15957</th>\n",
       "      <td>0</td>\n",
       "      <td>2008-12-18</td>\n",
       "      <td>1</td>\n",
       "      <td>1935</td>\n",
       "      <td>1</td>\n",
       "      <td>1</td>\n",
       "      <td>2</td>\n",
       "      <td>8731</td>\n",
       "      <td>3057590018</td>\n",
       "    </tr>\n",
       "    <tr>\n",
       "      <th>16008</th>\n",
       "      <td>0</td>\n",
       "      <td>2008-03-22</td>\n",
       "      <td>1</td>\n",
       "      <td>1955</td>\n",
       "      <td>1</td>\n",
       "      <td>0</td>\n",
       "      <td>1</td>\n",
       "      <td>8731</td>\n",
       "      <td>3037570083</td>\n",
       "    </tr>\n",
       "    <tr>\n",
       "      <th>13803</th>\n",
       "      <td>0</td>\n",
       "      <td>2009-01-08</td>\n",
       "      <td>1</td>\n",
       "      <td>1930</td>\n",
       "      <td>1</td>\n",
       "      <td>0</td>\n",
       "      <td>1</td>\n",
       "      <td>8731</td>\n",
       "      <td>3012520055</td>\n",
       "    </tr>\n",
       "    <tr>\n",
       "      <th>13804</th>\n",
       "      <td>0</td>\n",
       "      <td>2009-01-27</td>\n",
       "      <td>1</td>\n",
       "      <td>1940</td>\n",
       "      <td>1</td>\n",
       "      <td>0</td>\n",
       "      <td>1</td>\n",
       "      <td>8731</td>\n",
       "      <td>3012520055</td>\n",
       "    </tr>\n",
       "    <tr>\n",
       "      <th>13838</th>\n",
       "      <td>0</td>\n",
       "      <td>2009-01-24</td>\n",
       "      <td>1</td>\n",
       "      <td>1955</td>\n",
       "      <td>1</td>\n",
       "      <td>0</td>\n",
       "      <td>1</td>\n",
       "      <td>8731</td>\n",
       "      <td>3013880040</td>\n",
       "    </tr>\n",
       "    <tr>\n",
       "      <th>12945</th>\n",
       "      <td>3175000</td>\n",
       "      <td>2010-12-22</td>\n",
       "      <td>1</td>\n",
       "      <td>1930</td>\n",
       "      <td>1</td>\n",
       "      <td>0</td>\n",
       "      <td>1</td>\n",
       "      <td>8731</td>\n",
       "      <td>3003350035</td>\n",
       "    </tr>\n",
       "    <tr>\n",
       "      <th>12988</th>\n",
       "      <td>0</td>\n",
       "      <td>2010-06-27</td>\n",
       "      <td>1</td>\n",
       "      <td>1930</td>\n",
       "      <td>2</td>\n",
       "      <td>0</td>\n",
       "      <td>2</td>\n",
       "      <td>8731</td>\n",
       "      <td>3003361102</td>\n",
       "    </tr>\n",
       "    <tr>\n",
       "      <th>12989</th>\n",
       "      <td>1250000</td>\n",
       "      <td>2010-12-07</td>\n",
       "      <td>1</td>\n",
       "      <td>1955</td>\n",
       "      <td>1</td>\n",
       "      <td>0</td>\n",
       "      <td>1</td>\n",
       "      <td>8731</td>\n",
       "      <td>3003670015</td>\n",
       "    </tr>\n",
       "    <tr>\n",
       "      <th>12990</th>\n",
       "      <td>0</td>\n",
       "      <td>2010-01-23</td>\n",
       "      <td>1</td>\n",
       "      <td>1955</td>\n",
       "      <td>1</td>\n",
       "      <td>0</td>\n",
       "      <td>1</td>\n",
       "      <td>8731</td>\n",
       "      <td>3002990015</td>\n",
       "    </tr>\n",
       "    <tr>\n",
       "      <th>15712</th>\n",
       "      <td>2900000</td>\n",
       "      <td>2012-03-15</td>\n",
       "      <td>1</td>\n",
       "      <td>1994</td>\n",
       "      <td>1</td>\n",
       "      <td>0</td>\n",
       "      <td>1</td>\n",
       "      <td>8731</td>\n",
       "      <td>3062660014</td>\n",
       "    </tr>\n",
       "    <tr>\n",
       "      <th>17607</th>\n",
       "      <td>2950000</td>\n",
       "      <td>2014-10-21</td>\n",
       "      <td>1</td>\n",
       "      <td>1930</td>\n",
       "      <td>1</td>\n",
       "      <td>0</td>\n",
       "      <td>1</td>\n",
       "      <td>8731</td>\n",
       "      <td>3045190017</td>\n",
       "    </tr>\n",
       "    <tr>\n",
       "      <th>17608</th>\n",
       "      <td>999000</td>\n",
       "      <td>2014-08-28</td>\n",
       "      <td>1</td>\n",
       "      <td>1940</td>\n",
       "      <td>1</td>\n",
       "      <td>0</td>\n",
       "      <td>1</td>\n",
       "      <td>8731</td>\n",
       "      <td>3045190019</td>\n",
       "    </tr>\n",
       "    <tr>\n",
       "      <th>17609</th>\n",
       "      <td>880000</td>\n",
       "      <td>2014-08-21</td>\n",
       "      <td>1</td>\n",
       "      <td>1940</td>\n",
       "      <td>1</td>\n",
       "      <td>0</td>\n",
       "      <td>1</td>\n",
       "      <td>8731</td>\n",
       "      <td>3045190023</td>\n",
       "    </tr>\n",
       "    <tr>\n",
       "      <th>17707</th>\n",
       "      <td>1550000</td>\n",
       "      <td>2015-03-03</td>\n",
       "      <td>1</td>\n",
       "      <td>1930</td>\n",
       "      <td>2</td>\n",
       "      <td>0</td>\n",
       "      <td>2</td>\n",
       "      <td>8731</td>\n",
       "      <td>3038410029</td>\n",
       "    </tr>\n",
       "    <tr>\n",
       "      <th>16436</th>\n",
       "      <td>0</td>\n",
       "      <td>2016-04-08</td>\n",
       "      <td>1</td>\n",
       "      <td>1940</td>\n",
       "      <td>1</td>\n",
       "      <td>0</td>\n",
       "      <td>1</td>\n",
       "      <td>8731</td>\n",
       "      <td>3038500037</td>\n",
       "    </tr>\n",
       "  </tbody>\n",
       "</table>\n",
       "</div>"
      ],
      "text/plain": [
       "       sale_price  sale_date  tax_class_at_time_of_sale  year_built  \\\n",
       "24173      700000 2003-10-27                          1        1925   \n",
       "24174           0 2003-08-27                          1        1955   \n",
       "24175     1750000 2003-06-05                          1        1925   \n",
       "24176      700000 2003-09-16                          1        1940   \n",
       "24177           0 2003-05-01                          1        1935   \n",
       "24178     1775000 2003-04-15                          1        2003   \n",
       "25132     1750000 2004-05-13                          1        1930   \n",
       "25133      915000 2004-04-09                          1        1935   \n",
       "25200      900000 2004-07-06                          1        1935   \n",
       "24767     2200000 2005-07-19                          1        1930   \n",
       "24806           0 2005-12-29                          1        1955   \n",
       "23238     1300000 2006-04-24                          1        1940   \n",
       "23271           0 2006-12-29                          1        1955   \n",
       "20205           0 2007-01-13                          1        1955   \n",
       "15956           0 2008-11-06                          1        1925   \n",
       "15957           0 2008-12-18                          1        1935   \n",
       "16008           0 2008-03-22                          1        1955   \n",
       "13803           0 2009-01-08                          1        1930   \n",
       "13804           0 2009-01-27                          1        1940   \n",
       "13838           0 2009-01-24                          1        1955   \n",
       "12945     3175000 2010-12-22                          1        1930   \n",
       "12988           0 2010-06-27                          1        1930   \n",
       "12989     1250000 2010-12-07                          1        1955   \n",
       "12990           0 2010-01-23                          1        1955   \n",
       "15712     2900000 2012-03-15                          1        1994   \n",
       "17607     2950000 2014-10-21                          1        1930   \n",
       "17608      999000 2014-08-28                          1        1940   \n",
       "17609      880000 2014-08-21                          1        1940   \n",
       "17707     1550000 2015-03-03                          1        1930   \n",
       "16436           0 2016-04-08                          1        1940   \n",
       "\n",
       "       residential_units  commercial_units  total_units  block         bbl  \n",
       "24173                  1                 0            1   8731  3087310024  \n",
       "24174                  1                 0            1   8731  3087310036  \n",
       "24175                  1                 0            1   8731  3087310043  \n",
       "24176                  1                 0            1   8731  3087310046  \n",
       "24177                  1                 1            2   8731  3087310051  \n",
       "24178                  1                 0            1   8731  3087310054  \n",
       "25132                  1                 0            1   8731  3075930038  \n",
       "25133                  1                 1            2   8731  3075930048  \n",
       "25200                  2                 0            2   8731  3067610075  \n",
       "24767                  1                 0            1   8731  3088190011  \n",
       "24806                  1                 0            1   8731  3085420006  \n",
       "23238                  1                 0            1   8731  3025410054  \n",
       "23271                  1                 0            1   8731  3026520044  \n",
       "20205                  1                 0            1   8731  3050290063  \n",
       "15956                  1                 0            1   8731  3057520071  \n",
       "15957                  1                 1            2   8731  3057590018  \n",
       "16008                  1                 0            1   8731  3037570083  \n",
       "13803                  1                 0            1   8731  3012520055  \n",
       "13804                  1                 0            1   8731  3012520055  \n",
       "13838                  1                 0            1   8731  3013880040  \n",
       "12945                  1                 0            1   8731  3003350035  \n",
       "12988                  2                 0            2   8731  3003361102  \n",
       "12989                  1                 0            1   8731  3003670015  \n",
       "12990                  1                 0            1   8731  3002990015  \n",
       "15712                  1                 0            1   8731  3062660014  \n",
       "17607                  1                 0            1   8731  3045190017  \n",
       "17608                  1                 0            1   8731  3045190019  \n",
       "17609                  1                 0            1   8731  3045190023  \n",
       "17707                  2                 0            2   8731  3038410029  \n",
       "16436                  1                 0            1   8731  3038500037  "
      ]
     },
     "execution_count": 140,
     "metadata": {},
     "output_type": "execute_result"
    }
   ],
   "source": [
    "finance_bk.loc[lambda df: df.block == 8731]"
   ]
  },
  {
   "cell_type": "code",
   "execution_count": 96,
   "metadata": {
    "collapsed": false
   },
   "outputs": [
    {
     "data": {
      "text/html": [
       "<div>\n",
       "<table border=\"1\" class=\"dataframe\">\n",
       "  <thead>\n",
       "    <tr style=\"text-align: right;\">\n",
       "      <th></th>\n",
       "      <th>ltdheight</th>\n",
       "      <th>splitzone</th>\n",
       "      <th>easements</th>\n",
       "      <th>comarea</th>\n",
       "      <th>resarea</th>\n",
       "      <th>numbldgs</th>\n",
       "      <th>numfloors</th>\n",
       "      <th>unitsres</th>\n",
       "      <th>unitstotal</th>\n",
       "      <th>lotfront</th>\n",
       "      <th>...</th>\n",
       "      <th>proxcode_2</th>\n",
       "      <th>lottype_0</th>\n",
       "      <th>lottype_1</th>\n",
       "      <th>lottype_2</th>\n",
       "      <th>lottype_3</th>\n",
       "      <th>lottype_4</th>\n",
       "      <th>lottype_5</th>\n",
       "      <th>tax_class_at_time_of_sale_1</th>\n",
       "      <th>tax_class_at_time_of_sale_2</th>\n",
       "      <th>tax_class_at_time_of_sale_3</th>\n",
       "    </tr>\n",
       "  </thead>\n",
       "  <tbody>\n",
       "    <tr>\n",
       "      <th>169050</th>\n",
       "      <td>0.0</td>\n",
       "      <td>0.0</td>\n",
       "      <td>0.0</td>\n",
       "      <td>0.0</td>\n",
       "      <td>1760.0</td>\n",
       "      <td>NaN</td>\n",
       "      <td>2.0</td>\n",
       "      <td>NaN</td>\n",
       "      <td>NaN</td>\n",
       "      <td>NaN</td>\n",
       "      <td>...</td>\n",
       "      <td>0</td>\n",
       "      <td>0</td>\n",
       "      <td>0</td>\n",
       "      <td>0</td>\n",
       "      <td>1</td>\n",
       "      <td>0</td>\n",
       "      <td>0</td>\n",
       "      <td>0</td>\n",
       "      <td>1</td>\n",
       "      <td>0</td>\n",
       "    </tr>\n",
       "  </tbody>\n",
       "</table>\n",
       "<p>1 rows × 171 columns</p>\n",
       "</div>"
      ],
      "text/plain": [
       "        ltdheight  splitzone  easements  comarea  resarea  numbldgs  \\\n",
       "169050        0.0        0.0        0.0      0.0   1760.0       NaN   \n",
       "\n",
       "        numfloors  unitsres  unitstotal  lotfront  \\\n",
       "169050        2.0       NaN         NaN       NaN   \n",
       "\n",
       "                   ...               proxcode_2  lottype_0  lottype_1  \\\n",
       "169050             ...                        0          0          0   \n",
       "\n",
       "        lottype_2  lottype_3  lottype_4  lottype_5  \\\n",
       "169050          0          1          0          0   \n",
       "\n",
       "        tax_class_at_time_of_sale_1  tax_class_at_time_of_sale_2  \\\n",
       "169050                            0                            1   \n",
       "\n",
       "        tax_class_at_time_of_sale_3  \n",
       "169050                            0  \n",
       "\n",
       "[1 rows x 171 columns]"
      ]
     },
     "execution_count": 96,
     "metadata": {},
     "output_type": "execute_result"
    }
   ],
   "source": [
    "brooklyn.loc[(brooklyn.bbl == 3087310024) & (brooklyn.sale_date == '2013-04-08')]"
   ]
  },
  {
   "cell_type": "code",
   "execution_count": null,
   "metadata": {
    "collapsed": true
   },
   "outputs": [],
   "source": [
    "data_dir = \"data/nyc_pluto_16v1\"\n",
    "initials = {\"manhattan\" : \"MN\", \"brooklyn\" : \"BK\", \"bronx\" : \"BX\",\n",
    "        \"queens\" : \"QN\", \"statenisland\" : \"SI\"}\n",
    "filename = \"{data_dir}/{boro}.csv\".format(data_dir = data_dir,\n",
    "            boro = initials.get('brooklyn'))\n",
    "pluto_raw_brooklyn = pd.read_csv(filename, low_memory = False)"
   ]
  }
 ],
 "metadata": {
  "anaconda-cloud": {},
  "kernelspec": {
   "display_name": "Python 3",
   "language": "python",
   "name": "python3"
  },
  "language_info": {
   "codemirror_mode": {
    "name": "ipython",
    "version": 3
   },
   "file_extension": ".py",
   "mimetype": "text/x-python",
   "name": "python",
   "nbconvert_exporter": "python",
   "pygments_lexer": "ipython3",
   "version": "3.5.2"
  }
 },
 "nbformat": 4,
 "nbformat_minor": 0
}
