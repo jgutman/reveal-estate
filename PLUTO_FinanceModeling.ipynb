{
 "cells": [
  {
   "cell_type": "code",
   "execution_count": 1,
   "metadata": {
    "collapsed": false
   },
   "outputs": [],
   "source": [
    "import pandas as pd\n",
    "from pyproj import Proj\n",
    "import numpy as np\n",
    "import math\n",
    "import matplotlib.pyplot as plt\n",
    "from sklearn import datasets, linear_model\n",
    "from sklearn import model_selection as cross_validation\n",
    "from sklearn.metrics import mean_squared_error\n",
    "import seaborn as sns\n",
    "sns.set(color_codes=True)\n",
    "import collections\n",
    "\n",
    "%matplotlib inline"
   ]
  },
  {
   "cell_type": "code",
   "execution_count": null,
   "metadata": {
    "collapsed": false
   },
   "outputs": [],
   "source": [
    "ls data/"
   ]
  },
  {
   "cell_type": "code",
   "execution_count": null,
   "metadata": {
    "collapsed": false
   },
   "outputs": [],
   "source": [
    "data_path = \"data/merged/bronx_brooklyn_manhattan_queens_statenisland_2003_2016.csv\"\n",
    "df = pd.read_csv(data_path, low_memory = False)\n",
    "df.head()"
   ]
  },
  {
   "cell_type": "code",
   "execution_count": null,
   "metadata": {
    "collapsed": false
   },
   "outputs": [],
   "source": [
    "no_dups = df.drop_duplicates()\n",
    "no_dups.shape"
   ]
  },
  {
   "cell_type": "code",
   "execution_count": null,
   "metadata": {
    "collapsed": false
   },
   "outputs": [],
   "source": [
    "df.shape"
   ]
  },
  {
   "cell_type": "code",
   "execution_count": null,
   "metadata": {
    "collapsed": true
   },
   "outputs": [],
   "source": [
    "df[['bbl','zipcode','latitude','longitude']].to_csv(\"bbls_and_zips.csv\", index = False)"
   ]
  },
  {
   "cell_type": "code",
   "execution_count": null,
   "metadata": {
    "collapsed": false
   },
   "outputs": [],
   "source": [
    "x = df[df['year_built'] != df['yearbuilt']]\n",
    "x[x['year_built'] == 0.0].shape"
   ]
  },
  {
   "cell_type": "code",
   "execution_count": null,
   "metadata": {
    "collapsed": false
   },
   "outputs": [],
   "source": [
    "df[['gross_sqft_pluto','sale_price','price_per_sqft']].head()"
   ]
  },
  {
   "cell_type": "code",
   "execution_count": null,
   "metadata": {
    "collapsed": false
   },
   "outputs": [],
   "source": [
    "df = df[df['price_per_sqft'] != 0.0]\n",
    "df.shape"
   ]
  },
  {
   "cell_type": "code",
   "execution_count": null,
   "metadata": {
    "collapsed": false
   },
   "outputs": [],
   "source": [
    "df = df[df['price_per_sqft'] >= 10]\n",
    "df = df[df['price_per_sqft'] <= 5000]\n",
    "df.shape"
   ]
  },
  {
   "cell_type": "code",
   "execution_count": null,
   "metadata": {
    "collapsed": false
   },
   "outputs": [],
   "source": [
    "count = collections.Counter(df['price_per_sqft'].astype(int))\n",
    "count"
   ]
  },
  {
   "cell_type": "code",
   "execution_count": null,
   "metadata": {
    "collapsed": false
   },
   "outputs": [],
   "source": [
    "outliers = df.loc[df['price_per_sqft'].astype(int).isin([1,2,3,4,5,6912,7655,7949,10315,12089,14568])]\n",
    "outliers[['latitude','longitude','price_per_sqft','sale_price','year_built','sale_date']].to_csv(\"outliers.csv\")"
   ]
  },
  {
   "cell_type": "code",
   "execution_count": null,
   "metadata": {
    "collapsed": false
   },
   "outputs": [],
   "source": [
    "#output distribution of target variable to visualize in Tableau\n",
    "import csv\n",
    "x = df['price_per_sqft']\n",
    "count = collections.Counter(x.astype(int))\n",
    "with open(\"price_per_sqft_counts.csv\",'w') as csvfile:\n",
    "    writer=csv.writer(csvfile)\n",
    "    writer.writerow(['Price Per Sqft', 'Frequency'])\n",
    "    for key, count in count.items():\n",
    "        writer.writerow([key, count])"
   ]
  },
  {
   "cell_type": "code",
   "execution_count": null,
   "metadata": {
    "collapsed": true
   },
   "outputs": [],
   "source": [
    "#output distribution of sale price to visualize in Tableau\n",
    "import csv\n",
    "x = df['sale_price']\n",
    "count = collections.Counter(x.astype(int))\n",
    "with open(\"sale_price_counts.csv\",'w') as csvfile:\n",
    "    writer=csv.writer(csvfile)\n",
    "    writer.writerow(['Sale Price', 'Frequency'])\n",
    "    for key, count in count.items():\n",
    "        writer.writerow([key, count])"
   ]
  },
  {
   "cell_type": "code",
   "execution_count": null,
   "metadata": {
    "collapsed": false
   },
   "outputs": [],
   "source": [
    "def drop_cols(data, cols):\n",
    "    return data.drop(cols, axis = 1)"
   ]
  },
  {
   "cell_type": "code",
   "execution_count": null,
   "metadata": {
    "collapsed": false
   },
   "outputs": [],
   "source": [
    "df = drop_cols(df, ['zonemap','sale_date','sale_price','year_built'])"
   ]
  },
  {
   "cell_type": "code",
   "execution_count": null,
   "metadata": {
    "collapsed": true
   },
   "outputs": [],
   "source": [
    "from sklearn import model_selection\n",
    "def split_data(data):\n",
    "    '''\n",
    "    Splits data into training and test sets (0.8/0.2)\n",
    "        Args: \n",
    "            data: Pandas dataframe\n",
    "        Returns:\n",
    "            data_train: Pandas dataframe used for training\n",
    "            data_test: Pandas dataframe used for testing\n",
    "    \n",
    "    '''\n",
    "    #Convert 'int64' into float; otherwise, sklearn throws a warning message\n",
    "    columns = data.columns.values\n",
    "    non_float = []\n",
    "    for col in columns:\n",
    "        if data[col].dtype != np.float64:\n",
    "            non_float.append(col)\n",
    "    for col in non_float:\n",
    "        data[col] = data[col].astype(float)\n",
    "    #drop NaN for crucial columns\n",
    "    data= data.dropna(how = 'any', subset = ['price_per_sqft'])   \n",
    "    #Split the data\n",
    "    rs = model_selection.ShuffleSplit(train_size = 0.8, test_size=.2, random_state = 1, n_splits = 1)\n",
    "\n",
    "    for train, test in rs.split(data):\n",
    "        train_index = train\n",
    "        test_index = test\n",
    "    data_train = data.ix[train_index,:]\n",
    "    data_test = data.ix[test_index,:]\n",
    "    data_train.reset_index(drop=True, inplace=True)\n",
    "    data_test.reset_index(drop=True, inplace=True)\n",
    "    return data_train, data_test\n"
   ]
  },
  {
   "cell_type": "code",
   "execution_count": null,
   "metadata": {
    "collapsed": false
   },
   "outputs": [],
   "source": [
    "data_train, data_test = split_data(df)"
   ]
  },
  {
   "cell_type": "code",
   "execution_count": null,
   "metadata": {
    "collapsed": false
   },
   "outputs": [],
   "source": [
    "def fill_na(data_train, data_test):\n",
    "    '''\n",
    "    Fills NaN values with the mean of the column. Note we have already created dummy variables\n",
    "    for columns with missing values.\n",
    "    \n",
    "    Args:\n",
    "        data_train: Pandas dataframe used for training.\n",
    "        data_test: Pandas dataframe used for testing.\n",
    "    Returns:\n",
    "        data_train: Pandas dataframe with no NaN values, ready for modeling.\n",
    "        data_test: Pandas dataframe with no NaN values, ready for testing.\n",
    "    \n",
    "    '''\n",
    "    data_train = data_train.apply(lambda x: x.fillna(x.mean()),axis=0)\n",
    "    data_test = data_test.apply(lambda x: x.fillna(x.mean()),axis=0)\n",
    "    return data_train, data_test"
   ]
  },
  {
   "cell_type": "code",
   "execution_count": null,
   "metadata": {
    "collapsed": true
   },
   "outputs": [],
   "source": [
    "data_train, data_test = fill_na(data_train, data_test)"
   ]
  },
  {
   "cell_type": "code",
   "execution_count": null,
   "metadata": {
    "collapsed": false
   },
   "outputs": [],
   "source": [
    "print(data_train.shape, data_test.shape)\n"
   ]
  },
  {
   "cell_type": "code",
   "execution_count": null,
   "metadata": {
    "collapsed": false
   },
   "outputs": [],
   "source": [
    "cols = list(data_train.columns.values) #Make a list of all of the columns in the df\n",
    "cols.pop(cols.index('price_per_sqft')) #Remove b from list\n",
    "data_train = data_train[cols+['price_per_sqft']]\n",
    "data_test = data_test[cols+['price_per_sqft']]\n",
    "data_train.columns.values"
   ]
  },
  {
   "cell_type": "code",
   "execution_count": null,
   "metadata": {
    "collapsed": true
   },
   "outputs": [],
   "source": [
    "data_train = data_train.drop(['public_recycling_bins_dist'], axis = 1)\n",
    "data_test = data_test.drop(['public_recycling_bins_dist'], axis = 1)"
   ]
  },
  {
   "cell_type": "code",
   "execution_count": null,
   "metadata": {
    "collapsed": false
   },
   "outputs": [],
   "source": [
    "X_train = data_train.ix[:,:-1]\n",
    "y_train = data_train.ix[:,-1]\n",
    "X_test = data_test.ix[:,:-1]\n",
    "y_test = data_test.ix[:,-1]\n",
    "regr = linear_model.LinearRegression()\n",
    "#regr.fit(X_train, y_train)\n",
    "#mse = mean_squared_error(y_test, regr.predict(X_test))\n",
    "#print('Mean_squared_error', mse)"
   ]
  },
  {
   "cell_type": "code",
   "execution_count": null,
   "metadata": {
    "collapsed": false
   },
   "outputs": [],
   "source": [
    "from sklearn.ensemble import RandomForestRegressor\n",
    "\n",
    "RF_reg_final = RandomForestRegressor(n_estimators=100, n_jobs = -1)\n",
    "RF_reg_final.fit(X_train, y_train)\n",
    "print(mean_squared_error(y_test, RF_reg_final.predict(X_test)))"
   ]
  },
  {
   "cell_type": "code",
   "execution_count": null,
   "metadata": {
    "collapsed": false
   },
   "outputs": [],
   "source": [
    "bbls = []\n",
    "file = open(\"data/Queens Light Rail BBL.csv\", 'rb')\n",
    "for line in file:\n",
    "    bbls.append(line)\n",
    "bbls = [float(i) for i in bbls]\n",
    "bbls"
   ]
  },
  {
   "cell_type": "code",
   "execution_count": null,
   "metadata": {
    "collapsed": false
   },
   "outputs": [],
   "source": [
    "finance = pd.read_csv(\"finance_queens.csv\")\n",
    "finance.shape"
   ]
  },
  {
   "cell_type": "code",
   "execution_count": null,
   "metadata": {
    "collapsed": false
   },
   "outputs": [],
   "source": [
    "queens = pd.read_csv(\"data/nyc_pluto_16v1/QN.csv\", low_memory = False)\n",
    "queens.head()"
   ]
  },
  {
   "cell_type": "code",
   "execution_count": null,
   "metadata": {
    "collapsed": false
   },
   "outputs": [],
   "source": [
    "buildings_2 = pd.read_csv(\"pluto_finance_test.csv\")\n",
    "buildings_2.shape"
   ]
  },
  {
   "cell_type": "code",
   "execution_count": null,
   "metadata": {
    "collapsed": false
   },
   "outputs": [],
   "source": [
    "buildings_3 = pd.read_csv(\"data/merged/queens_2003_2016.csv\")\n",
    "buildings_3['price_per_sqft'].isnull().sum()"
   ]
  },
  {
   "cell_type": "code",
   "execution_count": null,
   "metadata": {
    "collapsed": false
   },
   "outputs": [],
   "source": [
    "buildings_3 = buildings_3.drop_duplicates()\n",
    "buildings_3.shape"
   ]
  },
  {
   "cell_type": "code",
   "execution_count": null,
   "metadata": {
    "collapsed": false
   },
   "outputs": [],
   "source": [
    "df.bbl.isnull().sum()"
   ]
  },
  {
   "cell_type": "code",
   "execution_count": null,
   "metadata": {
    "collapsed": false
   },
   "outputs": [],
   "source": [
    "buildings_3.bbl.isnull().sum()"
   ]
  },
  {
   "cell_type": "code",
   "execution_count": null,
   "metadata": {
    "collapsed": false
   },
   "outputs": [],
   "source": [
    "buildings = pd.merge(queens, finance, how='right',\n",
    "        left_on='BBL', right_on = 'bbl')\n",
    "buildings.shape"
   ]
  },
  {
   "cell_type": "code",
   "execution_count": null,
   "metadata": {
    "collapsed": false
   },
   "outputs": [],
   "source": [
    "buildings_2 = buildings_2.drop_duplicates()\n",
    "buildings_2.shape"
   ]
  },
  {
   "cell_type": "code",
   "execution_count": null,
   "metadata": {
    "collapsed": false
   },
   "outputs": [],
   "source": [
    "affected_properties = finance.loc[finance['bbl'].isin(bbls)]\n",
    "affected_properties.shape"
   ]
  },
  {
   "cell_type": "code",
   "execution_count": null,
   "metadata": {
    "collapsed": false
   },
   "outputs": [],
   "source": [
    "list(X_test['bbl'])"
   ]
  },
  {
   "cell_type": "code",
   "execution_count": null,
   "metadata": {
    "collapsed": false
   },
   "outputs": [],
   "source": [
    "feature_importance =  RF_reg_final.feature_importances_\n",
    "indices = np.argsort(feature_importance)[::-1][:27]\n",
    "\n",
    "feature_dct = {}\n",
    "# Print the feature ranking\n",
    "print(\"Feature ranking:\")\n",
    "\n",
    "for f in range(20):\n",
    "    feature_dct[X_test.columns.values[indices][f]] = feature_importance[indices[f]]\n",
    "feature_dct"
   ]
  },
  {
   "cell_type": "code",
   "execution_count": null,
   "metadata": {
    "collapsed": true
   },
   "outputs": [],
   "source": [
    "from collections import OrderedDict\n",
    "from operator import itemgetter\n",
    "\n",
    "feature_dct = OrderedDict(sorted(feature_dct.items(), key=itemgetter(1), reverse = True))"
   ]
  },
  {
   "cell_type": "code",
   "execution_count": null,
   "metadata": {
    "collapsed": false
   },
   "outputs": [],
   "source": [
    "feature_dct.keys()"
   ]
  },
  {
   "cell_type": "code",
   "execution_count": null,
   "metadata": {
    "collapsed": false
   },
   "outputs": [],
   "source": [
    "data_train[['price_per_sqft'] + list(feature_dct.keys())].corr()"
   ]
  },
  {
   "cell_type": "code",
   "execution_count": null,
   "metadata": {
    "collapsed": true
   },
   "outputs": [],
   "source": [
    "neg_features = feature_dct.copy()\n",
    "pos_features = feature_dct.copy()\n",
    "\n",
    "#Use correlation matrix to determine which features are negatively correlated with our target variable\n",
    "negs = ['gross_sqft_pluto','unitstotal']\n",
    "for key in neg_features.keys():\n",
    "    if key in negs:\n",
    "        neg_features[key] = -neg_features[key]\n",
    "    else:\n",
    "        neg_features[key] = 0\n",
    "for key in pos_features.keys():\n",
    "    if key in negs:\n",
    "        pos_features[key] = 0"
   ]
  },
  {
   "cell_type": "code",
   "execution_count": null,
   "metadata": {
    "collapsed": false
   },
   "outputs": [],
   "source": [
    "data_test['predicted'] = RF_reg_final.predict(X_test)\n",
    "data_test['percent_difference'] = 100*(np.abs(data_test['predicted'] - data_test['price_per_sqft']).astype(float) / data_test['price_per_sqft'])\n",
    "data_test[['yearbuilt','price_per_sqft','predicted','percent_difference']]"
   ]
  },
  {
   "cell_type": "code",
   "execution_count": null,
   "metadata": {
    "collapsed": false
   },
   "outputs": [],
   "source": [
    "acc = 100 * (data_test[data_test['percent_difference'] < 10.0].shape[0]/ data_test.shape[0])\n",
    "acc"
   ]
  },
  {
   "cell_type": "code",
   "execution_count": null,
   "metadata": {
    "collapsed": false
   },
   "outputs": [],
   "source": [
    "results_df = pd.read_csv(\"preliminary_results.csv\")\n",
    "results_df"
   ]
  },
  {
   "cell_type": "code",
   "execution_count": null,
   "metadata": {
    "collapsed": true
   },
   "outputs": [],
   "source": [
    "import merge_pluto_finance_new as mpf"
   ]
  },
  {
   "cell_type": "code",
   "execution_count": null,
   "metadata": {
    "collapsed": true
   },
   "outputs": [],
   "source": [
    "queens_pluto = mpf.read_in_pluto([\"queens\"])"
   ]
  },
  {
   "cell_type": "code",
   "execution_count": null,
   "metadata": {
    "collapsed": false
   },
   "outputs": [],
   "source": [
    "queens_pluto.bbl.astype(int).isnull().sum()"
   ]
  },
  {
   "cell_type": "code",
   "execution_count": null,
   "metadata": {
    "collapsed": false
   },
   "outputs": [],
   "source": [
    "queens_finance = mpf.read_in_finance([\"queens\"], list(range(2003, 2017)))"
   ]
  },
  {
   "cell_type": "code",
   "execution_count": null,
   "metadata": {
    "collapsed": false
   },
   "outputs": [],
   "source": [
    "queens_finance.bbl.isnull().sum()"
   ]
  },
  {
   "cell_type": "code",
   "execution_count": null,
   "metadata": {
    "collapsed": false
   },
   "outputs": [],
   "source": [
    "print(queens_finance.shape)\n",
    "print(queens_pluto.shape)"
   ]
  },
  {
   "cell_type": "code",
   "execution_count": null,
   "metadata": {
    "collapsed": false
   },
   "outputs": [],
   "source": [
    "print(queens_pluto.bbl.dtype)\n",
    "print(queens_finance.bbl.dtype)"
   ]
  },
  {
   "cell_type": "code",
   "execution_count": null,
   "metadata": {
    "collapsed": false
   },
   "outputs": [],
   "source": [
    "queens_dtm = read_in_dtm([\"queens\"])"
   ]
  },
  {
   "cell_type": "code",
   "execution_count": null,
   "metadata": {
    "collapsed": true
   },
   "outputs": [],
   "source": [
    "import os\n",
    "def read_in_dtm(boros, data_dir = 'data/dtm',\n",
    "        filename = 'DTM_0316_Condo_Units.csv'):\n",
    "    \"\"\"\n",
    "    Reads in the Digital Tax Map dataset and returns a dataframe with mapping\n",
    "    from borough and condo number to unit BBL for the specified boroughs.\n",
    "\n",
    "    Args:\n",
    "        list(string) boros: list of all the boroughs to pull dtm data for\n",
    "        string data_dir: a relative path as a string to folder containing the\n",
    "            dtm data in csv format\n",
    "        string filename: the name of the file containing the dtm condo unit data\n",
    "    Returns:\n",
    "        Pandas DataFrame\n",
    "    \"\"\"\n",
    "    columns = ['CONDO_BORO', 'CONDO_NUMB', 'UNIT_BLOCK',\n",
    "               'UNIT_LOT', 'UNIT_BBL', 'UNIT_DESIG']\n",
    "    boro_names = ['manhattan', 'bronx', 'brooklyn', 'queens', 'statenisland']\n",
    "    boro_codes = dict(zip(boro_names, range(1,6)))\n",
    "    dtm = pd.read_csv(os.path.join(data_dir, filename), usecols=columns)\n",
    "    dtm.columns = [col.strip().lower() for col in dtm.columns]\n",
    "    dtm = dtm.dropna(subset = ['unit_bbl', 'condo_boro', 'condo_numb'])\n",
    "    dtm.unit_bbl = dtm.unit_bbl.astype('int64')\n",
    "    dtm = dtm.loc[dtm.condo_boro.isin(\n",
    "        [boro_codes.get(boro) for boro in boros])]\n",
    "    return dtm"
   ]
  },
  {
   "cell_type": "code",
   "execution_count": null,
   "metadata": {
    "collapsed": false
   },
   "outputs": [],
   "source": [
    "columns = ['CONDO_BORO', 'CONDO_NUMB', 'UNIT_BLOCK',\n",
    "               'UNIT_LOT', 'UNIT_BBL', 'UNIT_DESIG']\n",
    "data_dir = 'data/dtm'\n",
    "filename = 'DTM_0316_Condo_Units.csv'\n",
    "queens_dtm = pd.read_csv(os.path.join(data_dir, filename), usecols=columns)"
   ]
  },
  {
   "cell_type": "code",
   "execution_count": null,
   "metadata": {
    "collapsed": false
   },
   "outputs": [],
   "source": [
    "queens_dtm.isnull().sum()"
   ]
  },
  {
   "cell_type": "code",
   "execution_count": null,
   "metadata": {
    "collapsed": true
   },
   "outputs": [],
   "source": [
    "filepath = \"data/open_nyc/subwaydist.csv\"\n",
    "subwaydist = pd.read_csv(filepath)\n",
    "filepath = \"data/open_nyc/some_dist_metrics.csv\"\n",
    "other_distances = pd.read_csv(filepath)"
   ]
  },
  {
   "cell_type": "code",
   "execution_count": null,
   "metadata": {
    "collapsed": false
   },
   "outputs": [],
   "source": [
    "len(pd.unique(other_distances.bbl)) == other_distances.shape[0]"
   ]
  },
  {
   "cell_type": "code",
   "execution_count": null,
   "metadata": {
    "collapsed": false
   },
   "outputs": [],
   "source": [
    "len(pd.unique(subwaydist.bbl)) == subwaydist.shape[0]"
   ]
  },
  {
   "cell_type": "code",
   "execution_count": null,
   "metadata": {
    "collapsed": false
   },
   "outputs": [],
   "source": [
    "finance_condo_updated = mpf.get_finance_condo_lot(pluto = queens_pluto,\n",
    "        finance = queens_finance, dtm = queens_dtm)"
   ]
  },
  {
   "cell_type": "code",
   "execution_count": null,
   "metadata": {
    "collapsed": false
   },
   "outputs": [],
   "source": [
    "finance_condo_updated.bbl_pluto.isnull().sum()"
   ]
  },
  {
   "cell_type": "code",
   "execution_count": null,
   "metadata": {
    "collapsed": false
   },
   "outputs": [],
   "source": [
    "queens_pluto.bbl.isnull().sum()"
   ]
  },
  {
   "cell_type": "code",
   "execution_count": null,
   "metadata": {
    "collapsed": true
   },
   "outputs": [],
   "source": [
    "buildings = pd.merge(queens_pluto, finance_condo_updated, how='right',\n",
    "        left_on='bbl', right_on = 'bbl_pluto',\n",
    "        suffixes=['_pluto', '_finance'])"
   ]
  },
  {
   "cell_type": "code",
   "execution_count": null,
   "metadata": {
    "collapsed": false
   },
   "outputs": [],
   "source": [
    "buildings.shape"
   ]
  },
  {
   "cell_type": "code",
   "execution_count": null,
   "metadata": {
    "collapsed": false
   },
   "outputs": [],
   "source": [
    "buildings[\"price_per_sqft\"] = buildings[\"sale_price\"].astype('float64') / buildings[\"gross_sqft_pluto\"]\n",
    "buildings = buildings[ buildings[\"price_per_sqft\"].notnull()]\n",
    "buildings = buildings[ buildings[\"price_per_sqft\"] > 0.]"
   ]
  },
  {
   "cell_type": "code",
   "execution_count": null,
   "metadata": {
    "collapsed": false
   },
   "outputs": [],
   "source": [
    "buildings.bbl_pluto "
   ]
  },
  {
   "cell_type": "code",
   "execution_count": null,
   "metadata": {
    "collapsed": false
   },
   "outputs": [],
   "source": [
    "buildings.bbl"
   ]
  },
  {
   "cell_type": "code",
   "execution_count": null,
   "metadata": {
    "collapsed": false
   },
   "outputs": [],
   "source": [
    "queens_pluto.bbl"
   ]
  },
  {
   "cell_type": "code",
   "execution_count": null,
   "metadata": {
    "collapsed": false
   },
   "outputs": [],
   "source": [
    "finance_condos_only.bbl_finance"
   ]
  },
  {
   "cell_type": "code",
   "execution_count": null,
   "metadata": {
    "collapsed": false
   },
   "outputs": [],
   "source": [
    "queens_finance.columns"
   ]
  },
  {
   "cell_type": "code",
   "execution_count": null,
   "metadata": {
    "collapsed": false
   },
   "outputs": [],
   "source": [
    "queens_pluto.columns"
   ]
  },
  {
   "cell_type": "code",
   "execution_count": null,
   "metadata": {
    "collapsed": false
   },
   "outputs": [],
   "source": [
    "queens_dtm.columns"
   ]
  },
  {
   "cell_type": "code",
   "execution_count": null,
   "metadata": {
    "collapsed": false
   },
   "outputs": [],
   "source": [
    "finance_condo_updated.columns"
   ]
  },
  {
   "cell_type": "code",
   "execution_count": null,
   "metadata": {
    "collapsed": false
   },
   "outputs": [],
   "source": [
    "print(queens_finance.drop_duplicates().shape == queens_finance.shape)\n",
    "print(queens_pluto.drop_duplicates().shape == queens_pluto.shape)\n",
    "print(finance_condos_only.drop_duplicates().shape == finance_condos_only.shape)"
   ]
  },
  {
   "cell_type": "code",
   "execution_count": null,
   "metadata": {
    "collapsed": false
   },
   "outputs": [],
   "source": [
    "finance_condos_only.shape[0] + len(standard_bbls) "
   ]
  },
  {
   "cell_type": "code",
   "execution_count": null,
   "metadata": {
    "collapsed": false
   },
   "outputs": [],
   "source": [
    "bbl_mappings.drop_duplicates().shape"
   ]
  },
  {
   "cell_type": "code",
   "execution_count": null,
   "metadata": {
    "collapsed": false
   },
   "outputs": [],
   "source": [
    "queens_finance.drop_duplicates(['bbl', 'sale_year']).shape == queens_finance.shape"
   ]
  },
  {
   "cell_type": "code",
   "execution_count": null,
   "metadata": {
    "collapsed": false
   },
   "outputs": [],
   "source": [
    "queens_finance.shape"
   ]
  },
  {
   "cell_type": "code",
   "execution_count": null,
   "metadata": {
    "collapsed": false
   },
   "outputs": [],
   "source": [
    "queens_finance.columns"
   ]
  },
  {
   "cell_type": "code",
   "execution_count": null,
   "metadata": {
    "collapsed": true
   },
   "outputs": [],
   "source": [
    "queens_finance[\"sale_year\"] = [d.year for d in queens_finance.sale_date]"
   ]
  },
  {
   "cell_type": "code",
   "execution_count": null,
   "metadata": {
    "collapsed": false
   },
   "outputs": [],
   "source": [
    "print(finance_condo_updated.drop_duplicates().shape)\n",
    "print(finance_condo_updated.shape)"
   ]
  },
  {
   "cell_type": "code",
   "execution_count": null,
   "metadata": {
    "collapsed": false
   },
   "outputs": [],
   "source": [
    "finance_condo_updated.columns"
   ]
  },
  {
   "cell_type": "code",
   "execution_count": null,
   "metadata": {
    "collapsed": false
   },
   "outputs": [],
   "source": [
    "bbl_mappings.bbl_finance.drop_duplicates().shape"
   ]
  },
  {
   "cell_type": "code",
   "execution_count": null,
   "metadata": {
    "collapsed": true
   },
   "outputs": [],
   "source": [
    "dtm_cols_to_keep = ['unit_bbl', 'condo_boro', 'condo_numb']\n",
    "pluto_cols_to_keep = ['bbl', 'block', 'borocode', 'condono']\n",
    "\n",
    "finance_condos_only = pd.merge(queens_finance, queens_dtm[dtm_cols_to_keep],\n",
    "    how='inner', left_on=['bbl'], right_on=['unit_bbl'])\n",
    "\n",
    "# for condos: finance.bbl == finance_condos_only.unit_bbl\n",
    "#             finance_condos_only.bbl_pluto == pluto.bbl\n",
    "finance_condos_only = pd.merge(queens_pluto[pluto_cols_to_keep],\n",
    "    finance_condos_only, how='inner',\n",
    "    left_on=['borocode', 'block', 'condono'],\n",
    "    right_on=['condo_boro', 'block', 'condo_numb'],\n",
    "    suffixes=['_pluto', '_finance'])\n",
    "\n",
    "finance_condos_only = finance_condos_only[\n",
    "        ['bbl_pluto', 'bbl_finance']].drop_duplicates()\n",
    "         # duplicates only if a bbl is listed in multiple years\n",
    "finance_condos_only = finance_condos_only.loc[lambda df:\n",
    "        np.floor(df.bbl_pluto / 1e4) == np.floor(df.bbl_finance / 1e4)]\n",
    "\n",
    "# get a list of bbls that are not condos (same in pluto and finance)\n",
    "standard_bbls = list(set(queens_finance.bbl).difference(\n",
    "                    set(finance_condos_only.bbl_finance)))\n",
    "# combine condo bbls that differ with standard bbls that are the same\n",
    "bbl_mappings = finance_condos_only.append(pd.DataFrame.from_dict(\n",
    "    {'bbl_pluto': standard_bbls, 'bbl_finance': standard_bbls}\n",
    "))\n",
    "bbl_mappings = bbl_mappings.reset_index(drop = True)\n",
    "\n",
    "finance_condo_updated = pd.merge(queens_finance, bbl_mappings,\n",
    "    how='left', left_on='bbl', right_on='bbl_finance')\n"
   ]
  },
  {
   "cell_type": "code",
   "execution_count": null,
   "metadata": {
    "collapsed": true
   },
   "outputs": [],
   "source": [
    "# finance condo updated: remove bbl/block/bbl_finance\n",
    "# retain only bbl_pluto to match with pluto.bbl in merge\n",
    "finance_condo_updated = finance_condo_updated.drop(\n",
    "    ['block', 'bbl', 'bbl_finance'], axis=1)\n",
    "\n",
    "# Remove duplicate bbls by returning only the most recent sales data\n",
    "# for each BBL and year\n",
    "finance_condo_updated = finance_condo_updated.reset_index()\n",
    "finance_condo_updated[\"sale_year\"] = [d.year for d in\n",
    "    finance_condo_updated.sale_date]\n",
    "grouped = finance_condo_updated.groupby(['bbl_pluto', 'sale_year'])\n",
    "max_idx_by_bbl = grouped['sale_price'].idxmax().values\n",
    "finance_condo_updated = finance_condo_updated.loc[max_idx_by_bbl]"
   ]
  },
  {
   "cell_type": "code",
   "execution_count": null,
   "metadata": {
    "collapsed": false
   },
   "outputs": [],
   "source": [
    "queens_finance_raw = pd.DataFrame()\n",
    "data_dir = \"data/finance_sales\"\n",
    "years = list(range(2003, 2017))\n",
    "boros = ['queens']\n",
    "\n",
    "for year in years:\n",
    "        for borough in boros:\n",
    "            print(\"Pulling Finance data for {}_{}\".format(year, borough))\n",
    "            boro_year = mpf.read_in_boro_year_data(borough, year, data_dir)\n",
    "            queens_finance_raw = queens_finance_raw.append(boro_year)"
   ]
  },
  {
   "cell_type": "code",
   "execution_count": null,
   "metadata": {
    "collapsed": false
   },
   "outputs": [],
   "source": [
    "print(finance_condos_only.shape)\n",
    "print(finance_condos_only.drop_duplicates().shape)\n",
    "print(finance_condos_only.drop_duplicates('bbl_finance').shape)"
   ]
  },
  {
   "cell_type": "code",
   "execution_count": null,
   "metadata": {
    "collapsed": false
   },
   "outputs": [],
   "source": [
    "np.where(bbl_mappings.bbl_finance.duplicated(keep=False))"
   ]
  },
  {
   "cell_type": "code",
   "execution_count": null,
   "metadata": {
    "collapsed": false
   },
   "outputs": [],
   "source": [
    "print(finance_condo_updated.shape)\n",
    "print(finance_condo_updated.drop_duplicates().shape)\n",
    "print(finance_condo_updated.drop_duplicates(['bbl_pluto', 'sale_year']).shape)"
   ]
  },
  {
   "cell_type": "code",
   "execution_count": null,
   "metadata": {
    "collapsed": false
   },
   "outputs": [],
   "source": [
    "finance_condo_updated.columns"
   ]
  },
  {
   "cell_type": "code",
   "execution_count": null,
   "metadata": {
    "collapsed": false
   },
   "outputs": [],
   "source": [
    "queens_pluto.columns"
   ]
  },
  {
   "cell_type": "code",
   "execution_count": null,
   "metadata": {
    "collapsed": false
   },
   "outputs": [],
   "source": [
    "buildings = pd.merge(queens_pluto, finance_condo_updated, how='right',\n",
    "        left_on='bbl', right_on = 'bbl_pluto',\n",
    "        suffixes=['_pluto', '_finance'])"
   ]
  },
  {
   "cell_type": "code",
   "execution_count": null,
   "metadata": {
    "collapsed": false
   },
   "outputs": [],
   "source": [
    "buildings.shape"
   ]
  },
  {
   "cell_type": "code",
   "execution_count": null,
   "metadata": {
    "collapsed": false
   },
   "outputs": [],
   "source": [
    "buildings.shape"
   ]
  },
  {
   "cell_type": "code",
   "execution_count": null,
   "metadata": {
    "collapsed": true
   },
   "outputs": [],
   "source": [
    "buildings[\"price_per_sqft\"] = buildings.sale_price.astype('float64') / buildings.gross_sqft_pluto\n",
    "buildings = buildings.loc[ buildings.price_per_sqft.notnull()]\n",
    "buildings = buildings.loc[ buildings.price_per_sqft > 0.]"
   ]
  },
  {
   "cell_type": "code",
   "execution_count": null,
   "metadata": {
    "collapsed": false
   },
   "outputs": [],
   "source": [
    "all(buildings.bbl == buildings.bbl_pluto)"
   ]
  },
  {
   "cell_type": "code",
   "execution_count": null,
   "metadata": {
    "collapsed": false
   },
   "outputs": [],
   "source": [
    "buildings.columns"
   ]
  },
  {
   "cell_type": "code",
   "execution_count": 15,
   "metadata": {
    "collapsed": false
   },
   "outputs": [
    {
     "data": {
      "text/plain": [
       "<module 'merge_pluto_finance_new' from '/Users/jacqueline/Desktop/reveal-estate/merge_pluto_finance_new.py'>"
      ]
     },
     "execution_count": 15,
     "metadata": {},
     "output_type": "execute_result"
    }
   ],
   "source": [
    "import merge_pluto_finance_new as mpf\n",
    "from importlib import reload\n",
    "reload(mpf)"
   ]
  },
  {
   "cell_type": "code",
   "execution_count": 2,
   "metadata": {
    "collapsed": true
   },
   "outputs": [],
   "source": [
    "boros = ['all']\n",
    "years = ['all']\n",
    "if years == [\"all\"]:\n",
    "    years = list(range(2003, 2017))\n",
    "if boros == [\"all\"]:\n",
    "    boros = [\"manhattan\", \"brooklyn\", \"queens\", \"bronx\", \"statenisland\"]"
   ]
  },
  {
   "cell_type": "code",
   "execution_count": null,
   "metadata": {
    "collapsed": true
   },
   "outputs": [],
   "source": [
    "# Convert to lowercase and remove spaces in borough names\n",
    "boros = [\"\".join(boro.lower().split()) for boro in boros]"
   ]
  },
  {
   "cell_type": "code",
   "execution_count": 16,
   "metadata": {
    "collapsed": false
   },
   "outputs": [
    {
     "name": "stdout",
     "output_type": "stream",
     "text": [
      "Getting PLUTO data for: ['manhattan', 'brooklyn', 'queens', 'bronx', 'statenisland']\n"
     ]
    }
   ],
   "source": [
    "print(\"Getting PLUTO data for: {}\".format(boros))\n",
    "pluto = mpf.read_in_pluto(boros)"
   ]
  },
  {
   "cell_type": "code",
   "execution_count": 22,
   "metadata": {
    "collapsed": false
   },
   "outputs": [
    {
     "name": "stdout",
     "output_type": "stream",
     "text": [
      "Getting Finance data for: ['manhattan', 'brooklyn', 'queens', 'bronx', 'statenisland'] and [2003, 2004, 2005, 2006, 2007, 2008, 2009, 2010, 2011, 2012, 2013, 2014, 2015, 2016]\n",
      "Pulling Finance data for 2003_manhattan\n",
      "Pulling Finance data for 2003_brooklyn\n",
      "Pulling Finance data for 2003_queens\n",
      "Pulling Finance data for 2003_bronx\n",
      "Pulling Finance data for 2003_statenisland\n",
      "Pulling Finance data for 2004_manhattan\n",
      "Pulling Finance data for 2004_brooklyn\n",
      "Pulling Finance data for 2004_queens\n",
      "Pulling Finance data for 2004_bronx\n",
      "Pulling Finance data for 2004_statenisland\n",
      "Pulling Finance data for 2005_manhattan\n",
      "Pulling Finance data for 2005_brooklyn\n",
      "Pulling Finance data for 2005_queens\n",
      "Pulling Finance data for 2005_bronx\n",
      "Pulling Finance data for 2005_statenisland\n",
      "Pulling Finance data for 2006_manhattan\n",
      "Pulling Finance data for 2006_brooklyn\n",
      "Pulling Finance data for 2006_queens\n",
      "Pulling Finance data for 2006_bronx\n",
      "Pulling Finance data for 2006_statenisland\n",
      "Pulling Finance data for 2007_manhattan\n",
      "Pulling Finance data for 2007_brooklyn\n",
      "Pulling Finance data for 2007_queens\n",
      "Pulling Finance data for 2007_bronx\n",
      "Pulling Finance data for 2007_statenisland\n",
      "Pulling Finance data for 2008_manhattan\n",
      "Pulling Finance data for 2008_brooklyn\n",
      "Pulling Finance data for 2008_queens\n",
      "Pulling Finance data for 2008_bronx\n",
      "Pulling Finance data for 2008_statenisland\n",
      "Pulling Finance data for 2009_manhattan\n",
      "Pulling Finance data for 2009_brooklyn\n",
      "Pulling Finance data for 2009_queens\n",
      "Pulling Finance data for 2009_bronx\n",
      "Pulling Finance data for 2009_statenisland\n",
      "Pulling Finance data for 2010_manhattan\n",
      "Pulling Finance data for 2010_brooklyn\n",
      "Pulling Finance data for 2010_queens\n",
      "Pulling Finance data for 2010_bronx\n",
      "Pulling Finance data for 2010_statenisland\n",
      "Pulling Finance data for 2011_manhattan\n",
      "Pulling Finance data for 2011_brooklyn\n",
      "Pulling Finance data for 2011_queens\n",
      "Pulling Finance data for 2011_bronx\n",
      "Pulling Finance data for 2011_statenisland\n",
      "Pulling Finance data for 2012_manhattan\n",
      "Pulling Finance data for 2012_brooklyn\n",
      "Pulling Finance data for 2012_queens\n",
      "Pulling Finance data for 2012_bronx\n",
      "Pulling Finance data for 2012_statenisland\n",
      "Pulling Finance data for 2013_manhattan\n",
      "Pulling Finance data for 2013_brooklyn\n",
      "Pulling Finance data for 2013_queens\n",
      "Pulling Finance data for 2013_bronx\n",
      "Pulling Finance data for 2013_statenisland\n",
      "Pulling Finance data for 2014_manhattan\n",
      "Pulling Finance data for 2014_brooklyn\n",
      "Pulling Finance data for 2014_queens\n",
      "Pulling Finance data for 2014_bronx\n",
      "Pulling Finance data for 2014_statenisland\n",
      "Pulling Finance data for 2015_manhattan\n",
      "Pulling Finance data for 2015_brooklyn\n",
      "Pulling Finance data for 2015_queens\n",
      "Pulling Finance data for 2015_bronx\n",
      "Pulling Finance data for 2015_statenisland\n",
      "Pulling Finance data for 2016_manhattan\n",
      "Pulling Finance data for 2016_brooklyn\n",
      "Pulling Finance data for 2016_queens\n",
      "Pulling Finance data for 2016_bronx\n",
      "Pulling Finance data for 2016_statenisland\n",
      "Getting DTM Condo Unit data for: ['manhattan', 'brooklyn', 'queens', 'bronx', 'statenisland']\n"
     ]
    }
   ],
   "source": [
    "print(\"Getting Finance data for: {} and {}\".format(boros, years))\n",
    "finance = mpf.read_in_finance(boros, years)\n",
    "print(\"Getting DTM Condo Unit data for: {}\".format(boros))\n",
    "dtm = mpf.read_in_dtm(boros)"
   ]
  },
  {
   "cell_type": "code",
   "execution_count": 25,
   "metadata": {
    "collapsed": false
   },
   "outputs": [
    {
     "data": {
      "text/plain": [
       "condo_boro    float64\n",
       "condo_numb      int64\n",
       "unit_block      int64\n",
       "unit_lot        int64\n",
       "unit_bbl        int64\n",
       "unit_desig     object\n",
       "dtype: object"
      ]
     },
     "execution_count": 25,
     "metadata": {},
     "output_type": "execute_result"
    }
   ],
   "source": [
    "dtm.dtypes"
   ]
  },
  {
   "cell_type": "code",
   "execution_count": 24,
   "metadata": {
    "collapsed": false
   },
   "outputs": [
    {
     "data": {
      "text/plain": [
       "borough              object\n",
       "block                 int64\n",
       "schooldist          float64\n",
       "council             float64\n",
       "ltdheight            object\n",
       "splitzone            object\n",
       "bldgclass            object\n",
       "landuse             float64\n",
       "easements           float64\n",
       "ownertype            object\n",
       "comarea             float64\n",
       "resarea             float64\n",
       "numbldgs            float64\n",
       "numfloors           float64\n",
       "unitsres            float64\n",
       "unitstotal          float64\n",
       "lotfront            float64\n",
       "lotdepth            float64\n",
       "bldgfront           float64\n",
       "bldgdepth           float64\n",
       "proxcode            float64\n",
       "irrlotcode           object\n",
       "lottype             float64\n",
       "bsmtcode            float64\n",
       "yearbuilt           float64\n",
       "builtcode            object\n",
       "histdist              int64\n",
       "landmark              int64\n",
       "borocode              int64\n",
       "bbl                   int64\n",
       "condono               int64\n",
       "xcoord              float64\n",
       "ycoord              float64\n",
       "zonemap              object\n",
       "latitude            float64\n",
       "longitude           float64\n",
       "gross_sqft_pluto    float64\n",
       "garage               object\n",
       "extension            object\n",
       "countalter          float64\n",
       "dtype: object"
      ]
     },
     "execution_count": 24,
     "metadata": {},
     "output_type": "execute_result"
    }
   ],
   "source": [
    "pluto.dtypes"
   ]
  },
  {
   "cell_type": "code",
   "execution_count": null,
   "metadata": {
    "collapsed": false
   },
   "outputs": [],
   "source": [
    "pluto = mpf.read_in_pluto(boros)"
   ]
  },
  {
   "cell_type": "code",
   "execution_count": 17,
   "metadata": {
    "collapsed": false
   },
   "outputs": [
    {
     "name": "stdout",
     "output_type": "stream",
     "text": [
      "(812364, 40)\n",
      "(812364, 40)\n"
     ]
    }
   ],
   "source": [
    "print(pluto.shape)\n",
    "print(pluto.dropna(how='all').shape)"
   ]
  },
  {
   "cell_type": "code",
   "execution_count": 19,
   "metadata": {
    "collapsed": false
   },
   "outputs": [
    {
     "name": "stdout",
     "output_type": "stream",
     "text": [
      "(40257, 40) (40257, 40)\n",
      "(264930, 40) (264930, 40)\n",
      "(82816, 40) (82816, 40)\n",
      "(310646, 40) (310646, 40)\n",
      "(113715, 40) (113715, 40)\n"
     ]
    }
   ],
   "source": [
    "print(pluto_mn.shape, pluto_mn.dropna(how='all').shape)\n",
    "print(pluto_bk.shape, pluto_bk.dropna(how='all').shape)\n",
    "print(pluto_bx.shape, pluto_bx.dropna(how='all').shape)\n",
    "print(pluto_qn.shape, pluto_qn.dropna(how='all').shape)\n",
    "print(pluto_si.shape, pluto_si.dropna(how='all').shape)\n"
   ]
  },
  {
   "cell_type": "code",
   "execution_count": 18,
   "metadata": {
    "collapsed": false
   },
   "outputs": [],
   "source": [
    "pluto_mn = mpf.read_in_pluto([\"manhattan\"])\n",
    "pluto_bk = mpf.read_in_pluto([\"brooklyn\"])\n",
    "pluto_qn = mpf.read_in_pluto([\"queens\"])\n",
    "pluto_bx = mpf.read_in_pluto([\"bronx\"])\n",
    "pluto_si = mpf.read_in_pluto([\"statenisland\"])"
   ]
  },
  {
   "cell_type": "code",
   "execution_count": 26,
   "metadata": {
    "collapsed": false
   },
   "outputs": [
    {
     "data": {
      "text/plain": [
       "(1341451, 9)"
      ]
     },
     "execution_count": 26,
     "metadata": {},
     "output_type": "execute_result"
    }
   ],
   "source": [
    "finance.shape"
   ]
  },
  {
   "cell_type": "code",
   "execution_count": 48,
   "metadata": {
    "collapsed": false
   },
   "outputs": [
    {
     "name": "stdout",
     "output_type": "stream",
     "text": [
      "(423668, 5)\n",
      "Index(['bbl', 'block', 'unit_bbl', 'condo_boro', 'condo_numb'], dtype='object')\n",
      "(8127, 8)\n",
      "Index(['bbl_pluto', 'block', 'borocode', 'condono', 'bbl_finance', 'unit_bbl',\n",
      "       'condo_boro', 'condo_numb'],\n",
      "      dtype='object')\n"
     ]
    }
   ],
   "source": [
    "dtm_cols_to_keep = ['unit_bbl', 'condo_boro', 'condo_numb']\n",
    "pluto_cols_to_keep = ['bbl', 'block', 'borocode', 'condono']\n",
    "finance_cols_to_keep = ['bbl', 'block']\n",
    "\n",
    "finance_condos_only = pd.merge(subset_data(finance, finance_cols_to_keep),\n",
    "    subset_data(dtm, dtm_cols_to_keep),\n",
    "    how='inner', left_on=['bbl'], right_on=['unit_bbl'])\n",
    "\n",
    "print(finance_condos_only.shape)\n",
    "print(finance_condos_only.columns)\n",
    "\n",
    "# for condos: finance.bbl == finance_condos_only.unit_bbl\n",
    "#             finance_condos_only.bbl_pluto == pluto.bbl\n",
    "finance_condos_only = pd.merge(subset_data(pluto, pluto_cols_to_keep),\n",
    "    finance_condos_only, how='inner',\n",
    "    left_on=['borocode', 'block', 'condono'],\n",
    "    right_on=['condo_boro', 'block', 'condo_numb'],\n",
    "    suffixes=['_pluto', '_finance'])\n",
    "\n",
    "finance_condos_only = finance_condos_only.loc[lambda df:\n",
    "        np.floor(df.bbl_pluto / 1e4) == np.floor(df.bbl_finance / 1e4)]\n",
    "\n",
    "print(finance_condos_only.shape)\n",
    "print(finance_condos_only.columns)\n",
    "\n",
    "finance_condos_only = subset_data(finance_condos_only, ['bbl_pluto', 'bbl_finance'])\n",
    "\n",
    "# get a list of bbls that are not condos (same in pluto and finance)\n",
    "standard_bbls = list(set(finance.bbl).difference(\n",
    "                    set(finance_condos_only.bbl_finance)))\n",
    "# combine condo bbls that differ with standard bbls that are the same\n",
    "bbl_mappings = finance_condos_only.append(pd.DataFrame.from_dict(\n",
    "    {'bbl_pluto': standard_bbls, 'bbl_finance': standard_bbls}))\n",
    "bbl_mappings = bbl_mappings.reset_index(drop = True)\n",
    "\n",
    "finance_condo_updated = pd.merge(finance, bbl_mappings,\n",
    "    how='left', left_on='bbl', right_on='bbl_finance')\n",
    "# finance condo updated: remove bbl/block/bbl_finance\n",
    "# retain only bbl_pluto to match with pluto.bbl in merge\n",
    "finance_condo_updated = finance_condo_updated.drop(\n",
    "    ['block','bbl', 'bbl_finance'], axis=1)"
   ]
  },
  {
   "cell_type": "code",
   "execution_count": 49,
   "metadata": {
    "collapsed": false
   },
   "outputs": [
    {
     "name": "stdout",
     "output_type": "stream",
     "text": [
      "(1341451, 9)\n",
      "(1341451, 8)\n"
     ]
    }
   ],
   "source": [
    "print(finance.shape)\n",
    "print(finance_condo_updated.shape)"
   ]
  },
  {
   "cell_type": "code",
   "execution_count": 36,
   "metadata": {
    "collapsed": false
   },
   "outputs": [
    {
     "data": {
      "text/plain": [
       "(8127, 8)"
      ]
     },
     "execution_count": 36,
     "metadata": {},
     "output_type": "execute_result"
    }
   ],
   "source": [
    "finance_condos_only.shape"
   ]
  },
  {
   "cell_type": "code",
   "execution_count": 56,
   "metadata": {
    "collapsed": false
   },
   "outputs": [
    {
     "name": "stdout",
     "output_type": "stream",
     "text": [
      "166702\n"
     ]
    }
   ],
   "source": []
  },
  {
   "cell_type": "code",
   "execution_count": 60,
   "metadata": {
    "collapsed": false
   },
   "outputs": [],
   "source": [
    "data_full = pd.read_csv('data/merged/bronx_brooklyn_manhattan_queens_statenisland_2003_2016.csv', \n",
    "                        low_memory = False)"
   ]
  },
  {
   "cell_type": "code",
   "execution_count": 61,
   "metadata": {
    "collapsed": true
   },
   "outputs": [],
   "source": [
    "brooklyn = pd.read_csv('data/merged/brooklyn_2003_2016.csv', low_memory = False)"
   ]
  },
  {
   "cell_type": "code",
   "execution_count": 66,
   "metadata": {
    "collapsed": false
   },
   "outputs": [
    {
     "data": {
      "text/plain": [
       "0    2004-06-12\n",
       "1    2006-04-20\n",
       "2    2007-09-26\n",
       "3    2008-08-01\n",
       "4    2009-12-08\n",
       "5    2010-10-12\n",
       "6    2011-12-09\n",
       "7    2012-12-19\n",
       "Name: sale_date, dtype: object"
      ]
     },
     "execution_count": 66,
     "metadata": {},
     "output_type": "execute_result"
    }
   ],
   "source": [
    "brooklyn.loc[brooklyn.bbl == 3000260033, 'sale_date']"
   ]
  },
  {
   "cell_type": "code",
   "execution_count": 77,
   "metadata": {
    "collapsed": false
   },
   "outputs": [],
   "source": [
    "bk = set((a,b) for a,b in zip(brooklyn.bbl, brooklyn.sale_date))"
   ]
  },
  {
   "cell_type": "code",
   "execution_count": 81,
   "metadata": {
    "collapsed": false
   },
   "outputs": [
    {
     "data": {
      "text/plain": [
       "True"
      ]
     },
     "execution_count": 81,
     "metadata": {},
     "output_type": "execute_result"
    }
   ],
   "source": [
    "len(bk) == brooklyn.shape[0]"
   ]
  },
  {
   "cell_type": "code",
   "execution_count": 82,
   "metadata": {
    "collapsed": false
   },
   "outputs": [],
   "source": [
    "whole = set((a,b) for a,b in zip(data_full.bbl, data_full.sale_date))"
   ]
  },
  {
   "cell_type": "code",
   "execution_count": 83,
   "metadata": {
    "collapsed": false
   },
   "outputs": [
    {
     "data": {
      "text/plain": [
       "True"
      ]
     },
     "execution_count": 83,
     "metadata": {},
     "output_type": "execute_result"
    }
   ],
   "source": [
    "len(whole) == data_full.shape[0]"
   ]
  },
  {
   "cell_type": "code",
   "execution_count": 86,
   "metadata": {
    "collapsed": false
   },
   "outputs": [
    {
     "data": {
      "text/plain": [
       "{(3087310024.0, '2013-04-08'),\n",
       " (3017700096.0, '2014-12-31'),\n",
       " (3055640064.0, '2012-06-07'),\n",
       " (3010510045.0, '2015-05-27'),\n",
       " (3080810058.0, '2016-05-18'),\n",
       " (3013680011.0, '2005-06-15'),\n",
       " (3047680070.0, '2014-09-03'),\n",
       " (3052370010.0, '2006-08-18'),\n",
       " (3018910046.0, '2011-03-04'),\n",
       " (3062650065.0, '2010-02-16'),\n",
       " (3049540061.0, '2012-03-02'),\n",
       " (3084650047.0, '2004-06-14'),\n",
       " (3057680061.0, '2013-05-02'),\n",
       " (3061070055.0, '2009-09-24'),\n",
       " (3014240049.0, '2007-07-30'),\n",
       " (3079660012.0, '2008-10-22'),\n",
       " (3050260034.0, '2003-11-12'),\n",
       " (3018190049.0, '2007-03-14'),\n",
       " (3016560067.0, '2003-06-19'),\n",
       " (3033800012.0, '2003-04-10'),\n",
       " (3033920054.0, '2004-06-16'),\n",
       " (3082580030.0, '2008-10-08'),\n",
       " (3051510018.0, '2014-03-18'),\n",
       " (3004400033.0, '2007-12-03'),\n",
       " (3071700065.0, '2015-04-01'),\n",
       " (3078820049.0, '2007-07-25'),\n",
       " (3046150020.0, '2015-09-30'),\n",
       " (3009000028.0, '2005-08-25'),\n",
       " (3039880013.0, '2015-11-24'),\n",
       " (3041290020.0, '2008-08-28'),\n",
       " (3061820042.0, '2009-09-10'),\n",
       " (3083000040.0, '2004-09-29'),\n",
       " (3031870013.0, '2003-07-29'),\n",
       " (3063730060.0, '2004-06-17'),\n",
       " (3001780028.0, '2004-07-19'),\n",
       " (3019677501.0, '2003-11-25'),\n",
       " (3015790030.0, '2012-09-12'),\n",
       " (3057400005.0, '2014-07-22'),\n",
       " (3049560017.0, '2012-03-29'),\n",
       " (3050550077.0, '2011-07-12'),\n",
       " (3070040058.0, '2014-03-21'),\n",
       " (3054880062.0, '2009-10-15'),\n",
       " (3018140066.0, '2005-04-20'),\n",
       " (3051220044.0, '2008-11-06'),\n",
       " (3041210025.0, '2008-12-12'),\n",
       " (3017670013.0, '2010-10-14'),\n",
       " (3059190044.0, '2004-01-07'),\n",
       " (3046980033.0, '2016-07-11'),\n",
       " (3010760040.0, '2005-06-08'),\n",
       " (3045030043.0, '2007-01-02'),\n",
       " (3063130016.0, '2011-11-22'),\n",
       " (3016610036.0, '2014-03-12'),\n",
       " (3007750050.0, '2004-08-03'),\n",
       " (3041780033.0, '2012-12-05'),\n",
       " (3060610013.0, '2012-12-26'),\n",
       " (3077880058.0, '2011-01-24'),\n",
       " (3081460025.0, '2003-11-21'),\n",
       " (3015310066.0, '2003-06-02'),\n",
       " (3032850080.0, '2012-11-26'),\n",
       " (3050540053.0, '2015-09-24'),\n",
       " (3035510047.0, '2013-06-20'),\n",
       " (3079630078.0, '2003-11-25'),\n",
       " (3055550026.0, '2006-06-28'),\n",
       " (3060557501.0, '2007-10-03'),\n",
       " (3086890055.0, '2006-04-26'),\n",
       " (3039950114.0, '2005-06-14'),\n",
       " (3037040026.0, '2012-05-17'),\n",
       " (3082570014.0, '2007-09-24'),\n",
       " (3016810049.0, '2008-01-30'),\n",
       " (3041490109.0, '2016-01-21'),\n",
       " (3049500012.0, '2015-04-21'),\n",
       " (3016320032.0, '2008-04-07'),\n",
       " (3008370049.0, '2005-01-26'),\n",
       " (3047340023.0, '2013-04-26'),\n",
       " (3082860053.0, '2009-07-29'),\n",
       " (3040100019.0, '2006-10-04'),\n",
       " (3055610073.0, '2016-06-03'),\n",
       " (3017540058.0, '2004-11-19'),\n",
       " (3057130040.0, '2013-03-26'),\n",
       " (3057540001.0, '2004-08-18'),\n",
       " (3084740073.0, '2007-12-18'),\n",
       " (3060300007.0, '2009-03-18'),\n",
       " (3040520145.0, '2007-04-24'),\n",
       " (3042260019.0, '2015-09-01'),\n",
       " (3013400014.0, '2012-08-21'),\n",
       " (3044810046.0, '2013-09-19'),\n",
       " (3046690012.0, '2006-11-21'),\n",
       " (3018270014.0, '2004-04-22'),\n",
       " (3042670008.0, '2007-08-24'),\n",
       " (3034010025.0, '2011-07-14'),\n",
       " (3080780013.0, '2005-12-02'),\n",
       " (3003700017.0, '2009-07-10'),\n",
       " (3057040040.0, '2003-02-05'),\n",
       " (3038080044.0, '2006-02-22'),\n",
       " (3050830103.0, '2011-08-17'),\n",
       " (3059850026.0, '2007-12-28'),\n",
       " (3027810010.0, '2004-04-13'),\n",
       " (3033850031.0, '2011-07-06'),\n",
       " (3014190056.0, '2013-11-05'),\n",
       " (3051350033.0, '2006-07-28'),\n",
       " (3062440112.0, '2013-05-02'),\n",
       " (3012640013.0, '2005-07-29'),\n",
       " (3015170135.0, '2003-09-08'),\n",
       " (3016270063.0, '2003-06-24'),\n",
       " (3033770051.0, '2011-08-08'),\n",
       " (3038420022.0, '2005-06-15'),\n",
       " (3013760067.0, '2006-08-22'),\n",
       " (3013000060.0, '2007-08-20'),\n",
       " (3017740008.0, '2012-06-18'),\n",
       " (3040620128.0, '2009-03-09'),\n",
       " (3051047501.0, '2004-11-15'),\n",
       " (3034290040.0, '2014-05-28'),\n",
       " (3053370076.0, '2004-12-30'),\n",
       " (3013630027.0, '2010-10-28'),\n",
       " (3043060024.0, '2005-03-14'),\n",
       " (3059540042.0, '2011-08-16'),\n",
       " (3076960036.0, '2003-06-26'),\n",
       " (3048750029.0, '2006-07-12'),\n",
       " (3039940023.0, '2014-08-28'),\n",
       " (3082430019.0, '2015-05-28'),\n",
       " (3034380034.0, '2005-11-18'),\n",
       " (3077230015.0, '2009-09-29'),\n",
       " (3048910028.0, '2008-11-06'),\n",
       " (3082330037.0, '2013-12-18'),\n",
       " (3012620056.0, '2006-07-05'),\n",
       " (3042490090.0, '2007-08-17'),\n",
       " (3042040007.0, '2010-01-28'),\n",
       " (3049030028.0, '2006-01-18'),\n",
       " (3062520015.0, '2004-01-14'),\n",
       " (3061080001.0, '2012-01-30'),\n",
       " (3046430042.0, '2016-01-28'),\n",
       " (3013660034.0, '2013-11-07'),\n",
       " (3016530054.0, '2006-12-07'),\n",
       " (3063740084.0, '2014-09-16'),\n",
       " (3075620041.0, '2003-12-16'),\n",
       " (3082130024.0, '2009-10-29'),\n",
       " (3012780068.0, '2008-10-21'),\n",
       " (3054670064.0, '2007-06-11'),\n",
       " (3013390067.0, '2011-03-18'),\n",
       " (3002620052.0, '2003-11-12'),\n",
       " (3020890060.0, '2003-01-17'),\n",
       " (3050320064.0, '2014-06-03'),\n",
       " (3017620054.0, '2015-04-22'),\n",
       " (3044530023.0, '2013-09-17'),\n",
       " (3078550040.0, '2007-08-20'),\n",
       " (3032290016.0, '2009-05-29'),\n",
       " (3060360030.0, '2013-01-18'),\n",
       " (3081420052.0, '2014-04-25'),\n",
       " (3066720049.0, '2014-07-24'),\n",
       " (3002540019.0, '2009-05-08'),\n",
       " (3047960039.0, '2011-05-05'),\n",
       " (3030820042.0, '2005-08-25'),\n",
       " (3042530015.0, '2007-08-17'),\n",
       " (3047960039.0, '2015-09-22'),\n",
       " (3054690017.0, '2008-11-06'),\n",
       " (3072250014.0, '2008-07-16'),\n",
       " (3062510007.0, '2003-10-07'),\n",
       " (3084740075.0, '2014-11-21'),\n",
       " (3001960022.0, '2013-05-28'),\n",
       " (3042490091.0, '2005-05-31'),\n",
       " (3068380123.0, '2007-09-19'),\n",
       " (3003070024.0, '2014-01-22'),\n",
       " (3017560023.0, '2007-05-14'),\n",
       " (3019840021.0, '2015-10-26'),\n",
       " (3066840046.0, '2006-02-13'),\n",
       " (3006950040.0, '2013-03-06'),\n",
       " (3021137501.0, '2008-12-11'),\n",
       " (3040210027.0, '2008-01-30'),\n",
       " (3038250045.0, '2014-01-24'),\n",
       " (3012330037.0, '2003-06-03'),\n",
       " (3018200007.0, '2009-02-18'),\n",
       " (3042960072.0, '2013-04-19'),\n",
       " (3035360048.0, '2010-03-29'),\n",
       " (3020860034.0, '2008-04-25'),\n",
       " (3026480031.0, '2008-09-29'),\n",
       " (3034680047.0, '2003-07-18'),\n",
       " (3020740048.0, '2013-02-26'),\n",
       " (3083070067.0, '2015-05-28'),\n",
       " (3054660077.0, '2014-07-24'),\n",
       " (3012020053.0, '2003-06-27'),\n",
       " (3042270023.0, '2009-04-01'),\n",
       " (3068780034.0, '2003-11-19'),\n",
       " (3019630067.0, '2007-06-13'),\n",
       " (3081640156.0, '2006-12-01'),\n",
       " (3066310032.0, '2006-12-06'),\n",
       " (3002360045.0, '2014-04-25'),\n",
       " (3022310049.0, '2004-06-25'),\n",
       " (3033850025.0, '2010-10-07'),\n",
       " (3034870008.0, '2007-01-12'),\n",
       " (3041680012.0, '2013-04-05'),\n",
       " (3068800043.0, '2015-12-07'),\n",
       " (3082980054.0, '2008-03-07'),\n",
       " (3036640039.0, '2006-01-05'),\n",
       " (3016830016.0, '2012-03-16'),\n",
       " (3080550056.0, '2011-03-29'),\n",
       " (3016100061.0, '2015-11-10'),\n",
       " (3053110008.0, '2003-07-29'),\n",
       " (3046740031.0, '2014-01-30'),\n",
       " (3065567502.0, '2014-04-04'),\n",
       " (3072630042.0, '2011-06-13'),\n",
       " (3058170020.0, '2006-10-30'),\n",
       " (3049640010.0, '2016-01-11'),\n",
       " (3081610011.0, '2013-04-17'),\n",
       " (3034280025.0, '2009-10-27'),\n",
       " (3049670027.0, '2009-06-02'),\n",
       " (3056820024.0, '2011-04-01'),\n",
       " (3044580062.0, '2003-11-25'),\n",
       " (3076180030.0, '2004-07-27'),\n",
       " (3018860084.0, '2012-05-18'),\n",
       " (3063120069.0, '2016-02-26'),\n",
       " (3013760016.0, '2006-09-26'),\n",
       " (3032750031.0, '2016-05-02'),\n",
       " (3079320009.0, '2004-10-26'),\n",
       " (3083600015.0, '2005-01-06'),\n",
       " (3058490058.0, '2007-06-28'),\n",
       " (3049680012.0, '2005-10-21'),\n",
       " (3070080055.0, '2011-03-15'),\n",
       " (3055440020.0, '2014-12-15'),\n",
       " (3058850034.0, '2008-01-07'),\n",
       " (3026510048.0, '2004-10-27'),\n",
       " (3018890025.0, '2003-07-09'),\n",
       " (3019700009.0, '2008-02-08'),\n",
       " (3067720078.0, '2014-01-21'),\n",
       " (3075950053.0, '2005-03-16'),\n",
       " (3040640047.0, '2016-04-29'),\n",
       " (3031360031.0, '2013-11-20'),\n",
       " (3054250084.0, '2006-07-20'),\n",
       " (3012260004.0, '2005-05-25'),\n",
       " (3012910052.0, '2016-01-20'),\n",
       " (3063440033.0, '2011-09-28'),\n",
       " (3086797501.0, '2005-02-03'),\n",
       " (3054940062.0, '2006-02-07'),\n",
       " (3037410008.0, '2007-07-20'),\n",
       " (3059380047.0, '2012-09-24'),\n",
       " (3059640043.0, '2012-02-29'),\n",
       " (3034720017.0, '2014-03-26'),\n",
       " (3039360002.0, '2011-01-28'),\n",
       " (3047130020.0, '2007-12-18'),\n",
       " (3057480003.0, '2007-02-20'),\n",
       " (3017620008.0, '2015-04-22'),\n",
       " (3012470042.0, '2004-02-05'),\n",
       " (3025320006.0, '2013-03-18'),\n",
       " (3033950038.0, '2007-01-29'),\n",
       " (3018370075.0, '2013-10-02'),\n",
       " (3066520060.0, '2007-03-19'),\n",
       " (3037550017.0, '2014-08-05'),\n",
       " (3010417501.0, '2004-05-11'),\n",
       " (3009630031.0, '2006-09-11'),\n",
       " (3061730042.0, '2015-06-18'),\n",
       " (3005520021.0, '2004-05-14'),\n",
       " (3046690012.0, '2005-07-06'),\n",
       " (3057930043.0, '2003-12-29'),\n",
       " (3082290071.0, '2005-09-30'),\n",
       " (3062440036.0, '2007-03-26'),\n",
       " (3013890005.0, '2004-08-27'),\n",
       " (3048230036.0, '2012-06-20'),\n",
       " (3048790159.0, '2005-09-08'),\n",
       " (3003640024.0, '2013-05-29'),\n",
       " (3041040006.0, '2005-02-04'),\n",
       " (3002520008.0, '2010-09-13'),\n",
       " (3016320006.0, '2011-06-27'),\n",
       " (3018070032.0, '2010-04-06'),\n",
       " (3071140030.0, '2004-01-26'),\n",
       " (3062690010.0, '2007-04-20'),\n",
       " (3015940080.0, '2015-03-16'),\n",
       " (3038840247.0, '2006-05-18'),\n",
       " (3047920020.0, '2005-06-20'),\n",
       " (3050880038.0, '2012-03-30'),\n",
       " (3077490063.0, '2012-12-27'),\n",
       " (3032580035.0, '2004-08-02'),\n",
       " (3046370019.0, '2004-08-23'),\n",
       " (3064630007.0, '2003-01-06'),\n",
       " (3077730029.0, '2014-11-17'),\n",
       " (3078950062.0, '2004-11-29'),\n",
       " (3041360024.0, '2014-10-10'),\n",
       " (3018530059.0, '2010-11-16'),\n",
       " (3035690026.0, '2007-07-17'),\n",
       " (3084430048.0, '2003-05-29'),\n",
       " (3019840073.0, '2004-02-27'),\n",
       " (3049530074.0, '2012-12-04'),\n",
       " (3056287508.0, '2008-12-17'),\n",
       " (3063820032.0, '2008-10-30'),\n",
       " (3047970067.0, '2013-11-27'),\n",
       " (3047130027.0, '2003-12-10'),\n",
       " (3054687502.0, '2011-06-14'),\n",
       " (3014910050.0, '2006-08-10'),\n",
       " (3031930024.0, '2008-07-02'),\n",
       " (3017700084.0, '2005-08-10'),\n",
       " (3041320016.0, '2012-12-20'),\n",
       " (3050100023.0, '2011-02-07'),\n",
       " (3056230036.0, '2011-06-08'),\n",
       " (3056620042.0, '2011-05-29'),\n",
       " (3018530060.0, '2011-10-18'),\n",
       " (3051260051.0, '2016-06-01'),\n",
       " (3065030030.0, '2004-09-14'),\n",
       " (3087130026.0, '2014-07-31'),\n",
       " (3017080050.0, '2004-10-30'),\n",
       " (3040170030.0, '2007-03-08'),\n",
       " (3068090035.0, '2007-03-16'),\n",
       " (3085460008.0, '2007-10-26'),\n",
       " (3035190014.0, '2005-09-27'),\n",
       " (3055930031.0, '2010-11-29'),\n",
       " (3031970053.0, '2005-09-30'),\n",
       " (3042530014.0, '2004-07-21'),\n",
       " (3049910071.0, '2015-11-19'),\n",
       " (3049720040.0, '2006-06-08'),\n",
       " (3021000021.0, '2006-06-27'),\n",
       " (3056820031.0, '2007-10-11'),\n",
       " (3007750075.0, '2003-07-30'),\n",
       " (3008370024.0, '2005-08-04'),\n",
       " (3056230036.0, '2009-06-08'),\n",
       " (3078230036.0, '2007-03-15'),\n",
       " (3080240007.0, '2008-09-08'),\n",
       " (3031860046.0, '2012-05-30'),\n",
       " (3056110009.0, '2013-12-19'),\n",
       " (3049340054.0, '2016-06-10'),\n",
       " (3087207503.0, '2007-08-06'),\n",
       " (3040360034.0, '2007-06-29'),\n",
       " (3002140025.0, '2008-08-20'),\n",
       " (3012370076.0, '2013-01-28'),\n",
       " (3033940036.0, '2016-04-07'),\n",
       " (3040230043.0, '2004-10-19'),\n",
       " (3055940049.0, '2013-07-29'),\n",
       " (3068950010.0, '2014-10-22'),\n",
       " (3062440062.0, '2014-11-10'),\n",
       " (3073320055.0, '2015-04-14'),\n",
       " (3034360019.0, '2005-04-22'),\n",
       " (3041650033.0, '2007-12-20'),\n",
       " (3072420137.0, '2010-04-22'),\n",
       " (3015960068.0, '2006-07-20'),\n",
       " (3082190004.0, '2003-11-07'),\n",
       " (3059010017.0, '2006-03-21'),\n",
       " (3041300046.0, '2009-04-27'),\n",
       " (3049800072.0, '2004-12-29'),\n",
       " (3061860040.0, '2013-08-27'),\n",
       " (3055000067.0, '2006-06-23'),\n",
       " (3040700042.0, '2007-09-25'),\n",
       " (3045490013.0, '2006-10-12'),\n",
       " (3056400064.0, '2015-07-16'),\n",
       " (3059190041.0, '2004-01-09'),\n",
       " (3009310034.0, '2006-07-06'),\n",
       " (3046520080.0, '2008-01-04'),\n",
       " (3002967501.0, '2008-11-04'),\n",
       " (3027710033.0, '2005-12-22'),\n",
       " (3081817501.0, '2007-04-27'),\n",
       " (3080760067.0, '2007-12-21'),\n",
       " (3010750035.0, '2006-07-17'),\n",
       " (3038970054.0, '2013-11-19'),\n",
       " (3043250049.0, '2012-06-19'),\n",
       " (3036050121.0, '2011-03-08'),\n",
       " (3060630004.0, '2007-09-26'),\n",
       " (3032840024.0, '2013-06-19'),\n",
       " (3001900029.0, '2008-06-19'),\n",
       " (3026210024.0, '2005-07-13'),\n",
       " (3069020061.0, '2007-08-06'),\n",
       " (3017660019.0, '2004-04-30'),\n",
       " (3004570017.0, '2003-11-26'),\n",
       " (3039950116.0, '2014-11-26'),\n",
       " (3054880069.0, '2016-07-11'),\n",
       " (3039120053.0, '2008-07-28'),\n",
       " (3016010013.0, '2005-05-26'),\n",
       " (3003710034.0, '2004-11-22'),\n",
       " (3017540073.0, '2009-12-21'),\n",
       " (3032750026.0, '2011-01-25'),\n",
       " (3004350024.0, '2009-01-08'),\n",
       " (3008130032.0, '2012-06-18'),\n",
       " (3040300006.0, '2015-06-05'),\n",
       " (3055530028.0, '2010-11-30'),\n",
       " (3017220014.0, '2016-06-28'),\n",
       " (3047650043.0, '2011-11-17'),\n",
       " (3082780030.0, '2011-07-29'),\n",
       " (3035340040.0, '2013-08-26'),\n",
       " (3056580065.0, '2011-09-20'),\n",
       " (3035310042.0, '2004-11-24'),\n",
       " (3044790025.0, '2011-07-08'),\n",
       " (3042170006.0, '2011-12-28'),\n",
       " (3068770043.0, '2004-07-22'),\n",
       " (3034400056.0, '2010-11-01'),\n",
       " (3010660044.0, '2006-06-08'),\n",
       " (3082950021.0, '2016-05-27'),\n",
       " (3036390031.0, '2003-05-01'),\n",
       " (3060090023.0, '2003-06-04'),\n",
       " (3062330011.0, '2005-08-25'),\n",
       " (3009820025.0, '2006-12-20'),\n",
       " (3009620014.0, '2003-07-18'),\n",
       " (3049760040.0, '2005-01-28'),\n",
       " (3054660086.0, '2016-07-21'),\n",
       " (3038510006.0, '2003-09-25'),\n",
       " (3077760046.0, '2015-11-30'),\n",
       " (3079820124.0, '2003-12-23'),\n",
       " (3042950021.0, '2005-05-17'),\n",
       " (3062050019.0, '2015-11-25'),\n",
       " (3019800032.0, '2015-08-13'),\n",
       " (3017040015.0, '2014-12-17'),\n",
       " (3053050016.0, '2016-04-22'),\n",
       " (3066700033.0, '2003-08-21'),\n",
       " (3069900020.0, '2010-06-29'),\n",
       " (3077990034.0, '2014-05-28'),\n",
       " (3002600038.0, '2012-01-19'),\n",
       " (3003360006.0, '2005-09-29'),\n",
       " (3016580083.0, '2006-11-14'),\n",
       " (3017260131.0, '2012-06-19'),\n",
       " (3017670046.0, '2009-03-31'),\n",
       " (3018090031.0, '2011-12-01'),\n",
       " (3048480007.0, '2004-07-23'),\n",
       " (3016470030.0, '2004-10-14'),\n",
       " (3049760076.0, '2011-04-27'),\n",
       " (3060880022.0, '2008-11-17'),\n",
       " (3055320011.0, '2003-03-26'),\n",
       " (3061750069.0, '2015-09-03'),\n",
       " (3046470023.0, '2006-11-15'),\n",
       " (3036820041.0, '2005-07-29'),\n",
       " (3062620019.0, '2006-05-04'),\n",
       " (3049790079.0, '2016-01-12'),\n",
       " (3066270038.0, '2006-12-14'),\n",
       " (3068820047.0, '2008-07-30'),\n",
       " (3010220066.0, '2004-01-16'),\n",
       " (3027500018.0, '2005-04-06'),\n",
       " (3004200054.0, '2003-05-30'),\n",
       " (3038250005.0, '2009-06-04'),\n",
       " (3053940059.0, '2016-02-22'),\n",
       " (3065800008.0, '2008-09-17'),\n",
       " (3070470114.0, '2004-05-19'),\n",
       " (3070920013.0, '2012-05-03'),\n",
       " (3074410351.0, '2004-06-11'),\n",
       " (3073330038.0, '2007-06-28'),\n",
       " (3039600008.0, '2015-11-11'),\n",
       " (3064610333.0, '2009-12-21'),\n",
       " (3034110014.0, '2007-04-10'),\n",
       " (3020997501.0, '2014-05-27'),\n",
       " (3047280045.0, '2014-08-06'),\n",
       " (3066720065.0, '2006-01-23'),\n",
       " (3080390038.0, '2008-04-28'),\n",
       " (3023210030.0, '2004-09-15'),\n",
       " (3041630012.0, '2013-06-13'),\n",
       " (3015350008.0, '2004-04-05'),\n",
       " (3058610019.0, '2015-09-25'),\n",
       " (3061250001.0, '2014-12-17'),\n",
       " (3068660020.0, '2005-10-05'),\n",
       " (3003660054.0, '2011-01-06'),\n",
       " (3071570086.0, '2003-02-12'),\n",
       " (3042270014.0, '2011-08-23'),\n",
       " (3078270048.0, '2003-12-10'),\n",
       " (3059160062.0, '2009-09-24'),\n",
       " (3051350017.0, '2007-09-27'),\n",
       " (3036790001.0, '2006-04-28'),\n",
       " (3060180062.0, '2007-02-28'),\n",
       " (3013600080.0, '2013-03-13'),\n",
       " (3066460043.0, '2013-07-12'),\n",
       " (3075890038.0, '2003-06-26'),\n",
       " (3082330005.0, '2013-05-20'),\n",
       " (3049640010.0, '2006-10-25'),\n",
       " (3010790051.0, '2004-11-10'),\n",
       " (3013660074.0, '2008-03-17'),\n",
       " (3019870057.0, '2005-04-15'),\n",
       " (3032870037.0, '2011-01-05'),\n",
       " (3059510023.0, '2012-12-20'),\n",
       " (3059670049.0, '2004-07-15'),\n",
       " (3042400010.0, '2005-01-19'),\n",
       " (3064290018.0, '2008-07-16'),\n",
       " (3032830007.0, '2005-06-09'),\n",
       " (3040790020.0, '2011-07-01'),\n",
       " (3055940037.0, '2011-11-21'),\n",
       " (3056850049.0, '2012-12-20'),\n",
       " (3042220003.0, '2012-08-08'),\n",
       " (3061040017.0, '2011-04-22'),\n",
       " (3019840073.0, '2011-07-13'),\n",
       " (3040070008.0, '2010-08-18'),\n",
       " (3004150008.0, '2010-06-01'),\n",
       " (3066330040.0, '2006-01-05'),\n",
       " (3017730012.0, '2010-01-08'),\n",
       " (3054890053.0, '2004-06-16'),\n",
       " (3060460042.0, '2011-04-07'),\n",
       " (3002640017.0, '2015-09-30'),\n",
       " (3062980029.0, '2012-04-23'),\n",
       " (3013900124.0, '2008-05-02'),\n",
       " (3003510009.0, '2004-04-30'),\n",
       " (3039730004.0, '2016-06-29'),\n",
       " (3065500064.0, '2006-08-22'),\n",
       " (3081450040.0, '2006-10-24'),\n",
       " (3003997501.0, '2003-09-04'),\n",
       " (3062340020.0, '2012-10-18'),\n",
       " (3057180015.0, '2004-11-03'),\n",
       " (3027000006.0, '2003-03-14'),\n",
       " (3052940042.0, '2008-07-18'),\n",
       " (3063680018.0, '2015-09-17'),\n",
       " (3020150065.0, '2010-05-25'),\n",
       " (3050620064.0, '2015-03-19'),\n",
       " (3036050129.0, '2010-04-29'),\n",
       " (3017930050.0, '2009-01-15'),\n",
       " (3012750069.0, '2005-12-22'),\n",
       " (3032080106.0, '2005-02-08'),\n",
       " (3033880042.0, '2015-05-28'),\n",
       " (3016780051.0, '2010-06-14'),\n",
       " (3016760039.0, '2014-03-05'),\n",
       " (3056497506.0, '2015-12-17'),\n",
       " (3041920034.0, '2010-08-11'),\n",
       " (3042080029.0, '2014-04-30'),\n",
       " (3039670010.0, '2003-02-25'),\n",
       " (3013430079.0, '2012-03-20'),\n",
       " (3013630027.0, '2012-10-11'),\n",
       " (3033420037.0, '2008-03-13'),\n",
       " (3003240037.0, '2006-06-22'),\n",
       " (3019930030.0, '2004-06-14'),\n",
       " (3034080016.0, '2011-09-26'),\n",
       " (3059430062.0, '2011-09-08'),\n",
       " (3062460050.0, '2004-03-05'),\n",
       " (3077680071.0, '2004-06-29'),\n",
       " (3079890009.0, '2003-09-30'),\n",
       " (3079850032.0, '2011-05-13'),\n",
       " (3034240041.0, '2011-06-10'),\n",
       " (3077350074.0, '2005-11-30'),\n",
       " (3089320572.0, '2007-06-11'),\n",
       " (3063260070.0, '2014-03-27'),\n",
       " (3055340017.0, '2006-10-05'),\n",
       " (3049020002.0, '2013-08-09'),\n",
       " (3022320030.0, '2004-06-03'),\n",
       " (3071930072.0, '2006-09-06'),\n",
       " (3019740044.0, '2009-05-12'),\n",
       " (3059650043.0, '2008-07-01'),\n",
       " (3048530063.0, '2005-09-28'),\n",
       " (3082640035.0, '2004-10-08'),\n",
       " (3013430121.0, '2014-06-09'),\n",
       " (3034390017.0, '2003-05-30'),\n",
       " (3047150168.0, '2010-05-12'),\n",
       " (3044790024.0, '2013-05-16'),\n",
       " (3083770057.0, '2004-03-29'),\n",
       " (3086720082.0, '2004-09-13'),\n",
       " (3068590063.0, '2013-10-08'),\n",
       " (3040510157.0, '2014-11-24'),\n",
       " (3078320040.0, '2006-01-04'),\n",
       " (3032090011.0, '2012-10-24'),\n",
       " (3086620183.0, '2015-03-03'),\n",
       " (3082620035.0, '2010-04-30'),\n",
       " (3031840053.0, '2016-01-26'),\n",
       " (3061160055.0, '2004-06-08'),\n",
       " (3019820060.0, '2010-06-04'),\n",
       " (3032850040.0, '2013-05-24'),\n",
       " (3050350012.0, '2014-01-24'),\n",
       " (3088762658.0, '2015-04-29'),\n",
       " (3076510039.0, '2013-05-06'),\n",
       " (3051950073.0, '2003-05-20'),\n",
       " (3006400053.0, '2004-01-13'),\n",
       " (3063750045.0, '2005-07-13'),\n",
       " (3004570012.0, '2003-01-07'),\n",
       " (3017800026.0, '2013-09-05'),\n",
       " (3016810056.0, '2004-12-06'),\n",
       " (3021020001.0, '2014-04-08'),\n",
       " (3041190029.0, '2016-06-17'),\n",
       " (3016680076.0, '2013-08-21'),\n",
       " (3038000125.0, '2013-10-16'),\n",
       " (3041690012.0, '2004-07-08'),\n",
       " (3042280040.0, '2007-09-05'),\n",
       " (3019610013.0, '2007-08-15'),\n",
       " (3033920059.0, '2015-09-17'),\n",
       " (3026210040.0, '2008-10-04'),\n",
       " (3042680001.0, '2012-10-05'),\n",
       " (3057700056.0, '2005-01-04'),\n",
       " (3082520031.0, '2004-08-20'),\n",
       " (3082190035.0, '2005-12-21'),\n",
       " (3082190004.0, '2011-04-08'),\n",
       " (3018470032.0, '2008-11-05'),\n",
       " (3055050039.0, '2012-09-28'),\n",
       " (3016480034.0, '2009-12-22'),\n",
       " (3032360018.0, '2013-10-17'),\n",
       " (3010050042.0, '2005-05-23'),\n",
       " (3050110041.0, '2008-09-02'),\n",
       " (3016090024.0, '2006-08-21'),\n",
       " (3001790003.0, '2008-02-26'),\n",
       " (3085980042.0, '2003-08-14'),\n",
       " (3032430004.0, '2013-07-29'),\n",
       " (3060410015.0, '2011-10-20'),\n",
       " (3072630106.0, '2013-05-30'),\n",
       " (3049930075.0, '2012-11-16'),\n",
       " (3014060067.0, '2016-07-18'),\n",
       " (3062580014.0, '2009-06-18'),\n",
       " (3077810063.0, '2014-06-03'),\n",
       " (3035500044.0, '2008-06-05'),\n",
       " (3079070134.0, '2007-08-15'),\n",
       " (3053870079.0, '2007-03-01'),\n",
       " (3065900070.0, '2005-10-21'),\n",
       " (3063050038.0, '2003-12-22'),\n",
       " (3061550049.0, '2005-07-29'),\n",
       " (3066860054.0, '2007-09-20'),\n",
       " (3070990003.0, '2006-11-06'),\n",
       " (3035850047.0, '2004-03-19'),\n",
       " (3017760011.0, '2008-07-25'),\n",
       " (3042030030.0, '2009-10-01'),\n",
       " (3047210013.0, '2012-05-17'),\n",
       " (3048690034.0, '2012-02-27'),\n",
       " (3048780037.0, '2005-12-08'),\n",
       " (3058550043.0, '2007-09-12'),\n",
       " (3079940057.0, '2013-07-15'),\n",
       " (3087090014.0, '2007-02-06'),\n",
       " (3042960069.0, '2007-04-23'),\n",
       " (3047380150.0, '2007-06-19'),\n",
       " (3037410039.0, '2009-07-15'),\n",
       " (3033660017.0, '2014-03-06'),\n",
       " (3011080032.0, '2005-09-29'),\n",
       " (3077190001.0, '2003-12-12'),\n",
       " (3032790014.0, '2006-04-26'),\n",
       " (3056590065.0, '2011-04-07'),\n",
       " (3080820027.0, '2010-01-12'),\n",
       " (3059410038.0, '2006-11-01'),\n",
       " (3050460061.0, '2013-09-03'),\n",
       " (3060440059.0, '2012-02-03'),\n",
       " (3066270005.0, '2006-10-19'),\n",
       " (3084510065.0, '2016-07-26'),\n",
       " (3015580109.0, '2003-04-08'),\n",
       " (3034730042.0, '2011-06-21'),\n",
       " (3016150022.0, '2006-01-06'),\n",
       " (3082790065.0, '2015-12-17'),\n",
       " (3061410006.0, '2012-06-20'),\n",
       " (3066720030.0, '2006-03-09'),\n",
       " (3019860044.0, '2006-08-25'),\n",
       " (3044550065.0, '2016-04-12'),\n",
       " (3084820073.0, '2015-08-26'),\n",
       " (3055040074.0, '2015-02-26'),\n",
       " (3034090011.0, '2011-10-20'),\n",
       " (3018940018.0, '2003-04-07'),\n",
       " (3041080111.0, '2013-08-05'),\n",
       " (3047270010.0, '2009-04-27'),\n",
       " (3052880034.0, '2010-08-10'),\n",
       " (3017660003.0, '2004-07-26'),\n",
       " (3053450073.0, '2010-05-03'),\n",
       " (3063720075.0, '2014-06-10'),\n",
       " (3047610058.0, '2014-11-19'),\n",
       " (3059680055.0, '2009-04-28'),\n",
       " (3068530027.0, '2010-05-28'),\n",
       " (3004720019.0, '2009-06-26'),\n",
       " (3061550015.0, '2005-12-12'),\n",
       " (3012950053.0, '2005-06-30'),\n",
       " (3017700052.0, '2014-12-29'),\n",
       " (3054940093.0, '2015-04-01'),\n",
       " (3005310006.0, '2006-04-18'),\n",
       " (3041150017.0, '2010-07-08'),\n",
       " (3086480001.0, '2004-03-05'),\n",
       " (3054760014.0, '2013-06-05'),\n",
       " (3031710060.0, '2005-09-12'),\n",
       " (3057640025.0, '2008-03-04'),\n",
       " (3044580053.0, '2013-11-07'),\n",
       " (3048510012.0, '2014-09-30'),\n",
       " (3062190026.0, '2015-02-05'),\n",
       " (3082200064.0, '2013-06-18'),\n",
       " (3088040097.0, '2005-12-15'),\n",
       " (3002650001.0, '2008-01-14'),\n",
       " (3071840103.0, '2004-03-24'),\n",
       " (3016280063.0, '2011-03-30'),\n",
       " (3070810072.0, '2005-12-31'),\n",
       " (3058800063.0, '2010-12-02'),\n",
       " (3013380047.0, '2008-03-31'),\n",
       " (3013610037.0, '2009-08-06'),\n",
       " (3017740043.0, '2003-02-26'),\n",
       " (3019160001.0, '2004-12-23'),\n",
       " (3036920011.0, '2014-05-23'),\n",
       " (3062410010.0, '2004-10-13'),\n",
       " (3066550021.0, '2015-04-20'),\n",
       " (3055010012.0, '2007-02-16'),\n",
       " (3080620017.0, '2010-02-03'),\n",
       " (3061840070.0, '2015-12-22'),\n",
       " (3014470015.0, '2007-07-27'),\n",
       " (3018160040.0, '2004-01-23'),\n",
       " (3004610034.0, '2005-12-07'),\n",
       " (3014520034.0, '2007-03-01'),\n",
       " (3053130024.0, '2014-01-07'),\n",
       " (3007270045.0, '2011-02-04'),\n",
       " (3039590039.0, '2014-11-18'),\n",
       " (3046900032.0, '2008-04-30'),\n",
       " (3034710009.0, '2008-03-26'),\n",
       " (3047370008.0, '2004-07-14'),\n",
       " (3060920110.0, '2015-11-06'),\n",
       " (3048680062.0, '2011-05-25'),\n",
       " (3078640008.0, '2007-11-08'),\n",
       " (3034180012.0, '2011-03-10'),\n",
       " (3069010041.0, '2008-10-07'),\n",
       " (3073600058.0, '2005-05-17'),\n",
       " (3083770053.0, '2007-07-16'),\n",
       " (3062510014.0, '2012-06-27'),\n",
       " (3045190006.0, '2004-07-29'),\n",
       " (3068670006.0, '2008-08-28'),\n",
       " (3041080062.0, '2010-02-19'),\n",
       " (3013430116.0, '2008-10-15'),\n",
       " (3018240024.0, '2009-12-14'),\n",
       " (3054940001.0, '2012-12-28'),\n",
       " (3005750028.0, '2003-06-06'),\n",
       " (3080840003.0, '2010-07-14'),\n",
       " (3057030016.0, '2012-12-31'),\n",
       " (3060410010.0, '2015-07-22'),\n",
       " (3018550058.0, '2004-03-23'),\n",
       " (3039050036.0, '2014-01-06'),\n",
       " (3044650045.0, '2008-04-02'),\n",
       " (3052400099.0, '2004-03-10'),\n",
       " (3063920053.0, '2013-09-27'),\n",
       " (3033310034.0, '2008-05-01'),\n",
       " (3077230019.0, '2015-11-05'),\n",
       " (3050710050.0, '2010-09-22'),\n",
       " (3052820038.0, '2004-12-07'),\n",
       " (3004217501.0, '2006-01-23'),\n",
       " (3062110067.0, '2004-11-18'),\n",
       " (3007120033.0, '2004-06-18'),\n",
       " (3049510025.0, '2016-06-15'),\n",
       " (3002150019.0, '2006-01-12'),\n",
       " (3062510007.0, '2011-09-28'),\n",
       " (3052130079.0, '2012-06-28'),\n",
       " (3059410038.0, '2009-11-30'),\n",
       " (3063680018.0, '2012-02-29'),\n",
       " (3078870070.0, '2007-07-25'),\n",
       " (3080040027.0, '2011-04-08'),\n",
       " (3044540022.0, '2015-12-09'),\n",
       " (3017920054.0, '2014-06-16'),\n",
       " (3051410036.0, '2014-06-10'),\n",
       " (3037590001.0, '2013-12-13'),\n",
       " (3042120009.0, '2014-10-20'),\n",
       " (3065660069.0, '2006-04-28'),\n",
       " (3088320004.0, '2012-05-17'),\n",
       " (3037520039.0, '2014-03-12'),\n",
       " (3039270037.0, '2003-10-24'),\n",
       " (3062060044.0, '2007-12-21'),\n",
       " (3013910029.0, '2013-06-14'),\n",
       " (3064640046.0, '2011-01-19'),\n",
       " (3082030049.0, '2007-08-31'),\n",
       " (3077390067.0, '2004-09-13'),\n",
       " (3003520003.0, '2013-11-13'),\n",
       " (3055250044.0, '2011-10-17'),\n",
       " (3038080048.0, '2007-03-23'),\n",
       " (3039540055.0, '2010-08-19'),\n",
       " (3080510055.0, '2014-02-26'),\n",
       " (3012450060.0, '2015-08-31'),\n",
       " (3061260027.0, '2005-08-22'),\n",
       " (3062650041.0, '2011-05-12'),\n",
       " (3043420020.0, '2013-10-23'),\n",
       " (3019420027.0, '2009-05-06'),\n",
       " (3037410044.0, '2015-09-08'),\n",
       " (3002470015.0, '2013-07-30'),\n",
       " (3002350028.0, '2005-03-07'),\n",
       " (3059470039.0, '2006-03-07'),\n",
       " (3055170082.0, '2015-11-06'),\n",
       " (3062920006.0, '2004-04-22'),\n",
       " (3032200038.0, '2004-07-22'),\n",
       " (3067790001.0, '2014-03-11'),\n",
       " (3079750063.0, '2013-06-04'),\n",
       " (3018150047.0, '2006-07-10'),\n",
       " (3015940002.0, '2012-12-11'),\n",
       " (3016050044.0, '2009-09-09'),\n",
       " (3051360059.0, '2005-11-22'),\n",
       " (3062580015.0, '2006-09-12'),\n",
       " (3082100046.0, '2007-07-05'),\n",
       " (3066450011.0, '2014-09-19'),\n",
       " (3082000031.0, '2016-01-27'),\n",
       " (3033870041.0, '2009-03-17'),\n",
       " (3044810023.0, '2009-01-13'),\n",
       " (3078790082.0, '2004-06-04'),\n",
       " (3081430071.0, '2014-05-23'),\n",
       " (3062240068.0, '2014-12-04'),\n",
       " (3009650028.0, '2003-09-09'),\n",
       " (3006570012.0, '2006-09-08'),\n",
       " (3059840063.0, '2003-09-16'),\n",
       " (3073580046.0, '2004-02-12'),\n",
       " (3054490028.0, '2014-07-21'),\n",
       " (3060800068.0, '2004-10-28'),\n",
       " (3081620044.0, '2004-05-11'),\n",
       " (3055500019.0, '2015-03-04'),\n",
       " (3057550015.0, '2003-12-05'),\n",
       " (3071200051.0, '2016-02-02'),\n",
       " (3078690024.0, '2014-01-21'),\n",
       " (3026620038.0, '2014-05-30'),\n",
       " (3055520071.0, '2012-10-12'),\n",
       " (3049980017.0, '2008-12-19'),\n",
       " (3064650096.0, '2006-03-03'),\n",
       " (3041730067.0, '2006-01-25'),\n",
       " (3076680051.0, '2005-04-28'),\n",
       " (3039190024.0, '2011-12-01'),\n",
       " (3040670050.0, '2005-12-30'),\n",
       " (3075880060.0, '2004-05-25'),\n",
       " (3040700042.0, '2016-07-05'),\n",
       " (3016760035.0, '2005-06-29'),\n",
       " (3013550014.0, '2012-09-11'),\n",
       " (3012650071.0, '2012-12-04'),\n",
       " (3055520069.0, '2003-07-15'),\n",
       " (3041260017.0, '2012-02-10'),\n",
       " (3072600020.0, '2009-11-02'),\n",
       " (3055150045.0, '2006-11-07'),\n",
       " (3007560024.0, '2005-01-13'),\n",
       " (3029190020.0, '2005-02-18'),\n",
       " (3039520004.0, '2005-06-14'),\n",
       " (3062720075.0, '2005-10-18'),\n",
       " (3073830015.0, '2004-06-28'),\n",
       " (3057000025.0, '2008-11-13'),\n",
       " (3061220031.0, '2015-09-01'),\n",
       " (3081140058.0, '2003-11-13'),\n",
       " (3007380047.0, '2005-03-08'),\n",
       " (3075620033.0, '2013-07-19'),\n",
       " (3082000020.0, '2011-10-27'),\n",
       " (3082580029.0, '2011-12-12'),\n",
       " (3018560026.0, '2015-05-19'),\n",
       " (3041640011.0, '2010-02-19'),\n",
       " (3055880021.0, '2006-01-30'),\n",
       " (3056800033.0, '2004-12-17'),\n",
       " (3058790011.0, '2004-08-18'),\n",
       " (3079480048.0, '2013-04-30'),\n",
       " (3080760070.0, '2010-03-02'),\n",
       " (3041220055.0, '2013-08-20'),\n",
       " (3082830052.0, '2004-07-16'),\n",
       " (3062820008.0, '2008-12-30'),\n",
       " (3017890030.0, '2013-07-02'),\n",
       " (3004210016.0, '2016-06-06'),\n",
       " (3066540018.0, '2005-07-27'),\n",
       " (3067170020.0, '2004-10-25'),\n",
       " (3032100040.0, '2005-02-22'),\n",
       " (3043060049.0, '2012-08-22'),\n",
       " (3064400039.0, '2012-03-19'),\n",
       " (3061650006.0, '2011-09-07'),\n",
       " (3036050130.0, '2004-09-27'),\n",
       " (3019800032.0, '2005-05-29'),\n",
       " (3070810072.0, '2004-12-07'),\n",
       " (3063980012.0, '2009-03-25'),\n",
       " (3017720027.0, '2003-05-30'),\n",
       " (3054760018.0, '2011-10-24'),\n",
       " (3056870078.0, '2012-10-24'),\n",
       " (3032890034.0, '2010-03-16'),\n",
       " (3081460008.0, '2014-07-22'),\n",
       " (3069320014.0, '2004-12-10'),\n",
       " (3053250023.0, '2016-02-04'),\n",
       " (3048900016.0, '2007-03-26'),\n",
       " (3051950016.0, '2006-09-14'),\n",
       " (3004590035.0, '2003-06-25'),\n",
       " (3063000059.0, '2009-09-16'),\n",
       " (3037540006.0, '2013-07-25'),\n",
       " (3045940039.0, '2003-08-04'),\n",
       " (3040560129.0, '2016-07-20'),\n",
       " (3034340012.0, '2003-02-11'),\n",
       " (3072910002.0, '2003-11-20'),\n",
       " (3034140067.0, '2013-05-06'),\n",
       " (3055000054.0, '2014-08-14'),\n",
       " (3076110014.0, '2003-01-02'),\n",
       " (3084820013.0, '2005-06-23'),\n",
       " (3060180035.0, '2015-03-10'),\n",
       " (3054910033.0, '2010-07-13'),\n",
       " (3032680009.0, '2016-08-02'),\n",
       " (3071090082.0, '2007-12-13'),\n",
       " (3082100010.0, '2007-11-29'),\n",
       " (3040780006.0, '2005-11-03'),\n",
       " (3068770051.0, '2007-05-15'),\n",
       " (3052910009.0, '2012-10-22'),\n",
       " (3056460053.0, '2005-04-20'),\n",
       " (3075960006.0, '2012-08-06'),\n",
       " (3056100045.0, '2015-03-19'),\n",
       " (3013870071.0, '2004-10-14'),\n",
       " (3014880156.0, '2005-05-26'),\n",
       " (3048770051.0, '2008-04-10'),\n",
       " (3056680008.0, '2016-07-29'),\n",
       " (3053500042.0, '2016-07-25'),\n",
       " (3074410245.0, '2006-07-25'),\n",
       " (3077480039.0, '2004-03-18'),\n",
       " (3080230057.0, '2016-04-14'),\n",
       " (3062140017.0, '2011-12-06'),\n",
       " (3050730019.0, '2010-10-01'),\n",
       " (3016010013.0, '2008-02-29'),\n",
       " (3000277501.0, '2012-01-18'),\n",
       " (3018390037.0, '2011-11-09'),\n",
       " (3059750086.0, '2003-08-13'),\n",
       " (3002140003.0, '2005-08-16'),\n",
       " (3019670029.0, '2014-07-02'),\n",
       " (3059110035.0, '2011-02-22'),\n",
       " (3013720029.0, '2006-02-28'),\n",
       " (3063807501.0, '2010-10-19'),\n",
       " (3078010045.0, '2005-05-18'),\n",
       " (3010060018.0, '2003-07-01'),\n",
       " (3035550037.0, '2008-06-17'),\n",
       " (3083690154.0, '2011-09-07'),\n",
       " (3041410024.0, '2003-01-29'),\n",
       " (3087020002.0, '2013-12-19'),\n",
       " (3013250066.0, '2013-04-23'),\n",
       " (3006840063.0, '2004-06-24'),\n",
       " (3063470025.0, '2005-03-14'),\n",
       " (3087570041.0, '2013-05-22'),\n",
       " (3041110023.0, '2004-08-19'),\n",
       " (3007490051.0, '2006-09-21'),\n",
       " (3032830018.0, '2003-10-24'),\n",
       " (3080230015.0, '2011-08-17'),\n",
       " (3056670032.0, '2009-08-03'),\n",
       " (3003207501.0, '2007-10-09'),\n",
       " (3053300067.0, '2003-02-11'),\n",
       " (3071190004.0, '2003-08-27'),\n",
       " (3082360053.0, '2011-08-22'),\n",
       " (3003510028.0, '2014-01-20'),\n",
       " (3052410056.0, '2014-10-29'),\n",
       " (3083730053.0, '2012-01-24'),\n",
       " (3041810023.0, '2015-06-15'),\n",
       " (3031590032.0, '2008-06-24'),\n",
       " (3007830052.0, '2005-03-02'),\n",
       " (3087440046.0, '2007-12-06'),\n",
       " (3018380074.0, '2008-08-27'),\n",
       " (3051920033.0, '2015-05-15'),\n",
       " (3078820022.0, '2006-04-04'),\n",
       " (3037920013.0, '2016-05-26'),\n",
       " (3052970037.0, '2008-04-18'),\n",
       " (3015420012.0, '2004-02-17'),\n",
       " (3017157502.0, '2015-05-21'),\n",
       " (3005520003.0, '2004-06-04'),\n",
       " (3081830027.0, '2012-08-28'),\n",
       " (3054900039.0, '2008-12-18'),\n",
       " (3026520056.0, '2004-07-30'),\n",
       " (3058410064.0, '2012-04-18'),\n",
       " (3027750018.0, '2005-01-19'),\n",
       " (3052300011.0, '2011-01-05'),\n",
       " (3002700046.0, '2006-09-28'),\n",
       " (3046820007.0, '2009-10-29'),\n",
       " (3067970072.0, '2004-05-20'),\n",
       " (3005980027.0, '2003-11-20'),\n",
       " (3038070010.0, '2011-11-02'),\n",
       " (3067970070.0, '2014-01-06'),\n",
       " (3033140059.0, '2003-12-11'),\n",
       " (3031830025.0, '2012-07-30'),\n",
       " (3002370049.0, '2012-06-08'),\n",
       " (3033620130.0, '2011-11-30'),\n",
       " (3016240070.0, '2005-01-11'),\n",
       " (3070990063.0, '2004-10-20'),\n",
       " (3073300066.0, '2007-08-30'),\n",
       " (3054360043.0, '2006-05-22'),\n",
       " (3083730068.0, '2009-12-24'),\n",
       " (3017090035.0, '2006-12-05'),\n",
       " (3038900402.0, '2010-06-17'),\n",
       " (3040110133.0, '2010-04-07'),\n",
       " (3046050063.0, '2014-06-06'),\n",
       " (3055790021.0, '2013-01-31'),\n",
       " (3056370019.0, '2011-02-09'),\n",
       " (3041050017.0, '2006-04-04'),\n",
       " (3025410056.0, '2005-07-20'),\n",
       " (3019490035.0, '2013-03-22'),\n",
       " (3039280029.0, '2005-08-16'),\n",
       " (3061880024.0, '2011-09-23'),\n",
       " (3068000016.0, '2015-10-15'),\n",
       " (3026530056.0, '2003-05-30'),\n",
       " (3053700089.0, '2006-06-30'),\n",
       " (3059140046.0, '2016-01-25'),\n",
       " (3016560071.0, '2011-07-13'),\n",
       " (3025030027.0, '2013-12-20'),\n",
       " (3061890009.0, '2014-08-05'),\n",
       " (3003490016.0, '2011-12-09'),\n",
       " (3014180069.0, '2013-10-16'),\n",
       " (3046460071.0, '2007-10-15'),\n",
       " (3022000046.0, '2006-07-13'),\n",
       " (3058800013.0, '2005-10-28'),\n",
       " (3063050064.0, '2009-01-15'),\n",
       " (3071190034.0, '2006-01-16'),\n",
       " (3082870012.0, '2009-10-19'),\n",
       " (3018360013.0, '2015-12-03'),\n",
       " (3060440067.0, '2012-05-24'),\n",
       " (3014520055.0, '2006-10-05'),\n",
       " (3039990001.0, '2015-10-27'),\n",
       " (3036380127.0, '2013-09-20'),\n",
       " (3081990052.0, '2013-09-24'),\n",
       " (3059100051.0, '2004-03-01'),\n",
       " (3062590028.0, '2015-12-02'),\n",
       " (3033920062.0, '2015-12-17'),\n",
       " (3060090067.0, '2009-02-10'),\n",
       " (3059680056.0, '2014-03-20'),\n",
       " (3010240068.0, '2004-10-29'),\n",
       " (3034250029.0, '2010-03-01'),\n",
       " (3081610065.0, '2015-04-23'),\n",
       " (3015220069.0, '2007-11-15'),\n",
       " (3041840018.0, '2004-12-17'),\n",
       " (3080370081.0, '2004-01-30'),\n",
       " (3053520076.0, '2007-12-17'),\n",
       " (3014520005.0, '2007-07-03'),\n",
       " (3014150015.0, '2015-11-17'),\n",
       " (3045290041.0, '2006-09-22'),\n",
       " (3065827502.0, '2005-08-04'),\n",
       " (3073360105.0, '2006-12-28'),\n",
       " (3015940066.0, '2012-10-17'),\n",
       " (3055580067.0, '2012-05-09'),\n",
       " (3071580063.0, '2005-05-03'),\n",
       " (3020750001.0, '2015-08-06'),\n",
       " (3073520004.0, '2006-04-10'),\n",
       " (3082980028.0, '2006-08-14'),\n",
       " (3080310063.0, '2012-11-20'),\n",
       " (3083697501.0, '2011-10-10'),\n",
       " (3018270058.0, '2014-05-13'),\n",
       " (3032850076.0, '2008-03-24'),\n",
       " (3033610037.0, '2016-02-29'),\n",
       " (3020610060.0, '2006-09-15'),\n",
       " (3076730026.0, '2013-11-21'),\n",
       " (3082400025.0, '2007-03-13'),\n",
       " (3019590006.0, '2003-12-04'),\n",
       " (3082750009.0, '2015-07-10'),\n",
       " (3032940022.0, '2015-04-30'),\n",
       " (3076630056.0, '2003-07-08'),\n",
       " (3077130022.0, '2015-09-30'),\n",
       " (3082830009.0, '2016-03-31'),\n",
       " (3085200048.0, '2013-06-24'),\n",
       " (3017540057.0, '2012-07-02'),\n",
       " (3045030049.0, '2011-10-28'),\n",
       " (3016380003.0, '2011-05-25'),\n",
       " (3079300111.0, '2012-01-11'),\n",
       " (3082770028.0, '2010-03-25'),\n",
       " (3057980017.0, '2008-02-05'),\n",
       " (3040540009.0, '2012-01-19'),\n",
       " (3055920070.0, '2015-07-27'),\n",
       " (3067160035.0, '2005-10-11'),\n",
       " ...}"
      ]
     },
     "execution_count": 86,
     "metadata": {},
     "output_type": "execute_result"
    }
   ],
   "source": [
    "bk.difference(whole)"
   ]
  },
  {
   "cell_type": "code",
   "execution_count": 87,
   "metadata": {
    "collapsed": false
   },
   "outputs": [
    {
     "data": {
      "text/html": [
       "<div>\n",
       "<table border=\"1\" class=\"dataframe\">\n",
       "  <thead>\n",
       "    <tr style=\"text-align: right;\">\n",
       "      <th></th>\n",
       "      <th>ltdheight</th>\n",
       "      <th>splitzone</th>\n",
       "      <th>easements</th>\n",
       "      <th>comarea</th>\n",
       "      <th>resarea</th>\n",
       "      <th>numbldgs</th>\n",
       "      <th>numfloors</th>\n",
       "      <th>unitsres</th>\n",
       "      <th>unitstotal</th>\n",
       "      <th>lotfront</th>\n",
       "      <th>...</th>\n",
       "      <th>proxcode_2.0</th>\n",
       "      <th>lottype_0.0</th>\n",
       "      <th>lottype_1.0</th>\n",
       "      <th>lottype_2.0</th>\n",
       "      <th>lottype_3.0</th>\n",
       "      <th>lottype_4.0</th>\n",
       "      <th>lottype_5.0</th>\n",
       "      <th>tax_class_at_time_of_sale_1</th>\n",
       "      <th>tax_class_at_time_of_sale_2</th>\n",
       "      <th>tax_class_at_time_of_sale_3</th>\n",
       "    </tr>\n",
       "  </thead>\n",
       "  <tbody>\n",
       "    <tr>\n",
       "      <th>169050</th>\n",
       "      <td>NaN</td>\n",
       "      <td>0.0</td>\n",
       "      <td>0.0</td>\n",
       "      <td>0.0</td>\n",
       "      <td>1760.0</td>\n",
       "      <td>NaN</td>\n",
       "      <td>2.0</td>\n",
       "      <td>NaN</td>\n",
       "      <td>NaN</td>\n",
       "      <td>NaN</td>\n",
       "      <td>...</td>\n",
       "      <td>0</td>\n",
       "      <td>0</td>\n",
       "      <td>0</td>\n",
       "      <td>0</td>\n",
       "      <td>1</td>\n",
       "      <td>0</td>\n",
       "      <td>0</td>\n",
       "      <td>0</td>\n",
       "      <td>1</td>\n",
       "      <td>0</td>\n",
       "    </tr>\n",
       "  </tbody>\n",
       "</table>\n",
       "<p>1 rows × 173 columns</p>\n",
       "</div>"
      ],
      "text/plain": [
       "        ltdheight  splitzone  easements  comarea  resarea  numbldgs  \\\n",
       "169050        NaN        0.0        0.0      0.0   1760.0       NaN   \n",
       "\n",
       "        numfloors  unitsres  unitstotal  lotfront  \\\n",
       "169050        2.0       NaN         NaN       NaN   \n",
       "\n",
       "                   ...               proxcode_2.0  lottype_0.0  lottype_1.0  \\\n",
       "169050             ...                          0            0            0   \n",
       "\n",
       "        lottype_2.0  lottype_3.0  lottype_4.0  lottype_5.0  \\\n",
       "169050            0            1            0            0   \n",
       "\n",
       "        tax_class_at_time_of_sale_1  tax_class_at_time_of_sale_2  \\\n",
       "169050                            0                            1   \n",
       "\n",
       "        tax_class_at_time_of_sale_3  \n",
       "169050                            0  \n",
       "\n",
       "[1 rows x 173 columns]"
      ]
     },
     "execution_count": 87,
     "metadata": {},
     "output_type": "execute_result"
    }
   ],
   "source": [
    "brooklyn.loc[(brooklyn.bbl == 3087310024) & (brooklyn.sale_date == '2013-04-08')]"
   ]
  },
  {
   "cell_type": "code",
   "execution_count": null,
   "metadata": {
    "collapsed": true
   },
   "outputs": [],
   "source": [
    "data_dir = \"data/nyc_pluto_16v1\"\n",
    "initials = {\"manhattan\" : \"MN\", \"brooklyn\" : \"BK\", \"bronx\" : \"BX\",\n",
    "        \"queens\" : \"QN\", \"statenisland\" : \"SI\"}\n",
    "filename = \"{data_dir}/{boro}.csv\".format(data_dir = data_dir,\n",
    "            boro = initials.get('brooklyn'))\n",
    "pluto_raw_brooklyn = pd.read_csv(filename, low_memory = False)"
   ]
  }
 ],
 "metadata": {
  "anaconda-cloud": {},
  "kernelspec": {
   "display_name": "Python 3",
   "language": "python",
   "name": "python3"
  },
  "language_info": {
   "codemirror_mode": {
    "name": "ipython",
    "version": 3
   },
   "file_extension": ".py",
   "mimetype": "text/x-python",
   "name": "python",
   "nbconvert_exporter": "python",
   "pygments_lexer": "ipython3",
   "version": "3.5.2"
  }
 },
 "nbformat": 4,
 "nbformat_minor": 0
}
