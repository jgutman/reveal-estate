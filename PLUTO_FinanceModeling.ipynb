{
 "cells": [
  {
   "cell_type": "code",
   "execution_count": 20,
   "metadata": {
    "collapsed": true
   },
   "outputs": [],
   "source": [
    "import pandas as pd\n",
    "from pyproj import Proj\n",
    "import numpy as np\n",
    "import math\n",
    "import matplotlib.pyplot as plt\n",
    "from sklearn import datasets, linear_model\n",
    "from sklearn import cross_validation\n",
    "from sklearn.metrics import mean_squared_error\n",
    "import seaborn as sns\n",
    "sns.set(color_codes=True)\n",
    "\n",
    "%matplotlib inline"
   ]
  },
  {
   "cell_type": "code",
   "execution_count": 2,
   "metadata": {
    "collapsed": false
   },
   "outputs": [
    {
     "data": {
      "text/html": [
       "<div>\n",
       "<table border=\"1\" class=\"dataframe\">\n",
       "  <thead>\n",
       "    <tr style=\"text-align: right;\">\n",
       "      <th></th>\n",
       "      <th>zipcode</th>\n",
       "      <th>ltdheight</th>\n",
       "      <th>splitzone</th>\n",
       "      <th>easements</th>\n",
       "      <th>comarea</th>\n",
       "      <th>resarea</th>\n",
       "      <th>numbldgs</th>\n",
       "      <th>numfloors</th>\n",
       "      <th>unitsres</th>\n",
       "      <th>unitstotal</th>\n",
       "      <th>...</th>\n",
       "      <th>proxcode_1.0</th>\n",
       "      <th>proxcode_2.0</th>\n",
       "      <th>lottype_0.0</th>\n",
       "      <th>lottype_1.0</th>\n",
       "      <th>lottype_2.0</th>\n",
       "      <th>lottype_3.0</th>\n",
       "      <th>lottype_4.0</th>\n",
       "      <th>lottype_5.0</th>\n",
       "      <th>tax_class_at_time_of_sale_1</th>\n",
       "      <th>tax_class_at_time_of_sale_2</th>\n",
       "    </tr>\n",
       "  </thead>\n",
       "  <tbody>\n",
       "    <tr>\n",
       "      <th>0</th>\n",
       "      <td>10004.0</td>\n",
       "      <td>0.0</td>\n",
       "      <td>0.0</td>\n",
       "      <td>0.0</td>\n",
       "      <td>1888126.0</td>\n",
       "      <td>0.0</td>\n",
       "      <td>1.0</td>\n",
       "      <td>50.0</td>\n",
       "      <td>0.0</td>\n",
       "      <td>52.0</td>\n",
       "      <td>...</td>\n",
       "      <td>0.0</td>\n",
       "      <td>0.0</td>\n",
       "      <td>1.0</td>\n",
       "      <td>0.0</td>\n",
       "      <td>0.0</td>\n",
       "      <td>0.0</td>\n",
       "      <td>0.0</td>\n",
       "      <td>0.0</td>\n",
       "      <td>0.0</td>\n",
       "      <td>0.0</td>\n",
       "    </tr>\n",
       "    <tr>\n",
       "      <th>1</th>\n",
       "      <td>10004.0</td>\n",
       "      <td>0.0</td>\n",
       "      <td>0.0</td>\n",
       "      <td>0.0</td>\n",
       "      <td>1888126.0</td>\n",
       "      <td>0.0</td>\n",
       "      <td>1.0</td>\n",
       "      <td>50.0</td>\n",
       "      <td>0.0</td>\n",
       "      <td>52.0</td>\n",
       "      <td>...</td>\n",
       "      <td>0.0</td>\n",
       "      <td>0.0</td>\n",
       "      <td>1.0</td>\n",
       "      <td>0.0</td>\n",
       "      <td>0.0</td>\n",
       "      <td>0.0</td>\n",
       "      <td>0.0</td>\n",
       "      <td>0.0</td>\n",
       "      <td>0.0</td>\n",
       "      <td>0.0</td>\n",
       "    </tr>\n",
       "    <tr>\n",
       "      <th>2</th>\n",
       "      <td>10004.0</td>\n",
       "      <td>0.0</td>\n",
       "      <td>0.0</td>\n",
       "      <td>0.0</td>\n",
       "      <td>1888126.0</td>\n",
       "      <td>0.0</td>\n",
       "      <td>1.0</td>\n",
       "      <td>50.0</td>\n",
       "      <td>0.0</td>\n",
       "      <td>52.0</td>\n",
       "      <td>...</td>\n",
       "      <td>0.0</td>\n",
       "      <td>0.0</td>\n",
       "      <td>1.0</td>\n",
       "      <td>0.0</td>\n",
       "      <td>0.0</td>\n",
       "      <td>0.0</td>\n",
       "      <td>0.0</td>\n",
       "      <td>0.0</td>\n",
       "      <td>0.0</td>\n",
       "      <td>0.0</td>\n",
       "    </tr>\n",
       "    <tr>\n",
       "      <th>3</th>\n",
       "      <td>10004.0</td>\n",
       "      <td>0.0</td>\n",
       "      <td>0.0</td>\n",
       "      <td>0.0</td>\n",
       "      <td>1888126.0</td>\n",
       "      <td>0.0</td>\n",
       "      <td>1.0</td>\n",
       "      <td>50.0</td>\n",
       "      <td>0.0</td>\n",
       "      <td>52.0</td>\n",
       "      <td>...</td>\n",
       "      <td>0.0</td>\n",
       "      <td>0.0</td>\n",
       "      <td>1.0</td>\n",
       "      <td>0.0</td>\n",
       "      <td>0.0</td>\n",
       "      <td>0.0</td>\n",
       "      <td>0.0</td>\n",
       "      <td>0.0</td>\n",
       "      <td>0.0</td>\n",
       "      <td>0.0</td>\n",
       "    </tr>\n",
       "    <tr>\n",
       "      <th>4</th>\n",
       "      <td>10004.0</td>\n",
       "      <td>0.0</td>\n",
       "      <td>0.0</td>\n",
       "      <td>0.0</td>\n",
       "      <td>1888126.0</td>\n",
       "      <td>0.0</td>\n",
       "      <td>1.0</td>\n",
       "      <td>50.0</td>\n",
       "      <td>0.0</td>\n",
       "      <td>52.0</td>\n",
       "      <td>...</td>\n",
       "      <td>0.0</td>\n",
       "      <td>0.0</td>\n",
       "      <td>1.0</td>\n",
       "      <td>0.0</td>\n",
       "      <td>0.0</td>\n",
       "      <td>0.0</td>\n",
       "      <td>0.0</td>\n",
       "      <td>0.0</td>\n",
       "      <td>0.0</td>\n",
       "      <td>0.0</td>\n",
       "    </tr>\n",
       "  </tbody>\n",
       "</table>\n",
       "<p>5 rows × 137 columns</p>\n",
       "</div>"
      ],
      "text/plain": [
       "   zipcode  ltdheight  splitzone  easements    comarea  resarea  numbldgs  \\\n",
       "0  10004.0        0.0        0.0        0.0  1888126.0      0.0       1.0   \n",
       "1  10004.0        0.0        0.0        0.0  1888126.0      0.0       1.0   \n",
       "2  10004.0        0.0        0.0        0.0  1888126.0      0.0       1.0   \n",
       "3  10004.0        0.0        0.0        0.0  1888126.0      0.0       1.0   \n",
       "4  10004.0        0.0        0.0        0.0  1888126.0      0.0       1.0   \n",
       "\n",
       "   numfloors  unitsres  unitstotal             ...               proxcode_1.0  \\\n",
       "0       50.0       0.0        52.0             ...                        0.0   \n",
       "1       50.0       0.0        52.0             ...                        0.0   \n",
       "2       50.0       0.0        52.0             ...                        0.0   \n",
       "3       50.0       0.0        52.0             ...                        0.0   \n",
       "4       50.0       0.0        52.0             ...                        0.0   \n",
       "\n",
       "   proxcode_2.0  lottype_0.0  lottype_1.0  lottype_2.0  lottype_3.0  \\\n",
       "0           0.0          1.0          0.0          0.0          0.0   \n",
       "1           0.0          1.0          0.0          0.0          0.0   \n",
       "2           0.0          1.0          0.0          0.0          0.0   \n",
       "3           0.0          1.0          0.0          0.0          0.0   \n",
       "4           0.0          1.0          0.0          0.0          0.0   \n",
       "\n",
       "   lottype_4.0  lottype_5.0  tax_class_at_time_of_sale_1  \\\n",
       "0          0.0          0.0                          0.0   \n",
       "1          0.0          0.0                          0.0   \n",
       "2          0.0          0.0                          0.0   \n",
       "3          0.0          0.0                          0.0   \n",
       "4          0.0          0.0                          0.0   \n",
       "\n",
       "   tax_class_at_time_of_sale_2  \n",
       "0                          0.0  \n",
       "1                          0.0  \n",
       "2                          0.0  \n",
       "3                          0.0  \n",
       "4                          0.0  \n",
       "\n",
       "[5 rows x 137 columns]"
      ]
     },
     "execution_count": 2,
     "metadata": {},
     "output_type": "execute_result"
    }
   ],
   "source": [
    "data_path = \"data/merged/manhattan_brooklyn_2003_2016.csv\"\n",
    "df = pd.read_csv(data_path, low_memory = True, error_bad_lines=False)\n",
    "df.head()"
   ]
  },
  {
   "cell_type": "code",
   "execution_count": 3,
   "metadata": {
    "collapsed": false
   },
   "outputs": [
    {
     "data": {
      "text/plain": [
       "(1682560, 137)"
      ]
     },
     "execution_count": 3,
     "metadata": {},
     "output_type": "execute_result"
    }
   ],
   "source": [
    "df.shape"
   ]
  },
  {
   "cell_type": "code",
   "execution_count": 4,
   "metadata": {
    "collapsed": false
   },
   "outputs": [
    {
     "data": {
      "text/plain": [
       "array(['zipcode', 'ltdheight', 'splitzone', 'easements', 'comarea',\n",
       "       'resarea', 'numbldgs', 'numfloors', 'unitsres', 'unitstotal',\n",
       "       'lotfront', 'lotdepth', 'bldgfront', 'bldgdepth', 'irrlotcode',\n",
       "       'bsmtcode', 'yearbuilt', 'builtcode', 'histdist', 'landmark',\n",
       "       'condono', 'xcoord', 'ycoord', 'zonemap', 'latitude', 'longitude',\n",
       "       'gross_sqft_pluto', 'garage', 'extension', 'countalter',\n",
       "       'sale_price', 'sale_date', 'year_built', 'residential_units',\n",
       "       'commercial_units', 'total_units', 'price_per_sqft',\n",
       "       'schooldist_mv', 'council_mv', 'zipcode_mv', 'ownertype_mv',\n",
       "       'numbldgs_mv', 'unitsres_mv', 'unitstotal_mv', 'lotfront_mv',\n",
       "       'lotdepth_mv', 'bldgfront_mv', 'bldgdepth_mv', 'proxcode_mv',\n",
       "       'yearbuilt_mv', 'xcoord_mv', 'ycoord_mv', 'zonemap_mv',\n",
       "       'latitude_mv', 'longitude_mv', 'borough_BK', 'schooldist_1.0',\n",
       "       'schooldist_2.0', 'schooldist_3.0', 'schooldist_4.0',\n",
       "       'schooldist_5.0', 'schooldist_6.0', 'schooldist_10.0',\n",
       "       'schooldist_13.0', 'schooldist_14.0', 'schooldist_15.0',\n",
       "       'schooldist_16.0', 'schooldist_17.0', 'schooldist_18.0',\n",
       "       'schooldist_19.0', 'schooldist_20.0', 'schooldist_21.0',\n",
       "       'schooldist_22.0', 'schooldist_23.0', 'council_1.0', 'council_2.0',\n",
       "       'council_3.0', 'council_4.0', 'council_5.0', 'council_6.0',\n",
       "       'council_7.0', 'council_8.0', 'council_9.0', 'council_10.0',\n",
       "       'council_33.0', 'council_34.0', 'council_35.0', 'council_36.0',\n",
       "       'council_37.0', 'council_38.0', 'council_39.0', 'council_40.0',\n",
       "       'council_41.0', 'council_42.0', 'council_43.0', 'council_44.0',\n",
       "       'council_45.0', 'council_46.0', 'council_47.0', 'bldgclass_R1',\n",
       "       'bldgclass_R2', 'bldgclass_R3', 'bldgclass_R4', 'bldgclass_R5',\n",
       "       'bldgclass_R6', 'bldgclass_R9', 'bldgclass_RA', 'bldgclass_RB',\n",
       "       'bldgclass_RC', 'bldgclass_RD', 'bldgclass_RG', 'bldgclass_RH',\n",
       "       'bldgclass_RI', 'bldgclass_RK', 'bldgclass_RM', 'bldgclass_RR',\n",
       "       'bldgclass_RW', 'bldgclass_RX', 'landuse_2.0', 'landuse_3.0',\n",
       "       'landuse_4.0', 'landuse_5.0', 'landuse_6.0', 'landuse_8.0',\n",
       "       'ownertype_C', 'ownertype_O', 'ownertype_P', 'proxcode_1.0',\n",
       "       'proxcode_2.0', 'lottype_0.0', 'lottype_1.0', 'lottype_2.0',\n",
       "       'lottype_3.0', 'lottype_4.0', 'lottype_5.0',\n",
       "       'tax_class_at_time_of_sale_1', 'tax_class_at_time_of_sale_2'], dtype=object)"
      ]
     },
     "execution_count": 4,
     "metadata": {},
     "output_type": "execute_result"
    }
   ],
   "source": [
    "df.columns.values"
   ]
  },
  {
   "cell_type": "code",
   "execution_count": 16,
   "metadata": {
    "collapsed": false
   },
   "outputs": [
    {
     "data": {
      "text/plain": [
       "zipcode                            484\n",
       "ltdheight                            0\n",
       "splitzone                            0\n",
       "easements                            0\n",
       "comarea                              0\n",
       "resarea                              0\n",
       "numbldgs                         45424\n",
       "numfloors                            0\n",
       "unitsres                        754808\n",
       "unitstotal                      898264\n",
       "lotfront                       1003012\n",
       "lotdepth                        354380\n",
       "bldgfront                       532432\n",
       "bldgdepth                       153408\n",
       "irrlotcode                           0\n",
       "bsmtcode                             0\n",
       "yearbuilt                          132\n",
       "builtcode                            0\n",
       "histdist                             0\n",
       "landmark                             0\n",
       "condono                              0\n",
       "xcoord                            9832\n",
       "ycoord                            9832\n",
       "zonemap                             84\n",
       "latitude                          9832\n",
       "longitude                         9832\n",
       "gross_sqft_pluto                     0\n",
       "garage                               0\n",
       "extension                            0\n",
       "countalter                           0\n",
       "                                ...   \n",
       "bldgclass_RB                         0\n",
       "bldgclass_RC                         0\n",
       "bldgclass_RD                         0\n",
       "bldgclass_RG                         0\n",
       "bldgclass_RH                         0\n",
       "bldgclass_RI                         0\n",
       "bldgclass_RK                         0\n",
       "bldgclass_RM                         0\n",
       "bldgclass_RR                         0\n",
       "bldgclass_RW                         0\n",
       "bldgclass_RX                         0\n",
       "landuse_2.0                          0\n",
       "landuse_3.0                          0\n",
       "landuse_4.0                          0\n",
       "landuse_5.0                          0\n",
       "landuse_6.0                          0\n",
       "landuse_8.0                          0\n",
       "ownertype_C                          0\n",
       "ownertype_O                          0\n",
       "ownertype_P                          0\n",
       "proxcode_1.0                         0\n",
       "proxcode_2.0                         0\n",
       "lottype_0.0                          0\n",
       "lottype_1.0                          0\n",
       "lottype_2.0                          0\n",
       "lottype_3.0                          0\n",
       "lottype_4.0                          0\n",
       "lottype_5.0                          0\n",
       "tax_class_at_time_of_sale_1          0\n",
       "tax_class_at_time_of_sale_2          0\n",
       "dtype: int64"
      ]
     },
     "execution_count": 16,
     "metadata": {},
     "output_type": "execute_result"
    }
   ],
   "source": [
    "df.isnull().sum()"
   ]
  },
  {
   "cell_type": "code",
   "execution_count": 9,
   "metadata": {
    "collapsed": false
   },
   "outputs": [
    {
     "data": {
      "text/plain": [
       "array(['12b', '12a', '12d', '12c', '8b', '8d', '8c', '5d', '9b', '9a',\n",
       "       '6b', '6a', '5c', '3b', '3a', '1b', '16c', '16a', '16d', '16b',\n",
       "       '22a', '22c', '17a', '17b', '17c', '13b', '13a', '13d', '17d',\n",
       "       '18b', '23a', '22d', nan, '22b', '28c', '28a', '23b', '28b', '28d',\n",
       "       '29a', '23c', '23d', '29b'], dtype=object)"
      ]
     },
     "execution_count": 9,
     "metadata": {},
     "output_type": "execute_result"
    }
   ],
   "source": [
    "df['zonemap'].unique()"
   ]
  },
  {
   "cell_type": "code",
   "execution_count": 13,
   "metadata": {
    "collapsed": false
   },
   "outputs": [],
   "source": [
    "def drop_cols(data, cols):\n",
    "    return data.drop(cols, axis = 1)"
   ]
  },
  {
   "cell_type": "code",
   "execution_count": 18,
   "metadata": {
    "collapsed": false
   },
   "outputs": [],
   "source": [
    "#df = drop_cols(df, ['zonemap'])\n",
    "df = drop_cols(df, ['sale_date'])"
   ]
  },
  {
   "cell_type": "code",
   "execution_count": 22,
   "metadata": {
    "collapsed": true
   },
   "outputs": [],
   "source": [
    "def split_data(data):\n",
    "    '''\n",
    "    Splits data into training and test sets (0.8/0.2)\n",
    "        Args: \n",
    "            data: Pandas dataframe\n",
    "        Returns:\n",
    "            data_train: Pandas dataframe used for training\n",
    "            data_test: Pandas dataframe used for testing\n",
    "    \n",
    "    '''\n",
    "    #Convert 'int64' into float; otherwise, sklearn throws a warning message\n",
    "    columns = data.columns.values\n",
    "    non_float = []\n",
    "    for col in columns:\n",
    "        if data[col].dtype != np.float64:\n",
    "            non_float.append(col)\n",
    "        for col in non_float:\n",
    "            data[col] = data[col].astype(float)\n",
    "    #drop NaN for crucial columns\n",
    "    data= data.dropna(how = 'any', subset = ['latitude','longitude','price_per_sqft'])   \n",
    "    #Split the data\n",
    "    split = cross_validation.ShuffleSplit(data.shape[0], n_iter=1, train_size = 0.7, test_size=.3, random_state = 1)\n",
    "\n",
    "    for train, test in split:\n",
    "        train_index = train\n",
    "        test_index = test\n",
    "    data_train = data.ix[train_index,:]\n",
    "    data_test = data.ix[test_index,:]\n",
    "    data_train.reset_index(drop=True, inplace=True)\n",
    "    data_test.reset_index(drop=True, inplace=True)\n",
    "    return data_train, data_test"
   ]
  },
  {
   "cell_type": "code",
   "execution_count": 21,
   "metadata": {
    "collapsed": false
   },
   "outputs": [],
   "source": [
    "data_train, data_test = split_data(df)"
   ]
  },
  {
   "cell_type": "code",
   "execution_count": 23,
   "metadata": {
    "collapsed": false
   },
   "outputs": [],
   "source": [
    "def fill_na(data_train, data_test):\n",
    "    '''\n",
    "    Fills NaN values with the mean of the column. Note we have already created dummy variables\n",
    "    for columns with missing values.\n",
    "    \n",
    "    Args:\n",
    "        data_train: Pandas dataframe used for training.\n",
    "        data_test: Pandas dataframe used for testing.\n",
    "    Returns:\n",
    "        data_train: Pandas dataframe with no NaN values, ready for modeling.\n",
    "        data_test: Pandas dataframe with no NaN values, ready for testing.\n",
    "    \n",
    "    '''\n",
    "    data_train = data_train.apply(lambda x: x.fillna(x.mean()),axis=0)\n",
    "    data_test = data_test.apply(lambda x: x.fillna(x.mean()),axis=0)\n",
    "    return data_train, data_test"
   ]
  },
  {
   "cell_type": "code",
   "execution_count": 24,
   "metadata": {
    "collapsed": true
   },
   "outputs": [],
   "source": [
    "data_train, data_test = fill_na(data_train, data_test)"
   ]
  },
  {
   "cell_type": "code",
   "execution_count": 26,
   "metadata": {
    "collapsed": false
   },
   "outputs": [
    {
     "name": "stdout",
     "output_type": "stream",
     "text": [
      "(1170909, 135) (501819, 135)\n"
     ]
    }
   ],
   "source": [
    "print(data_train.shape, data_test.shape)\n"
   ]
  },
  {
   "cell_type": "code",
   "execution_count": 28,
   "metadata": {
    "collapsed": false
   },
   "outputs": [
    {
     "data": {
      "text/plain": [
       "zipcode                        0\n",
       "ltdheight                      0\n",
       "splitzone                      0\n",
       "easements                      0\n",
       "comarea                        0\n",
       "resarea                        0\n",
       "numbldgs                       0\n",
       "numfloors                      0\n",
       "unitsres                       0\n",
       "unitstotal                     0\n",
       "lotfront                       0\n",
       "lotdepth                       0\n",
       "bldgfront                      0\n",
       "bldgdepth                      0\n",
       "irrlotcode                     0\n",
       "bsmtcode                       0\n",
       "yearbuilt                      0\n",
       "builtcode                      0\n",
       "histdist                       0\n",
       "landmark                       0\n",
       "condono                        0\n",
       "xcoord                         0\n",
       "ycoord                         0\n",
       "latitude                       0\n",
       "longitude                      0\n",
       "gross_sqft_pluto               0\n",
       "garage                         0\n",
       "extension                      0\n",
       "countalter                     0\n",
       "sale_price                     0\n",
       "                              ..\n",
       "bldgclass_RB                   0\n",
       "bldgclass_RC                   0\n",
       "bldgclass_RD                   0\n",
       "bldgclass_RG                   0\n",
       "bldgclass_RH                   0\n",
       "bldgclass_RI                   0\n",
       "bldgclass_RK                   0\n",
       "bldgclass_RM                   0\n",
       "bldgclass_RR                   0\n",
       "bldgclass_RW                   0\n",
       "bldgclass_RX                   0\n",
       "landuse_2.0                    0\n",
       "landuse_3.0                    0\n",
       "landuse_4.0                    0\n",
       "landuse_5.0                    0\n",
       "landuse_6.0                    0\n",
       "landuse_8.0                    0\n",
       "ownertype_C                    0\n",
       "ownertype_O                    0\n",
       "ownertype_P                    0\n",
       "proxcode_1.0                   0\n",
       "proxcode_2.0                   0\n",
       "lottype_0.0                    0\n",
       "lottype_1.0                    0\n",
       "lottype_2.0                    0\n",
       "lottype_3.0                    0\n",
       "lottype_4.0                    0\n",
       "lottype_5.0                    0\n",
       "tax_class_at_time_of_sale_1    0\n",
       "tax_class_at_time_of_sale_2    0\n",
       "dtype: int64"
      ]
     },
     "execution_count": 28,
     "metadata": {},
     "output_type": "execute_result"
    }
   ],
   "source": [
    "data_test.isnull().sum()"
   ]
  },
  {
   "cell_type": "code",
   "execution_count": 29,
   "metadata": {
    "collapsed": false
   },
   "outputs": [
    {
     "data": {
      "text/plain": [
       "array(['zipcode', 'ltdheight', 'splitzone', 'easements', 'comarea',\n",
       "       'resarea', 'numbldgs', 'numfloors', 'unitsres', 'unitstotal',\n",
       "       'lotfront', 'lotdepth', 'bldgfront', 'bldgdepth', 'irrlotcode',\n",
       "       'bsmtcode', 'yearbuilt', 'builtcode', 'histdist', 'landmark',\n",
       "       'condono', 'xcoord', 'ycoord', 'latitude', 'longitude',\n",
       "       'gross_sqft_pluto', 'garage', 'extension', 'countalter',\n",
       "       'sale_price', 'year_built', 'residential_units', 'commercial_units',\n",
       "       'total_units', 'schooldist_mv', 'council_mv', 'zipcode_mv',\n",
       "       'ownertype_mv', 'numbldgs_mv', 'unitsres_mv', 'unitstotal_mv',\n",
       "       'lotfront_mv', 'lotdepth_mv', 'bldgfront_mv', 'bldgdepth_mv',\n",
       "       'proxcode_mv', 'yearbuilt_mv', 'xcoord_mv', 'ycoord_mv',\n",
       "       'zonemap_mv', 'latitude_mv', 'longitude_mv', 'borough_BK',\n",
       "       'schooldist_1.0', 'schooldist_2.0', 'schooldist_3.0',\n",
       "       'schooldist_4.0', 'schooldist_5.0', 'schooldist_6.0',\n",
       "       'schooldist_10.0', 'schooldist_13.0', 'schooldist_14.0',\n",
       "       'schooldist_15.0', 'schooldist_16.0', 'schooldist_17.0',\n",
       "       'schooldist_18.0', 'schooldist_19.0', 'schooldist_20.0',\n",
       "       'schooldist_21.0', 'schooldist_22.0', 'schooldist_23.0',\n",
       "       'council_1.0', 'council_2.0', 'council_3.0', 'council_4.0',\n",
       "       'council_5.0', 'council_6.0', 'council_7.0', 'council_8.0',\n",
       "       'council_9.0', 'council_10.0', 'council_33.0', 'council_34.0',\n",
       "       'council_35.0', 'council_36.0', 'council_37.0', 'council_38.0',\n",
       "       'council_39.0', 'council_40.0', 'council_41.0', 'council_42.0',\n",
       "       'council_43.0', 'council_44.0', 'council_45.0', 'council_46.0',\n",
       "       'council_47.0', 'bldgclass_R1', 'bldgclass_R2', 'bldgclass_R3',\n",
       "       'bldgclass_R4', 'bldgclass_R5', 'bldgclass_R6', 'bldgclass_R9',\n",
       "       'bldgclass_RA', 'bldgclass_RB', 'bldgclass_RC', 'bldgclass_RD',\n",
       "       'bldgclass_RG', 'bldgclass_RH', 'bldgclass_RI', 'bldgclass_RK',\n",
       "       'bldgclass_RM', 'bldgclass_RR', 'bldgclass_RW', 'bldgclass_RX',\n",
       "       'landuse_2.0', 'landuse_3.0', 'landuse_4.0', 'landuse_5.0',\n",
       "       'landuse_6.0', 'landuse_8.0', 'ownertype_C', 'ownertype_O',\n",
       "       'ownertype_P', 'proxcode_1.0', 'proxcode_2.0', 'lottype_0.0',\n",
       "       'lottype_1.0', 'lottype_2.0', 'lottype_3.0', 'lottype_4.0',\n",
       "       'lottype_5.0', 'tax_class_at_time_of_sale_1',\n",
       "       'tax_class_at_time_of_sale_2', 'price_per_sqft'], dtype=object)"
      ]
     },
     "execution_count": 29,
     "metadata": {},
     "output_type": "execute_result"
    }
   ],
   "source": [
    "cols = list(data_train.columns.values) #Make a list of all of the columns in the df\n",
    "cols.pop(cols.index('price_per_sqft')) #Remove b from list\n",
    "data_train = data_train[cols+['price_per_sqft']]\n",
    "data_test = data_test[cols+['price_per_sqft']]\n",
    "data_train.columns.values"
   ]
  },
  {
   "cell_type": "code",
   "execution_count": 35,
   "metadata": {
    "collapsed": false
   },
   "outputs": [
    {
     "name": "stdout",
     "output_type": "stream",
     "text": [
      "Mean_squared_error 4449.71277035\n"
     ]
    }
   ],
   "source": [
    "X_train = data_train.ix[:,:-1]\n",
    "y_train = data_train.ix[:,-1]\n",
    "X_test = data_test.ix[:,:-1]\n",
    "y_test = data_test.ix[:,-1]\n",
    "regr = linear_model.LinearRegression()\n",
    "regr.fit(X_train, y_train)\n",
    "mse = mean_squared_error(y_test, regr.predict(X_test))\n",
    "print('Mean_squared_error', mse)"
   ]
  },
  {
   "cell_type": "code",
   "execution_count": null,
   "metadata": {
    "collapsed": false
   },
   "outputs": [],
   "source": [
    "from sklearn.ensemble import RandomForestRegressor\n",
    "\n",
    "RF_reg_final = RandomForestRegressor(n_estimators=100, n_jobs = -1)\n",
    "RF_reg_final.fit(X_train, y_train)\n",
    "print(mean_squared_error(y_test, RF_reg_final.predict(X_test)))"
   ]
  },
  {
   "cell_type": "code",
   "execution_count": 36,
   "metadata": {
    "collapsed": false
   },
   "outputs": [
    {
     "data": {
      "text/plain": [
       "0          11.970041\n",
       "1           1.681872\n",
       "2           4.141328\n",
       "3           4.192075\n",
       "4          19.074175\n",
       "5          28.484198\n",
       "6          14.076897\n",
       "7           1.914818\n",
       "8           1.960947\n",
       "9           1.302211\n",
       "10          4.734991\n",
       "11          0.000000\n",
       "12          0.000000\n",
       "13          3.629585\n",
       "14          6.021634\n",
       "15        119.642570\n",
       "16          0.000000\n",
       "17          0.878712\n",
       "18          0.000000\n",
       "19          3.796204\n",
       "20         10.974093\n",
       "21          1.270154\n",
       "22          1.937691\n",
       "23         13.008655\n",
       "24          0.000000\n",
       "25          0.000000\n",
       "26          4.136718\n",
       "27          0.000000\n",
       "28          3.070437\n",
       "29          0.000000\n",
       "             ...    \n",
       "501789      0.083408\n",
       "501790      4.929431\n",
       "501791     68.822373\n",
       "501792      0.000000\n",
       "501793     12.813184\n",
       "501794      0.000573\n",
       "501795     17.734468\n",
       "501796      0.000573\n",
       "501797      7.218324\n",
       "501798      1.853343\n",
       "501799      0.000000\n",
       "501800     16.702609\n",
       "501801      3.190973\n",
       "501802      5.057638\n",
       "501803      0.103581\n",
       "501804      0.000000\n",
       "501805      0.927945\n",
       "501806      4.640610\n",
       "501807      0.000000\n",
       "501808     22.241993\n",
       "501809      1.744357\n",
       "501810     18.771428\n",
       "501811     12.388616\n",
       "501812      6.848286\n",
       "501813      0.588130\n",
       "501814      2.599693\n",
       "501815     10.380623\n",
       "501816      9.203406\n",
       "501817      0.000000\n",
       "501818      0.000000\n",
       "Name: price_per_sqft, dtype: float64"
      ]
     },
     "execution_count": 36,
     "metadata": {},
     "output_type": "execute_result"
    }
   ],
   "source": [
    "feature_importance =  reg_final.feature_importances_\n",
    "indices = np.argsort(feature_importance)[::-1][:27]\n",
    "\n",
    "feature_dct = {}\n",
    "# Print the feature ranking\n",
    "print(\"Feature ranking:\")\n",
    "\n",
    "for f in range(27):\n",
    "    feature_dct[data_test.ix[:,1:].columns.values[indices][f]] = feature_importance[indices[f]]\n",
    "feature_dct"
   ]
  },
  {
   "cell_type": "code",
   "execution_count": null,
   "metadata": {
    "collapsed": true
   },
   "outputs": [],
   "source": []
  }
 ],
 "metadata": {
  "kernelspec": {
   "display_name": "Python [Root]",
   "language": "python",
   "name": "Python [Root]"
  },
  "language_info": {
   "codemirror_mode": {
    "name": "ipython",
    "version": 3
   },
   "file_extension": ".py",
   "mimetype": "text/x-python",
   "name": "python",
   "nbconvert_exporter": "python",
   "pygments_lexer": "ipython3",
   "version": "3.5.2"
  }
 },
 "nbformat": 4,
 "nbformat_minor": 0
}
