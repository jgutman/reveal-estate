{
 "cells": [
  {
   "cell_type": "code",
   "execution_count": 1,
   "metadata": {
    "collapsed": false
   },
   "outputs": [
    {
     "name": "stdout",
     "output_type": "stream",
     "text": [
      "3.5.2 |Anaconda 4.2.0 (x86_64)| (default, Jul  2 2016, 17:52:12) \n",
      "[GCC 4.2.1 Compatible Apple LLVM 4.2 (clang-425.0.28)]\n"
     ]
    }
   ],
   "source": [
    "import sys\n",
    "print(sys.version)"
   ]
  },
  {
   "cell_type": "code",
   "execution_count": 2,
   "metadata": {
    "collapsed": true
   },
   "outputs": [],
   "source": [
    "from importlib import reload"
   ]
  },
  {
   "cell_type": "code",
   "execution_count": 3,
   "metadata": {
    "collapsed": true
   },
   "outputs": [],
   "source": [
    "import numpy as np"
   ]
  },
  {
   "cell_type": "code",
   "execution_count": 4,
   "metadata": {
    "collapsed": true
   },
   "outputs": [],
   "source": [
    "import regression_loop as rl"
   ]
  },
  {
   "cell_type": "code",
   "execution_count": 5,
   "metadata": {
    "collapsed": true
   },
   "outputs": [],
   "source": [
    "data_path = \"data/merged/queens_2003_2016.csv\""
   ]
  },
  {
   "cell_type": "code",
   "execution_count": 6,
   "metadata": {
    "collapsed": true
   },
   "outputs": [],
   "source": [
    "model_type = ['rf']"
   ]
  },
  {
   "cell_type": "code",
   "execution_count": 7,
   "metadata": {
    "collapsed": true
   },
   "outputs": [],
   "source": [
    "import final_modeling as fm\n",
    "import final_data_clean as dc\n",
    "import predict_price_increase as ppi\n",
    "from custom_scorers import build_tuple_scorer, parse_criterion_string"
   ]
  },
  {
   "cell_type": "code",
   "execution_count": 8,
   "metadata": {
    "collapsed": false
   },
   "outputs": [
    {
     "name": "stdout",
     "output_type": "stream",
     "text": [
      "Reading in data from data/merged/queens_2003_2016.csv\n",
      "Creating target variable\n",
      "Splitting data into training and test sets\n",
      "Train: (132168, 157), Test: (33043, 157)\n",
      "Train y: (132168,), Test y: (33043,)\n",
      "Imputing missing values\n",
      "Normalizing data\n"
     ]
    }
   ],
   "source": [
    "print(\"Reading in data from %s\" % data_path)\n",
    "data = fm.get_data_for_model(data_path)\n",
    "\n",
    "print(\"Creating target variable\")\n",
    "X, y = fm.create_target_var(data, 'price_per_sqft')\n",
    "\n",
    "print(\"Splitting data into training and test sets\")\n",
    "X_train, X_test, y_train, y_test = dc.split_data(X, y)\n",
    "print(\"Train: %s, Test: %s\" % (X_train.shape, X_test.shape))\n",
    "print(\"Train y: %s, Test y: %s\" % (y_train.shape, y_test.shape))\n",
    "\n",
    "print(\"Imputing missing values\")\n",
    "X_train, X_test = dc.fill_na(X_train, X_test)\n",
    "\n",
    "print(\"Normalizing data\")\n",
    "X_train, X_test = dc.normalize(X_train, X_test)"
   ]
  },
  {
   "cell_type": "code",
   "execution_count": 9,
   "metadata": {
    "collapsed": true
   },
   "outputs": [],
   "source": [
    "mods, params = rl.define_model_params()"
   ]
  },
  {
   "cell_type": "code",
   "execution_count": 12,
   "metadata": {
    "collapsed": false
   },
   "outputs": [
    {
     "name": "stdout",
     "output_type": "stream",
     "text": [
      "Best estimator found by grid search:\n",
      "RandomForestRegressor(bootstrap='True', criterion='mse', max_depth=10,\n",
      "           max_features=0.4, max_leaf_nodes=None, min_impurity_split=1e-07,\n",
      "           min_samples_leaf=1, min_samples_split=3,\n",
      "           min_weight_fraction_leaf=0.0, n_estimators=50, n_jobs=1,\n",
      "           oob_score=False, random_state=None, verbose=0, warm_start=False)\n",
      "Best parameters set found on development set:\n",
      "{'max_features': 0.4, 'bootstrap': 'True', 'max_depth': 10, 'min_samples_split': 3, 'min_samples_leaf': 1}\n",
      "Cross validation score on development set:\n",
      "54.6762308857\n",
      "Test set score using best hyperparameters:\n",
      "[ 54.78024065  75.37638468   0.1432376    0.28226856]\n",
      "rf: 1.5e+02 seconds elapsed\n",
      "model comparison loop: 1.5e+02 seconds elapsed\n",
      "Models fitted: dict_keys(['rf'])\n"
     ]
    }
   ],
   "source": [
    "model_results = rl.model_loop(model_type, mods, params,\n",
    "        X_train, X_test, y_train, y_test, max_per_grid = 1)"
   ]
  },
  {
   "cell_type": "code",
   "execution_count": null,
   "metadata": {
    "collapsed": true
   },
   "outputs": [],
   "source": [
    "model = model_results['rf']['model']"
   ]
  },
  {
   "cell_type": "code",
   "execution_count": null,
   "metadata": {
    "collapsed": false
   },
   "outputs": [],
   "source": [
    "model_results['rf']['test_score']"
   ]
  },
  {
   "cell_type": "code",
   "execution_count": 11,
   "metadata": {
    "collapsed": false
   },
   "outputs": [
    {
     "data": {
      "text/plain": [
       "<module 'regression_loop' from '/Users/gutmaj03/reveal-estate/regression_loop.py'>"
      ]
     },
     "execution_count": 11,
     "metadata": {},
     "output_type": "execute_result"
    }
   ],
   "source": [
    "reload(rl)"
   ]
  },
  {
   "cell_type": "code",
   "execution_count": null,
   "metadata": {
    "collapsed": true
   },
   "outputs": [],
   "source": []
  }
 ],
 "metadata": {
  "anaconda-cloud": {},
  "kernelspec": {
   "display_name": "Python [conda root]",
   "language": "python",
   "name": "conda-root-py"
  },
  "language_info": {
   "codemirror_mode": {
    "name": "ipython",
    "version": 3
   },
   "file_extension": ".py",
   "mimetype": "text/x-python",
   "name": "python",
   "nbconvert_exporter": "python",
   "pygments_lexer": "ipython3",
   "version": "3.5.2"
  }
 },
 "nbformat": 4,
 "nbformat_minor": 1
}
