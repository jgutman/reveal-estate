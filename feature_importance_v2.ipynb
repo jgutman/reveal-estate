{
 "cells": [
  {
   "cell_type": "code",
   "execution_count": 1,
   "metadata": {
    "collapsed": true
   },
   "outputs": [],
   "source": [
    "import pickle, os\n",
    "import pandas as pd\n",
    "import numpy as np\n",
    "from importlib import reload\n",
    "\n",
    "import merge_pluto_finance_new as mpf\n",
    "import regression_loop as rl\n",
    "import final_modeling as fm\n",
    "import final_data_clean as dc"
   ]
  },
  {
   "cell_type": "code",
   "execution_count": 21,
   "metadata": {
    "collapsed": true
   },
   "outputs": [],
   "source": [
    "pkl_dir = \"data/results/pkl_models/\"\n",
    "full_filename = \"rf_100.pkl\"\n",
    "with open(os.path.join(pkl_dir, full_filename), 'rb') as model:\n",
    "     model_pkl = pickle.load(model)"
   ]
  },
  {
   "cell_type": "code",
   "execution_count": 22,
   "metadata": {
    "collapsed": false
   },
   "outputs": [],
   "source": [
    "feature_importances = model_pkl.feature_importances_"
   ]
  },
  {
   "cell_type": "code",
   "execution_count": 7,
   "metadata": {
    "collapsed": false
   },
   "outputs": [],
   "source": [
    "data_path = \"data/merged/bronx_brooklyn_manhattan_queens_statenisland_2003_2016.csv\"\n",
    "data_with_bbl = fm.get_data_for_model(data_path)\n",
    "data = data_with_bbl.drop('bbl', axis=1)"
   ]
  },
  {
   "cell_type": "code",
   "execution_count": 8,
   "metadata": {
    "collapsed": true
   },
   "outputs": [],
   "source": [
    "affected_bbl_path = \"data/subway_bbls/QueensLightrail_full1.csv\""
   ]
  },
  {
   "cell_type": "code",
   "execution_count": 9,
   "metadata": {
    "collapsed": true
   },
   "outputs": [],
   "source": [
    "affected_properties, updated_properties = dc.extract_affected_properties(\n",
    "        data_with_bbl, affected_bbl_path)"
   ]
  },
  {
   "cell_type": "code",
   "execution_count": 11,
   "metadata": {
    "collapsed": false
   },
   "outputs": [
    {
     "name": "stdout",
     "output_type": "stream",
     "text": [
      "Creating target variable\n",
      "Splitting data into training and test sets\n",
      "Train: (353845, 246), Test: (88462, 246)\n",
      "Train y: (353845,), Test y: (88462,)\n",
      "Imputing missing values\n",
      "Normalizing data\n"
     ]
    }
   ],
   "source": [
    "X_train_raw, X_train, X_test, y_train, y_test = fm.preprocess_data(data)"
   ]
  },
  {
   "cell_type": "code",
   "execution_count": 25,
   "metadata": {
    "collapsed": false
   },
   "outputs": [
    {
     "name": "stdout",
     "output_type": "stream",
     "text": [
      "(442307, 246)\n",
      "(442307,)\n"
     ]
    }
   ],
   "source": [
    "X, y = fm.create_target_var(data, 'price_per_sqft')\n",
    "print(X.shape)\n",
    "print(y.shape)"
   ]
  },
  {
   "cell_type": "code",
   "execution_count": 34,
   "metadata": {
    "collapsed": false
   },
   "outputs": [
    {
     "data": {
      "text/plain": [
       "'sale_year'"
      ]
     },
     "execution_count": 34,
     "metadata": {},
     "output_type": "execute_result"
    }
   ],
   "source": [
    "X.columns[31]"
   ]
  },
  {
   "cell_type": "code",
   "execution_count": 47,
   "metadata": {
    "collapsed": false
   },
   "outputs": [
    {
     "name": "stdout",
     "output_type": "stream",
     "text": [
      "Feature ranking:\n",
      "['sale_year', 'gross_sqft_pluto', 'path_stations_dist', 'schooldist_2', 'resarea', 'borough_manhattan', 'unitstotal', 'theaters_dist', 'unitsres', 'total_units', 'lotfront', 'airports_dist', 'restaurant_grades_zipcode_count', 'young_adult_internship_centers_dist', 'adult_continuing_ed_centers_dist', 'landuse_1', 'botanical_gardens_dist', 'residential_units', 'art_galleries_dist', 'out_of_school_youth_centers_dist', 'histdist', 'comarea', 'tax_class_at_time_of_sale_1', 'runaway_homeless_youth_centers_dist', 'bldgclass_A', 'summer_youth_employment_centers_dist', 'tax_class_at_time_of_sale_2', 'numfloors', 'museums_dist', 'after_school_programs_dist']\n"
     ]
    }
   ],
   "source": [
    "indices = np.argsort(feature_importances)[::-1][:30]\n",
    "\n",
    "feature_dct = [(X.columns[f], feature_importances[f]) for f in indices]\n",
    "# Print the feature ranking\n",
    "print(\"Feature ranking:\")\n",
    "print([x[0] for x in feature_dct])"
   ]
  },
  {
   "cell_type": "code",
   "execution_count": 43,
   "metadata": {
    "collapsed": false
   },
   "outputs": [
    {
     "data": {
      "text/plain": [
       "32"
      ]
     },
     "execution_count": 43,
     "metadata": {},
     "output_type": "execute_result"
    }
   ],
   "source": [
    "np.where(X.columns == 'subwaydist')[0][0]"
   ]
  },
  {
   "cell_type": "code",
   "execution_count": 41,
   "metadata": {
    "collapsed": false
   },
   "outputs": [
    {
     "data": {
      "text/plain": [
       "0.008645489542567936"
      ]
     },
     "execution_count": 41,
     "metadata": {},
     "output_type": "execute_result"
    }
   ],
   "source": [
    "feature_importances[32]"
   ]
  },
  {
   "cell_type": "code",
   "execution_count": 48,
   "metadata": {
    "collapsed": true
   },
   "outputs": [],
   "source": [
    "import predict_price_increase as ppi"
   ]
  },
  {
   "cell_type": "code",
   "execution_count": 50,
   "metadata": {
    "collapsed": false
   },
   "outputs": [
    {
     "name": "stdout",
     "output_type": "stream",
     "text": [
      "Pre and post-lightrail predictions written to data/results/price_increase_rf_demo.csv\n"
     ]
    }
   ],
   "source": [
    "price_increases = ppi.apply_model_to_lightrail(data_with_bbl, X_train_raw, model_pkl,\n",
    "        model_name = \"rf_demo\", output_dir = \"data/results\")"
   ]
  },
  {
   "cell_type": "code",
   "execution_count": 51,
   "metadata": {
    "collapsed": false
   },
   "outputs": [
    {
     "data": {
      "text/plain": [
       "[('sale_year', 0.1026475045626563),\n",
       " ('gross_sqft_pluto', 0.076007963856500993),\n",
       " ('path_stations_dist', 0.073607442400814765),\n",
       " ('schooldist_2', 0.066724677678816277),\n",
       " ('resarea', 0.049085835275279759),\n",
       " ('borough_manhattan', 0.045994575051632333),\n",
       " ('unitstotal', 0.044121361493091558),\n",
       " ('theaters_dist', 0.040207369889114178),\n",
       " ('unitsres', 0.036559113142461255),\n",
       " ('total_units', 0.027813800559614191),\n",
       " ('lotfront', 0.0177190581985462),\n",
       " ('airports_dist', 0.017253409024178431),\n",
       " ('restaurant_grades_zipcode_count', 0.01653740642509945),\n",
       " ('young_adult_internship_centers_dist', 0.016497207606703413),\n",
       " ('adult_continuing_ed_centers_dist', 0.016068575750655602),\n",
       " ('landuse_1', 0.015370003069012737),\n",
       " ('botanical_gardens_dist', 0.013916657425581562),\n",
       " ('residential_units', 0.013644103268654551),\n",
       " ('art_galleries_dist', 0.013251713119125357),\n",
       " ('out_of_school_youth_centers_dist', 0.012663293756974385),\n",
       " ('histdist', 0.012064483370985273),\n",
       " ('comarea', 0.01184638287997321),\n",
       " ('tax_class_at_time_of_sale_1', 0.011789276892031915),\n",
       " ('runaway_homeless_youth_centers_dist', 0.010361523103331135),\n",
       " ('bldgclass_A', 0.010160441593561258),\n",
       " ('summer_youth_employment_centers_dist', 0.010028982991074955),\n",
       " ('tax_class_at_time_of_sale_2', 0.0097847464665928013),\n",
       " ('numfloors', 0.0093429059251812618),\n",
       " ('museums_dist', 0.0090738532417529091),\n",
       " ('after_school_programs_dist', 0.0090687692374071226)]"
      ]
     },
     "execution_count": 51,
     "metadata": {},
     "output_type": "execute_result"
    }
   ],
   "source": [
    "feature_dct"
   ]
  },
  {
   "cell_type": "code",
   "execution_count": 54,
   "metadata": {
    "collapsed": true
   },
   "outputs": [],
   "source": [
    "import matplotlib.pyplot as plt\n",
    "import seaborn as sns\n",
    "sns.set(color_codes=True)\n",
    "%matplotlib inline"
   ]
  },
  {
   "cell_type": "code",
   "execution_count": 63,
   "metadata": {
    "collapsed": false
   },
   "outputs": [
    {
     "data": {
      "image/png": "[encoded data removed]",
      "text/plain": [
       "<matplotlib.figure.Figure at 0x10d3ba438>"
      ]
     },
     "metadata": {},
     "output_type": "display_data"
    }
   ],
   "source": [
    "fig, ax = plt.subplots()\n",
    "N = 15\n",
    "ind = np.arange(N)\n",
    "width = 0.35\n",
    "feature_imps = [x[1] for x in feature_dct[0:N]]\n",
    "feature_labels = (x[0] for x in feature_dct[0:N])\n",
    "rects1 = ax.bar(ind, feature_imps, width, color='r')\n",
    "\n",
    "# add some text for labels, title and axes ticks\n",
    "ax.set_ylabel('Relative Feature Importance')\n",
    "ax.set_title('Random Forest')\n",
    "ax.set_xticks(ind + width)\n",
    "ax.set_xticklabels(feature_labels, rotation = 40, ha = 'right')\n",
    "ax.set_yticks([])\n",
    "\n",
    "plt.show()"
   ]
  },
  {
   "cell_type": "code",
   "execution_count": null,
   "metadata": {
    "collapsed": true
   },
   "outputs": [],
   "source": []
  }
 ],
 "metadata": {
  "kernelspec": {
   "display_name": "Python 3",
   "language": "python",
   "name": "python3"
  },
  "language_info": {
   "codemirror_mode": {
    "name": "ipython",
    "version": 3
   },
   "file_extension": ".py",
   "mimetype": "text/x-python",
   "name": "python",
   "nbconvert_exporter": "python",
   "pygments_lexer": "ipython3",
   "version": "3.5.2"
  }
 },
 "nbformat": 4,
 "nbformat_minor": 1
}
