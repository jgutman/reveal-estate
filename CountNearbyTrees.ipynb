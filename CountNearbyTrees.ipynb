{
 "cells": [
  {
   "cell_type": "code",
   "execution_count": 1,
   "metadata": {
    "collapsed": false
   },
   "outputs": [],
   "source": [
    "# https://pypi.python.org/pypi/geopy/1.11.0\n",
    "import timeit\n",
    "from geopy.distance import vincenty\n",
    "import pandas as pd\n",
    "import numpy as np\n",
    "import math"
   ]
  },
  {
   "cell_type": "code",
   "execution_count": 2,
   "metadata": {
    "collapsed": false
   },
   "outputs": [
    {
     "data": {
      "text/html": [
       "<div>\n",
       "<table border=\"1\" class=\"dataframe\">\n",
       "  <thead>\n",
       "    <tr style=\"text-align: right;\">\n",
       "      <th></th>\n",
       "      <th>latitude</th>\n",
       "      <th>longitude</th>\n",
       "    </tr>\n",
       "  </thead>\n",
       "  <tbody>\n",
       "    <tr>\n",
       "      <th>0</th>\n",
       "      <td>40.735813</td>\n",
       "      <td>-73.958486</td>\n",
       "    </tr>\n",
       "    <tr>\n",
       "      <th>1</th>\n",
       "      <td>40.735969</td>\n",
       "      <td>-73.958512</td>\n",
       "    </tr>\n",
       "    <tr>\n",
       "      <th>2</th>\n",
       "      <td>40.736050</td>\n",
       "      <td>-73.958525</td>\n",
       "    </tr>\n",
       "    <tr>\n",
       "      <th>3</th>\n",
       "      <td>40.735464</td>\n",
       "      <td>-73.958851</td>\n",
       "    </tr>\n",
       "    <tr>\n",
       "      <th>4</th>\n",
       "      <td>40.735452</td>\n",
       "      <td>-73.958986</td>\n",
       "    </tr>\n",
       "  </tbody>\n",
       "</table>\n",
       "</div>"
      ],
      "text/plain": [
       "    latitude  longitude\n",
       "0  40.735813 -73.958486\n",
       "1  40.735969 -73.958512\n",
       "2  40.736050 -73.958525\n",
       "3  40.735464 -73.958851\n",
       "4  40.735452 -73.958986"
      ]
     },
     "execution_count": 2,
     "metadata": {},
     "output_type": "execute_result"
    }
   ],
   "source": [
    "tree = pd.read_csv('tree_clean.csv')\n",
    "tree.head()"
   ]
  },
  {
   "cell_type": "code",
   "execution_count": 3,
   "metadata": {
    "collapsed": false
   },
   "outputs": [
    {
     "data": {
      "text/html": [
       "<div>\n",
       "<table border=\"1\" class=\"dataframe\">\n",
       "  <thead>\n",
       "    <tr style=\"text-align: right;\">\n",
       "      <th></th>\n",
       "      <th>Lat</th>\n",
       "      <th>Long</th>\n",
       "      <th>BBL</th>\n",
       "    </tr>\n",
       "  </thead>\n",
       "  <tbody>\n",
       "    <tr>\n",
       "      <th>0</th>\n",
       "      <td>40.688799</td>\n",
       "      <td>-74.018675</td>\n",
       "      <td>1000010010</td>\n",
       "    </tr>\n",
       "    <tr>\n",
       "      <th>1</th>\n",
       "      <td>40.689920</td>\n",
       "      <td>-74.045337</td>\n",
       "      <td>1000010101</td>\n",
       "    </tr>\n",
       "    <tr>\n",
       "      <th>2</th>\n",
       "      <td>40.698188</td>\n",
       "      <td>-74.041329</td>\n",
       "      <td>1000010201</td>\n",
       "    </tr>\n",
       "    <tr>\n",
       "      <th>3</th>\n",
       "      <td>NaN</td>\n",
       "      <td>NaN</td>\n",
       "      <td>1000010301</td>\n",
       "    </tr>\n",
       "    <tr>\n",
       "      <th>4</th>\n",
       "      <td>NaN</td>\n",
       "      <td>NaN</td>\n",
       "      <td>1000010401</td>\n",
       "    </tr>\n",
       "  </tbody>\n",
       "</table>\n",
       "</div>"
      ],
      "text/plain": [
       "         Lat       Long         BBL\n",
       "0  40.688799 -74.018675  1000010010\n",
       "1  40.689920 -74.045337  1000010101\n",
       "2  40.698188 -74.041329  1000010201\n",
       "3        NaN        NaN  1000010301\n",
       "4        NaN        NaN  1000010401"
      ]
     },
     "execution_count": 3,
     "metadata": {},
     "output_type": "execute_result"
    }
   ],
   "source": [
    "toy = pd.read_csv('toy_data.csv',index_col=0)\n",
    "toy.head()"
   ]
  },
  {
   "cell_type": "code",
   "execution_count": 36,
   "metadata": {
    "collapsed": false
   },
   "outputs": [
    {
     "name": "stdout",
     "output_type": "stream",
     "text": [
      "[10, 0, 1, nan, nan, 10, 10, nan, 10, 10]\n"
     ]
    }
   ],
   "source": [
    "tree_count_col = []\n",
    "for BBL_idx in range(10): #toy.index:\n",
    "        BBL_loc = (toy['Lat'][BBL_idx],toy['Long'][BBL_idx])\n",
    "\n",
    "        if any(math.isnan(n) for n in BBL_loc):\n",
    "            tree_count_col.append(np.nan)\n",
    "            \n",
    "        else:\n",
    "            tree_count = 0\n",
    "            for t in range(10): #tree.index:\n",
    "                tree_loc = (tree['latitude'][t],tree['longitude'][t] )\n",
    "                tree_dist = vincenty(tree_loc, BBL_loc).miles\n",
    "                if tree_dist < 0.25:\n",
    "                    tree_count += 1\n",
    "                else:\n",
    "                    continue\n",
    "            tree_count_col.append(tree_count)\n",
    "\n",
    "print tree_count_col          \n",
    "#toy['tree_count'] = tree_count_col\n",
    "#tree.head()"
   ]
  },
  {
   "cell_type": "code",
   "execution_count": null,
   "metadata": {
    "collapsed": true
   },
   "outputs": [],
   "source": []
  }
 ],
 "metadata": {
  "kernelspec": {
   "display_name": "Python 2",
   "language": "python",
   "name": "python2"
  },
  "language_info": {
   "codemirror_mode": {
    "name": "ipython",
    "version": 2
   },
   "file_extension": ".py",
   "mimetype": "text/x-python",
   "name": "python",
   "nbconvert_exporter": "python",
   "pygments_lexer": "ipython2",
   "version": "2.7.10"
  }
 },
 "nbformat": 4,
 "nbformat_minor": 0
}
