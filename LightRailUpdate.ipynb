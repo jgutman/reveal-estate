{
 "cells": [
  {
   "cell_type": "code",
   "execution_count": 75,
   "metadata": {
    "collapsed": true
   },
   "outputs": [],
   "source": [
    "import pandas as pd\n",
    "import numpy as np"
   ]
  },
  {
   "cell_type": "code",
   "execution_count": 76,
   "metadata": {
    "collapsed": false
   },
   "outputs": [
    {
     "data": {
      "text/html": [
       "<div>\n",
       "<table border=\"1\" class=\"dataframe\">\n",
       "  <thead>\n",
       "    <tr style=\"text-align: right;\">\n",
       "      <th></th>\n",
       "      <th>bbl</th>\n",
       "      <th>latitude</th>\n",
       "      <th>longitude</th>\n",
       "      <th>subwaydist</th>\n",
       "    </tr>\n",
       "  </thead>\n",
       "  <tbody>\n",
       "    <tr>\n",
       "      <th>0</th>\n",
       "      <td>1000010010</td>\n",
       "      <td>40.688799</td>\n",
       "      <td>-74.018675</td>\n",
       "      <td>0.927141</td>\n",
       "    </tr>\n",
       "    <tr>\n",
       "      <th>1</th>\n",
       "      <td>1000047501</td>\n",
       "      <td>40.702153</td>\n",
       "      <td>-74.012021</td>\n",
       "      <td>0.033273</td>\n",
       "    </tr>\n",
       "    <tr>\n",
       "      <th>2</th>\n",
       "      <td>1000050010</td>\n",
       "      <td>40.702776</td>\n",
       "      <td>-74.010722</td>\n",
       "      <td>0.110829</td>\n",
       "    </tr>\n",
       "    <tr>\n",
       "      <th>3</th>\n",
       "      <td>1000057501</td>\n",
       "      <td>40.702266</td>\n",
       "      <td>-74.010607</td>\n",
       "      <td>0.106458</td>\n",
       "    </tr>\n",
       "    <tr>\n",
       "      <th>4</th>\n",
       "      <td>1000070027</td>\n",
       "      <td>40.703290</td>\n",
       "      <td>-74.011022</td>\n",
       "      <td>0.118209</td>\n",
       "    </tr>\n",
       "  </tbody>\n",
       "</table>\n",
       "</div>"
      ],
      "text/plain": [
       "          bbl   latitude  longitude  subwaydist\n",
       "0  1000010010  40.688799 -74.018675    0.927141\n",
       "1  1000047501  40.702153 -74.012021    0.033273\n",
       "2  1000050010  40.702776 -74.010722    0.110829\n",
       "3  1000057501  40.702266 -74.010607    0.106458\n",
       "4  1000070027  40.703290 -74.011022    0.118209"
      ]
     },
     "execution_count": 76,
     "metadata": {},
     "output_type": "execute_result"
    }
   ],
   "source": [
    "subway_distances = pd.read_csv('subwaydist.csv')\n",
    "subway_distances.head()"
   ]
  },
  {
   "cell_type": "code",
   "execution_count": 77,
   "metadata": {
    "collapsed": false
   },
   "outputs": [
    {
     "data": {
      "text/html": [
       "<div>\n",
       "<table border=\"1\" class=\"dataframe\">\n",
       "  <thead>\n",
       "    <tr style=\"text-align: right;\">\n",
       "      <th></th>\n",
       "      <th>bbl</th>\n",
       "    </tr>\n",
       "  </thead>\n",
       "  <tbody>\n",
       "    <tr>\n",
       "      <th>0</th>\n",
       "      <td>4000340047</td>\n",
       "    </tr>\n",
       "    <tr>\n",
       "      <th>1</th>\n",
       "      <td>4038530098</td>\n",
       "    </tr>\n",
       "    <tr>\n",
       "      <th>2</th>\n",
       "      <td>4027260002</td>\n",
       "    </tr>\n",
       "    <tr>\n",
       "      <th>3</th>\n",
       "      <td>4026930121</td>\n",
       "    </tr>\n",
       "    <tr>\n",
       "      <th>4</th>\n",
       "      <td>4033840065</td>\n",
       "    </tr>\n",
       "  </tbody>\n",
       "</table>\n",
       "</div>"
      ],
      "text/plain": [
       "          bbl\n",
       "0  4000340047\n",
       "1  4038530098\n",
       "2  4027260002\n",
       "3  4026930121\n",
       "4  4033840065"
      ]
     },
     "execution_count": 77,
     "metadata": {},
     "output_type": "execute_result"
    }
   ],
   "source": [
    "light_rail_bbls = pd.read_csv('Queens Light Rail BBL.csv',names = [\"bbl\"])\n",
    "light_rail_bbls.head()"
   ]
  },
  {
   "cell_type": "code",
   "execution_count": 78,
   "metadata": {
    "collapsed": false
   },
   "outputs": [
    {
     "name": "stdout",
     "output_type": "stream",
     "text": [
      "283940.255838\n",
      "276327.517131\n"
     ]
    }
   ],
   "source": [
    "light_rail_bbls_list = light_rail_bbls['bbl'].tolist()\n",
    "print subway_distances['subwaydist'].sum()\n",
    "for i in light_rail_bbls_list:\n",
    "    temp = subway_distances.loc[subway_distances['bbl'] == i]\n",
    "    if temp.size == 0:\n",
    "        pass\n",
    "    else:\n",
    "        current_subway_dist = temp['subwaydist'].tolist()[0]\n",
    "        if current_subway_dist > 0.5:\n",
    "            new_subway_dist = 0.5\n",
    "            subway_distances['subwaydist'] = subway_distances['subwaydist'].replace(current_subway_dist,new_subway_dist)\n",
    "            #print current_subway_dist, new_subway_dist\n",
    "        else:\n",
    "            pass\n",
    "print subway_distances['subwaydist'].sum()"
   ]
  },
  {
   "cell_type": "code",
   "execution_count": 79,
   "metadata": {
    "collapsed": true
   },
   "outputs": [],
   "source": [
    "subway_distances.to_csv('updatedsubwaydist.csv',index=False)"
   ]
  },
  {
   "cell_type": "code",
   "execution_count": null,
   "metadata": {
    "collapsed": true
   },
   "outputs": [],
   "source": []
  }
 ],
 "metadata": {
  "anaconda-cloud": {},
  "kernelspec": {
   "display_name": "Python [default]",
   "language": "python",
   "name": "python2"
  },
  "language_info": {
   "codemirror_mode": {
    "name": "ipython",
    "version": 2
   },
   "file_extension": ".py",
   "mimetype": "text/x-python",
   "name": "python",
   "nbconvert_exporter": "python",
   "pygments_lexer": "ipython2",
   "version": "2.7.12"
  }
 },
 "nbformat": 4,
 "nbformat_minor": 1
}
