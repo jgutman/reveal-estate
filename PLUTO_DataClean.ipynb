{
 "cells": [
  {
   "cell_type": "code",
   "execution_count": 1,
   "metadata": {
    "collapsed": true
   },
   "outputs": [],
   "source": [
    "import pandas as pd"
   ]
  },
  {
   "cell_type": "code",
   "execution_count": 7,
   "metadata": {
    "collapsed": false
   },
   "outputs": [],
   "source": [
    "df1 = pd.read_csv(\"nyc_pluto_16v1/MN.csv\", low_memory = False)\n",
    "df2 = pd.read_csv(\"nyc_pluto_16v1/BK.csv\",low_memory = False)\n",
    "df3 = pd.read_csv(\"nyc_pluto_16v1/BX.csv\",low_memory = False)\n",
    "df4 = pd.read_csv(\"nyc_pluto_16v1/QN.csv\",low_memory = False)\n",
    "df5 = pd.read_csv(\"nyc_pluto_16v1/SI.csv\",low_memory = False)"
   ]
  },
  {
   "cell_type": "code",
   "execution_count": 8,
   "metadata": {
    "collapsed": false
   },
   "outputs": [
    {
     "name": "stdout",
     "output_type": "stream",
     "text": [
      "(43158, 86)\n",
      "(277572, 86)\n",
      "(89897, 86)\n",
      "(324556, 86)\n",
      "(124022, 86)\n"
     ]
    }
   ],
   "source": [
    "print(df1.shape)\n",
    "print(df2.shape)\n",
    "print(df3.shape)\n",
    "print(df4.shape)\n",
    "print(df5.shape)"
   ]
  },
  {
   "cell_type": "code",
   "execution_count": 10,
   "metadata": {
    "collapsed": false
   },
   "outputs": [
    {
     "data": {
      "text/plain": [
       "(859205, 86)"
      ]
     },
     "execution_count": 10,
     "metadata": {},
     "output_type": "execute_result"
    }
   ],
   "source": [
    "df = pd.concat([df1, df2, df3, df4, df5], axis = 0)\n",
    "df.shape"
   ]
  },
  {
   "cell_type": "code",
   "execution_count": 30,
   "metadata": {
    "collapsed": false,
    "scrolled": true
   },
   "outputs": [
    {
     "name": "stdout",
     "output_type": "stream",
     "text": [
      "{'FacilFAR': 0, 'BuiltCode': 262629, 'UnitsTotal': 0, 'CommFAR': 0, 'Easements': 0, 'ZipCode': 4380, 'Council': 3167, 'Overlay2': 858980, 'SPDist2': 859153, 'LandUse': 3125, 'ZoneDist4': 859186, 'YearBuilt': 0, 'HealthArea': 3516, 'ZoneDist1': 476, 'FactryArea': 0, 'Borough': 0, 'SanitDistrict': 6572, 'HistDist': 829914, 'OtherArea': 0, 'BldgDepth': 0, 'BoroCode': 0, 'APPDate': 772462, 'ProxCode': 519, 'SanitSub': 15396, 'SplitZone': 519, 'ZMCode': 843565, 'ZoneMap': 368, 'ZoneDist3': 858872, 'BsmtCode': 519, 'AllZoning2': 833634, 'ExemptLand': 0, 'YearAlter2': 0, 'BldgArea': 0, 'Tract2010': 0, 'AllZoning1': 476, 'YCoord': 25023, 'AssessLand': 0, 'BBL': 0, 'LtdHeight': 856135, 'SchoolDist': 3094, 'Address': 554, 'UnitsRes': 0, 'APPBBL': 519, 'CondoNo': 0, 'FireComp': 3788, 'PolicePrct': 3203, 'OwnerName': 8594, 'Version': 0, 'BuiltFAR': 0, 'IrrLotCode': 519, 'EDesigNum': 850772, 'NumBldgs': 0, 'LotFront': 0, 'SanitBoro': 6641, 'YearAlter1': 0, 'OfficeArea': 0, 'OwnerType': 749804, 'Block': 0, 'SPDist1': 763555, 'LotDepth': 0, 'ResidFAR': 0, 'BldgClass': 517, 'RetailArea': 0, 'ZoneDist2': 833634, 'CB2010': 21384, 'GarageArea': 0, 'Lot': 0, 'XCoord': 25023, 'CT2010': 4291, 'AssessTot': 0, 'NumFloors': 0, 'Ext': 508196, 'LotType': 519, 'Landmark': 857871, 'ResArea': 0, 'BldgFront': 0, 'TaxMap': 1560, 'LotArea': 0, 'PLUTOMapID': 0, 'StrgeArea': 0, 'CD': 0, 'Sanborn': 1560, 'ExemptTot': 0, 'Overlay1': 781160, 'ComArea': 0, 'AreaSource': 0}\n"
     ]
    }
   ],
   "source": [
    "pd.options.display.max_seq_items = 6000\n",
    "print(dict(df.isnull().sum()))"
   ]
  },
  {
   "cell_type": "code",
   "execution_count": 12,
   "metadata": {
    "collapsed": false
   },
   "outputs": [
    {
     "data": {
      "text/html": [
       "<div>\n",
       "<table border=\"1\" class=\"dataframe\">\n",
       "  <thead>\n",
       "    <tr style=\"text-align: right;\">\n",
       "      <th></th>\n",
       "      <th>Borough</th>\n",
       "      <th>Block</th>\n",
       "      <th>Lot</th>\n",
       "      <th>CD</th>\n",
       "      <th>CT2010</th>\n",
       "      <th>CB2010</th>\n",
       "      <th>SchoolDist</th>\n",
       "      <th>Council</th>\n",
       "      <th>ZipCode</th>\n",
       "      <th>FireComp</th>\n",
       "      <th>...</th>\n",
       "      <th>YCoord</th>\n",
       "      <th>ZoneMap</th>\n",
       "      <th>ZMCode</th>\n",
       "      <th>Sanborn</th>\n",
       "      <th>TaxMap</th>\n",
       "      <th>EDesigNum</th>\n",
       "      <th>APPBBL</th>\n",
       "      <th>APPDate</th>\n",
       "      <th>PLUTOMapID</th>\n",
       "      <th>Version</th>\n",
       "    </tr>\n",
       "  </thead>\n",
       "  <tbody>\n",
       "    <tr>\n",
       "      <th>0</th>\n",
       "      <td>MN</td>\n",
       "      <td>1</td>\n",
       "      <td>10</td>\n",
       "      <td>101</td>\n",
       "      <td>5.0</td>\n",
       "      <td>1018.0</td>\n",
       "      <td>2.0</td>\n",
       "      <td>1.0</td>\n",
       "      <td>10004.0</td>\n",
       "      <td>E007</td>\n",
       "      <td>...</td>\n",
       "      <td>190225.0</td>\n",
       "      <td>16a</td>\n",
       "      <td>Y</td>\n",
       "      <td>199 999</td>\n",
       "      <td>10101.0</td>\n",
       "      <td>NaN</td>\n",
       "      <td>0.0</td>\n",
       "      <td>NaN</td>\n",
       "      <td>1</td>\n",
       "      <td>16v1</td>\n",
       "    </tr>\n",
       "    <tr>\n",
       "      <th>1</th>\n",
       "      <td>MN</td>\n",
       "      <td>1</td>\n",
       "      <td>101</td>\n",
       "      <td>101</td>\n",
       "      <td>1.0</td>\n",
       "      <td>1001.0</td>\n",
       "      <td>2.0</td>\n",
       "      <td>1.0</td>\n",
       "      <td>10004.0</td>\n",
       "      <td>E007</td>\n",
       "      <td>...</td>\n",
       "      <td>190636.0</td>\n",
       "      <td>16a</td>\n",
       "      <td>Y</td>\n",
       "      <td>199 999</td>\n",
       "      <td>10101.0</td>\n",
       "      <td>NaN</td>\n",
       "      <td>0.0</td>\n",
       "      <td>NaN</td>\n",
       "      <td>1</td>\n",
       "      <td>16v1</td>\n",
       "    </tr>\n",
       "    <tr>\n",
       "      <th>2</th>\n",
       "      <td>MN</td>\n",
       "      <td>1</td>\n",
       "      <td>201</td>\n",
       "      <td>101</td>\n",
       "      <td>1.0</td>\n",
       "      <td>1000.0</td>\n",
       "      <td>2.0</td>\n",
       "      <td>1.0</td>\n",
       "      <td>10004.0</td>\n",
       "      <td>E007</td>\n",
       "      <td>...</td>\n",
       "      <td>193648.0</td>\n",
       "      <td>12b</td>\n",
       "      <td>NaN</td>\n",
       "      <td>199 999</td>\n",
       "      <td>10101.0</td>\n",
       "      <td>NaN</td>\n",
       "      <td>0.0</td>\n",
       "      <td>NaN</td>\n",
       "      <td>1</td>\n",
       "      <td>16v1</td>\n",
       "    </tr>\n",
       "    <tr>\n",
       "      <th>3</th>\n",
       "      <td>MN</td>\n",
       "      <td>1</td>\n",
       "      <td>301</td>\n",
       "      <td>101</td>\n",
       "      <td>NaN</td>\n",
       "      <td>NaN</td>\n",
       "      <td>2.0</td>\n",
       "      <td>1.0</td>\n",
       "      <td>10004.0</td>\n",
       "      <td>E007</td>\n",
       "      <td>...</td>\n",
       "      <td>NaN</td>\n",
       "      <td>12b</td>\n",
       "      <td>NaN</td>\n",
       "      <td>199 999</td>\n",
       "      <td>10101.0</td>\n",
       "      <td>NaN</td>\n",
       "      <td>0.0</td>\n",
       "      <td>NaN</td>\n",
       "      <td>4</td>\n",
       "      <td>16v1</td>\n",
       "    </tr>\n",
       "    <tr>\n",
       "      <th>4</th>\n",
       "      <td>MN</td>\n",
       "      <td>1</td>\n",
       "      <td>401</td>\n",
       "      <td>101</td>\n",
       "      <td>NaN</td>\n",
       "      <td>NaN</td>\n",
       "      <td>2.0</td>\n",
       "      <td>1.0</td>\n",
       "      <td>10004.0</td>\n",
       "      <td>E007</td>\n",
       "      <td>...</td>\n",
       "      <td>NaN</td>\n",
       "      <td>12b</td>\n",
       "      <td>NaN</td>\n",
       "      <td>1 99 999</td>\n",
       "      <td>10101.0</td>\n",
       "      <td>NaN</td>\n",
       "      <td>0.0</td>\n",
       "      <td>NaN</td>\n",
       "      <td>4</td>\n",
       "      <td>16v1</td>\n",
       "    </tr>\n",
       "  </tbody>\n",
       "</table>\n",
       "<p>5 rows × 86 columns</p>\n",
       "</div>"
      ],
      "text/plain": [
       "  Borough  Block  Lot   CD  CT2010  CB2010  SchoolDist  Council  ZipCode  \\\n",
       "0      MN      1   10  101     5.0  1018.0         2.0      1.0  10004.0   \n",
       "1      MN      1  101  101     1.0  1001.0         2.0      1.0  10004.0   \n",
       "2      MN      1  201  101     1.0  1000.0         2.0      1.0  10004.0   \n",
       "3      MN      1  301  101     NaN     NaN         2.0      1.0  10004.0   \n",
       "4      MN      1  401  101     NaN     NaN         2.0      1.0  10004.0   \n",
       "\n",
       "  FireComp   ...      YCoord  ZoneMap  ZMCode   Sanborn   TaxMap EDesigNum  \\\n",
       "0     E007   ...    190225.0      16a       Y   199 999  10101.0       NaN   \n",
       "1     E007   ...    190636.0      16a       Y   199 999  10101.0       NaN   \n",
       "2     E007   ...    193648.0      12b     NaN   199 999  10101.0       NaN   \n",
       "3     E007   ...         NaN      12b     NaN   199 999  10101.0       NaN   \n",
       "4     E007   ...         NaN      12b     NaN  1 99 999  10101.0       NaN   \n",
       "\n",
       "  APPBBL APPDate PLUTOMapID Version  \n",
       "0    0.0     NaN          1    16v1  \n",
       "1    0.0     NaN          1    16v1  \n",
       "2    0.0     NaN          1    16v1  \n",
       "3    0.0     NaN          4    16v1  \n",
       "4    0.0     NaN          4    16v1  \n",
       "\n",
       "[5 rows x 86 columns]"
      ]
     },
     "execution_count": 12,
     "metadata": {},
     "output_type": "execute_result"
    }
   ],
   "source": [
    "df.head()"
   ]
  },
  {
   "cell_type": "code",
   "execution_count": 14,
   "metadata": {
    "collapsed": false
   },
   "outputs": [
    {
     "data": {
      "text/plain": [
       "1336"
      ]
     },
     "execution_count": 14,
     "metadata": {},
     "output_type": "execute_result"
    }
   ],
   "source": [
    "len(df['CT2010'].unique())"
   ]
  },
  {
   "cell_type": "code",
   "execution_count": 15,
   "metadata": {
    "collapsed": false
   },
   "outputs": [
    {
     "data": {
      "text/plain": [
       "353"
      ]
     },
     "execution_count": 15,
     "metadata": {},
     "output_type": "execute_result"
    }
   ],
   "source": [
    "len(df['CB2010'].unique())"
   ]
  },
  {
   "cell_type": "code",
   "execution_count": 16,
   "metadata": {
    "collapsed": false
   },
   "outputs": [
    {
     "data": {
      "text/plain": [
       "197"
      ]
     },
     "execution_count": 16,
     "metadata": {},
     "output_type": "execute_result"
    }
   ],
   "source": [
    "len(df['ZipCode'].unique())"
   ]
  },
  {
   "cell_type": "code",
   "execution_count": 18,
   "metadata": {
    "collapsed": false
   },
   "outputs": [
    {
     "data": {
      "text/plain": [
       "211"
      ]
     },
     "execution_count": 18,
     "metadata": {},
     "output_type": "execute_result"
    }
   ],
   "source": [
    "len(df['HealthArea'].unique())"
   ]
  },
  {
   "cell_type": "code",
   "execution_count": 19,
   "metadata": {
    "collapsed": false
   },
   "outputs": [
    {
     "data": {
      "text/plain": [
       "162"
      ]
     },
     "execution_count": 19,
     "metadata": {},
     "output_type": "execute_result"
    }
   ],
   "source": [
    "len(df['ZoneDist1'].unique())"
   ]
  },
  {
   "cell_type": "code",
   "execution_count": 20,
   "metadata": {
    "collapsed": false
   },
   "outputs": [
    {
     "data": {
      "text/plain": [
       "874"
      ]
     },
     "execution_count": 20,
     "metadata": {},
     "output_type": "execute_result"
    }
   ],
   "source": [
    "len(df['AllZoning1'].unique())"
   ]
  },
  {
   "cell_type": "code",
   "execution_count": 31,
   "metadata": {
    "collapsed": false
   },
   "outputs": [
    {
     "data": {
      "text/plain": [
       "1331"
      ]
     },
     "execution_count": 31,
     "metadata": {},
     "output_type": "execute_result"
    }
   ],
   "source": [
    "len(df['Tract2010'].unique())"
   ]
  },
  {
   "cell_type": "code",
   "execution_count": null,
   "metadata": {
    "collapsed": true
   },
   "outputs": [],
   "source": []
  }
 ],
 "metadata": {
  "kernelspec": {
   "display_name": "Python [Root]",
   "language": "python",
   "name": "Python [Root]"
  },
  "language_info": {
   "codemirror_mode": {
    "name": "ipython",
    "version": 3
   },
   "file_extension": ".py",
   "mimetype": "text/x-python",
   "name": "python",
   "nbconvert_exporter": "python",
   "pygments_lexer": "ipython3",
   "version": "3.5.2"
  }
 },
 "nbformat": 4,
 "nbformat_minor": 0
}
