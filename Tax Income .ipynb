{
 "cells": [
  {
   "cell_type": "code",
   "execution_count": 26,
   "metadata": {
    "collapsed": true
   },
   "outputs": [],
   "source": [
    "import pandas as pd \n",
    "import numpy as np "
   ]
  },
  {
   "cell_type": "code",
   "execution_count": 37,
   "metadata": {
    "collapsed": false,
    "scrolled": true
   },
   "outputs": [
    {
     "data": {
      "text/html": [
       "<div>\n",
       "<table border=\"1\" class=\"dataframe\">\n",
       "  <thead>\n",
       "    <tr style=\"text-align: right;\">\n",
       "      <th></th>\n",
       "      <th>bbl</th>\n",
       "      <th>y_pred_postlightrail</th>\n",
       "      <th>y_pred_prelightrail</th>\n",
       "      <th>y_true</th>\n",
       "      <th>update</th>\n",
       "      <th>sale_price</th>\n",
       "    </tr>\n",
       "  </thead>\n",
       "  <tbody>\n",
       "    <tr>\n",
       "      <th>0</th>\n",
       "      <td>4000150010</td>\n",
       "      <td>857.746446</td>\n",
       "      <td>397.727167</td>\n",
       "      <td>254.141566</td>\n",
       "      <td>293.945271</td>\n",
       "      <td>2700000</td>\n",
       "    </tr>\n",
       "    <tr>\n",
       "      <th>1</th>\n",
       "      <td>4000250015</td>\n",
       "      <td>669.697589</td>\n",
       "      <td>196.766677</td>\n",
       "      <td>85.889571</td>\n",
       "      <td>206.436545</td>\n",
       "      <td>14000000</td>\n",
       "    </tr>\n",
       "    <tr>\n",
       "      <th>2</th>\n",
       "      <td>4000290035</td>\n",
       "      <td>708.947477</td>\n",
       "      <td>252.156236</td>\n",
       "      <td>158.057360</td>\n",
       "      <td>286.327314</td>\n",
       "      <td>997500</td>\n",
       "    </tr>\n",
       "    <tr>\n",
       "      <th>3</th>\n",
       "      <td>4000300031</td>\n",
       "      <td>787.362303</td>\n",
       "      <td>317.247139</td>\n",
       "      <td>259.090909</td>\n",
       "      <td>383.935898</td>\n",
       "      <td>1710000</td>\n",
       "    </tr>\n",
       "    <tr>\n",
       "      <th>4</th>\n",
       "      <td>4000400011</td>\n",
       "      <td>994.576245</td>\n",
       "      <td>479.563312</td>\n",
       "      <td>367.857143</td>\n",
       "      <td>395.049373</td>\n",
       "      <td>618000</td>\n",
       "    </tr>\n",
       "  </tbody>\n",
       "</table>\n",
       "</div>"
      ],
      "text/plain": [
       "          bbl  y_pred_postlightrail  y_pred_prelightrail      y_true  \\\n",
       "0  4000150010            857.746446           397.727167  254.141566   \n",
       "1  4000250015            669.697589           196.766677   85.889571   \n",
       "2  4000290035            708.947477           252.156236  158.057360   \n",
       "3  4000300031            787.362303           317.247139  259.090909   \n",
       "4  4000400011            994.576245           479.563312  367.857143   \n",
       "\n",
       "       update  sale_price  \n",
       "0  293.945271     2700000  \n",
       "1  206.436545    14000000  \n",
       "2  286.327314      997500  \n",
       "3  383.935898     1710000  \n",
       "4  395.049373      618000  "
      ]
     },
     "execution_count": 37,
     "metadata": {},
     "output_type": "execute_result"
    }
   ],
   "source": [
    "data = pd.read_csv('affected_properties_tax_calculation.csv')\n",
    "data.head()"
   ]
  },
  {
   "cell_type": "code",
   "execution_count": 38,
   "metadata": {
    "collapsed": false
   },
   "outputs": [
    {
     "data": {
      "text/html": [
       "<div>\n",
       "<table border=\"1\" class=\"dataframe\">\n",
       "  <thead>\n",
       "    <tr style=\"text-align: right;\">\n",
       "      <th></th>\n",
       "      <th>bbl</th>\n",
       "      <th>y_pred_postlightrail</th>\n",
       "      <th>y_pred_prelightrail</th>\n",
       "      <th>y_true</th>\n",
       "      <th>update</th>\n",
       "      <th>sale_price</th>\n",
       "      <th>percent_increase</th>\n",
       "    </tr>\n",
       "  </thead>\n",
       "  <tbody>\n",
       "    <tr>\n",
       "      <th>0</th>\n",
       "      <td>4000150010</td>\n",
       "      <td>857.746446</td>\n",
       "      <td>397.727167</td>\n",
       "      <td>254.141566</td>\n",
       "      <td>293.945271</td>\n",
       "      <td>2700000</td>\n",
       "      <td>1.156620</td>\n",
       "    </tr>\n",
       "    <tr>\n",
       "      <th>1</th>\n",
       "      <td>4000250015</td>\n",
       "      <td>669.697589</td>\n",
       "      <td>196.766677</td>\n",
       "      <td>85.889571</td>\n",
       "      <td>206.436545</td>\n",
       "      <td>14000000</td>\n",
       "      <td>2.403511</td>\n",
       "    </tr>\n",
       "    <tr>\n",
       "      <th>2</th>\n",
       "      <td>4000290035</td>\n",
       "      <td>708.947477</td>\n",
       "      <td>252.156236</td>\n",
       "      <td>158.057360</td>\n",
       "      <td>286.327314</td>\n",
       "      <td>997500</td>\n",
       "      <td>1.811541</td>\n",
       "    </tr>\n",
       "    <tr>\n",
       "      <th>3</th>\n",
       "      <td>4000300031</td>\n",
       "      <td>787.362303</td>\n",
       "      <td>317.247139</td>\n",
       "      <td>259.090909</td>\n",
       "      <td>383.935898</td>\n",
       "      <td>1710000</td>\n",
       "      <td>1.481858</td>\n",
       "    </tr>\n",
       "    <tr>\n",
       "      <th>4</th>\n",
       "      <td>4000400011</td>\n",
       "      <td>994.576245</td>\n",
       "      <td>479.563312</td>\n",
       "      <td>367.857143</td>\n",
       "      <td>395.049373</td>\n",
       "      <td>618000</td>\n",
       "      <td>1.073921</td>\n",
       "    </tr>\n",
       "  </tbody>\n",
       "</table>\n",
       "</div>"
      ],
      "text/plain": [
       "          bbl  y_pred_postlightrail  y_pred_prelightrail      y_true  \\\n",
       "0  4000150010            857.746446           397.727167  254.141566   \n",
       "1  4000250015            669.697589           196.766677   85.889571   \n",
       "2  4000290035            708.947477           252.156236  158.057360   \n",
       "3  4000300031            787.362303           317.247139  259.090909   \n",
       "4  4000400011            994.576245           479.563312  367.857143   \n",
       "\n",
       "       update  sale_price  percent_increase  \n",
       "0  293.945271     2700000          1.156620  \n",
       "1  206.436545    14000000          2.403511  \n",
       "2  286.327314      997500          1.811541  \n",
       "3  383.935898     1710000          1.481858  \n",
       "4  395.049373      618000          1.073921  "
      ]
     },
     "execution_count": 38,
     "metadata": {},
     "output_type": "execute_result"
    }
   ],
   "source": [
    "data['percent_increase'] = (data['y_pred_postlightrail']-data['y_pred_prelightrail'])/data['y_pred_prelightrail']\n",
    "data.head()"
   ]
  },
  {
   "cell_type": "code",
   "execution_count": 39,
   "metadata": {
    "collapsed": false,
    "scrolled": false
   },
   "outputs": [
    {
     "data": {
      "text/html": [
       "<div>\n",
       "<table border=\"1\" class=\"dataframe\">\n",
       "  <thead>\n",
       "    <tr style=\"text-align: right;\">\n",
       "      <th></th>\n",
       "      <th>bbl</th>\n",
       "      <th>y_pred_postlightrail</th>\n",
       "      <th>y_pred_prelightrail</th>\n",
       "      <th>y_true</th>\n",
       "      <th>update</th>\n",
       "      <th>sale_price</th>\n",
       "      <th>percent_increase</th>\n",
       "      <th>pred_sale_price</th>\n",
       "    </tr>\n",
       "  </thead>\n",
       "  <tbody>\n",
       "    <tr>\n",
       "      <th>0</th>\n",
       "      <td>4000150010</td>\n",
       "      <td>857.746446</td>\n",
       "      <td>397.727167</td>\n",
       "      <td>254.141566</td>\n",
       "      <td>293.945271</td>\n",
       "      <td>2700000</td>\n",
       "      <td>1.156620</td>\n",
       "      <td>3.122875e+06</td>\n",
       "    </tr>\n",
       "    <tr>\n",
       "      <th>1</th>\n",
       "      <td>4000250015</td>\n",
       "      <td>669.697589</td>\n",
       "      <td>196.766677</td>\n",
       "      <td>85.889571</td>\n",
       "      <td>206.436545</td>\n",
       "      <td>14000000</td>\n",
       "      <td>2.403511</td>\n",
       "      <td>3.364916e+07</td>\n",
       "    </tr>\n",
       "    <tr>\n",
       "      <th>2</th>\n",
       "      <td>4000290035</td>\n",
       "      <td>708.947477</td>\n",
       "      <td>252.156236</td>\n",
       "      <td>158.057360</td>\n",
       "      <td>286.327314</td>\n",
       "      <td>997500</td>\n",
       "      <td>1.811541</td>\n",
       "      <td>1.807012e+06</td>\n",
       "    </tr>\n",
       "    <tr>\n",
       "      <th>3</th>\n",
       "      <td>4000300031</td>\n",
       "      <td>787.362303</td>\n",
       "      <td>317.247139</td>\n",
       "      <td>259.090909</td>\n",
       "      <td>383.935898</td>\n",
       "      <td>1710000</td>\n",
       "      <td>1.481858</td>\n",
       "      <td>2.533977e+06</td>\n",
       "    </tr>\n",
       "    <tr>\n",
       "      <th>4</th>\n",
       "      <td>4000400011</td>\n",
       "      <td>994.576245</td>\n",
       "      <td>479.563312</td>\n",
       "      <td>367.857143</td>\n",
       "      <td>395.049373</td>\n",
       "      <td>618000</td>\n",
       "      <td>1.073921</td>\n",
       "      <td>6.636829e+05</td>\n",
       "    </tr>\n",
       "  </tbody>\n",
       "</table>\n",
       "</div>"
      ],
      "text/plain": [
       "          bbl  y_pred_postlightrail  y_pred_prelightrail      y_true  \\\n",
       "0  4000150010            857.746446           397.727167  254.141566   \n",
       "1  4000250015            669.697589           196.766677   85.889571   \n",
       "2  4000290035            708.947477           252.156236  158.057360   \n",
       "3  4000300031            787.362303           317.247139  259.090909   \n",
       "4  4000400011            994.576245           479.563312  367.857143   \n",
       "\n",
       "       update  sale_price  percent_increase  pred_sale_price  \n",
       "0  293.945271     2700000          1.156620     3.122875e+06  \n",
       "1  206.436545    14000000          2.403511     3.364916e+07  \n",
       "2  286.327314      997500          1.811541     1.807012e+06  \n",
       "3  383.935898     1710000          1.481858     2.533977e+06  \n",
       "4  395.049373      618000          1.073921     6.636829e+05  "
      ]
     },
     "execution_count": 39,
     "metadata": {},
     "output_type": "execute_result"
    }
   ],
   "source": [
    "data['pred_sale_price'] = data['sale_price']*data['percent_increase']\n",
    "data.head()"
   ]
  },
  {
   "cell_type": "code",
   "execution_count": 40,
   "metadata": {
    "collapsed": false,
    "scrolled": true
   },
   "outputs": [
    {
     "name": "stdout",
     "output_type": "stream",
     "text": [
      "44156117.57\n",
      "97558223.0293\n",
      "53402105.4593\n",
      "120.939313504\n"
     ]
    }
   ],
   "source": [
    "current_tax_income = np.sum(data['sale_price']*0.00796)\n",
    "new_tax_income = np.sum(data['pred_sale_price']*0.00796)\n",
    "\n",
    "tax_revenue_increase = new_tax_income - current_tax_income \n",
    "\n",
    "percent_tax_revenue_increase = (tax_revenue_increase/current_tax_income)*100\n",
    "\n",
    "#0.72\n",
    "print current_tax_income\n",
    "print new_tax_income\n",
    "\n",
    "\n",
    "print tax_revenue_increase\n",
    "print percent_tax_revenue_increase"
   ]
  },
  {
   "cell_type": "code",
   "execution_count": null,
   "metadata": {
    "collapsed": true
   },
   "outputs": [],
   "source": []
  },
  {
   "cell_type": "code",
   "execution_count": 36,
   "metadata": {
    "collapsed": false
   },
   "outputs": [
    {
     "data": {
      "text/plain": [
       "(23713, 1)"
      ]
     },
     "execution_count": 36,
     "metadata": {},
     "output_type": "execute_result"
    }
   ],
   "source": [
    "bbls = pd.read_csv('Queens Light Rail BBL.csv')\n",
    "bbls.shape"
   ]
  },
  {
   "cell_type": "code",
   "execution_count": null,
   "metadata": {
    "collapsed": true
   },
   "outputs": [],
   "source": []
  },
  {
   "cell_type": "code",
   "execution_count": null,
   "metadata": {
    "collapsed": true
   },
   "outputs": [],
   "source": []
  },
  {
   "cell_type": "code",
   "execution_count": null,
   "metadata": {
    "collapsed": true
   },
   "outputs": [],
   "source": []
  },
  {
   "cell_type": "code",
   "execution_count": null,
   "metadata": {
    "collapsed": true
   },
   "outputs": [],
   "source": []
  }
 ],
 "metadata": {
  "anaconda-cloud": {},
  "kernelspec": {
   "display_name": "Python [default]",
   "language": "python",
   "name": "python2"
  },
  "language_info": {
   "codemirror_mode": {
    "name": "ipython",
    "version": 2
   },
   "file_extension": ".py",
   "mimetype": "text/x-python",
   "name": "python",
   "nbconvert_exporter": "python",
   "pygments_lexer": "ipython2",
   "version": "2.7.12"
  }
 },
 "nbformat": 4,
 "nbformat_minor": 1
}
