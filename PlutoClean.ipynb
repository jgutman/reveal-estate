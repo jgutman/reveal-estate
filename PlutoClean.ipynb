{
 "cells": [
  {
   "cell_type": "code",
   "execution_count": 97,
   "metadata": {
    "collapsed": true
   },
   "outputs": [],
   "source": [
    "import pandas as pd\n",
    "import numpy as np\n",
    "import matplotlib.pyplot as plt\n",
    "from collections import Counter\n",
    "import math"
   ]
  },
  {
   "cell_type": "code",
   "execution_count": 2,
   "metadata": {
    "collapsed": false
   },
   "outputs": [
    {
     "name": "stderr",
     "output_type": "stream",
     "text": [
      "/Users/Laura/anaconda/lib/python2.7/site-packages/pandas/io/parsers.py:1170: DtypeWarning: Columns (1,2,3,4,5,6,7,8,10,11,12,13,18,19,21,22,23,24,29,30,33,34,35,36,37,38,39,40,41,42,43,44,45,46,47,48,49,50,51,53,55,56,57,58,59,60,61,63,64,65,66,67,68,69,70,71,72,73,74,75,76,80,81,82,84) have mixed types. Specify dtype option on import or set low_memory=False.\n",
      "  data = self._reader.read(nrows)\n"
     ]
    }
   ],
   "source": [
    "# Load data\n",
    "pluto = pd.read_csv('data.csv')\n",
    "# Remove duplicate column names from concatenation \n",
    "pluto = pluto[pluto['Borough']!='Borough']"
   ]
  },
  {
   "cell_type": "code",
   "execution_count": 3,
   "metadata": {
    "collapsed": true
   },
   "outputs": [],
   "source": [
    "columns_to_remove = ['Block', 'Lot','ZoneDist1','ZoneDist2', 'ZoneDist3', 'ZoneDist4', 'Overlay1', 'Overlay2',\n",
    "        'SPDist1', 'SPDist2', 'AllZoning1', 'AllZoning2','OwnerName', 'LotArea', 'BldgArea', \n",
    "        'OfficeArea', 'RetailArea', 'GarageArea', 'StrgeArea', 'FactryArea','OtherArea', 'AreaSource',\n",
    "        'AssessLand', 'AssessTot', 'ExemptLand', 'ExemptTot','BuiltFAR', 'ResidFAR', 'CommFAR', 'FacilFAR',\n",
    "        'ZMCode','Sanborn', 'TaxMap', 'EDesigNum', 'APPBBL', 'APPDate', 'PLUTOMapID','Address','BoroCode','Version',\n",
    "        'CT2010','CB2010','SanitBoro','Tract2010', 'CD','FireComp','PolicePrct','HealthArea',\n",
    "        'SanitDistrict','SanitSub']"
   ]
  },
  {
   "cell_type": "code",
   "execution_count": 4,
   "metadata": {
    "collapsed": false
   },
   "outputs": [],
   "source": [
    "for col in columns_to_remove:\n",
    "    pluto = pluto.drop(col,axis=1)"
   ]
  },
  {
   "cell_type": "code",
   "execution_count": 5,
   "metadata": {
    "collapsed": true
   },
   "outputs": [],
   "source": [
    "columns_to_float =['SchoolDist', 'Council', 'ZipCode','ComArea', 'ResArea',\n",
    "       'LandUse', 'Easements','NumBldgs', 'NumFloors', 'UnitsRes', 'UnitsTotal', 'LotFront',\n",
    "       'LotDepth', 'BldgFront', 'BldgDepth', 'ProxCode','LotType', 'BsmtCode', 'YearBuilt',\n",
    "       'YearAlter1', 'YearAlter2', 'BBL','CondoNo', 'XCoord', 'YCoord']"
   ]
  },
  {
   "cell_type": "code",
   "execution_count": 6,
   "metadata": {
    "collapsed": false
   },
   "outputs": [],
   "source": [
    "for col in columns_to_float:\n",
    "    pluto[col] = pluto[col].astype(float)"
   ]
  },
  {
   "cell_type": "code",
   "execution_count": 7,
   "metadata": {
    "collapsed": false
   },
   "outputs": [],
   "source": [
    "# Remove rows with bad coordinate data\n",
    "pluto = pluto[pluto['XCoord'].notnull()]\n",
    "pluto = pluto[pluto['YCoord'].notnull()]\n",
    "pluto = pluto[pluto['XCoord']!=0]\n",
    "pluto = pluto[pluto['YCoord']!=0]"
   ]
  },
  {
   "cell_type": "code",
   "execution_count": 8,
   "metadata": {
    "collapsed": true
   },
   "outputs": [],
   "source": [
    "pluto['GrossSquareFeetPluto'] = pluto['ResArea'] + pluto['ComArea']\n",
    "pluto = pluto[pluto['GrossSquareFeetPluto']!=0]"
   ]
  },
  {
   "cell_type": "code",
   "execution_count": 9,
   "metadata": {
    "collapsed": false
   },
   "outputs": [],
   "source": [
    "BinaryDict = {'N': 0, 'Y': 1}\n",
    "# Split Zone Binary\n",
    "pluto.replace({\"SplitZone\": BinaryDict},inplace=True)\n",
    "# IrrLotCode Binary\n",
    "pluto.replace({\"IrrLotCode\": BinaryDict},inplace=True)"
   ]
  },
  {
   "cell_type": "code",
   "execution_count": 10,
   "metadata": {
    "collapsed": false
   },
   "outputs": [],
   "source": [
    "# Limited Height Binary\n",
    "LtdHeightDict = {'LH-1': 1, 'LH-1A': 1}\n",
    "pluto.replace({\"LtdHeight\": LtdHeightDict},inplace=True)\n",
    "pluto['LtdHeight'].fillna(value=0,inplace=True)"
   ]
  },
  {
   "cell_type": "code",
   "execution_count": 11,
   "metadata": {
    "collapsed": false
   },
   "outputs": [],
   "source": [
    "# BuiltCode Binary\n",
    "BuiltCodeDict = {'E': 1}\n",
    "pluto.replace({\"BuiltCode\": BuiltCodeDict},inplace=True)\n",
    "pluto['BuiltCode'].fillna(value=0,inplace=True)"
   ]
  },
  {
   "cell_type": "code",
   "execution_count": 12,
   "metadata": {
    "collapsed": false
   },
   "outputs": [],
   "source": [
    "# Hist Dist Binary\n",
    "pluto['HistDist'] = (pluto['HistDist'].notnull())*1\n",
    "pluto['HistDist'].fillna(value=0,inplace=True)"
   ]
  },
  {
   "cell_type": "code",
   "execution_count": 13,
   "metadata": {
    "collapsed": false
   },
   "outputs": [],
   "source": [
    "# Landmark\n",
    "pluto['Landmark'] = (pluto['Landmark'].notnull())*1\n",
    "pluto['Landmark'].fillna(value=0,inplace=True)"
   ]
  },
  {
   "cell_type": "code",
   "execution_count": 14,
   "metadata": {
    "collapsed": false
   },
   "outputs": [],
   "source": [
    "# Ext New Columns\n",
    "pluto['Garage'] = (pluto['Ext']==('G' or 'EG'))*1\n",
    "pluto['Extension'] = (pluto['Ext']==('E' or 'EG'))*1\n",
    "pluto = pluto.drop('Ext',axis=1)"
   ]
  },
  {
   "cell_type": "code",
   "execution_count": 15,
   "metadata": {
    "collapsed": false
   },
   "outputs": [],
   "source": [
    "# Count Alterations \n",
    "pluto['YearAlter1'] = (pluto['YearAlter1'] > 0)*1\n",
    "pluto['YearAlter2'] = (pluto['YearAlter2'] > 0)*1\n",
    "pluto['CountAlter'] = pluto['YearAlter1'] + pluto['YearAlter2']\n",
    "pluto = pluto.drop('YearAlter1',axis=1)\n",
    "pluto = pluto.drop('YearAlter2',axis=1)"
   ]
  },
  {
   "cell_type": "code",
   "execution_count": 90,
   "metadata": {
    "collapsed": false
   },
   "outputs": [],
   "source": [
    "# Round NumFloors and Log\n",
    "pluto['NumFloors'] = pluto['NumFloors'].astype(float).round()"
   ]
  },
  {
   "cell_type": "code",
   "execution_count": 17,
   "metadata": {
    "collapsed": false
   },
   "outputs": [],
   "source": [
    "# Easements Binary\n",
    "pluto['Easements'] = (pluto['Easements']>0)*1"
   ]
  },
  {
   "cell_type": "code",
   "execution_count": 18,
   "metadata": {
    "collapsed": false
   },
   "outputs": [],
   "source": [
    "# ProxCode set NaN\n",
    "pluto['ProxCode'] = pluto['ProxCode'].replace(0,np.nan)"
   ]
  },
  {
   "cell_type": "code",
   "execution_count": 19,
   "metadata": {
    "collapsed": true
   },
   "outputs": [],
   "source": [
    "# BsmtCode Binary\n",
    "pluto['BsmtCode'] = pluto['BsmtCode'].replace(5,np.nan)\n",
    "pluto['BsmtCode'] = (pluto['BsmtCode'] > 0)*1"
   ]
  },
  {
   "cell_type": "code",
   "execution_count": 20,
   "metadata": {
    "collapsed": false
   },
   "outputs": [],
   "source": [
    "# Limit NumBldgs\n",
    "pluto['NumBldgs'] = ((pluto['NumBldgs']<10)*1).replace(0,np.nan)* pluto['NumBldgs']"
   ]
  },
  {
   "cell_type": "code",
   "execution_count": 78,
   "metadata": {
    "collapsed": true
   },
   "outputs": [],
   "source": [
    "# Limit Front and Depth\n",
    "pluto['LotFront'] = ((pluto['LotFront']<100)*1).replace(0,np.nan)* pluto['LotFront']\n",
    "pluto['LotDepth'] = ((pluto['LotDepth']<200)*1).replace(0,np.nan)* pluto['LotDepth']\n",
    "pluto['BldgFront'] = ((pluto['BldgFront']<100)*1).replace(0,np.nan)* pluto['BldgFront']\n",
    "pluto['BldgDepth'] = ((pluto['BldgDepth']<200)*1).replace(0,np.nan)* pluto['BldgDepth']"
   ]
  },
  {
   "cell_type": "code",
   "execution_count": 22,
   "metadata": {
    "collapsed": true
   },
   "outputs": [],
   "source": [
    "# Fix impossible years\n",
    "pluto['YearBuilt'] = ((pluto['YearBuilt']<2016)*1).replace(0,np.nan)* pluto['YearBuilt']"
   ]
  },
  {
   "cell_type": "code",
   "execution_count": 23,
   "metadata": {
    "collapsed": false
   },
   "outputs": [],
   "source": [
    "# Limit UnitRes and UnitsTotal\n",
    "pluto['UnitsRes'] = ((pluto['UnitsRes']<100)*1).replace(0,np.nan)* pluto['UnitsRes']\n",
    "pluto['UnitsTotal'] = ((pluto['UnitsTotal']<100)*1).replace(0,np.nan)* pluto['UnitsTotal']"
   ]
  },
  {
   "cell_type": "code",
   "execution_count": 26,
   "metadata": {
    "collapsed": true
   },
   "outputs": [],
   "source": [
    "# To make dummy:\n",
    "# - Borough\n",
    "# - SchoolDist\n",
    "# - Council\n",
    "# - BldgClass\n",
    "# - LandUse\n",
    "# - OwnerType\n",
    "# - ProxCode\n",
    "# - LotType\n",
    "\n",
    "# Binary: \n",
    "# - LtdHeight\n",
    "# - SplitZone\n",
    "# - Easements\n",
    "# - IrrLotCode\n",
    "# - BsmtCode\n",
    "# - BuiltCode\n",
    "# - HistDist\n",
    "# - Landmark\n",
    "\n",
    "# Continuous:\n",
    "# - NumBldgs \n",
    "# - NumFloors\n",
    "# - LotFront \n",
    "# - LotDepth\n",
    "# - BldgFront\n",
    "# - BldgDepth\n",
    "# - YearBuilt\n",
    "# - UnitsRes \n",
    "# - UnitsTotal \n",
    "# - XCoord ***\n",
    "# - YCoord ***\n",
    "\n",
    "# Other:\n",
    "# - BBL <- primary key\n",
    "# - CondoNo\n",
    "# - Zipcode"
   ]
  }
 ],
 "metadata": {
  "kernelspec": {
   "display_name": "Python 2",
   "language": "python",
   "name": "python2"
  },
  "language_info": {
   "codemirror_mode": {
    "name": "ipython",
    "version": 2
   },
   "file_extension": ".py",
   "mimetype": "text/x-python",
   "name": "python",
   "nbconvert_exporter": "python",
   "pygments_lexer": "ipython2",
   "version": "2.7.10"
  }
 },
 "nbformat": 4,
 "nbformat_minor": 0
}
