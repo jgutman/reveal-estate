{
 "cells": [
  {
   "cell_type": "code",
   "execution_count": 1,
   "metadata": {
    "collapsed": true
   },
   "outputs": [],
   "source": [
    "import merge_pluto_finance_new as mpf"
   ]
  },
  {
   "cell_type": "code",
   "execution_count": 2,
   "metadata": {
    "collapsed": true
   },
   "outputs": [],
   "source": [
    "import pandas as pd\n",
    "import numpy as np"
   ]
  },
  {
   "cell_type": "code",
   "execution_count": 7,
   "metadata": {
    "collapsed": true
   },
   "outputs": [],
   "source": [
    "boros = [\"manhattan\", \"brooklyn\", \"bronx\", \"queens\", \"si\"]\n",
    "years = list(range(2003, 2017))"
   ]
  },
  {
   "cell_type": "code",
   "execution_count": 4,
   "metadata": {
    "collapsed": true
   },
   "outputs": [],
   "source": [
    "boros = [\"\".join(boro.lower().split()) for boro in boros]"
   ]
  },
  {
   "cell_type": "code",
   "execution_count": 5,
   "metadata": {
    "collapsed": false
   },
   "outputs": [],
   "source": [
    "pluto = mpf.read_in_pluto(boros)"
   ]
  },
  {
   "cell_type": "code",
   "execution_count": 8,
   "metadata": {
    "collapsed": false
   },
   "outputs": [
    {
     "name": "stdout",
     "output_type": "stream",
     "text": [
      "Pulling Finance data for 2003_manhattan\n",
      "Pulling Finance data for 2003_brooklyn\n",
      "Pulling Finance data for 2003_bronx\n",
      "Pulling Finance data for 2003_queens\n",
      "Pulling Finance data for 2003_si\n",
      "Pulling Finance data for 2004_manhattan\n",
      "Pulling Finance data for 2004_brooklyn\n",
      "Pulling Finance data for 2004_bronx\n",
      "Pulling Finance data for 2004_queens\n",
      "Pulling Finance data for 2004_si\n",
      "Pulling Finance data for 2005_manhattan\n",
      "Pulling Finance data for 2005_brooklyn\n",
      "Pulling Finance data for 2005_bronx\n",
      "Pulling Finance data for 2005_queens\n",
      "Pulling Finance data for 2005_si\n",
      "Pulling Finance data for 2006_manhattan\n",
      "Pulling Finance data for 2006_brooklyn\n",
      "Pulling Finance data for 2006_bronx\n",
      "Pulling Finance data for 2006_queens\n",
      "Pulling Finance data for 2006_si\n",
      "Pulling Finance data for 2007_manhattan\n",
      "Pulling Finance data for 2007_brooklyn\n",
      "Pulling Finance data for 2007_bronx\n",
      "Pulling Finance data for 2007_queens\n",
      "Pulling Finance data for 2007_si\n",
      "Pulling Finance data for 2008_manhattan\n",
      "Pulling Finance data for 2008_brooklyn\n",
      "Pulling Finance data for 2008_bronx\n",
      "Pulling Finance data for 2008_queens\n",
      "Pulling Finance data for 2008_si\n",
      "Pulling Finance data for 2009_manhattan\n",
      "Pulling Finance data for 2009_brooklyn\n",
      "Pulling Finance data for 2009_bronx\n",
      "Pulling Finance data for 2009_queens\n",
      "Pulling Finance data for 2009_si\n",
      "Pulling Finance data for 2010_manhattan\n",
      "Pulling Finance data for 2010_brooklyn\n",
      "Pulling Finance data for 2010_bronx\n",
      "Pulling Finance data for 2010_queens\n",
      "Pulling Finance data for 2010_si\n",
      "Pulling Finance data for 2011_manhattan\n",
      "Pulling Finance data for 2011_brooklyn\n",
      "Pulling Finance data for 2011_bronx\n",
      "Pulling Finance data for 2011_queens\n",
      "Pulling Finance data for 2011_si\n",
      "Pulling Finance data for 2012_manhattan\n",
      "Pulling Finance data for 2012_brooklyn\n",
      "Pulling Finance data for 2012_bronx\n",
      "Pulling Finance data for 2012_queens\n",
      "Pulling Finance data for 2012_si\n",
      "Pulling Finance data for 2013_manhattan\n",
      "Pulling Finance data for 2013_brooklyn\n",
      "Pulling Finance data for 2013_bronx\n",
      "Pulling Finance data for 2013_queens\n",
      "Pulling Finance data for 2013_si\n",
      "Pulling Finance data for 2014_manhattan\n",
      "Pulling Finance data for 2014_brooklyn\n",
      "Pulling Finance data for 2014_bronx\n",
      "Pulling Finance data for 2014_queens\n",
      "Pulling Finance data for 2014_si\n",
      "Pulling Finance data for 2015_manhattan\n",
      "Pulling Finance data for 2015_brooklyn\n",
      "Pulling Finance data for 2015_bronx\n",
      "Pulling Finance data for 2015_queens\n",
      "Pulling Finance data for 2015_si\n",
      "Pulling Finance data for 2016_manhattan\n",
      "Pulling Finance data for 2016_brooklyn\n",
      "Pulling Finance data for 2016_bronx\n",
      "Pulling Finance data for 2016_queens\n",
      "Pulling Finance data for 2016_si\n"
     ]
    }
   ],
   "source": [
    "finance = mpf.read_in_finance(boros, years)"
   ]
  },
  {
   "cell_type": "code",
   "execution_count": 9,
   "metadata": {
    "collapsed": false
   },
   "outputs": [
    {
     "data": {
      "text/plain": [
       "(1018238, 9)"
      ]
     },
     "execution_count": 9,
     "metadata": {},
     "output_type": "execute_result"
    }
   ],
   "source": [
    "finance.shape"
   ]
  },
  {
   "cell_type": "code",
   "execution_count": 10,
   "metadata": {
    "collapsed": false
   },
   "outputs": [
    {
     "data": {
      "text/plain": [
       "(1005250, 9)"
      ]
     },
     "execution_count": 10,
     "metadata": {},
     "output_type": "execute_result"
    }
   ],
   "source": [
    "finance.drop_duplicates().shape"
   ]
  },
  {
   "cell_type": "code",
   "execution_count": 12,
   "metadata": {
    "collapsed": false
   },
   "outputs": [
    {
     "data": {
      "text/plain": [
       "12988"
      ]
     },
     "execution_count": 12,
     "metadata": {},
     "output_type": "execute_result"
    }
   ],
   "source": [
    "finance.shape[0] - finance.drop_duplicates().shape[0]"
   ]
  },
  {
   "cell_type": "code",
   "execution_count": 15,
   "metadata": {
    "collapsed": false
   },
   "outputs": [
    {
     "data": {
      "text/plain": [
       "1014491302    15\n",
       "4057400139    15\n",
       "4050070022    15\n",
       "1011581107    15\n",
       "1012370017    15\n",
       "4074740050    15\n",
       "3053290072    15\n",
       "4085110002    15\n",
       "4053740016    15\n",
       "3003020009    15\n",
       "1012470047    15\n",
       "1016001002    15\n",
       "1011420048    15\n",
       "1014021002    15\n",
       "4051930009    15\n",
       "4018720045    15\n",
       "1013330023    15\n",
       "3002310019    15\n",
       "3065320076    15\n",
       "3073970001    15\n",
       "1018790001    15\n",
       "1013940007    15\n",
       "1011680022    15\n",
       "1006090047    15\n",
       "1015900007    15\n",
       "4114590001    15\n",
       "1008770074    15\n",
       "1014380001    15\n",
       "3087231004    15\n",
       "4014570001    15\n",
       "              ..\n",
       "1019030020     2\n",
       "4091540049     2\n",
       "4028480022     2\n",
       "4021670011     2\n",
       "3022241416     2\n",
       "3048690081     2\n",
       "1015261330     2\n",
       "3055520057     2\n",
       "4030310049     2\n",
       "3002711025     2\n",
       "5002540049     2\n",
       "4031660131     2\n",
       "3068780028     2\n",
       "4135990012     2\n",
       "4091750088     2\n",
       "5070411056     2\n",
       "4104770013     2\n",
       "4095720024     2\n",
       "5053310040     2\n",
       "4000770049     2\n",
       "2051350031     2\n",
       "4121460021     2\n",
       "3002990016     2\n",
       "2029190044     2\n",
       "4030930007     2\n",
       "3032380001     2\n",
       "4006210010     2\n",
       "1018310116     2\n",
       "3085550047     2\n",
       "5007940138     2\n",
       "Name: bbl, dtype: int64"
      ]
     },
     "execution_count": 15,
     "metadata": {},
     "output_type": "execute_result"
    }
   ],
   "source": [
    "finance.bbl.value_counts()[finance.bbl.value_counts() > 1]"
   ]
  },
  {
   "cell_type": "code",
   "execution_count": null,
   "metadata": {
    "collapsed": true
   },
   "outputs": [],
   "source": []
  }
 ],
 "metadata": {
  "kernelspec": {
   "display_name": "Python [conda root]",
   "language": "python",
   "name": "conda-root-py"
  },
  "language_info": {
   "codemirror_mode": {
    "name": "ipython",
    "version": 3
   },
   "file_extension": ".py",
   "mimetype": "text/x-python",
   "name": "python",
   "nbconvert_exporter": "python",
   "pygments_lexer": "ipython3",
   "version": "3.5.2"
  }
 },
 "nbformat": 4,
 "nbformat_minor": 1
}
