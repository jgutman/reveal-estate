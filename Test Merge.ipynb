{
 "cells": [
  {
   "cell_type": "code",
   "execution_count": 1,
   "metadata": {
    "collapsed": true
   },
   "outputs": [],
   "source": [
    "import merge_pluto_finance_new as mpf"
   ]
  },
  {
   "cell_type": "code",
   "execution_count": 2,
   "metadata": {
    "collapsed": true
   },
   "outputs": [],
   "source": [
    "import pandas as pd\n",
    "import numpy as np"
   ]
  },
  {
   "cell_type": "code",
   "execution_count": 3,
   "metadata": {
    "collapsed": true
   },
   "outputs": [],
   "source": [
    "boros = [\"manhattan\", \"brooklyn\", \"bronx\", \"queens\", \"si\"]\n",
    "years = list(range(2003, 2017))"
   ]
  },
  {
   "cell_type": "code",
   "execution_count": 4,
   "metadata": {
    "collapsed": true
   },
   "outputs": [],
   "source": [
    "boros = [\"\".join(boro.lower().split()) for boro in boros]"
   ]
  },
  {
   "cell_type": "code",
   "execution_count": 5,
   "metadata": {
    "collapsed": false
   },
   "outputs": [],
   "source": [
    "pluto = mpf.read_in_pluto(boros)"
   ]
  },
  {
   "cell_type": "code",
   "execution_count": 6,
   "metadata": {
    "collapsed": false
   },
   "outputs": [
    {
     "name": "stdout",
     "output_type": "stream",
     "text": [
      "Pulling Finance data for 2003_manhattan\n",
      "Pulling Finance data for 2003_brooklyn\n",
      "Pulling Finance data for 2003_bronx\n",
      "Pulling Finance data for 2003_queens\n",
      "Pulling Finance data for 2003_si\n",
      "Pulling Finance data for 2004_manhattan\n",
      "Pulling Finance data for 2004_brooklyn\n",
      "Pulling Finance data for 2004_bronx\n",
      "Pulling Finance data for 2004_queens\n",
      "Pulling Finance data for 2004_si\n",
      "Pulling Finance data for 2005_manhattan\n",
      "Pulling Finance data for 2005_brooklyn\n",
      "Pulling Finance data for 2005_bronx\n",
      "Pulling Finance data for 2005_queens\n",
      "Pulling Finance data for 2005_si\n",
      "Pulling Finance data for 2006_manhattan\n",
      "Pulling Finance data for 2006_brooklyn\n",
      "Pulling Finance data for 2006_bronx\n",
      "Pulling Finance data for 2006_queens\n",
      "Pulling Finance data for 2006_si\n",
      "Pulling Finance data for 2007_manhattan\n",
      "Pulling Finance data for 2007_brooklyn\n",
      "Pulling Finance data for 2007_bronx\n",
      "Pulling Finance data for 2007_queens\n",
      "Pulling Finance data for 2007_si\n",
      "Pulling Finance data for 2008_manhattan\n",
      "Pulling Finance data for 2008_brooklyn\n",
      "Pulling Finance data for 2008_bronx\n",
      "Pulling Finance data for 2008_queens\n",
      "Pulling Finance data for 2008_si\n",
      "Pulling Finance data for 2009_manhattan\n",
      "Pulling Finance data for 2009_brooklyn\n",
      "Pulling Finance data for 2009_bronx\n",
      "Pulling Finance data for 2009_queens\n",
      "Pulling Finance data for 2009_si\n",
      "Pulling Finance data for 2010_manhattan\n",
      "Pulling Finance data for 2010_brooklyn\n",
      "Pulling Finance data for 2010_bronx\n",
      "Pulling Finance data for 2010_queens\n",
      "Pulling Finance data for 2010_si\n",
      "Pulling Finance data for 2011_manhattan\n",
      "Pulling Finance data for 2011_brooklyn\n",
      "Pulling Finance data for 2011_bronx\n",
      "Pulling Finance data for 2011_queens\n",
      "Pulling Finance data for 2011_si\n",
      "Pulling Finance data for 2012_manhattan\n",
      "Pulling Finance data for 2012_brooklyn\n",
      "Pulling Finance data for 2012_bronx\n",
      "Pulling Finance data for 2012_queens\n",
      "Pulling Finance data for 2012_si\n",
      "Pulling Finance data for 2013_manhattan\n",
      "Pulling Finance data for 2013_brooklyn\n",
      "Pulling Finance data for 2013_bronx\n",
      "Pulling Finance data for 2013_queens\n",
      "Pulling Finance data for 2013_si\n",
      "Pulling Finance data for 2014_manhattan\n",
      "Pulling Finance data for 2014_brooklyn\n",
      "Pulling Finance data for 2014_bronx\n",
      "Pulling Finance data for 2014_queens\n",
      "Pulling Finance data for 2014_si\n",
      "Pulling Finance data for 2015_manhattan\n",
      "Pulling Finance data for 2015_brooklyn\n",
      "Pulling Finance data for 2015_bronx\n",
      "Pulling Finance data for 2015_queens\n",
      "Pulling Finance data for 2015_si\n",
      "Pulling Finance data for 2016_manhattan\n",
      "Pulling Finance data for 2016_brooklyn\n",
      "Pulling Finance data for 2016_bronx\n",
      "Pulling Finance data for 2016_queens\n",
      "Pulling Finance data for 2016_si\n"
     ]
    }
   ],
   "source": [
    "finance = mpf.read_in_finance(boros, years)"
   ]
  },
  {
   "cell_type": "code",
   "execution_count": 9,
   "metadata": {
    "collapsed": true
   },
   "outputs": [],
   "source": [
    "dtm = mpf.read_in_dtm(boros)"
   ]
  },
  {
   "cell_type": "code",
   "execution_count": 7,
   "metadata": {
    "collapsed": false
   },
   "outputs": [
    {
     "data": {
      "text/plain": [
       "0"
      ]
     },
     "execution_count": 7,
     "metadata": {},
     "output_type": "execute_result"
    }
   ],
   "source": [
    "pluto.shape[0] - pluto.drop_duplicates().shape[0]"
   ]
  },
  {
   "cell_type": "code",
   "execution_count": 91,
   "metadata": {
    "collapsed": false
   },
   "outputs": [
    {
     "data": {
      "text/plain": [
       "0"
      ]
     },
     "execution_count": 91,
     "metadata": {},
     "output_type": "execute_result"
    }
   ],
   "source": [
    "finance.shape[0] - finance.drop_duplicates().shape[0]"
   ]
  },
  {
   "cell_type": "code",
   "execution_count": 10,
   "metadata": {
    "collapsed": false
   },
   "outputs": [
    {
     "data": {
      "text/plain": [
       "0"
      ]
     },
     "execution_count": 10,
     "metadata": {},
     "output_type": "execute_result"
    }
   ],
   "source": [
    "dtm.shape[0] - dtm.drop_duplicates().shape[0]"
   ]
  },
  {
   "cell_type": "code",
   "execution_count": 14,
   "metadata": {
    "collapsed": false
   },
   "outputs": [
    {
     "name": "stdout",
     "output_type": "stream",
     "text": [
      "Finance:(267610, 9) DTM:(228319, 6)\n",
      "Finance intermediate:(122977, 12) PLUTO:(812364, 41)\n",
      "Finance intermediate (all condos): (5248, 15)\n"
     ]
    }
   ],
   "source": [
    "finance_condo_updated = mpf.get_finance_condo_lot(pluto = pluto,\n",
    "        finance = finance, dtm = dtm)"
   ]
  },
  {
   "cell_type": "code",
   "execution_count": 12,
   "metadata": {
    "collapsed": false
   },
   "outputs": [
    {
     "name": "stdout",
     "output_type": "stream",
     "text": [
      "Updating lot numbers for condo units\n",
      "Finance:(267610, 9) PLUTO:(812364, 41) DTM:(228319, 6)\n",
      "Finance:(267610, 9) DTM:(228319, 6)\n",
      "Finance intermediate:(122977, 12) PLUTO:(812364, 41)\n",
      "Finance intermediate (all condos): (5248, 15)\n",
      "Finance updated:(272615, 9)\n",
      "Merging PLUTO with updated Dept. of Finance data\n"
     ]
    }
   ],
   "source": [
    "buildings = mpf.merge_pluto_finance(pluto, finance, dtm)"
   ]
  },
  {
   "cell_type": "code",
   "execution_count": 13,
   "metadata": {
    "collapsed": false
   },
   "outputs": [
    {
     "data": {
      "text/plain": [
       "4906"
      ]
     },
     "execution_count": 13,
     "metadata": {},
     "output_type": "execute_result"
    }
   ],
   "source": [
    "buildings.shape[0] - buildings.drop_duplicates().shape[0]"
   ]
  },
  {
   "cell_type": "code",
   "execution_count": 133,
   "metadata": {
    "collapsed": false
   },
   "outputs": [
    {
     "data": {
      "text/plain": [
       "0"
      ]
     },
     "execution_count": 133,
     "metadata": {},
     "output_type": "execute_result"
    }
   ],
   "source": [
    "finance_condo_updated.shape[0] - finance_condo_updated.drop_duplicates().shape[0]"
   ]
  },
  {
   "cell_type": "code",
   "execution_count": 114,
   "metadata": {
    "collapsed": true
   },
   "outputs": [],
   "source": [
    "dtm_cols_to_keep = ['unit_bbl', 'condo_boro', 'condo_numb']\n",
    "pluto_cols_to_keep = ['bbl', 'block', 'borocode', 'condono']"
   ]
  },
  {
   "cell_type": "code",
   "execution_count": 115,
   "metadata": {
    "collapsed": true
   },
   "outputs": [],
   "source": [
    "finance_condos_only = pd.merge(finance, dtm[dtm_cols_to_keep],\n",
    "    how='inner', left_on=['bbl'], right_on=['unit_bbl'])"
   ]
  },
  {
   "cell_type": "code",
   "execution_count": 116,
   "metadata": {
    "collapsed": true
   },
   "outputs": [],
   "source": [
    "finance_condos_only = pd.merge(pluto[pluto_cols_to_keep],\n",
    "    finance_condos_only, how='inner',\n",
    "    left_on=['borocode', 'block', 'condono'],\n",
    "    right_on=['condo_boro', 'block', 'condo_numb'],\n",
    "    suffixes=['_pluto', '_finance'])"
   ]
  },
  {
   "cell_type": "code",
   "execution_count": 117,
   "metadata": {
    "collapsed": false
   },
   "outputs": [
    {
     "data": {
      "text/plain": [
       "Index(['bbl_pluto', 'block', 'borocode', 'condono', 'sale_price', 'sale_date',\n",
       "       'tax_class_at_time_of_sale', 'year_built', 'residential_units',\n",
       "       'commercial_units', 'total_units', 'bbl_finance', 'unit_bbl',\n",
       "       'condo_boro', 'condo_numb'],\n",
       "      dtype='object')"
      ]
     },
     "execution_count": 117,
     "metadata": {},
     "output_type": "execute_result"
    }
   ],
   "source": [
    "finance_condos_only.columns"
   ]
  },
  {
   "cell_type": "code",
   "execution_count": 21,
   "metadata": {
    "collapsed": false
   },
   "outputs": [
    {
     "data": {
      "text/plain": [
       "0"
      ]
     },
     "execution_count": 21,
     "metadata": {},
     "output_type": "execute_result"
    }
   ],
   "source": [
    "finance_condos_only.shape[0] - finance_condos_only.drop_duplicates().shape[0]"
   ]
  },
  {
   "cell_type": "code",
   "execution_count": 118,
   "metadata": {
    "collapsed": false
   },
   "outputs": [],
   "source": [
    "finance_condos_only['bbl_pluto'] = finance_condos_only['bbl_pluto'].astype(int)"
   ]
  },
  {
   "cell_type": "code",
   "execution_count": 122,
   "metadata": {
    "collapsed": false
   },
   "outputs": [],
   "source": [
    "finance_condos_only = finance_condos_only[['bbl_pluto', 'bbl_finance']]"
   ]
  },
  {
   "cell_type": "code",
   "execution_count": 123,
   "metadata": {
    "collapsed": true
   },
   "outputs": [],
   "source": [
    "standard_bbls = list(set(finance.bbl).difference(\n",
    "                        set(finance_condos_only.bbl_finance)))"
   ]
  },
  {
   "cell_type": "code",
   "execution_count": 128,
   "metadata": {
    "collapsed": true
   },
   "outputs": [],
   "source": [
    "bbl_mappings = finance_condos_only.append(pd.DataFrame.from_dict(\n",
    "        {'bbl_pluto': standard_bbls, 'bbl_finance': standard_bbls}\n",
    "    )).drop_duplicates()"
   ]
  },
  {
   "cell_type": "code",
   "execution_count": 129,
   "metadata": {
    "collapsed": false
   },
   "outputs": [
    {
     "data": {
      "text/plain": [
       "0"
      ]
     },
     "execution_count": 129,
     "metadata": {},
     "output_type": "execute_result"
    }
   ],
   "source": [
    "bbl_mappings.shape[0] - bbl_mappings.drop_duplicates().shape[0]"
   ]
  },
  {
   "cell_type": "code",
   "execution_count": 132,
   "metadata": {
    "collapsed": true
   },
   "outputs": [],
   "source": [
    "finance_condo_updated = pd.merge(finance, bbl_mappings,\n",
    "        how='left', left_on='bbl', right_on='bbl_finance')"
   ]
  },
  {
   "cell_type": "code",
   "execution_count": 134,
   "metadata": {
    "collapsed": false
   },
   "outputs": [
    {
     "data": {
      "text/plain": [
       "Index(['sale_price', 'sale_date', 'tax_class_at_time_of_sale', 'year_built',\n",
       "       'residential_units', 'commercial_units', 'total_units', 'block', 'bbl',\n",
       "       'bbl_finance', 'bbl_pluto'],\n",
       "      dtype='object')"
      ]
     },
     "execution_count": 134,
     "metadata": {},
     "output_type": "execute_result"
    }
   ],
   "source": [
    "finance_condo_updated.columns"
   ]
  },
  {
   "cell_type": "code",
   "execution_count": 135,
   "metadata": {
    "collapsed": false
   },
   "outputs": [
    {
     "data": {
      "text/plain": [
       "Index(['borough', 'block', 'schooldist', 'council', 'zipcode', 'ltdheight',\n",
       "       'splitzone', 'bldgclass', 'landuse', 'easements', 'ownertype',\n",
       "       'comarea', 'resarea', 'numbldgs', 'numfloors', 'unitsres', 'unitstotal',\n",
       "       'lotfront', 'lotdepth', 'bldgfront', 'bldgdepth', 'proxcode',\n",
       "       'irrlotcode', 'lottype', 'bsmtcode', 'yearbuilt', 'builtcode',\n",
       "       'histdist', 'landmark', 'borocode', 'bbl', 'condono', 'xcoord',\n",
       "       'ycoord', 'zonemap', 'latitude', 'longitude', 'gross_sqft_pluto',\n",
       "       'garage', 'extension', 'countalter'],\n",
       "      dtype='object')"
      ]
     },
     "execution_count": 135,
     "metadata": {},
     "output_type": "execute_result"
    }
   ],
   "source": [
    "pluto.columns"
   ]
  },
  {
   "cell_type": "code",
   "execution_count": null,
   "metadata": {
    "collapsed": true
   },
   "outputs": [],
   "source": []
  }
 ],
 "metadata": {
  "kernelspec": {
   "display_name": "Python 3",
   "language": "python",
   "name": "python3"
  },
  "language_info": {
   "codemirror_mode": {
    "name": "ipython",
    "version": 3
   },
   "file_extension": ".py",
   "mimetype": "text/x-python",
   "name": "python",
   "nbconvert_exporter": "python",
   "pygments_lexer": "ipython3",
   "version": "3.5.2"
  }
 },
 "nbformat": 4,
 "nbformat_minor": 1
}
