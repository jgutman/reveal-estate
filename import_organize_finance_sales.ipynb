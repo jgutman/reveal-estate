{
 "cells": [
  {
   "cell_type": "code",
   "execution_count": 1,
   "metadata": {
    "collapsed": false
   },
   "outputs": [
    {
     "name": "stdout",
     "output_type": "stream",
     "text": [
      "2003_bronx.xls        2007_statenisland.xls 2012_queens.xls\r\n",
      "2003_brooklyn.xls     2008_bronx.xls        2012_statenisland.xls\r\n",
      "2003_manhattan.xls    2008_brooklyn.xls     2013_bronx.xls\r\n",
      "2003_queens.xls       2008_manhattan.xls    2013_brooklyn.xls\r\n",
      "2003_statenisland.xls 2008_queens.xls       2013_manhattan.xls\r\n",
      "2004_bronx.xls        2008_statenisland.xls 2013_queens.xls\r\n",
      "2004_brooklyn.xls     2009_bronx.xls        2013_statenisland.xls\r\n",
      "2004_manhattan.xls    2009_brooklyn.xls     2014_bronx.xls\r\n",
      "2004_queens.xls       2009_manhattan.xls    2014_brooklyn.xls\r\n",
      "2004_statenisland.xls 2009_queens.xls       2014_manhattan.xls\r\n",
      "2005_bronx.xls        2009_statenisland.xls 2014_queens.xls\r\n",
      "2005_brooklyn.xls     2010_bronx.xls        2014_statenisland.xls\r\n",
      "2005_manhattan.xls    2010_brooklyn.xls     2015_bronx.xls\r\n",
      "2005_queens.xls       2010_manhattan.xls    2015_brooklyn.xls\r\n",
      "2005_statenisland.xls 2010_queens.xls       2015_manhattan.xls\r\n",
      "2006_bronx.xls        2010_statenisland.xls 2015_queens.xls\r\n",
      "2006_brooklyn.xls     2011_bronx.xls        2015_statenisland.xls\r\n",
      "2006_manhattan.xls    2011_brooklyn.xls     2016_bronx.xls\r\n",
      "2006_queens.xls       2011_manhattan.xls    2016_brooklyn.xls\r\n",
      "2006_statenisland.xls 2011_queens.xls       2016_manhattan.xls\r\n",
      "2007_bronx.xls        2011_statenisland.xls 2016_queens.xls\r\n",
      "2007_brooklyn.xls     2012_bronx.xls        2016_statenisland.xls\r\n",
      "2007_manhattan.xls    2012_brooklyn.xls\r\n",
      "2007_queens.xls       2012_manhattan.xls\r\n"
     ]
    }
   ],
   "source": [
    "!ls data/finance_sales"
   ]
  },
  {
   "cell_type": "code",
   "execution_count": 2,
   "metadata": {
    "collapsed": false
   },
   "outputs": [
    {
     "name": "stdout",
     "output_type": "stream",
     "text": [
      "3.5.2\n"
     ]
    }
   ],
   "source": [
    "import platform\n",
    "print(platform.python_version())"
   ]
  },
  {
   "cell_type": "code",
   "execution_count": 3,
   "metadata": {
    "collapsed": true
   },
   "outputs": [],
   "source": [
    "import pandas as pd\n",
    "import numpy as np"
   ]
  },
  {
   "cell_type": "code",
   "execution_count": 4,
   "metadata": {
    "collapsed": true
   },
   "outputs": [],
   "source": [
    "boros = ['manhattan', 'bronx', 'brooklyn', 'queens', 'statenisland']\n",
    "years = range(2003, 2017)\n",
    "boro_codes = dict(zip(boros, range(1,6)))"
   ]
  },
  {
   "cell_type": "code",
   "execution_count": 5,
   "metadata": {
    "collapsed": true
   },
   "outputs": [],
   "source": [
    "def read_in_boro_year_data(boro, year):\n",
    "    \"\"\"\n",
    "    Fetches data file for a specified boro and year, and returns the data as a Pandas dataframe.\n",
    "    \n",
    "    Args:\n",
    "        string boro: name of boro for desired data\n",
    "        int year: year of desired data\n",
    "    Returns:\n",
    "        Pandas dataframe\n",
    "    \"\"\"\n",
    "    # Format input arguments appropriately\n",
    "    try:\n",
    "        year = int(year)\n",
    "    except TypeError:\n",
    "        print(\"inappropriate year for data\")\n",
    "    if year < 100:\n",
    "        year = year + 2000\n",
    "    assert(year in years), \"inappropriate year for data\"\n",
    "    if boro == \"si\":\n",
    "        boro = \"statenisland\"\n",
    "    assert(boro in boros), \"inappropriate boro for data\"\n",
    "    \n",
    "    # Reads in Excel file skipping appropriate number of junk rows at the beginning\n",
    "    filename = 'data/finance_sales/{year}_{boro}.xls'.format(year = year, boro = boro)\n",
    "    skip_rows = 4 if year > 2010 else 3\n",
    "    data = pd.read_excel(filename, skiprows = skip_rows)\n",
    "    # Remove newline characters from column headers\n",
    "    data.columns = [col.strip().lower() for col in data.columns]\n",
    "    return data"
   ]
  },
  {
   "cell_type": "code",
   "execution_count": 6,
   "metadata": {
    "collapsed": false
   },
   "outputs": [
    {
     "name": "stdout",
     "output_type": "stream",
     "text": [
      "Index(['borough', 'neighborhood', 'building class category',\n",
      "       'tax class at present', 'block', 'lot', 'ease-ment',\n",
      "       'building class at present', 'address', 'apartment number', 'zip code',\n",
      "       'residential units', 'commercial units', 'total units',\n",
      "       'land square feet', 'gross square feet', 'year built',\n",
      "       'tax class at time of sale', 'building class at time of sale',\n",
      "       'sale price', 'sale date'],\n",
      "      dtype='object')\n",
      "(25362, 21)\n"
     ]
    }
   ],
   "source": [
    "brooklyn_15 = read_in_boro_year_data('brooklyn', '15')\n",
    "print(brooklyn_15.columns)\n",
    "print(brooklyn_15.shape)"
   ]
  },
  {
   "cell_type": "code",
   "execution_count": 7,
   "metadata": {
    "collapsed": true
   },
   "outputs": [],
   "source": [
    "def add_BBL_and_price_per_ft(data, copy = True):\n",
    "    \"\"\"\n",
    "    Takes a raw dataframe and adds the BBL code (Borough, Block, Lot), and price per square foot.\n",
    "    Uses same 10-digit BBL format as PLUTO: 1 digit for Borough, 5 digits for Block, 4 digits for Lot.\n",
    "    \n",
    "    Args:\n",
    "        Pandas data: raw data frame to append BBL and PRICESQFT columns\n",
    "        boolean copy: whether to make a copy or alter the dataframe in place\n",
    "    Returns:\n",
    "        Pandas dataframe\n",
    "    \"\"\"\n",
    "    # copy the data frame to a new object if desired\n",
    "    if copy:\n",
    "        processed_data = data.copy()\n",
    "    else:\n",
    "        processed_data = data\n",
    "    \n",
    "    # extract the borough, block, and lot, and create a 10-digit code zero-padded code from these\n",
    "    bbl_columns = data[[\"borough\", \"block\", \"lot\"]].itertuples()\n",
    "    bbl_formatted = [\"%01d%05d%04d\" % (row.borough, row.block, row.lot) for row in bbl_columns]\n",
    "    processed_data[\"bbl\"] = bbl_formatted\n",
    "    processed_data[\"price per sqft\"] = data[\"sale price\"] / data[\"gross square feet\"]\n",
    "    return processed_data"
   ]
  },
  {
   "cell_type": "code",
   "execution_count": 8,
   "metadata": {
    "collapsed": false
   },
   "outputs": [
    {
     "name": "stdout",
     "output_type": "stream",
     "text": [
      "Index(['borough', 'neighborhood', 'building class category',\n",
      "       'tax class at present', 'block', 'lot', 'ease-ment',\n",
      "       'building class at present', 'address', 'apartment number', 'zip code',\n",
      "       'residential units', 'commercial units', 'total units',\n",
      "       'land square feet', 'gross square feet', 'year built',\n",
      "       'tax class at time of sale', 'building class at time of sale',\n",
      "       'sale price', 'sale date', 'bbl', 'price per sqft'],\n",
      "      dtype='object')\n"
     ]
    }
   ],
   "source": [
    "brooklyn_15 = add_BBL_and_price_per_ft(brooklyn_15)\n",
    "print(brooklyn_15.columns)"
   ]
  },
  {
   "cell_type": "code",
   "execution_count": 10,
   "metadata": {
    "collapsed": true
   },
   "outputs": [],
   "source": [
    "ys = [2014, 2015]\n",
    "bs = [\"brooklyn\", \"manhattan\"]"
   ]
  },
  {
   "cell_type": "code",
   "execution_count": null,
   "metadata": {
    "collapsed": true
   },
   "outputs": [],
   "source": [
    "finance = pd.DataFrame()\n",
    "for year in ys:\n",
    "    for borough in bs:\n",
    "        boro_year = read_in_boro_year_data(borough, year)\n",
    "        boro_year = add_BBL_and_price_per_ft(boro_year)\n",
    "        # append new rows to existing dataframe\n",
    "        finance = finance.append(boro_year)"
   ]
  },
  {
   "cell_type": "code",
   "execution_count": 11,
   "metadata": {
    "collapsed": false
   },
   "outputs": [
    {
     "data": {
      "text/plain": [
       "'MN'"
      ]
     },
     "execution_count": 11,
     "metadata": {},
     "output_type": "execute_result"
    }
   ],
   "source": [
    "initials = {\"manhattan\" : \"MN\", \"brooklyn\" : \"BK\", \"bronx\" : \"BX\",\n",
    "        \"queens\" : \"QN\", \"statenisland\" : \"SI\"}\n",
    "initials.get(\"manhattan\")"
   ]
  },
  {
   "cell_type": "code",
   "execution_count": 13,
   "metadata": {
    "collapsed": false
   },
   "outputs": [
    {
     "name": "stdout",
     "output_type": "stream",
     "text": [
      "Getting pluto data for ['brooklyn', 'manhattan']\n"
     ]
    }
   ],
   "source": [
    "print(\"Getting pluto data for {}\".format(bs))"
   ]
  },
  {
   "cell_type": "code",
   "execution_count": null,
   "metadata": {
    "collapsed": true
   },
   "outputs": [],
   "source": []
  }
 ],
 "metadata": {
  "kernelspec": {
   "display_name": "Python 3",
   "language": "python",
   "name": "python3"
  },
  "language_info": {
   "codemirror_mode": {
    "name": "ipython",
    "version": 3
   },
   "file_extension": ".py",
   "mimetype": "text/x-python",
   "name": "python",
   "nbconvert_exporter": "python",
   "pygments_lexer": "ipython3",
   "version": "3.5.2"
  }
 },
 "nbformat": 4,
 "nbformat_minor": 1
}
