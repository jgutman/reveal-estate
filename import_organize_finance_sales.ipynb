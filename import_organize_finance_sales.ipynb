{
 "cells": [
  {
   "cell_type": "code",
   "execution_count": 1,
   "metadata": {
    "collapsed": false
   },
   "outputs": [
    {
     "name": "stdout",
     "output_type": "stream",
     "text": [
      "2003_bronx.xls        2007_statenisland.xls 2012_queens.xls\r\n",
      "2003_brooklyn.xls     2008_bronx.xls        2012_statenisland.xls\r\n",
      "2003_manhattan.xls    2008_brooklyn.xls     2013_bronx.xls\r\n",
      "2003_queens.xls       2008_manhattan.xls    2013_brooklyn.xls\r\n",
      "2003_statenisland.xls 2008_queens.xls       2013_manhattan.xls\r\n",
      "2004_bronx.xls        2008_statenisland.xls 2013_queens.xls\r\n",
      "2004_brooklyn.xls     2009_bronx.xls        2013_statenisland.xls\r\n",
      "2004_manhattan.xls    2009_brooklyn.xls     2014_bronx.xls\r\n",
      "2004_queens.xls       2009_manhattan.xls    2014_brooklyn.xls\r\n",
      "2004_statenisland.xls 2009_queens.xls       2014_manhattan.xls\r\n",
      "2005_bronx.xls        2009_statenisland.xls 2014_queens.xls\r\n",
      "2005_brooklyn.xls     2010_bronx.xls        2014_statenisland.xls\r\n",
      "2005_manhattan.xls    2010_brooklyn.xls     2015_bronx.xls\r\n",
      "2005_queens.xls       2010_manhattan.xls    2015_brooklyn.xls\r\n",
      "2005_statenisland.xls 2010_queens.xls       2015_manhattan.xls\r\n",
      "2006_bronx.xls        2010_statenisland.xls 2015_queens.xls\r\n",
      "2006_brooklyn.xls     2011_bronx.xls        2015_statenisland.xls\r\n",
      "2006_manhattan.xls    2011_brooklyn.xls     2016_bronx.xls\r\n",
      "2006_queens.xls       2011_manhattan.xls    2016_brooklyn.xls\r\n",
      "2006_statenisland.xls 2011_queens.xls       2016_manhattan.xls\r\n",
      "2007_bronx.xls        2011_statenisland.xls 2016_queens.xls\r\n",
      "2007_brooklyn.xls     2012_bronx.xls        2016_statenisland.xls\r\n",
      "2007_manhattan.xls    2012_brooklyn.xls\r\n",
      "2007_queens.xls       2012_manhattan.xls\r\n"
     ]
    }
   ],
   "source": [
    "!ls data/finance_sales"
   ]
  },
  {
   "cell_type": "code",
   "execution_count": 2,
   "metadata": {
    "collapsed": false
   },
   "outputs": [
    {
     "name": "stdout",
     "output_type": "stream",
     "text": [
      "3.5.2\n"
     ]
    }
   ],
   "source": [
    "import platform\n",
    "print(platform.python_version())"
   ]
  },
  {
   "cell_type": "code",
   "execution_count": 3,
   "metadata": {
    "collapsed": true
   },
   "outputs": [],
   "source": [
    "import pandas as pd\n",
    "import numpy as np"
   ]
  },
  {
   "cell_type": "code",
   "execution_count": 4,
   "metadata": {
    "collapsed": true
   },
   "outputs": [],
   "source": [
    "boros = ['manhattan', 'bronx', 'brooklyn', 'queens', 'statenisland']\n",
    "years = range(2003, 2017)"
   ]
  },
  {
   "cell_type": "code",
   "execution_count": null,
   "metadata": {
    "collapsed": true
   },
   "outputs": [],
   "source": [
    "def read_in_boro_year_data(boro, year):\n",
    "    \"\"\"\n",
    "    Fetches data file for a specified boro and year, and returns the data as a Pandas dataframe.\n",
    "    \n",
    "    Args:\n",
    "        string boro: name of boro for desired data\n",
    "        int year: year of desired data\n",
    "    \"\"\"\n",
    "    \n",
    "    if year < 100:\n",
    "        year = year + 2000\n",
    "    assert(year in years), \"inappropriate year for data\"\n",
    "    if boro == \"si\":\n",
    "        boro = \"statenisland\"\n",
    "    assert(boro in boros), \"inappropriate boro for data\""
   ]
  }
 ],
 "metadata": {
  "kernelspec": {
   "display_name": "Python 3",
   "language": "python",
   "name": "python3"
  },
  "language_info": {
   "codemirror_mode": {
    "name": "ipython",
    "version": 3
   },
   "file_extension": ".py",
   "mimetype": "text/x-python",
   "name": "python",
   "nbconvert_exporter": "python",
   "pygments_lexer": "ipython3",
   "version": "3.5.2"
  }
 },
 "nbformat": 4,
 "nbformat_minor": 1
}
