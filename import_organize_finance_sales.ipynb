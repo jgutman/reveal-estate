{
 "cells": [
  {
   "cell_type": "code",
   "execution_count": 1,
   "metadata": {
    "collapsed": false
   },
   "outputs": [
    {
     "name": "stdout",
     "output_type": "stream",
     "text": [
      "2003_bronx.xls        2007_statenisland.xls 2012_queens.xls\r\n",
      "2003_brooklyn.xls     2008_bronx.xls        2012_statenisland.xls\r\n",
      "2003_manhattan.xls    2008_brooklyn.xls     2013_bronx.xls\r\n",
      "2003_queens.xls       2008_manhattan.xls    2013_brooklyn.xls\r\n",
      "2003_statenisland.xls 2008_queens.xls       2013_manhattan.xls\r\n",
      "2004_bronx.xls        2008_statenisland.xls 2013_queens.xls\r\n",
      "2004_brooklyn.xls     2009_bronx.xls        2013_statenisland.xls\r\n",
      "2004_manhattan.xls    2009_brooklyn.xls     2014_bronx.xls\r\n",
      "2004_queens.xls       2009_manhattan.xls    2014_brooklyn.xls\r\n",
      "2004_statenisland.xls 2009_queens.xls       2014_manhattan.xls\r\n",
      "2005_bronx.xls        2009_statenisland.xls 2014_queens.xls\r\n",
      "2005_brooklyn.xls     2010_bronx.xls        2014_statenisland.xls\r\n",
      "2005_manhattan.xls    2010_brooklyn.xls     2015_bronx.xls\r\n",
      "2005_queens.xls       2010_manhattan.xls    2015_brooklyn.xls\r\n",
      "2005_statenisland.xls 2010_queens.xls       2015_manhattan.xls\r\n",
      "2006_bronx.xls        2010_statenisland.xls 2015_queens.xls\r\n",
      "2006_brooklyn.xls     2011_bronx.xls        2015_statenisland.xls\r\n",
      "2006_manhattan.xls    2011_brooklyn.xls     2016_bronx.xls\r\n",
      "2006_queens.xls       2011_manhattan.xls    2016_brooklyn.xls\r\n",
      "2006_statenisland.xls 2011_queens.xls       2016_manhattan.xls\r\n",
      "2007_bronx.xls        2011_statenisland.xls 2016_queens.xls\r\n",
      "2007_brooklyn.xls     2012_bronx.xls        2016_statenisland.xls\r\n",
      "2007_manhattan.xls    2012_brooklyn.xls     data_dictionary.pdf\r\n",
      "2007_queens.xls       2012_manhattan.xls\r\n"
     ]
    }
   ],
   "source": [
    "!ls data/finance_sales"
   ]
  },
  {
   "cell_type": "code",
   "execution_count": 2,
   "metadata": {
    "collapsed": false
   },
   "outputs": [
    {
     "name": "stdout",
     "output_type": "stream",
     "text": [
      "3.5.2\n"
     ]
    }
   ],
   "source": [
    "import platform\n",
    "print(platform.python_version())"
   ]
  },
  {
   "cell_type": "code",
   "execution_count": 3,
   "metadata": {
    "collapsed": true
   },
   "outputs": [],
   "source": [
    "import pandas as pd\n",
    "import numpy as np"
   ]
  },
  {
   "cell_type": "code",
   "execution_count": 4,
   "metadata": {
    "collapsed": true
   },
   "outputs": [],
   "source": [
    "from merge_pluto_finance import *"
   ]
  },
  {
   "cell_type": "code",
   "execution_count": 5,
   "metadata": {
    "collapsed": true
   },
   "outputs": [],
   "source": [
    "boros = ['brooklyn', 'manhattan']\n",
    "years = [2014, 2015]"
   ]
  },
  {
   "cell_type": "code",
   "execution_count": 8,
   "metadata": {
    "collapsed": false
   },
   "outputs": [],
   "source": [
    "pluto = read_in_pluto(boros)"
   ]
  },
  {
   "cell_type": "code",
   "execution_count": 6,
   "metadata": {
    "collapsed": false
   },
   "outputs": [
    {
     "name": "stdout",
     "output_type": "stream",
     "text": [
      "Pulling Finance data for 2014_brooklyn\n",
      "Pulling Finance data for 2014_manhattan\n",
      "Pulling Finance data for 2015_brooklyn\n",
      "Pulling Finance data for 2015_manhattan\n"
     ]
    }
   ],
   "source": [
    "finance = read_in_finance(boros, years)"
   ]
  },
  {
   "cell_type": "code",
   "execution_count": 9,
   "metadata": {
    "collapsed": false
   },
   "outputs": [
    {
     "name": "stdout",
     "output_type": "stream",
     "text": [
      "Index(['borough', 'block', 'lot', 'cd', 'ct2010', 'cb2010', 'schooldist',\n",
      "       'council', 'zipcode', 'firecomp', 'policeprct', 'healtharea',\n",
      "       'sanitboro', 'sanitdistrict', 'sanitsub', 'address', 'zonedist1',\n",
      "       'zonedist2', 'zonedist3', 'zonedist4', 'overlay1', 'overlay2',\n",
      "       'spdist1', 'spdist2', 'ltdheight', 'allzoning1', 'allzoning2',\n",
      "       'splitzone', 'bldgclass', 'landuse', 'easements', 'ownertype',\n",
      "       'ownername', 'lotarea', 'bldgarea', 'comarea', 'resarea', 'officearea',\n",
      "       'retailarea', 'garagearea', 'strgearea', 'factryarea', 'otherarea',\n",
      "       'areasource', 'numbldgs', 'numfloors', 'unitsres', 'unitstotal',\n",
      "       'lotfront', 'lotdepth', 'bldgfront', 'bldgdepth', 'ext', 'proxcode',\n",
      "       'irrlotcode', 'lottype', 'bsmtcode', 'assessland', 'assesstot',\n",
      "       'exemptland', 'exempttot', 'yearbuilt', 'builtcode', 'yearalter1',\n",
      "       'yearalter2', 'histdist', 'landmark', 'builtfar', 'residfar', 'commfar',\n",
      "       'facilfar', 'borocode', 'bbl', 'condono', 'tract2010', 'xcoord',\n",
      "       'ycoord', 'zonemap', 'zmcode', 'sanborn', 'taxmap', 'edesignum',\n",
      "       'appbbl', 'appdate', 'plutomapid', 'version'],\n",
      "      dtype='object')\n",
      "Index(['borough', 'neighborhood', 'building_class_category',\n",
      "       'tax_class_at_present', 'block', 'lot', 'ease-ment',\n",
      "       'building_class_at_present', 'address', 'apartment_number', 'zip_code',\n",
      "       'residential_units', 'commercial_units', 'total_units',\n",
      "       'land_square_feet', 'gross_square_feet', 'year_built',\n",
      "       'tax_class_at_time_of_sale', 'building_class_at_time_of_sale',\n",
      "       'sale_price', 'sale_date', 'bbl', 'sale_year'],\n",
      "      dtype='object')\n"
     ]
    }
   ],
   "source": [
    "print(pluto.columns)\n",
    "print(finance.columns)"
   ]
  },
  {
   "cell_type": "code",
   "execution_count": 10,
   "metadata": {
    "collapsed": false
   },
   "outputs": [
    {
     "data": {
      "text/plain": [
       "3014540037    2\n",
       "1012520034    2\n",
       "1005480045    2\n",
       "1007990012    2\n",
       "3087220474    2\n",
       "Name: bbl, dtype: int64"
      ]
     },
     "execution_count": 10,
     "metadata": {},
     "output_type": "execute_result"
    }
   ],
   "source": [
    "finance.bbl.value_counts()[finance.bbl.value_counts() > 1].head()"
   ]
  },
  {
   "cell_type": "code",
   "execution_count": 11,
   "metadata": {
    "collapsed": false
   },
   "outputs": [
    {
     "data": {
      "text/plain": [
       "0.044751036697533754"
      ]
     },
     "execution_count": 11,
     "metadata": {},
     "output_type": "execute_result"
    }
   ],
   "source": [
    "np.mean(pluto.bldgarea <= 0)"
   ]
  },
  {
   "cell_type": "code",
   "execution_count": 12,
   "metadata": {
    "collapsed": false
   },
   "outputs": [
    {
     "data": {
      "text/plain": [
       "0.56209896795896752"
      ]
     },
     "execution_count": 12,
     "metadata": {},
     "output_type": "execute_result"
    }
   ],
   "source": [
    "np.mean(finance[\"gross_square_feet\"] <= 0)"
   ]
  },
  {
   "cell_type": "code",
   "execution_count": 63,
   "metadata": {
    "collapsed": false
   },
   "outputs": [
    {
     "data": {
      "text/plain": [
       "0"
      ]
     },
     "execution_count": 63,
     "metadata": {},
     "output_type": "execute_result"
    }
   ],
   "source": [
    "sum(finance.sale_date.isnull())"
   ]
  },
  {
   "cell_type": "code",
   "execution_count": null,
   "metadata": {
    "collapsed": true
   },
   "outputs": [],
   "source": []
  }
 ],
 "metadata": {
  "kernelspec": {
   "display_name": "Python 3",
   "language": "python",
   "name": "python3"
  },
  "language_info": {
   "codemirror_mode": {
    "name": "ipython",
    "version": 3
   },
   "file_extension": ".py",
   "mimetype": "text/x-python",
   "name": "python",
   "nbconvert_exporter": "python",
   "pygments_lexer": "ipython3",
   "version": "3.5.2"
  }
 },
 "nbformat": 4,
 "nbformat_minor": 1
}
