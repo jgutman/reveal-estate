{
 "cells": [
  {
   "cell_type": "code",
   "execution_count": 1,
   "metadata": {
    "collapsed": false
   },
   "outputs": [
    {
     "name": "stdout",
     "output_type": "stream",
     "text": [
      "2003_bronx.xls        2007_statenisland.xls 2012_queens.xls\r\n",
      "2003_brooklyn.xls     2008_bronx.xls        2012_statenisland.xls\r\n",
      "2003_manhattan.xls    2008_brooklyn.xls     2013_bronx.xls\r\n",
      "2003_queens.xls       2008_manhattan.xls    2013_brooklyn.xls\r\n",
      "2003_statenisland.xls 2008_queens.xls       2013_manhattan.xls\r\n",
      "2004_bronx.xls        2008_statenisland.xls 2013_queens.xls\r\n",
      "2004_brooklyn.xls     2009_bronx.xls        2013_statenisland.xls\r\n",
      "2004_manhattan.xls    2009_brooklyn.xls     2014_bronx.xls\r\n",
      "2004_queens.xls       2009_manhattan.xls    2014_brooklyn.xls\r\n",
      "2004_statenisland.xls 2009_queens.xls       2014_manhattan.xls\r\n",
      "2005_bronx.xls        2009_statenisland.xls 2014_queens.xls\r\n",
      "2005_brooklyn.xls     2010_bronx.xls        2014_statenisland.xls\r\n",
      "2005_manhattan.xls    2010_brooklyn.xls     2015_bronx.xls\r\n",
      "2005_queens.xls       2010_manhattan.xls    2015_brooklyn.xls\r\n",
      "2005_statenisland.xls 2010_queens.xls       2015_manhattan.xls\r\n",
      "2006_bronx.xls        2010_statenisland.xls 2015_queens.xls\r\n",
      "2006_brooklyn.xls     2011_bronx.xls        2015_statenisland.xls\r\n",
      "2006_manhattan.xls    2011_brooklyn.xls     2016_bronx.xls\r\n",
      "2006_queens.xls       2011_manhattan.xls    2016_brooklyn.xls\r\n",
      "2006_statenisland.xls 2011_queens.xls       2016_manhattan.xls\r\n",
      "2007_bronx.xls        2011_statenisland.xls 2016_queens.xls\r\n",
      "2007_brooklyn.xls     2012_bronx.xls        2016_statenisland.xls\r\n",
      "2007_manhattan.xls    2012_brooklyn.xls\r\n",
      "2007_queens.xls       2012_manhattan.xls\r\n"
     ]
    }
   ],
   "source": [
    "!ls data/finance_sales"
   ]
  },
  {
   "cell_type": "code",
   "execution_count": 2,
   "metadata": {
    "collapsed": false
   },
   "outputs": [
    {
     "name": "stdout",
     "output_type": "stream",
     "text": [
      "3.5.2\n"
     ]
    }
   ],
   "source": [
    "import platform\n",
    "print(platform.python_version())"
   ]
  },
  {
   "cell_type": "code",
   "execution_count": 3,
   "metadata": {
    "collapsed": true
   },
   "outputs": [],
   "source": [
    "import pandas as pd\n",
    "import numpy as np"
   ]
  },
  {
   "cell_type": "code",
   "execution_count": 4,
   "metadata": {
    "collapsed": true
   },
   "outputs": [],
   "source": [
    "boros = ['manhattan', 'bronx', 'brooklyn', 'queens', 'statenisland']\n",
    "years = range(2003, 2017)"
   ]
  },
  {
   "cell_type": "code",
   "execution_count": 12,
   "metadata": {
    "collapsed": true
   },
   "outputs": [],
   "source": [
    "def read_in_boro_year_data(boro, year):\n",
    "    \"\"\"\n",
    "    Fetches data file for a specified boro and year, and returns the data as a Pandas dataframe.\n",
    "    \n",
    "    Args:\n",
    "        string boro: name of boro for desired data\n",
    "        int year: year of desired data\n",
    "    Returns:\n",
    "        Pandas dataframe\n",
    "    \"\"\"\n",
    "    # Format input arguments appropriately\n",
    "    try:\n",
    "        year = int(year)\n",
    "    except TypeError:\n",
    "        print(\"inappropriate year for data\")\n",
    "    if year < 100:\n",
    "        year = year + 2000\n",
    "    assert(year in years), \"inappropriate year for data\"\n",
    "    if boro == \"si\":\n",
    "        boro = \"statenisland\"\n",
    "    assert(boro in boros), \"inappropriate boro for data\"\n",
    "    \n",
    "    filename = 'data/finance_sales/{year}_{boro}.xls'.format(year = year, boro = boro)\n",
    "    skip_rows = 4 if year > 2010 else 3\n",
    "    data = pd.read_excel(filename, skiprows = skip_rows)\n",
    "    return data"
   ]
  },
  {
   "cell_type": "code",
   "execution_count": 13,
   "metadata": {
    "collapsed": false
   },
   "outputs": [
    {
     "ename": "ImportError",
     "evalue": "No module named 'xlrd'",
     "output_type": "error",
     "traceback": [
      "\u001b[0;31m---------------------------------------------------------------------------\u001b[0m",
      "\u001b[0;31mImportError\u001b[0m                               Traceback (most recent call last)",
      "\u001b[0;32m<ipython-input-13-2e6a86d116b3>\u001b[0m in \u001b[0;36m<module>\u001b[0;34m()\u001b[0m\n\u001b[0;32m----> 1\u001b[0;31m \u001b[0mdata\u001b[0m \u001b[0;34m=\u001b[0m \u001b[0mread_in_boro_year_data\u001b[0m\u001b[0;34m(\u001b[0m\u001b[0;34m'bronx'\u001b[0m\u001b[0;34m,\u001b[0m \u001b[0;34m'08'\u001b[0m\u001b[0;34m)\u001b[0m\u001b[0;34m\u001b[0m\u001b[0m\n\u001b[0m\u001b[1;32m      2\u001b[0m \u001b[0mprint\u001b[0m\u001b[0;34m(\u001b[0m\u001b[0mdata\u001b[0m\u001b[0;34m.\u001b[0m\u001b[0mcolumns\u001b[0m\u001b[0;34m)\u001b[0m\u001b[0;34m\u001b[0m\u001b[0m\n",
      "\u001b[0;32m<ipython-input-12-36463e8dd3e6>\u001b[0m in \u001b[0;36mread_in_boro_year_data\u001b[0;34m(boro, year)\u001b[0m\n\u001b[1;32m     23\u001b[0m     \u001b[0mfilename\u001b[0m \u001b[0;34m=\u001b[0m \u001b[0;34m'data/finance_sales/{year}_{boro}.xls'\u001b[0m\u001b[0;34m.\u001b[0m\u001b[0mformat\u001b[0m\u001b[0;34m(\u001b[0m\u001b[0myear\u001b[0m \u001b[0;34m=\u001b[0m \u001b[0myear\u001b[0m\u001b[0;34m,\u001b[0m \u001b[0mboro\u001b[0m \u001b[0;34m=\u001b[0m \u001b[0mboro\u001b[0m\u001b[0;34m)\u001b[0m\u001b[0;34m\u001b[0m\u001b[0m\n\u001b[1;32m     24\u001b[0m     \u001b[0mskip_rows\u001b[0m \u001b[0;34m=\u001b[0m \u001b[0;36m4\u001b[0m \u001b[0;32mif\u001b[0m \u001b[0myear\u001b[0m \u001b[0;34m>\u001b[0m \u001b[0;36m2010\u001b[0m \u001b[0;32melse\u001b[0m \u001b[0;36m3\u001b[0m\u001b[0;34m\u001b[0m\u001b[0m\n\u001b[0;32m---> 25\u001b[0;31m     \u001b[0mdata\u001b[0m \u001b[0;34m=\u001b[0m \u001b[0mpd\u001b[0m\u001b[0;34m.\u001b[0m\u001b[0mread_excel\u001b[0m\u001b[0;34m(\u001b[0m\u001b[0mfilename\u001b[0m\u001b[0;34m,\u001b[0m \u001b[0mskiprows\u001b[0m \u001b[0;34m=\u001b[0m \u001b[0mskip_rows\u001b[0m\u001b[0;34m)\u001b[0m\u001b[0;34m\u001b[0m\u001b[0m\n\u001b[0m\u001b[1;32m     26\u001b[0m     \u001b[0;32mreturn\u001b[0m \u001b[0mdata\u001b[0m\u001b[0;34m\u001b[0m\u001b[0m\n",
      "\u001b[0;32m/Library/Frameworks/Python.framework/Versions/3.5/lib/python3.5/site-packages/pandas/io/excel.py\u001b[0m in \u001b[0;36mread_excel\u001b[0;34m(io, sheetname, header, skiprows, skip_footer, index_col, names, parse_cols, parse_dates, date_parser, na_values, thousands, convert_float, has_index_names, converters, true_values, false_values, engine, squeeze, **kwds)\u001b[0m\n\u001b[1;32m    189\u001b[0m \u001b[0;34m\u001b[0m\u001b[0m\n\u001b[1;32m    190\u001b[0m     \u001b[0;32mif\u001b[0m \u001b[0;32mnot\u001b[0m \u001b[0misinstance\u001b[0m\u001b[0;34m(\u001b[0m\u001b[0mio\u001b[0m\u001b[0;34m,\u001b[0m \u001b[0mExcelFile\u001b[0m\u001b[0;34m)\u001b[0m\u001b[0;34m:\u001b[0m\u001b[0;34m\u001b[0m\u001b[0m\n\u001b[0;32m--> 191\u001b[0;31m         \u001b[0mio\u001b[0m \u001b[0;34m=\u001b[0m \u001b[0mExcelFile\u001b[0m\u001b[0;34m(\u001b[0m\u001b[0mio\u001b[0m\u001b[0;34m,\u001b[0m \u001b[0mengine\u001b[0m\u001b[0;34m=\u001b[0m\u001b[0mengine\u001b[0m\u001b[0;34m)\u001b[0m\u001b[0;34m\u001b[0m\u001b[0m\n\u001b[0m\u001b[1;32m    192\u001b[0m \u001b[0;34m\u001b[0m\u001b[0m\n\u001b[1;32m    193\u001b[0m     return io._parse_excel(\n",
      "\u001b[0;32m/Library/Frameworks/Python.framework/Versions/3.5/lib/python3.5/site-packages/pandas/io/excel.py\u001b[0m in \u001b[0;36m__init__\u001b[0;34m(self, io, **kwds)\u001b[0m\n\u001b[1;32m    218\u001b[0m     \u001b[0;32mdef\u001b[0m \u001b[0m__init__\u001b[0m\u001b[0;34m(\u001b[0m\u001b[0mself\u001b[0m\u001b[0;34m,\u001b[0m \u001b[0mio\u001b[0m\u001b[0;34m,\u001b[0m \u001b[0;34m**\u001b[0m\u001b[0mkwds\u001b[0m\u001b[0;34m)\u001b[0m\u001b[0;34m:\u001b[0m\u001b[0;34m\u001b[0m\u001b[0m\n\u001b[1;32m    219\u001b[0m \u001b[0;34m\u001b[0m\u001b[0m\n\u001b[0;32m--> 220\u001b[0;31m         \u001b[0;32mimport\u001b[0m \u001b[0mxlrd\u001b[0m  \u001b[0;31m# throw an ImportError if we need to\u001b[0m\u001b[0;34m\u001b[0m\u001b[0m\n\u001b[0m\u001b[1;32m    221\u001b[0m \u001b[0;34m\u001b[0m\u001b[0m\n\u001b[1;32m    222\u001b[0m         \u001b[0mver\u001b[0m \u001b[0;34m=\u001b[0m \u001b[0mtuple\u001b[0m\u001b[0;34m(\u001b[0m\u001b[0mmap\u001b[0m\u001b[0;34m(\u001b[0m\u001b[0mint\u001b[0m\u001b[0;34m,\u001b[0m \u001b[0mxlrd\u001b[0m\u001b[0;34m.\u001b[0m\u001b[0m__VERSION__\u001b[0m\u001b[0;34m.\u001b[0m\u001b[0msplit\u001b[0m\u001b[0;34m(\u001b[0m\u001b[0;34m\".\"\u001b[0m\u001b[0;34m)\u001b[0m\u001b[0;34m[\u001b[0m\u001b[0;34m:\u001b[0m\u001b[0;36m2\u001b[0m\u001b[0;34m]\u001b[0m\u001b[0;34m)\u001b[0m\u001b[0;34m)\u001b[0m\u001b[0;34m\u001b[0m\u001b[0m\n",
      "\u001b[0;31mImportError\u001b[0m: No module named 'xlrd'"
     ]
    }
   ],
   "source": [
    "data = read_in_boro_year_data('bronx', '08')\n",
    "print(data.columns)"
   ]
  },
  {
   "cell_type": "code",
   "execution_count": null,
   "metadata": {
    "collapsed": true
   },
   "outputs": [],
   "source": []
  }
 ],
 "metadata": {
  "kernelspec": {
   "display_name": "Python 3",
   "language": "python",
   "name": "python3"
  },
  "language_info": {
   "codemirror_mode": {
    "name": "ipython",
    "version": 3
   },
   "file_extension": ".py",
   "mimetype": "text/x-python",
   "name": "python",
   "nbconvert_exporter": "python",
   "pygments_lexer": "ipython3",
   "version": "3.5.2"
  }
 },
 "nbformat": 4,
 "nbformat_minor": 1
}
