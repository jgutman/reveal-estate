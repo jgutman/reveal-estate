{
 "cells": [
  {
   "cell_type": "code",
   "execution_count": 1,
   "metadata": {
    "collapsed": false
   },
   "outputs": [
    {
     "name": "stdout",
     "output_type": "stream",
     "text": [
      "2003_bronx.xls        2007_statenisland.xls 2012_queens.xls\r\n",
      "2003_brooklyn.xls     2008_bronx.xls        2012_statenisland.xls\r\n",
      "2003_manhattan.xls    2008_brooklyn.xls     2013_bronx.xls\r\n",
      "2003_queens.xls       2008_manhattan.xls    2013_brooklyn.xls\r\n",
      "2003_statenisland.xls 2008_queens.xls       2013_manhattan.xls\r\n",
      "2004_bronx.xls        2008_statenisland.xls 2013_queens.xls\r\n",
      "2004_brooklyn.xls     2009_bronx.xls        2013_statenisland.xls\r\n",
      "2004_manhattan.xls    2009_brooklyn.xls     2014_bronx.xls\r\n",
      "2004_queens.xls       2009_manhattan.xls    2014_brooklyn.xls\r\n",
      "2004_statenisland.xls 2009_queens.xls       2014_manhattan.xls\r\n",
      "2005_bronx.xls        2009_statenisland.xls 2014_queens.xls\r\n",
      "2005_brooklyn.xls     2010_bronx.xls        2014_statenisland.xls\r\n",
      "2005_manhattan.xls    2010_brooklyn.xls     2015_bronx.xls\r\n",
      "2005_queens.xls       2010_manhattan.xls    2015_brooklyn.xls\r\n",
      "2005_statenisland.xls 2010_queens.xls       2015_manhattan.xls\r\n",
      "2006_bronx.xls        2010_statenisland.xls 2015_queens.xls\r\n",
      "2006_brooklyn.xls     2011_bronx.xls        2015_statenisland.xls\r\n",
      "2006_manhattan.xls    2011_brooklyn.xls     2016_bronx.xls\r\n",
      "2006_queens.xls       2011_manhattan.xls    2016_brooklyn.xls\r\n",
      "2006_statenisland.xls 2011_queens.xls       2016_manhattan.xls\r\n",
      "2007_bronx.xls        2011_statenisland.xls 2016_queens.xls\r\n",
      "2007_brooklyn.xls     2012_bronx.xls        2016_statenisland.xls\r\n",
      "2007_manhattan.xls    2012_brooklyn.xls\r\n",
      "2007_queens.xls       2012_manhattan.xls\r\n"
     ]
    }
   ],
   "source": [
    "!ls data/finance_sales"
   ]
  },
  {
   "cell_type": "code",
   "execution_count": 2,
   "metadata": {
    "collapsed": false
   },
   "outputs": [
    {
     "name": "stdout",
     "output_type": "stream",
     "text": [
      "3.5.2\n"
     ]
    }
   ],
   "source": [
    "import platform\n",
    "print(platform.python_version())"
   ]
  },
  {
   "cell_type": "code",
   "execution_count": 3,
   "metadata": {
    "collapsed": true
   },
   "outputs": [],
   "source": [
    "import pandas as pd\n",
    "import numpy as np"
   ]
  },
  {
   "cell_type": "code",
   "execution_count": 4,
   "metadata": {
    "collapsed": true
   },
   "outputs": [],
   "source": [
    "boros = ['manhattan', 'bronx', 'brooklyn', 'queens', 'statenisland']\n",
    "years = range(2003, 2017)\n",
    "boro_codes = dict(zip(boros, range(1,6)))"
   ]
  },
  {
   "cell_type": "code",
   "execution_count": 5,
   "metadata": {
    "collapsed": true
   },
   "outputs": [],
   "source": [
    "def read_in_boro_year_data(boro, year, data_dir = \"data/finance_sales\"):\n",
    "    \"\"\"\n",
    "    Fetches data file for a specified boro and year, and returns the data as a\n",
    "    Pandas dataframe. Checks integrity of boro/year arguments.\n",
    "\n",
    "    Args:\n",
    "        string boro: name of boro for desired data\n",
    "        int year: year of desired data\n",
    "    Returns:\n",
    "        Pandas DataFrame\n",
    "    \"\"\"\n",
    "    # Acceptable inputs\n",
    "    boros = ['manhattan', 'bronx', 'brooklyn', 'queens', 'statenisland']\n",
    "    years = range(2003, 2017)\n",
    "\n",
    "    # Format input arguments appropriately\n",
    "    try:\n",
    "        year = int(year)\n",
    "    except TypeError:\n",
    "        print(\"inappropriate year for data\")\n",
    "    if year < 100:\n",
    "        year = year + 2000\n",
    "    assert(year in years), \"inappropriate year for data\"\n",
    "    if boro == \"si\":\n",
    "        boro = \"statenisland\"\n",
    "    assert(boro in boros), \"inappropriate boro for data\"\n",
    "\n",
    "    # Reads in Excel file skipping appropriate number of junk rows at the\n",
    "    # beginning of file, keeping the header row as a header\n",
    "    filename = \"{data_dir}/{year}_{boro}.xls\".format(data_dir = data_dir,\n",
    "        year = year, boro = boro)\n",
    "    skip_rows = 4 if year > 2010 else 3\n",
    "    data = pd.read_excel(filename, skiprows = skip_rows)\n",
    "    # Remove newline characters from column headers\n",
    "    data.columns = [col.strip().lower() for col in data.columns]\n",
    "    return data"
   ]
  },
  {
   "cell_type": "code",
   "execution_count": 6,
   "metadata": {
    "collapsed": false
   },
   "outputs": [
    {
     "name": "stdout",
     "output_type": "stream",
     "text": [
      "Index(['borough', 'neighborhood', 'building class category',\n",
      "       'tax class at present', 'block', 'lot', 'ease-ment',\n",
      "       'building class at present', 'address', 'apartment number', 'zip code',\n",
      "       'residential units', 'commercial units', 'total units',\n",
      "       'land square feet', 'gross square feet', 'year built',\n",
      "       'tax class at time of sale', 'building class at time of sale',\n",
      "       'sale price', 'sale date'],\n",
      "      dtype='object')\n",
      "(25362, 21)\n"
     ]
    }
   ],
   "source": [
    "brooklyn_15 = read_in_boro_year_data('brooklyn', '15')\n",
    "print(brooklyn_15.columns)\n",
    "print(brooklyn_15.shape)"
   ]
  },
  {
   "cell_type": "code",
   "execution_count": 9,
   "metadata": {
    "collapsed": true
   },
   "outputs": [],
   "source": [
    "def add_BBL_and_price_per_ft(data, copy = True):\n",
    "    \"\"\"\n",
    "    Takes a raw dataframe and adds the BBL code (Borough, Block, Lot), and\n",
    "    price per square foot. Uses same 10-digit BBL format as PLUTO:\n",
    "    1 digit for Borough, 5 digits for Block, 4 digits for Lot.\n",
    "\n",
    "    Args:\n",
    "        Pandas DataFrame data: raw data frame to append the \"bbl\" and \"price\n",
    "            per sqft\" columns to\n",
    "        boolean copy: whether to make a copy or alter the dataframe in place\n",
    "    Returns:\n",
    "        Pandas DataFrame\n",
    "    \"\"\"\n",
    "    # Copy the data frame to a new object if desired\n",
    "    if copy:\n",
    "        processed_data = data.copy()\n",
    "    else:\n",
    "        processed_data = data\n",
    "\n",
    "    # Extract the borough, block, and lot, and create a 10-digit code\n",
    "    # zero-padded code from these three columns in order\n",
    "    bbl_columns = data[[\"borough\", \"block\", \"lot\"]].itertuples()\n",
    "    bbl_formatted = pd.Series([\"%01d%05d%04d\" % (row.borough, row.block, row.lot) for row in bbl_columns], \n",
    "                              dtype='int64')\n",
    "    processed_data[\"bbl\"] = bbl_formatted\n",
    "    processed_data[\"price per sqft\"] = data[\"sale price\"] / data[\n",
    "        \"gross square feet\"]\n",
    "    return processed_data"
   ]
  },
  {
   "cell_type": "code",
   "execution_count": 10,
   "metadata": {
    "collapsed": false
   },
   "outputs": [
    {
     "name": "stdout",
     "output_type": "stream",
     "text": [
      "Index(['borough', 'neighborhood', 'building class category',\n",
      "       'tax class at present', 'block', 'lot', 'ease-ment',\n",
      "       'building class at present', 'address', 'apartment number', 'zip code',\n",
      "       'residential units', 'commercial units', 'total units',\n",
      "       'land square feet', 'gross square feet', 'year built',\n",
      "       'tax class at time of sale', 'building class at time of sale',\n",
      "       'sale price', 'sale date', 'bbl', 'price per sqft'],\n",
      "      dtype='object')\n"
     ]
    }
   ],
   "source": [
    "brooklyn_15 = add_BBL_and_price_per_ft(brooklyn_15)\n",
    "print(brooklyn_15.columns)"
   ]
  },
  {
   "cell_type": "code",
   "execution_count": 11,
   "metadata": {
    "collapsed": true
   },
   "outputs": [],
   "source": [
    "def read_in_pluto(boros, data_dir = \"data/nyc_pluto_16v1\"):\n",
    "    \"\"\"\n",
    "    Takes a list of boroughs and extracts PLUTO data for each borough,\n",
    "    appending each subset to create a single data frame for all boroughs.\n",
    "\n",
    "    Args:\n",
    "        list(string) boros: list of all the boroughs to pull pluto data for\n",
    "        string data_dir: a relative path as a string to folder containing the\n",
    "            PLUTO data for all boroughs\n",
    "    Returns:\n",
    "        Pandas DataFrame\n",
    "    \"\"\"\n",
    "    # mapping of how boroughs are referred in PLUTO filenames\n",
    "    initials = {\"manhattan\" : \"MN\", \"brooklyn\" : \"BK\", \"bronx\" : \"BX\",\n",
    "        \"queens\" : \"QN\", \"statenisland\" : \"SI\"}\n",
    "\n",
    "    # Create an empty dataframe to store data as we iterate\n",
    "    pluto = pd.DataFrame()\n",
    "    for borough in boros:\n",
    "        filename = \"{data_dir}/{boro}.csv\".format(data_dir = data_dir,\n",
    "            boro = initials.get(borough))\n",
    "        data = pd.read_csv(filename, low_memory = False)\n",
    "        data.columns = [col.strip().lower() for col in data.columns]\n",
    "        # Append new rows to existing dataframe\n",
    "        pluto = pluto.append(data)\n",
    "    return pluto"
   ]
  },
  {
   "cell_type": "code",
   "execution_count": 12,
   "metadata": {
    "collapsed": true
   },
   "outputs": [],
   "source": [
    "def read_in_finance(boros, years, data_dir = \"data/finance_sales\"):\n",
    "    \"\"\"\n",
    "    Takes a list of boroughs and years and extracts finance data for each year,\n",
    "    appending each subset to create a single data frame for all years/boroughs.\n",
    "\n",
    "    Args:\n",
    "        list(string) boros: list of all the boroughs to pull finance data for\n",
    "        list(int) years: list of all the years to pull finance data for\n",
    "        string data_dir: a relative path as a string to folder containing the\n",
    "            department of finance sales price data for all boroughs\n",
    "    Returns:\n",
    "        Pandas DataFrame\n",
    "    \"\"\"\n",
    "    # Create an empty dataframe to store data as we iterate\n",
    "    finance = pd.DataFrame()\n",
    "    for year in years:\n",
    "        for borough in boros:\n",
    "            print(\"Pulling Finance data for {}_{}\".format(year, borough))\n",
    "            boro_year = read_in_boro_year_data(borough, year, data_dir)\n",
    "            boro_year = add_BBL_and_price_per_ft(boro_year)\n",
    "            # Append new rows to existing dataframe\n",
    "            finance = finance.append(boro_year)\n",
    "    return finance"
   ]
  },
  {
   "cell_type": "code",
   "execution_count": 13,
   "metadata": {
    "collapsed": false
   },
   "outputs": [],
   "source": [
    "def merge_pluto_finance(pluto, finance, boros, years,\n",
    "    output_dir = \"data/merged\"):\n",
    "    \"\"\"\n",
    "    Performs an outer join on PLUTO and Dept of Finance data using BBL as the\n",
    "    join key, returning a single dataframe. Also writes merged output to file.\n",
    "\n",
    "    Args:\n",
    "        Pandas DataFrame pluto: contains PLUTO data and \"bbl\" join key\n",
    "        Pandas DataFrame finance: contains finance data and \"bbl\" join key\n",
    "        list(string) boros: list of boroughs to use in filename of merged data\n",
    "        list(int) years: list of years to use in filename of merged data\n",
    "        string output_dir: directory to store merged output data\n",
    "     Returns:\n",
    "        Pandas DataFrame\n",
    "    \"\"\"\n",
    "    buildings = pd.merge(pluto, finance, how='right', on='bbl',\n",
    "                        suffixes=['_pluto', '_finance'])\n",
    "    output = \"{output_dir}/{boros_joined}_{min_year}_{max_year}.csv\".format(\n",
    "        boros_joined = \"_\".join(boros), min_year = min(years),\n",
    "        max_year = max(years), output_dir = output_dir)\n",
    "    buildings.to_csv(output, index = False)\n",
    "    return buildings"
   ]
  },
  {
   "cell_type": "code",
   "execution_count": 14,
   "metadata": {
    "collapsed": true
   },
   "outputs": [],
   "source": [
    "boros = ['bronx']\n",
    "years = [2010]"
   ]
  },
  {
   "cell_type": "code",
   "execution_count": 15,
   "metadata": {
    "collapsed": true
   },
   "outputs": [],
   "source": [
    "pluto = read_in_pluto(boros)"
   ]
  },
  {
   "cell_type": "code",
   "execution_count": 16,
   "metadata": {
    "collapsed": false
   },
   "outputs": [
    {
     "name": "stdout",
     "output_type": "stream",
     "text": [
      "Pulling Finance data for 2010_bronx\n"
     ]
    }
   ],
   "source": [
    "finance = read_in_finance(boros, years)"
   ]
  },
  {
   "cell_type": "code",
   "execution_count": 17,
   "metadata": {
    "collapsed": true
   },
   "outputs": [],
   "source": [
    "buildings = merge_pluto_finance(pluto, finance, boros, years)"
   ]
  },
  {
   "cell_type": "code",
   "execution_count": 18,
   "metadata": {
    "collapsed": false
   },
   "outputs": [
    {
     "name": "stdout",
     "output_type": "stream",
     "text": [
      "639\n",
      "(4755, 108)\n"
     ]
    }
   ],
   "source": [
    "print(sum(buildings.borough_pluto.isnull()))\n",
    "print(buildings.shape)"
   ]
  },
  {
   "cell_type": "code",
   "execution_count": 19,
   "metadata": {
    "collapsed": false
   },
   "outputs": [
    {
     "data": {
      "text/html": [
       "<div>\n",
       "<table border=\"1\" class=\"dataframe\">\n",
       "  <thead>\n",
       "    <tr style=\"text-align: right;\">\n",
       "      <th></th>\n",
       "      <th>borough</th>\n",
       "      <th>block</th>\n",
       "      <th>lot</th>\n",
       "      <th>bbl</th>\n",
       "    </tr>\n",
       "  </thead>\n",
       "  <tbody>\n",
       "    <tr>\n",
       "      <th>0</th>\n",
       "      <td>2</td>\n",
       "      <td>3030</td>\n",
       "      <td>70</td>\n",
       "      <td>2030300070</td>\n",
       "    </tr>\n",
       "    <tr>\n",
       "      <th>1</th>\n",
       "      <td>2</td>\n",
       "      <td>3035</td>\n",
       "      <td>2</td>\n",
       "      <td>2030350002</td>\n",
       "    </tr>\n",
       "    <tr>\n",
       "      <th>2</th>\n",
       "      <td>2</td>\n",
       "      <td>3037</td>\n",
       "      <td>42</td>\n",
       "      <td>2030370042</td>\n",
       "    </tr>\n",
       "    <tr>\n",
       "      <th>3</th>\n",
       "      <td>2</td>\n",
       "      <td>3039</td>\n",
       "      <td>64</td>\n",
       "      <td>2030390064</td>\n",
       "    </tr>\n",
       "    <tr>\n",
       "      <th>4</th>\n",
       "      <td>2</td>\n",
       "      <td>3046</td>\n",
       "      <td>34</td>\n",
       "      <td>2030460034</td>\n",
       "    </tr>\n",
       "  </tbody>\n",
       "</table>\n",
       "</div>"
      ],
      "text/plain": [
       "   borough  block  lot         bbl\n",
       "0        2   3030   70  2030300070\n",
       "1        2   3035    2  2030350002\n",
       "2        2   3037   42  2030370042\n",
       "3        2   3039   64  2030390064\n",
       "4        2   3046   34  2030460034"
      ]
     },
     "execution_count": 19,
     "metadata": {},
     "output_type": "execute_result"
    }
   ],
   "source": [
    "finance[[\"borough\", \"block\", \"lot\", \"bbl\"]].head()"
   ]
  },
  {
   "cell_type": "code",
   "execution_count": 20,
   "metadata": {
    "collapsed": false
   },
   "outputs": [
    {
     "name": "stdout",
     "output_type": "stream",
     "text": [
      "86\n",
      "23\n",
      "108\n"
     ]
    }
   ],
   "source": [
    "print(len(pluto.columns))\n",
    "print(len(finance.columns))\n",
    "print(len(buildings.columns))"
   ]
  },
  {
   "cell_type": "code",
   "execution_count": null,
   "metadata": {
    "collapsed": false
   },
   "outputs": [],
   "source": [
    "#bmq_2010_2013 = pd.read_csv(\"data/merged/brooklyn_manhattan_queens_2010_2013.csv\")"
   ]
  },
  {
   "cell_type": "code",
   "execution_count": null,
   "metadata": {
    "collapsed": true
   },
   "outputs": [],
   "source": [
    "#bmq_2010_2013.head()"
   ]
  },
  {
   "cell_type": "code",
   "execution_count": null,
   "metadata": {
    "collapsed": true
   },
   "outputs": [],
   "source": []
  }
 ],
 "metadata": {
  "kernelspec": {
   "display_name": "Python 3",
   "language": "python",
   "name": "python3"
  },
  "language_info": {
   "codemirror_mode": {
    "name": "ipython",
    "version": 3
   },
   "file_extension": ".py",
   "mimetype": "text/x-python",
   "name": "python",
   "nbconvert_exporter": "python",
   "pygments_lexer": "ipython3",
   "version": "3.5.2"
  }
 },
 "nbformat": 4,
 "nbformat_minor": 1
}
