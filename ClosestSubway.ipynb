{
 "cells": [
  {
   "cell_type": "code",
   "execution_count": 36,
   "metadata": {
    "collapsed": true
   },
   "outputs": [],
   "source": [
    "# https://pypi.python.org/pypi/geopy/1.11.0\n",
    "import collections\n",
    "from geopy.distance import vincenty\n",
    "import pandas as pd\n",
    "import numpy as np\n",
    "import math"
   ]
  },
  {
   "cell_type": "code",
   "execution_count": 2,
   "metadata": {
    "collapsed": false,
    "scrolled": true
   },
   "outputs": [
    {
     "data": {
      "text/html": [
       "<div>\n",
       "<table border=\"1\" class=\"dataframe\">\n",
       "  <thead>\n",
       "    <tr style=\"text-align: right;\">\n",
       "      <th></th>\n",
       "      <th>latitude</th>\n",
       "      <th>longitude</th>\n",
       "      <th>LINE</th>\n",
       "    </tr>\n",
       "  </thead>\n",
       "  <tbody>\n",
       "    <tr>\n",
       "      <th>0</th>\n",
       "      <td>40.686728</td>\n",
       "      <td>-73.990272</td>\n",
       "      <td>F-G</td>\n",
       "    </tr>\n",
       "    <tr>\n",
       "      <th>1</th>\n",
       "      <td>40.693725</td>\n",
       "      <td>-73.990678</td>\n",
       "      <td>2-3-4-5-N-R</td>\n",
       "    </tr>\n",
       "    <tr>\n",
       "      <th>2</th>\n",
       "      <td>40.693642</td>\n",
       "      <td>-73.990592</td>\n",
       "      <td>2-3-4-5-N-R</td>\n",
       "    </tr>\n",
       "    <tr>\n",
       "      <th>3</th>\n",
       "      <td>40.694393</td>\n",
       "      <td>-73.992537</td>\n",
       "      <td>2-3-4-5-N-R</td>\n",
       "    </tr>\n",
       "    <tr>\n",
       "      <th>4</th>\n",
       "      <td>40.662727</td>\n",
       "      <td>-73.962249</td>\n",
       "      <td>B-Q-S</td>\n",
       "    </tr>\n",
       "  </tbody>\n",
       "</table>\n",
       "</div>"
      ],
      "text/plain": [
       "    latitude  longitude         LINE\n",
       "0  40.686728 -73.990272          F-G\n",
       "1  40.693725 -73.990678  2-3-4-5-N-R\n",
       "2  40.693642 -73.990592  2-3-4-5-N-R\n",
       "3  40.694393 -73.992537  2-3-4-5-N-R\n",
       "4  40.662727 -73.962249        B-Q-S"
      ]
     },
     "execution_count": 2,
     "metadata": {},
     "output_type": "execute_result"
    }
   ],
   "source": [
    "subway = pd.read_csv('subway_clean.csv')\n",
    "subway.head()"
   ]
  },
  {
   "cell_type": "code",
   "execution_count": 3,
   "metadata": {
    "collapsed": false
   },
   "outputs": [],
   "source": [
    "subway_locs = subway[['latitude','longitude']].as_matrix()"
   ]
  },
  {
   "cell_type": "code",
   "execution_count": 73,
   "metadata": {
    "collapsed": false,
    "scrolled": true
   },
   "outputs": [
    {
     "data": {
      "text/html": [
       "<div>\n",
       "<table border=\"1\" class=\"dataframe\">\n",
       "  <thead>\n",
       "    <tr style=\"text-align: right;\">\n",
       "      <th></th>\n",
       "      <th>latitude</th>\n",
       "      <th>longitude</th>\n",
       "    </tr>\n",
       "  </thead>\n",
       "  <tbody>\n",
       "    <tr>\n",
       "      <th>0</th>\n",
       "      <td>40.704629</td>\n",
       "      <td>-73.987831</td>\n",
       "    </tr>\n",
       "    <tr>\n",
       "      <th>1</th>\n",
       "      <td>40.704621</td>\n",
       "      <td>-73.987059</td>\n",
       "    </tr>\n",
       "    <tr>\n",
       "      <th>2</th>\n",
       "      <td>40.705065</td>\n",
       "      <td>-73.984426</td>\n",
       "    </tr>\n",
       "    <tr>\n",
       "      <th>3</th>\n",
       "      <td>40.705380</td>\n",
       "      <td>-73.981620</td>\n",
       "    </tr>\n",
       "    <tr>\n",
       "      <th>4</th>\n",
       "      <td>40.704760</td>\n",
       "      <td>-73.980181</td>\n",
       "    </tr>\n",
       "  </tbody>\n",
       "</table>\n",
       "</div>"
      ],
      "text/plain": [
       "    latitude  longitude\n",
       "0  40.704629 -73.987831\n",
       "1  40.704621 -73.987059\n",
       "2  40.705065 -73.984426\n",
       "3  40.705380 -73.981620\n",
       "4  40.704760 -73.980181"
      ]
     },
     "execution_count": 73,
     "metadata": {},
     "output_type": "execute_result"
    }
   ],
   "source": [
    "#toy = pd.read_csv('toy_data.csv',index_col=0)\n",
    "#toy = toy[np.isfinite(toy['sale price'])]\n",
    "\n",
    "toy = pd.read_csv('baseline_2.csv',index_col=0)\n",
    "toy = toy.drop('sale price',1)\n",
    "toy = toy.drop('price per sqft',1)\n",
    "toy = toy.drop('zip code',1)\n",
    "toy = toy[np.isfinite(toy['latitude'])]\n",
    "toy = toy.reset_index()\n",
    "toy = toy.drop('index',1)\n",
    "toy.head()"
   ]
  },
  {
   "cell_type": "code",
   "execution_count": 74,
   "metadata": {
    "collapsed": false
   },
   "outputs": [
    {
     "data": {
      "text/plain": [
       "(316337, 2)"
      ]
     },
     "execution_count": 74,
     "metadata": {},
     "output_type": "execute_result"
    }
   ],
   "source": [
    "toy.shape"
   ]
  },
  {
   "cell_type": "code",
   "execution_count": 75,
   "metadata": {
    "collapsed": true
   },
   "outputs": [],
   "source": [
    "# http://stackoverflow.com/questions/2566412/find-nearest-value-in-numpy-array\n",
    "def find_nearest_vector(array, value):\n",
    "  temp_index = np.array([np.linalg.norm(x+y) for (x,y) in array-value]).argmin()\n",
    "  return array[temp_index]"
   ]
  },
  {
   "cell_type": "code",
   "execution_count": null,
   "metadata": {
    "collapsed": false
   },
   "outputs": [],
   "source": [
    "subway_dist_list = []\n",
    "for i in toy.index:\n",
    "    BBL_loc = [toy['latitude'][i],toy['longitude'][i]]\n",
    "    \n",
    "    if any(math.isnan(n) for n in BBL_loc):\n",
    "            subway_dist_list.append(np.nan)\n",
    "            \n",
    "    else:\n",
    "        nearest_subway_loc = find_nearest_vector(subway_locs, BBL_loc)\n",
    "        nearest_subway_dist = vincenty(nearest_subway_loc, BBL_loc).miles\n",
    "        subway_dist_list.append(nearest_subway_dist)\n",
    "\n",
    "toy['subway_dist'] = subway_dist_list\n",
    "#print subway_dist_list\n",
    "toy.head()"
   ]
  },
  {
   "cell_type": "code",
   "execution_count": null,
   "metadata": {
    "collapsed": true
   },
   "outputs": [],
   "source": [
    "toy.to_csv('subway_distance.csv',index=False)"
   ]
  }
 ],
 "metadata": {
  "kernelspec": {
   "display_name": "Python 2",
   "language": "python",
   "name": "python2"
  },
  "language_info": {
   "codemirror_mode": {
    "name": "ipython",
    "version": 2
   },
   "file_extension": ".py",
   "mimetype": "text/x-python",
   "name": "python",
   "nbconvert_exporter": "python",
   "pygments_lexer": "ipython2",
   "version": "2.7.10"
  }
 },
 "nbformat": 4,
 "nbformat_minor": 0
}
